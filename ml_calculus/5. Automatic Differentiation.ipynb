{
 "cells": [
  {
   "cell_type": "code",
   "execution_count": 1,
   "metadata": {},
   "outputs": [],
   "source": [
    "import torch\n",
    "import numpy as np\n",
    "import tensorflow as tf\n",
    "import matplotlib.pyplot as plt"
   ]
  },
  {
   "cell_type": "code",
   "execution_count": 2,
   "metadata": {},
   "outputs": [],
   "source": [
    "# autodiff or autograd"
   ]
  },
  {
   "cell_type": "code",
   "execution_count": 3,
   "metadata": {},
   "outputs": [
    {
     "data": {
      "text/plain": [
       "tensor(5.)"
      ]
     },
     "execution_count": 3,
     "metadata": {},
     "output_type": "execute_result"
    }
   ],
   "source": [
    "x = torch.tensor(5.0); x"
   ]
  },
  {
   "cell_type": "code",
   "execution_count": 4,
   "metadata": {},
   "outputs": [
    {
     "data": {
      "text/plain": [
       "tensor(5., requires_grad=True)"
      ]
     },
     "execution_count": 4,
     "metadata": {},
     "output_type": "execute_result"
    }
   ],
   "source": [
    "x.requires_grad_()"
   ]
  },
  {
   "cell_type": "code",
   "execution_count": 5,
   "metadata": {},
   "outputs": [],
   "source": [
    "y = x**2"
   ]
  },
  {
   "cell_type": "code",
   "execution_count": 6,
   "metadata": {},
   "outputs": [],
   "source": [
    "y.backward() # use autodiff"
   ]
  },
  {
   "cell_type": "code",
   "execution_count": 7,
   "metadata": {},
   "outputs": [
    {
     "data": {
      "text/plain": [
       "tensor(10.)"
      ]
     },
     "execution_count": 7,
     "metadata": {},
     "output_type": "execute_result"
    }
   ],
   "source": [
    "x.grad"
   ]
  },
  {
   "cell_type": "code",
   "execution_count": 8,
   "metadata": {},
   "outputs": [
    {
     "data": {
      "text/plain": [
       "<tf.Variable 'Variable:0' shape=() dtype=float32, numpy=5.0>"
      ]
     },
     "execution_count": 8,
     "metadata": {},
     "output_type": "execute_result"
    }
   ],
   "source": [
    "# tensorflow\n",
    "x = tf.Variable(5.0); x"
   ]
  },
  {
   "cell_type": "code",
   "execution_count": 9,
   "metadata": {},
   "outputs": [],
   "source": [
    "with tf.GradientTape() as t:\n",
    "    t.watch(x) # track forward pass\n",
    "    y = x**2"
   ]
  },
  {
   "cell_type": "code",
   "execution_count": 10,
   "metadata": {},
   "outputs": [
    {
     "data": {
      "text/plain": [
       "<tf.Tensor: shape=(), dtype=float32, numpy=10.0>"
      ]
     },
     "execution_count": 10,
     "metadata": {},
     "output_type": "execute_result"
    }
   ],
   "source": [
    "t.gradient(y, x)"
   ]
  },
  {
   "cell_type": "code",
   "execution_count": 11,
   "metadata": {},
   "outputs": [],
   "source": [
    "# Directed Acyclic Graph of a Line Equation"
   ]
  },
  {
   "cell_type": "code",
   "execution_count": 22,
   "metadata": {},
   "outputs": [],
   "source": [
    "x = torch.tensor(list(range(8))) # dosage of drug to treat a disease\n"
   ]
  },
  {
   "cell_type": "code",
   "execution_count": null,
   "metadata": {},
   "outputs": [],
   "source": [
    "# y = -0.5*x + 2 + torch.normal(mean=torch.zeros(8), std=0.2)"
   ]
  },
  {
   "cell_type": "code",
   "execution_count": 23,
   "metadata": {},
   "outputs": [
    {
     "data": {
      "text/plain": [
       "tensor([ 1.8600,  1.3100,  0.6200,  0.3300,  0.0900, -0.6700, -1.2300, -1.3700])"
      ]
     },
     "execution_count": 23,
     "metadata": {},
     "output_type": "execute_result"
    }
   ],
   "source": [
    "y = torch.tensor([1.86,\n",
    "                  1.31,\n",
    "                  .62,\n",
    "                  .33,\n",
    "                  .09,\n",
    "                  -0.67,\n",
    "                  -1.23,\n",
    "                  -1.37             \n",
    "                ]); y"
   ]
  },
  {
   "cell_type": "code",
   "execution_count": 24,
   "metadata": {},
   "outputs": [
    {
     "data": {
      "image/png": "[encoded data removed]",
      "text/plain": [
       "<Figure size 432x288 with 1 Axes>"
      ]
     },
     "metadata": {
      "needs_background": "light"
     },
     "output_type": "display_data"
    }
   ],
   "source": [
    "fig, ax = plt.subplots()\n",
    "plt.title('Clinical Trial')\n",
    "plt.xlabel('Drug dosage (mL)')\n",
    "plt.ylabel('Forgetfulness')\n",
    "_ = ax.scatter(x,y)"
   ]
  },
  {
   "cell_type": "code",
   "execution_count": 25,
   "metadata": {},
   "outputs": [],
   "source": [
    "# initialize the slope parameter with a 'random'\n",
    "# value of 0.9\n",
    "\n",
    "# guessing \n",
    "# algebraic: Moore-Penroe pseudoinverse\n",
    "# statistical: OLS\n",
    "# this example has two parameters and \n",
    "# 8 data points\n",
    "# scaling to millions of params and data points\n",
    "# can't be done in other 3 ways"
   ]
  },
  {
   "cell_type": "code",
   "execution_count": 26,
   "metadata": {},
   "outputs": [
    {
     "data": {
      "text/plain": [
       "tensor([0.9000], requires_grad=True)"
      ]
     },
     "execution_count": 26,
     "metadata": {},
     "output_type": "execute_result"
    }
   ],
   "source": [
    "m = torch.tensor([0.9]).requires_grad_(); m"
   ]
  },
  {
   "cell_type": "code",
   "execution_count": 27,
   "metadata": {},
   "outputs": [
    {
     "data": {
      "text/plain": [
       "tensor([0.1000], requires_grad=True)"
      ]
     },
     "execution_count": 27,
     "metadata": {},
     "output_type": "execute_result"
    }
   ],
   "source": [
    "b = torch.tensor([0.1]).requires_grad_(); b"
   ]
  },
  {
   "cell_type": "code",
   "execution_count": 30,
   "metadata": {},
   "outputs": [],
   "source": [
    "def regression_plot(x,y,m,b):\n",
    "    fig,ax = plt.subplots()\n",
    "    ax.scatter(x,y)\n",
    "    \n",
    "    x_min, x_max = ax.get_xlim()\n",
    "    y_min, y_max = m * x_min + b, m * x_max + b\n",
    "    \n",
    "    ax.set_xlim([x_min, x_max])\n",
    "    _ = ax.plot([x_min, x_max], [y_min, y_max])"
   ]
  },
  {
   "cell_type": "code",
   "execution_count": 31,
   "metadata": {},
   "outputs": [
    {
     "data": {
      "image/png": "[encoded data removed]",
      "text/plain": [
       "<Figure size 432x288 with 1 Axes>"
      ]
     },
     "metadata": {
      "needs_background": "light"
     },
     "output_type": "display_data"
    }
   ],
   "source": [
    "regression_plot(x,y,m,b)"
   ]
  },
  {
   "cell_type": "code",
   "execution_count": 34,
   "metadata": {},
   "outputs": [],
   "source": [
    "def regression(x,m,b):\n",
    "    return m*x + b #output = y"
   ]
  },
  {
   "cell_type": "code",
   "execution_count": 35,
   "metadata": {},
   "outputs": [
    {
     "data": {
      "text/plain": [
       "tensor([0.1000, 1.0000, 1.9000, 2.8000, 3.7000, 4.6000, 5.5000, 6.4000],\n",
       "       grad_fn=<AddBackward0>)"
      ]
     },
     "execution_count": 35,
     "metadata": {},
     "output_type": "execute_result"
    }
   ],
   "source": [
    "# step 1\n",
    "yhat = regression(x,m,b); yhat"
   ]
  },
  {
   "cell_type": "code",
   "execution_count": 37,
   "metadata": {},
   "outputs": [],
   "source": [
    "def mse(yhat, y):\n",
    "    sigma = torch.sum((yhat - y)**2)\n",
    "    return sigma/len(y)"
   ]
  },
  {
   "cell_type": "code",
   "execution_count": 39,
   "metadata": {},
   "outputs": [
    {
     "data": {
      "text/plain": [
       "tensor(19.6755, grad_fn=<DivBackward0>)"
      ]
     },
     "execution_count": 39,
     "metadata": {},
     "output_type": "execute_result"
    }
   ],
   "source": [
    "c = mse(yhat,y); c"
   ]
  },
  {
   "cell_type": "code",
   "execution_count": 41,
   "metadata": {},
   "outputs": [],
   "source": [
    "c.backward()"
   ]
  },
  {
   "cell_type": "code",
   "execution_count": 42,
   "metadata": {},
   "outputs": [
    {
     "data": {
      "text/plain": [
       "tensor([36.3050])"
      ]
     },
     "execution_count": 42,
     "metadata": {},
     "output_type": "execute_result"
    }
   ],
   "source": [
    "m.grad"
   ]
  },
  {
   "cell_type": "code",
   "execution_count": 43,
   "metadata": {},
   "outputs": [
    {
     "data": {
      "text/plain": [
       "tensor([6.2650])"
      ]
     },
     "execution_count": 43,
     "metadata": {},
     "output_type": "execute_result"
    }
   ],
   "source": [
    "b.grad"
   ]
  },
  {
   "cell_type": "code",
   "execution_count": 44,
   "metadata": {},
   "outputs": [],
   "source": [
    "# gradient desecent\n",
    "optimizer = torch.optim.SGD([m,b], lr=0.01)"
   ]
  },
  {
   "cell_type": "code",
   "execution_count": 45,
   "metadata": {},
   "outputs": [],
   "source": [
    "optimizer.step()"
   ]
  },
  {
   "cell_type": "code",
   "execution_count": 46,
   "metadata": {},
   "outputs": [
    {
     "data": {
      "text/plain": [
       "tensor([0.5369], requires_grad=True)"
      ]
     },
     "execution_count": 46,
     "metadata": {},
     "output_type": "execute_result"
    }
   ],
   "source": [
    "m"
   ]
  },
  {
   "cell_type": "code",
   "execution_count": 47,
   "metadata": {},
   "outputs": [
    {
     "data": {
      "text/plain": [
       "tensor([0.0374], requires_grad=True)"
      ]
     },
     "execution_count": 47,
     "metadata": {},
     "output_type": "execute_result"
    }
   ],
   "source": [
    "b"
   ]
  },
  {
   "cell_type": "code",
   "execution_count": 48,
   "metadata": {},
   "outputs": [
    {
     "data": {
      "image/png": "[encoded data removed]",
      "text/plain": [
       "<Figure size 432x288 with 1 Axes>"
      ]
     },
     "metadata": {
      "needs_background": "light"
     },
     "output_type": "display_data"
    }
   ],
   "source": [
    "regression_plot(x,y,m,b)"
   ]
  },
  {
   "cell_type": "code",
   "execution_count": 49,
   "metadata": {},
   "outputs": [
    {
     "data": {
      "text/plain": [
       "tensor(8.5722, grad_fn=<DivBackward0>)"
      ]
     },
     "execution_count": 49,
     "metadata": {},
     "output_type": "execute_result"
    }
   ],
   "source": [
    "C = mse(regression(x,m,b), y); C"
   ]
  },
  {
   "cell_type": "code",
   "execution_count": 50,
   "metadata": {},
   "outputs": [
    {
     "name": "stdout",
     "output_type": "stream",
     "text": [
      "Epoch 0 Cost 8.572175979614258\n",
      "Epoch 1 Cost 4.077259063720703\n",
      "Epoch 2 Cost 2.2535147666931152\n",
      "Epoch 3 Cost 1.509533405303955\n",
      "Epoch 4 Cost 1.2020677328109741\n",
      "Epoch 5 Cost 1.0711182355880737\n",
      "Epoch 6 Cost 1.0115931034088135\n",
      "Epoch 7 Cost 0.9810133576393127\n",
      "Epoch 8 Cost 0.9622082114219666\n",
      "Epoch 9 Cost 0.9482364654541016\n",
      "Epoch 10 Cost 0.9362916350364685\n",
      "Epoch 11 Cost 0.9252383708953857\n",
      "Epoch 12 Cost 0.9146171808242798\n",
      "Epoch 13 Cost 0.904241144657135\n",
      "Epoch 14 Cost 0.8940345644950867\n",
      "Epoch 15 Cost 0.8839651346206665\n",
      "Epoch 16 Cost 0.8740199208259583\n",
      "Epoch 17 Cost 0.8641921281814575\n",
      "Epoch 18 Cost 0.8544788360595703\n",
      "Epoch 19 Cost 0.8448775410652161\n",
      "Epoch 20 Cost 0.8353870511054993\n",
      "Epoch 21 Cost 0.826005756855011\n",
      "Epoch 22 Cost 0.8167323470115662\n",
      "Epoch 23 Cost 0.807565450668335\n",
      "Epoch 24 Cost 0.7985040545463562\n",
      "Epoch 25 Cost 0.7895468473434448\n",
      "Epoch 26 Cost 0.7806925177574158\n",
      "Epoch 27 Cost 0.7719401121139526\n",
      "Epoch 28 Cost 0.7632883787155151\n",
      "Epoch 29 Cost 0.7547361254692078\n",
      "Epoch 30 Cost 0.7462820410728455\n",
      "Epoch 31 Cost 0.7379252314567566\n",
      "Epoch 32 Cost 0.7296645641326904\n",
      "Epoch 33 Cost 0.7214989066123962\n",
      "Epoch 34 Cost 0.7134270668029785\n",
      "Epoch 35 Cost 0.7054480910301208\n",
      "Epoch 36 Cost 0.6975607872009277\n",
      "Epoch 37 Cost 0.6897642016410828\n",
      "Epoch 38 Cost 0.6820572018623352\n",
      "Epoch 39 Cost 0.6744388937950134\n",
      "Epoch 40 Cost 0.6669081449508667\n",
      "Epoch 41 Cost 0.6594640016555786\n",
      "Epoch 42 Cost 0.652105450630188\n",
      "Epoch 43 Cost 0.6448315382003784\n",
      "Epoch 44 Cost 0.6376411318778992\n",
      "Epoch 45 Cost 0.6305335164070129\n",
      "Epoch 46 Cost 0.6235076189041138\n",
      "Epoch 47 Cost 0.6165623664855957\n",
      "Epoch 48 Cost 0.609697163105011\n",
      "Epoch 49 Cost 0.6029107570648193\n",
      "Epoch 50 Cost 0.5962024927139282\n",
      "Epoch 51 Cost 0.5895712971687317\n",
      "Epoch 52 Cost 0.5830161571502686\n",
      "Epoch 53 Cost 0.5765367150306702\n",
      "Epoch 54 Cost 0.5701315402984619\n",
      "Epoch 55 Cost 0.5638001561164856\n",
      "Epoch 56 Cost 0.55754154920578\n",
      "Epoch 57 Cost 0.5513548851013184\n",
      "Epoch 58 Cost 0.5452393889427185\n",
      "Epoch 59 Cost 0.5391941070556641\n",
      "Epoch 60 Cost 0.5332183837890625\n",
      "Epoch 61 Cost 0.5273113250732422\n",
      "Epoch 62 Cost 0.5214722752571106\n",
      "Epoch 63 Cost 0.5157002806663513\n",
      "Epoch 64 Cost 0.5099946856498718\n",
      "Epoch 65 Cost 0.50435471534729\n",
      "Epoch 66 Cost 0.4987795352935791\n",
      "Epoch 67 Cost 0.49326854944229126\n",
      "Epoch 68 Cost 0.48782089352607727\n",
      "Epoch 69 Cost 0.48243582248687744\n",
      "Epoch 70 Cost 0.47711268067359924\n",
      "Epoch 71 Cost 0.47185075283050537\n",
      "Epoch 72 Cost 0.46664929389953613\n",
      "Epoch 73 Cost 0.4615077078342438\n",
      "Epoch 74 Cost 0.45642516016960144\n",
      "Epoch 75 Cost 0.45140114426612854\n",
      "Epoch 76 Cost 0.44643479585647583\n",
      "Epoch 77 Cost 0.44152557849884033\n",
      "Epoch 78 Cost 0.4366728961467743\n",
      "Epoch 79 Cost 0.43187591433525085\n",
      "Epoch 80 Cost 0.42713412642478943\n",
      "Epoch 81 Cost 0.4224467873573303\n",
      "Epoch 82 Cost 0.41781339049339294\n",
      "Epoch 83 Cost 0.41323336958885193\n",
      "Epoch 84 Cost 0.40870586037635803\n",
      "Epoch 85 Cost 0.4042304754257202\n",
      "Epoch 86 Cost 0.39980649948120117\n",
      "Epoch 87 Cost 0.3954334259033203\n",
      "Epoch 88 Cost 0.3911106288433075\n",
      "Epoch 89 Cost 0.3868374824523926\n",
      "Epoch 90 Cost 0.38261350989341736\n",
      "Epoch 91 Cost 0.37843817472457886\n",
      "Epoch 92 Cost 0.37431076169013977\n",
      "Epoch 93 Cost 0.3702308237552643\n",
      "Epoch 94 Cost 0.3661978840827942\n",
      "Epoch 95 Cost 0.3622111976146698\n",
      "Epoch 96 Cost 0.3582703471183777\n",
      "Epoch 97 Cost 0.35437485575675964\n",
      "Epoch 98 Cost 0.3505241870880127\n",
      "Epoch 99 Cost 0.3467177152633667\n",
      "Epoch 100 Cost 0.3429550528526306\n",
      "Epoch 101 Cost 0.3392356038093567\n",
      "Epoch 102 Cost 0.3355589509010315\n",
      "Epoch 103 Cost 0.3319246470928192\n",
      "Epoch 104 Cost 0.3283320665359497\n",
      "Epoch 105 Cost 0.32478082180023193\n",
      "Epoch 106 Cost 0.32127031683921814\n",
      "Epoch 107 Cost 0.31780022382736206\n",
      "Epoch 108 Cost 0.3143700957298279\n",
      "Epoch 109 Cost 0.31097936630249023\n",
      "Epoch 110 Cost 0.3076275885105133\n",
      "Epoch 111 Cost 0.3043143153190613\n",
      "Epoch 112 Cost 0.3010392189025879\n",
      "Epoch 113 Cost 0.2978017330169678\n",
      "Epoch 114 Cost 0.2946014702320099\n",
      "Epoch 115 Cost 0.2914380431175232\n",
      "Epoch 116 Cost 0.2883109152317047\n",
      "Epoch 117 Cost 0.28521978855133057\n",
      "Epoch 118 Cost 0.28216424584388733\n",
      "Epoch 119 Cost 0.2791438102722168\n",
      "Epoch 120 Cost 0.27615806460380554\n",
      "Epoch 121 Cost 0.2732066810131073\n",
      "Epoch 122 Cost 0.27028921246528625\n",
      "Epoch 123 Cost 0.26740530133247375\n",
      "Epoch 124 Cost 0.26455453038215637\n",
      "Epoch 125 Cost 0.26173657178878784\n",
      "Epoch 126 Cost 0.2589510381221771\n",
      "Epoch 127 Cost 0.2561974823474884\n",
      "Epoch 128 Cost 0.2534755766391754\n",
      "Epoch 129 Cost 0.2507849633693695\n",
      "Epoch 130 Cost 0.248125359416008\n",
      "Epoch 131 Cost 0.2454962432384491\n",
      "Epoch 132 Cost 0.2428974211215973\n",
      "Epoch 133 Cost 0.24032846093177795\n",
      "Epoch 134 Cost 0.23778903484344482\n",
      "Epoch 135 Cost 0.23527878522872925\n",
      "Epoch 136 Cost 0.23279742896556854\n",
      "Epoch 137 Cost 0.23034459352493286\n",
      "Epoch 138 Cost 0.22791996598243713\n",
      "Epoch 139 Cost 0.2255231738090515\n",
      "Epoch 140 Cost 0.2231539934873581\n",
      "Epoch 141 Cost 0.22081202268600464\n",
      "Epoch 142 Cost 0.21849697828292847\n",
      "Epoch 143 Cost 0.2162085622549057\n",
      "Epoch 144 Cost 0.21394646167755127\n",
      "Epoch 145 Cost 0.2117103636264801\n",
      "Epoch 146 Cost 0.20949998497962952\n",
      "Epoch 147 Cost 0.20731501281261444\n",
      "Epoch 148 Cost 0.2051551640033722\n",
      "Epoch 149 Cost 0.2030201554298401\n",
      "Epoch 150 Cost 0.20090968906879425\n",
      "Epoch 151 Cost 0.198823481798172\n",
      "Epoch 152 Cost 0.19676125049591064\n",
      "Epoch 153 Cost 0.19472277164459229\n",
      "Epoch 154 Cost 0.19270771741867065\n",
      "Epoch 155 Cost 0.19071581959724426\n",
      "Epoch 156 Cost 0.188746839761734\n",
      "Epoch 157 Cost 0.18680045008659363\n",
      "Epoch 158 Cost 0.18487648665905\n",
      "Epoch 159 Cost 0.18297463655471802\n",
      "Epoch 160 Cost 0.18109466135501862\n",
      "Epoch 161 Cost 0.1792362928390503\n",
      "Epoch 162 Cost 0.17739926278591156\n",
      "Epoch 163 Cost 0.1755833923816681\n",
      "Epoch 164 Cost 0.173788383603096\n",
      "Epoch 165 Cost 0.1720139980316162\n",
      "Epoch 166 Cost 0.17026004195213318\n",
      "Epoch 167 Cost 0.16852626204490662\n",
      "Epoch 168 Cost 0.16681237518787384\n",
      "Epoch 169 Cost 0.1651182323694229\n",
      "Epoch 170 Cost 0.16344350576400757\n",
      "Epoch 171 Cost 0.16178810596466064\n",
      "Epoch 172 Cost 0.16015173494815826\n",
      "Epoch 173 Cost 0.15853416919708252\n",
      "Epoch 174 Cost 0.15693522989749908\n",
      "Epoch 175 Cost 0.15535463392734528\n",
      "Epoch 176 Cost 0.15379220247268677\n",
      "Epoch 177 Cost 0.15224777162075043\n",
      "Epoch 178 Cost 0.15072104334831238\n",
      "Epoch 179 Cost 0.14921192824840546\n",
      "Epoch 180 Cost 0.14772014319896698\n",
      "Epoch 181 Cost 0.14624547958374023\n",
      "Epoch 182 Cost 0.14478783309459686\n",
      "Epoch 183 Cost 0.1433468908071518\n",
      "Epoch 184 Cost 0.14192256331443787\n",
      "Epoch 185 Cost 0.1405145823955536\n",
      "Epoch 186 Cost 0.13912275433540344\n",
      "Epoch 187 Cost 0.13774697482585907\n",
      "Epoch 188 Cost 0.13638697564601898\n",
      "Epoch 189 Cost 0.13504265248775482\n",
      "Epoch 190 Cost 0.1337137520313263\n",
      "Epoch 191 Cost 0.13240012526512146\n",
      "Epoch 192 Cost 0.13110162317752838\n",
      "Epoch 193 Cost 0.12981802225112915\n",
      "Epoch 194 Cost 0.128549262881279\n",
      "Epoch 195 Cost 0.12729506194591522\n",
      "Epoch 196 Cost 0.1260552704334259\n",
      "Epoch 197 Cost 0.1248297318816185\n",
      "Epoch 198 Cost 0.12361828982830048\n",
      "Epoch 199 Cost 0.12242075800895691\n",
      "Epoch 200 Cost 0.12123699486255646\n",
      "Epoch 201 Cost 0.12006684392690659\n",
      "Epoch 202 Cost 0.11891018599271774\n",
      "Epoch 203 Cost 0.11776676774024963\n",
      "Epoch 204 Cost 0.11663652211427689\n",
      "Epoch 205 Cost 0.11551930755376816\n",
      "Epoch 206 Cost 0.11441489309072495\n",
      "Epoch 207 Cost 0.11332318931818008\n",
      "Epoch 208 Cost 0.11224406212568283\n",
      "Epoch 209 Cost 0.11117731034755707\n",
      "Epoch 210 Cost 0.11012285947799683\n",
      "Epoch 211 Cost 0.10908051580190659\n",
      "Epoch 212 Cost 0.1080501526594162\n",
      "Epoch 213 Cost 0.10703162103891373\n",
      "Epoch 214 Cost 0.10602480173110962\n",
      "Epoch 215 Cost 0.10502955317497253\n",
      "Epoch 216 Cost 0.10404576361179352\n",
      "Epoch 217 Cost 0.10307328402996063\n",
      "Epoch 218 Cost 0.10211197286844254\n",
      "Epoch 219 Cost 0.10116171091794968\n",
      "Epoch 220 Cost 0.10022241622209549\n",
      "Epoch 221 Cost 0.09929390251636505\n",
      "Epoch 222 Cost 0.0983760729432106\n",
      "Epoch 223 Cost 0.0974687710404396\n",
      "Epoch 224 Cost 0.09657188504934311\n",
      "Epoch 225 Cost 0.09568536281585693\n",
      "Epoch 226 Cost 0.09480900317430496\n",
      "Epoch 227 Cost 0.09394271671772003\n",
      "Epoch 228 Cost 0.09308638423681259\n",
      "Epoch 229 Cost 0.09223993122577667\n",
      "Epoch 230 Cost 0.09140319377183914\n",
      "Epoch 231 Cost 0.09057606011629105\n",
      "Epoch 232 Cost 0.08975844830274582\n",
      "Epoch 233 Cost 0.0889502614736557\n",
      "Epoch 234 Cost 0.08815134316682816\n",
      "Epoch 235 Cost 0.08736161887645721\n",
      "Epoch 236 Cost 0.08658095449209213\n",
      "Epoch 237 Cost 0.08580929785966873\n",
      "Epoch 238 Cost 0.08504647761583328\n",
      "Epoch 239 Cost 0.084292471408844\n",
      "Epoch 240 Cost 0.08354710042476654\n",
      "Epoch 241 Cost 0.08281029760837555\n",
      "Epoch 242 Cost 0.08208197355270386\n",
      "Epoch 243 Cost 0.08136201649904251\n",
      "Epoch 244 Cost 0.08065036684274673\n",
      "Epoch 245 Cost 0.07994687557220459\n",
      "Epoch 246 Cost 0.07925145328044891\n",
      "Epoch 247 Cost 0.07856404781341553\n",
      "Epoch 248 Cost 0.07788454741239548\n",
      "Epoch 249 Cost 0.0772128701210022\n",
      "Epoch 250 Cost 0.07654893398284912\n",
      "Epoch 251 Cost 0.0758926048874855\n",
      "Epoch 252 Cost 0.07524383813142776\n",
      "Epoch 253 Cost 0.07460250705480576\n",
      "Epoch 254 Cost 0.0739685595035553\n",
      "Epoch 255 Cost 0.07334190607070923\n",
      "Epoch 256 Cost 0.07272245734930038\n",
      "Epoch 257 Cost 0.0721101239323616\n",
      "Epoch 258 Cost 0.07150481641292572\n",
      "Epoch 259 Cost 0.07090647518634796\n",
      "Epoch 260 Cost 0.07031501829624176\n",
      "Epoch 261 Cost 0.06973037868738174\n",
      "Epoch 262 Cost 0.06915245205163956\n",
      "Epoch 263 Cost 0.06858117878437042\n",
      "Epoch 264 Cost 0.06801646202802658\n",
      "Epoch 265 Cost 0.06745824217796326\n",
      "Epoch 266 Cost 0.06690643727779388\n",
      "Epoch 267 Cost 0.06636098772287369\n",
      "Epoch 268 Cost 0.06582178920507431\n",
      "Epoch 269 Cost 0.06528881192207336\n",
      "Epoch 270 Cost 0.0647619441151619\n",
      "Epoch 271 Cost 0.06424114853143692\n",
      "Epoch 272 Cost 0.06372632086277008\n",
      "Epoch 273 Cost 0.06321742385625839\n",
      "Epoch 274 Cost 0.06271436810493469\n",
      "Epoch 275 Cost 0.062217116355895996\n",
      "Epoch 276 Cost 0.061725568026304245\n",
      "Epoch 277 Cost 0.061239682137966156\n",
      "Epoch 278 Cost 0.060759369283914566\n",
      "Epoch 279 Cost 0.0602845698595047\n",
      "Epoch 280 Cost 0.059815265238285065\n",
      "Epoch 281 Cost 0.059351347386837006\n",
      "Epoch 282 Cost 0.05889275670051575\n",
      "Epoch 283 Cost 0.05843941494822502\n",
      "Epoch 284 Cost 0.05799131840467453\n",
      "Epoch 285 Cost 0.05754837393760681\n",
      "Epoch 286 Cost 0.057110510766506195\n",
      "Epoch 287 Cost 0.0566776804625988\n",
      "Epoch 288 Cost 0.05624982714653015\n",
      "Epoch 289 Cost 0.055826883763074875\n",
      "Epoch 290 Cost 0.05540882796049118\n",
      "Epoch 291 Cost 0.05499556288123131\n",
      "Epoch 292 Cost 0.05458705872297287\n",
      "Epoch 293 Cost 0.054183244705200195\n",
      "Epoch 294 Cost 0.05378406494855881\n",
      "Epoch 295 Cost 0.05338948220014572\n",
      "Epoch 296 Cost 0.052999451756477356\n",
      "Epoch 297 Cost 0.05261388421058655\n",
      "Epoch 298 Cost 0.0522327646613121\n",
      "Epoch 299 Cost 0.05185599625110626\n",
      "Epoch 300 Cost 0.05148358643054962\n",
      "Epoch 301 Cost 0.05111546441912651\n",
      "Epoch 302 Cost 0.05075155571103096\n",
      "Epoch 303 Cost 0.05039185285568237\n",
      "Epoch 304 Cost 0.05003628507256508\n",
      "Epoch 305 Cost 0.04968477785587311\n",
      "Epoch 306 Cost 0.04933733493089676\n",
      "Epoch 307 Cost 0.04899388924241066\n",
      "Epoch 308 Cost 0.04865439608693123\n",
      "Epoch 309 Cost 0.048318784683942795\n",
      "Epoch 310 Cost 0.04798704385757446\n",
      "Epoch 311 Cost 0.04765910655260086\n",
      "Epoch 312 Cost 0.0473349429666996\n",
      "Epoch 313 Cost 0.04701452702283859\n",
      "Epoch 314 Cost 0.04669777676463127\n",
      "Epoch 315 Cost 0.04638466611504555\n",
      "Epoch 316 Cost 0.04607516527175903\n",
      "Epoch 317 Cost 0.04576922580599785\n",
      "Epoch 318 Cost 0.045466791838407516\n",
      "Epoch 319 Cost 0.04516785219311714\n",
      "Epoch 320 Cost 0.04487231746315956\n",
      "Epoch 321 Cost 0.04458020254969597\n",
      "Epoch 322 Cost 0.04429144784808159\n",
      "Epoch 323 Cost 0.04400601610541344\n",
      "Epoch 324 Cost 0.04372386261820793\n",
      "Epoch 325 Cost 0.04344496130943298\n",
      "Epoch 326 Cost 0.04316924884915352\n",
      "Epoch 327 Cost 0.042896728962659836\n",
      "Epoch 328 Cost 0.04262733459472656\n",
      "Epoch 329 Cost 0.04236101731657982\n",
      "Epoch 330 Cost 0.042097773402929306\n",
      "Epoch 331 Cost 0.04183755815029144\n",
      "Epoch 332 Cost 0.041580334305763245\n",
      "Epoch 333 Cost 0.04132606089115143\n",
      "Epoch 334 Cost 0.0410747267305851\n",
      "Epoch 335 Cost 0.04082627594470978\n",
      "Epoch 336 Cost 0.04058067873120308\n",
      "Epoch 337 Cost 0.04033789783716202\n",
      "Epoch 338 Cost 0.040097929537296295\n",
      "Epoch 339 Cost 0.03986069932579994\n"
     ]
    },
    {
     "name": "stdout",
     "output_type": "stream",
     "text": [
      "Epoch 340 Cost 0.03962622210383415\n",
      "Epoch 341 Cost 0.039394404739141464\n",
      "Epoch 342 Cost 0.039165280759334564\n",
      "Epoch 343 Cost 0.038938794285058975\n",
      "Epoch 344 Cost 0.03871488943696022\n",
      "Epoch 345 Cost 0.03849358111619949\n",
      "Epoch 346 Cost 0.03827481344342232\n",
      "Epoch 347 Cost 0.03805854916572571\n",
      "Epoch 348 Cost 0.03784478083252907\n",
      "Epoch 349 Cost 0.03763347491621971\n",
      "Epoch 350 Cost 0.037424586713314056\n",
      "Epoch 351 Cost 0.03721810132265091\n",
      "Epoch 352 Cost 0.03701399639248848\n",
      "Epoch 353 Cost 0.03681224584579468\n",
      "Epoch 354 Cost 0.036612797528505325\n",
      "Epoch 355 Cost 0.03641564026474953\n",
      "Epoch 356 Cost 0.03622077405452728\n",
      "Epoch 357 Cost 0.036028120666742325\n",
      "Epoch 358 Cost 0.03583770617842674\n",
      "Epoch 359 Cost 0.035649463534355164\n",
      "Epoch 360 Cost 0.03546338528394699\n",
      "Epoch 361 Cost 0.03527945280075073\n",
      "Epoch 362 Cost 0.035097647458314896\n",
      "Epoch 363 Cost 0.0349179245531559\n",
      "Epoch 364 Cost 0.03474024683237076\n",
      "Epoch 365 Cost 0.03456464782357216\n",
      "Epoch 366 Cost 0.03439103066921234\n",
      "Epoch 367 Cost 0.03421942517161369\n",
      "Epoch 368 Cost 0.03404980152845383\n",
      "Epoch 369 Cost 0.03388211131095886\n",
      "Epoch 370 Cost 0.0337163582444191\n",
      "Epoch 371 Cost 0.033552516251802444\n",
      "Epoch 372 Cost 0.03339055925607681\n",
      "Epoch 373 Cost 0.03323045372962952\n",
      "Epoch 374 Cost 0.033072199672460556\n",
      "Epoch 375 Cost 0.032915759831666946\n",
      "Epoch 376 Cost 0.032761115580797195\n",
      "Epoch 377 Cost 0.03260824829339981\n",
      "Epoch 378 Cost 0.0324571430683136\n",
      "Epoch 379 Cost 0.03230777010321617\n",
      "Epoch 380 Cost 0.03216012939810753\n",
      "Epoch 381 Cost 0.032014187425374985\n",
      "Epoch 382 Cost 0.03186989948153496\n",
      "Epoch 383 Cost 0.03172728791832924\n",
      "Epoch 384 Cost 0.03158632293343544\n",
      "Epoch 385 Cost 0.031446970999240875\n",
      "Epoch 386 Cost 0.03130921721458435\n",
      "Epoch 387 Cost 0.031173042953014374\n",
      "Epoch 388 Cost 0.03103843703866005\n",
      "Epoch 389 Cost 0.030905380845069885\n",
      "Epoch 390 Cost 0.030773861333727837\n",
      "Epoch 391 Cost 0.030643846839666367\n",
      "Epoch 392 Cost 0.030515316873788834\n",
      "Epoch 393 Cost 0.030388278886675835\n",
      "Epoch 394 Cost 0.030262693762779236\n",
      "Epoch 395 Cost 0.030138565227389336\n",
      "Epoch 396 Cost 0.03001585602760315\n",
      "Epoch 397 Cost 0.029894553124904633\n",
      "Epoch 398 Cost 0.029774654656648636\n",
      "Epoch 399 Cost 0.029656123369932175\n",
      "Epoch 400 Cost 0.02953895553946495\n",
      "Epoch 401 Cost 0.029423154890537262\n",
      "Epoch 402 Cost 0.02930867299437523\n",
      "Epoch 403 Cost 0.029195500537753105\n",
      "Epoch 404 Cost 0.029083622619509697\n",
      "Epoch 405 Cost 0.0289730466902256\n",
      "Epoch 406 Cost 0.02886374108493328\n",
      "Epoch 407 Cost 0.028755683451890945\n",
      "Epoch 408 Cost 0.02864888124167919\n",
      "Epoch 409 Cost 0.02854328602552414\n",
      "Epoch 410 Cost 0.028438931331038475\n",
      "Epoch 411 Cost 0.028335757553577423\n",
      "Epoch 412 Cost 0.02823377214372158\n",
      "Epoch 413 Cost 0.02813296765089035\n",
      "Epoch 414 Cost 0.028033321723341942\n",
      "Epoch 415 Cost 0.027934826910495758\n",
      "Epoch 416 Cost 0.02783745527267456\n",
      "Epoch 417 Cost 0.0277412012219429\n",
      "Epoch 418 Cost 0.027646055445075035\n",
      "Epoch 419 Cost 0.027551988139748573\n",
      "Epoch 420 Cost 0.02745901420712471\n",
      "Epoch 421 Cost 0.02736712247133255\n",
      "Epoch 422 Cost 0.02727627195417881\n",
      "Epoch 423 Cost 0.027186468243598938\n",
      "Epoch 424 Cost 0.027097707614302635\n",
      "Epoch 425 Cost 0.027009963989257812\n",
      "Epoch 426 Cost 0.026923226192593575\n",
      "Epoch 427 Cost 0.026837483048439026\n",
      "Epoch 428 Cost 0.02675272896885872\n",
      "Epoch 429 Cost 0.026668954640626907\n",
      "Epoch 430 Cost 0.026586122810840607\n",
      "Epoch 431 Cost 0.02650427259504795\n",
      "Epoch 432 Cost 0.026423346251249313\n",
      "Epoch 433 Cost 0.026343343779444695\n",
      "Epoch 434 Cost 0.026264281943440437\n",
      "Epoch 435 Cost 0.02618611790239811\n",
      "Epoch 436 Cost 0.026108844205737114\n",
      "Epoch 437 Cost 0.0260324627161026\n",
      "Epoch 438 Cost 0.025956973433494568\n",
      "Epoch 439 Cost 0.025882335379719734\n",
      "Epoch 440 Cost 0.02580856718122959\n",
      "Epoch 441 Cost 0.025735629722476006\n",
      "Epoch 442 Cost 0.025663552805781364\n",
      "Epoch 443 Cost 0.025592302903532982\n",
      "Epoch 444 Cost 0.025521866977214813\n",
      "Epoch 445 Cost 0.02545223943889141\n",
      "Epoch 446 Cost 0.025383401662111282\n",
      "Epoch 447 Cost 0.025315377861261368\n",
      "Epoch 448 Cost 0.025248121470212936\n",
      "Epoch 449 Cost 0.025181645527482033\n",
      "Epoch 450 Cost 0.025115925818681717\n",
      "Epoch 451 Cost 0.025050964206457138\n",
      "Epoch 452 Cost 0.024986742064356804\n",
      "Epoch 453 Cost 0.024923261255025864\n",
      "Epoch 454 Cost 0.02486051432788372\n",
      "Epoch 455 Cost 0.024798503145575523\n",
      "Epoch 456 Cost 0.024737190455198288\n",
      "Epoch 457 Cost 0.02467658370733261\n",
      "Epoch 458 Cost 0.02461666613817215\n",
      "Epoch 459 Cost 0.024557452648878098\n",
      "Epoch 460 Cost 0.02449890412390232\n",
      "Epoch 461 Cost 0.024441048502922058\n",
      "Epoch 462 Cost 0.02438383363187313\n",
      "Epoch 463 Cost 0.02432730421423912\n",
      "Epoch 464 Cost 0.024271398782730103\n",
      "Epoch 465 Cost 0.02421616017818451\n",
      "Epoch 466 Cost 0.024161528795957565\n",
      "Epoch 467 Cost 0.02410755306482315\n",
      "Epoch 468 Cost 0.024054180830717087\n",
      "Epoch 469 Cost 0.024001432582736015\n",
      "Epoch 470 Cost 0.023949284106492996\n",
      "Epoch 471 Cost 0.023897729814052582\n",
      "Epoch 472 Cost 0.023846786469221115\n",
      "Epoch 473 Cost 0.02379642426967621\n",
      "Epoch 474 Cost 0.023746632039546967\n",
      "Epoch 475 Cost 0.023697420954704285\n",
      "Epoch 476 Cost 0.023648764938116074\n",
      "Epoch 477 Cost 0.02360067144036293\n",
      "Epoch 478 Cost 0.023553136736154556\n",
      "Epoch 479 Cost 0.02350613661110401\n",
      "Epoch 480 Cost 0.02345968224108219\n",
      "Epoch 481 Cost 0.023413773626089096\n",
      "Epoch 482 Cost 0.02336837910115719\n",
      "Epoch 483 Cost 0.02332351915538311\n",
      "Epoch 484 Cost 0.02327917143702507\n",
      "Epoch 485 Cost 0.02323533222079277\n",
      "Epoch 486 Cost 0.023191997781395912\n",
      "Epoch 487 Cost 0.023149151355028152\n",
      "Epoch 488 Cost 0.023106811568140984\n",
      "Epoch 489 Cost 0.023064952343702316\n",
      "Epoch 490 Cost 0.023023569956421852\n",
      "Epoch 491 Cost 0.022982656955718994\n",
      "Epoch 492 Cost 0.022942231968045235\n",
      "Epoch 493 Cost 0.02290225401520729\n",
      "Epoch 494 Cost 0.0228627510368824\n",
      "Epoch 495 Cost 0.022823700681328773\n",
      "Epoch 496 Cost 0.022785097360610962\n",
      "Epoch 497 Cost 0.022746941074728966\n",
      "Epoch 498 Cost 0.022709215059876442\n",
      "Epoch 499 Cost 0.02267191931605339\n",
      "Epoch 500 Cost 0.02263506129384041\n",
      "Epoch 501 Cost 0.022598637267947197\n",
      "Epoch 502 Cost 0.02256261371076107\n",
      "Epoch 503 Cost 0.022527001798152924\n",
      "Epoch 504 Cost 0.022491812705993652\n",
      "Epoch 505 Cost 0.022457025945186615\n",
      "Epoch 506 Cost 0.022422632202506065\n",
      "Epoch 507 Cost 0.022388635203242302\n",
      "Epoch 508 Cost 0.02235502190887928\n",
      "Epoch 509 Cost 0.022321807220578194\n",
      "Epoch 510 Cost 0.0222889706492424\n",
      "Epoch 511 Cost 0.022256510332226753\n",
      "Epoch 512 Cost 0.0222244281321764\n",
      "Epoch 513 Cost 0.02219272032380104\n",
      "Epoch 514 Cost 0.022161364555358887\n",
      "Epoch 515 Cost 0.022130373865365982\n",
      "Epoch 516 Cost 0.022099751979112625\n",
      "Epoch 517 Cost 0.02206946164369583\n",
      "Epoch 518 Cost 0.022039540112018585\n",
      "Epoch 519 Cost 0.022009938955307007\n",
      "Epoch 520 Cost 0.02198070101439953\n",
      "Epoch 521 Cost 0.021951785311102867\n",
      "Epoch 522 Cost 0.021923204883933067\n",
      "Epoch 523 Cost 0.021894948557019234\n",
      "Epoch 524 Cost 0.021867020055651665\n",
      "Epoch 525 Cost 0.02183942310512066\n",
      "Epoch 526 Cost 0.021812129765748978\n",
      "Epoch 527 Cost 0.021785160526633263\n",
      "Epoch 528 Cost 0.021758489310741425\n",
      "Epoch 529 Cost 0.021732140332460403\n",
      "Epoch 530 Cost 0.021706078201532364\n",
      "Epoch 531 Cost 0.021680330857634544\n",
      "Epoch 532 Cost 0.02165486104786396\n",
      "Epoch 533 Cost 0.02162969671189785\n",
      "Epoch 534 Cost 0.021604815497994423\n",
      "Epoch 535 Cost 0.021580226719379425\n",
      "Epoch 536 Cost 0.02155591920018196\n",
      "Epoch 537 Cost 0.021531887352466583\n",
      "Epoch 538 Cost 0.02150813676416874\n",
      "Epoch 539 Cost 0.021484658122062683\n",
      "Epoch 540 Cost 0.02146146073937416\n",
      "Epoch 541 Cost 0.021438511088490486\n",
      "Epoch 542 Cost 0.021415840834379196\n",
      "Epoch 543 Cost 0.021393412724137306\n",
      "Epoch 544 Cost 0.021371254697442055\n",
      "Epoch 545 Cost 0.021349355578422546\n",
      "Epoch 546 Cost 0.021327702328562737\n",
      "Epoch 547 Cost 0.021306287497282028\n",
      "Epoch 548 Cost 0.021285125985741615\n",
      "Epoch 549 Cost 0.021264221519231796\n",
      "Epoch 550 Cost 0.021243540570139885\n",
      "Epoch 551 Cost 0.02122310735285282\n",
      "Epoch 552 Cost 0.021202895790338516\n",
      "Epoch 553 Cost 0.021182924509048462\n",
      "Epoch 554 Cost 0.021163182333111763\n",
      "Epoch 555 Cost 0.021143676713109016\n",
      "Epoch 556 Cost 0.02112439088523388\n",
      "Epoch 557 Cost 0.021105322986841202\n",
      "Epoch 558 Cost 0.021086473017930984\n",
      "Epoch 559 Cost 0.02106783539056778\n",
      "Epoch 560 Cost 0.02104942873120308\n",
      "Epoch 561 Cost 0.0210312120616436\n",
      "Epoch 562 Cost 0.021013231948018074\n",
      "Epoch 563 Cost 0.020995430648326874\n",
      "Epoch 564 Cost 0.02097785845398903\n",
      "Epoch 565 Cost 0.02096046507358551\n",
      "Epoch 566 Cost 0.02094329707324505\n",
      "Epoch 567 Cost 0.020926309749484062\n",
      "Epoch 568 Cost 0.020909519866108894\n",
      "Epoch 569 Cost 0.020892923697829247\n",
      "Epoch 570 Cost 0.02087651938199997\n",
      "Epoch 571 Cost 0.020860303193330765\n",
      "Epoch 572 Cost 0.020844275131821632\n",
      "Epoch 573 Cost 0.02082841843366623\n",
      "Epoch 574 Cost 0.020812762901186943\n",
      "Epoch 575 Cost 0.020797275006771088\n",
      "Epoch 576 Cost 0.020781971514225006\n",
      "Epoch 577 Cost 0.0207668449729681\n",
      "Epoch 578 Cost 0.02075188234448433\n",
      "Epoch 579 Cost 0.02073710225522518\n",
      "Epoch 580 Cost 0.020722491666674614\n",
      "Epoch 581 Cost 0.02070803940296173\n",
      "Epoch 582 Cost 0.02069375477731228\n",
      "Epoch 583 Cost 0.020679643377661705\n",
      "Epoch 584 Cost 0.020665695890784264\n",
      "Epoch 585 Cost 0.02065189555287361\n",
      "Epoch 586 Cost 0.02063826285302639\n",
      "Epoch 587 Cost 0.020624781027436256\n",
      "Epoch 588 Cost 0.020611461251974106\n",
      "Epoch 589 Cost 0.02059829607605934\n",
      "Epoch 590 Cost 0.020585279911756516\n",
      "Epoch 591 Cost 0.02057241089642048\n",
      "Epoch 592 Cost 0.020559683442115784\n",
      "Epoch 593 Cost 0.02054712176322937\n",
      "Epoch 594 Cost 0.020534681156277657\n",
      "Epoch 595 Cost 0.020522404462099075\n",
      "Epoch 596 Cost 0.020510248839855194\n",
      "Epoch 597 Cost 0.02049824595451355\n",
      "Epoch 598 Cost 0.020486388355493546\n",
      "Epoch 599 Cost 0.020474644377827644\n",
      "Epoch 600 Cost 0.020463060587644577\n",
      "Epoch 601 Cost 0.02045159600675106\n",
      "Epoch 602 Cost 0.020440256223082542\n",
      "Epoch 603 Cost 0.020429063588380814\n",
      "Epoch 604 Cost 0.020417988300323486\n",
      "Epoch 605 Cost 0.020407043397426605\n",
      "Epoch 606 Cost 0.020396234467625618\n",
      "Epoch 607 Cost 0.02038552798330784\n",
      "Epoch 608 Cost 0.020374957472085953\n",
      "Epoch 609 Cost 0.020364517346024513\n",
      "Epoch 610 Cost 0.02035418525338173\n",
      "Epoch 611 Cost 0.020343974232673645\n",
      "Epoch 612 Cost 0.020333880558609962\n",
      "Epoch 613 Cost 0.020323902368545532\n",
      "Epoch 614 Cost 0.020314030349254608\n",
      "Epoch 615 Cost 0.02030428685247898\n",
      "Epoch 616 Cost 0.02029465138912201\n",
      "Epoch 617 Cost 0.020285120233893394\n",
      "Epoch 618 Cost 0.02027570642530918\n",
      "Epoch 619 Cost 0.020266402512788773\n",
      "Epoch 620 Cost 0.020257195457816124\n",
      "Epoch 621 Cost 0.02024809457361698\n",
      "Epoch 622 Cost 0.020239099860191345\n",
      "Epoch 623 Cost 0.020230215042829514\n",
      "Epoch 624 Cost 0.02022143267095089\n",
      "Epoch 625 Cost 0.020212752744555473\n",
      "Epoch 626 Cost 0.02020416036248207\n",
      "Epoch 627 Cost 0.020195677876472473\n",
      "Epoch 628 Cost 0.020187294110655785\n",
      "Epoch 629 Cost 0.020179003477096558\n",
      "Epoch 630 Cost 0.020170798525214195\n",
      "Epoch 631 Cost 0.02016269415616989\n",
      "Epoch 632 Cost 0.0201546810567379\n",
      "Epoch 633 Cost 0.020146764814853668\n",
      "Epoch 634 Cost 0.020138947293162346\n",
      "Epoch 635 Cost 0.02013120800256729\n",
      "Epoch 636 Cost 0.02012355625629425\n",
      "Epoch 637 Cost 0.020116005092859268\n",
      "Epoch 638 Cost 0.020108524709939957\n",
      "Epoch 639 Cost 0.020101137459278107\n",
      "Epoch 640 Cost 0.02009383961558342\n",
      "Epoch 641 Cost 0.020086616277694702\n",
      "Epoch 642 Cost 0.020079484209418297\n",
      "Epoch 643 Cost 0.020072441548109055\n",
      "Epoch 644 Cost 0.02006545290350914\n",
      "Epoch 645 Cost 0.020058568567037582\n",
      "Epoch 646 Cost 0.020051756873726845\n",
      "Epoch 647 Cost 0.020045023411512375\n",
      "Epoch 648 Cost 0.020038370043039322\n",
      "Epoch 649 Cost 0.020031780004501343\n",
      "Epoch 650 Cost 0.02002527564764023\n",
      "Epoch 651 Cost 0.02001885697245598\n",
      "Epoch 652 Cost 0.020012501627206802\n",
      "Epoch 653 Cost 0.0200062096118927\n",
      "Epoch 654 Cost 0.019999997690320015\n",
      "Epoch 655 Cost 0.019993862137198448\n",
      "Epoch 656 Cost 0.019987793639302254\n",
      "Epoch 657 Cost 0.01998179405927658\n",
      "Epoch 658 Cost 0.01997586339712143\n",
      "Epoch 659 Cost 0.019970007240772247\n",
      "Epoch 660 Cost 0.019964206963777542\n",
      "Epoch 661 Cost 0.01995847560465336\n",
      "Epoch 662 Cost 0.019952822476625443\n",
      "Epoch 663 Cost 0.019947227090597153\n",
      "Epoch 664 Cost 0.01994168758392334\n",
      "Epoch 665 Cost 0.019936230033636093\n",
      "Epoch 666 Cost 0.019930820912122726\n",
      "Epoch 667 Cost 0.019925469532608986\n",
      "Epoch 668 Cost 0.019920198246836662\n",
      "Epoch 669 Cost 0.019914967939257622\n",
      "Epoch 670 Cost 0.019909808412194252\n",
      "Epoch 671 Cost 0.019904710352420807\n",
      "Epoch 672 Cost 0.01989966444671154\n",
      "Epoch 673 Cost 0.01989467814564705\n",
      "Epoch 674 Cost 0.01988975703716278\n",
      "Epoch 675 Cost 0.019884876906871796\n",
      "Epoch 676 Cost 0.01988007128238678\n",
      "Epoch 677 Cost 0.019875306636095047\n",
      "Epoch 678 Cost 0.019870592281222343\n",
      "Epoch 679 Cost 0.01986595243215561\n",
      "Epoch 680 Cost 0.01986134611070156\n",
      "Epoch 681 Cost 0.019856814295053482\n",
      "Epoch 682 Cost 0.01985231414437294\n",
      "Epoch 683 Cost 0.019847869873046875\n",
      "Epoch 684 Cost 0.019843485206365585\n",
      "Epoch 685 Cost 0.019839150831103325\n",
      "Epoch 686 Cost 0.019834857434034348\n",
      "Epoch 687 Cost 0.0198306106030941\n",
      "Epoch 688 Cost 0.019826430827379227\n",
      "Epoch 689 Cost 0.01982228457927704\n",
      "Epoch 690 Cost 0.019818183034658432\n",
      "Epoch 691 Cost 0.019814129918813705\n",
      "Epoch 692 Cost 0.019810130819678307\n",
      "Epoch 693 Cost 0.01980617456138134\n",
      "Epoch 694 Cost 0.019802266731858253\n",
      "Epoch 695 Cost 0.0197983980178833\n",
      "Epoch 696 Cost 0.019794581457972527\n",
      "Epoch 697 Cost 0.019790809601545334\n",
      "Epoch 698 Cost 0.01978706568479538\n",
      "Epoch 699 Cost 0.019783370196819305\n",
      "Epoch 700 Cost 0.019779738038778305\n",
      "Epoch 701 Cost 0.019776130095124245\n",
      "Epoch 702 Cost 0.019772566854953766\n",
      "Epoch 703 Cost 0.019769031554460526\n"
     ]
    },
    {
     "name": "stdout",
     "output_type": "stream",
     "text": [
      "Epoch 704 Cost 0.01976555772125721\n",
      "Epoch 705 Cost 0.019762111827731133\n",
      "Epoch 706 Cost 0.019758714362978935\n",
      "Epoch 707 Cost 0.019755346700549126\n",
      "Epoch 708 Cost 0.019752010703086853\n",
      "Epoch 709 Cost 0.019748728722333908\n",
      "Epoch 710 Cost 0.0197454746812582\n",
      "Epoch 711 Cost 0.019742261618375778\n",
      "Epoch 712 Cost 0.019739096984267235\n",
      "Epoch 713 Cost 0.019735952839255333\n",
      "Epoch 714 Cost 0.019732844084501266\n",
      "Epoch 715 Cost 0.01972978375852108\n",
      "Epoch 716 Cost 0.019726742058992386\n",
      "Epoch 717 Cost 0.019723758101463318\n",
      "Epoch 718 Cost 0.01972079835832119\n",
      "Epoch 719 Cost 0.019717860966920853\n",
      "Epoch 720 Cost 0.0197149608284235\n",
      "Epoch 721 Cost 0.01971210353076458\n",
      "Epoch 722 Cost 0.0197092667222023\n",
      "Epoch 723 Cost 0.019706469029188156\n",
      "Epoch 724 Cost 0.019703714177012444\n",
      "Epoch 725 Cost 0.019700974225997925\n",
      "Epoch 726 Cost 0.019698278978466988\n",
      "Epoch 727 Cost 0.019695613533258438\n",
      "Epoch 728 Cost 0.019692976027727127\n",
      "Epoch 729 Cost 0.01969035156071186\n",
      "Epoch 730 Cost 0.019687775522470474\n",
      "Epoch 731 Cost 0.019685234874486923\n",
      "Epoch 732 Cost 0.019682705402374268\n",
      "Epoch 733 Cost 0.019680224359035492\n",
      "Epoch 734 Cost 0.01967775449156761\n",
      "Epoch 735 Cost 0.019675320014357567\n",
      "Epoch 736 Cost 0.019672926515340805\n",
      "Epoch 737 Cost 0.019670531153678894\n",
      "Epoch 738 Cost 0.01966819353401661\n",
      "Epoch 739 Cost 0.019665859639644623\n",
      "Epoch 740 Cost 0.019663574174046516\n",
      "Epoch 741 Cost 0.019661301746964455\n",
      "Epoch 742 Cost 0.019659055396914482\n",
      "Epoch 743 Cost 0.019656827673316002\n",
      "Epoch 744 Cost 0.019654635339975357\n",
      "Epoch 745 Cost 0.019652478396892548\n",
      "Epoch 746 Cost 0.019650336354970932\n",
      "Epoch 747 Cost 0.01964820735156536\n",
      "Epoch 748 Cost 0.019646115601062775\n",
      "Epoch 749 Cost 0.01964404247701168\n",
      "Epoch 750 Cost 0.01964200660586357\n",
      "Epoch 751 Cost 0.019639983773231506\n",
      "Epoch 752 Cost 0.019637981429696083\n",
      "Epoch 753 Cost 0.019636008888483047\n",
      "Epoch 754 Cost 0.019634053111076355\n",
      "Epoch 755 Cost 0.019632119685411453\n",
      "Epoch 756 Cost 0.01963021419942379\n",
      "Epoch 757 Cost 0.01962832733988762\n",
      "Epoch 758 Cost 0.019626449793577194\n",
      "Epoch 759 Cost 0.019624609500169754\n",
      "Epoch 760 Cost 0.019622789695858955\n",
      "Epoch 761 Cost 0.0196209829300642\n",
      "Epoch 762 Cost 0.01961921527981758\n",
      "Epoch 763 Cost 0.01961745321750641\n",
      "Epoch 764 Cost 0.01961570791900158\n",
      "Epoch 765 Cost 0.019613992422819138\n",
      "Epoch 766 Cost 0.019612278789281845\n",
      "Epoch 767 Cost 0.019610602408647537\n",
      "Epoch 768 Cost 0.019608937203884125\n",
      "Epoch 769 Cost 0.0196073055267334\n",
      "Epoch 770 Cost 0.01960567571222782\n",
      "Epoch 771 Cost 0.019604066386818886\n",
      "Epoch 772 Cost 0.019602477550506592\n",
      "Epoch 773 Cost 0.019600922241806984\n",
      "Epoch 774 Cost 0.01959935948252678\n",
      "Epoch 775 Cost 0.01959783025085926\n",
      "Epoch 776 Cost 0.019596315920352936\n",
      "Epoch 777 Cost 0.019594814628362656\n",
      "Epoch 778 Cost 0.019593333825469017\n",
      "Epoch 779 Cost 0.019591879099607468\n",
      "Epoch 780 Cost 0.019590437412261963\n",
      "Epoch 781 Cost 0.019588995724916458\n",
      "Epoch 782 Cost 0.01958758942782879\n",
      "Epoch 783 Cost 0.019586194306612015\n",
      "Epoch 784 Cost 0.019584808498620987\n",
      "Epoch 785 Cost 0.01958344504237175\n",
      "Epoch 786 Cost 0.019582094624638557\n",
      "Epoch 787 Cost 0.019580764696002007\n",
      "Epoch 788 Cost 0.019579444080591202\n",
      "Epoch 789 Cost 0.019578134641051292\n",
      "Epoch 790 Cost 0.019576845690608025\n",
      "Epoch 791 Cost 0.0195755735039711\n",
      "Epoch 792 Cost 0.019574318081140518\n",
      "Epoch 793 Cost 0.01957308128476143\n",
      "Epoch 794 Cost 0.01957184076309204\n",
      "Epoch 795 Cost 0.01957063376903534\n",
      "Epoch 796 Cost 0.01956942304968834\n",
      "Epoch 797 Cost 0.019568243995308876\n",
      "Epoch 798 Cost 0.019567059352993965\n",
      "Epoch 799 Cost 0.01956590823829174\n",
      "Epoch 800 Cost 0.019564755260944366\n",
      "Epoch 801 Cost 0.019563617184758186\n",
      "Epoch 802 Cost 0.0195624977350235\n",
      "Epoch 803 Cost 0.019561391323804855\n",
      "Epoch 804 Cost 0.019560299813747406\n",
      "Epoch 805 Cost 0.019559204578399658\n",
      "Epoch 806 Cost 0.01955813728272915\n",
      "Epoch 807 Cost 0.019557084888219833\n",
      "Epoch 808 Cost 0.019556034356355667\n",
      "Epoch 809 Cost 0.019554995000362396\n",
      "Epoch 810 Cost 0.019553977996110916\n",
      "Epoch 811 Cost 0.019552970305085182\n",
      "Epoch 812 Cost 0.0195519607514143\n",
      "Epoch 813 Cost 0.019550984725356102\n",
      "Epoch 814 Cost 0.01954999752342701\n",
      "Epoch 815 Cost 0.019549041986465454\n",
      "Epoch 816 Cost 0.0195480789989233\n",
      "Epoch 817 Cost 0.019547145813703537\n",
      "Epoch 818 Cost 0.019546203315258026\n",
      "Epoch 819 Cost 0.019545290619134903\n",
      "Epoch 820 Cost 0.019544381648302078\n",
      "Epoch 821 Cost 0.019543476402759552\n",
      "Epoch 822 Cost 0.01954258233308792\n",
      "Epoch 823 Cost 0.01954171061515808\n",
      "Epoch 824 Cost 0.01954084075987339\n",
      "Epoch 825 Cost 0.019539982080459595\n",
      "Epoch 826 Cost 0.0195391196757555\n",
      "Epoch 827 Cost 0.019538287073373795\n",
      "Epoch 828 Cost 0.019537465646862984\n",
      "Epoch 829 Cost 0.019536642357707024\n",
      "Epoch 830 Cost 0.01953582651913166\n",
      "Epoch 831 Cost 0.019535023719072342\n",
      "Epoch 832 Cost 0.01953422836959362\n",
      "Epoch 833 Cost 0.01953345350921154\n",
      "Epoch 834 Cost 0.019532671198248863\n",
      "Epoch 835 Cost 0.01953190378844738\n",
      "Epoch 836 Cost 0.019531145691871643\n",
      "Epoch 837 Cost 0.019530395045876503\n",
      "Epoch 838 Cost 0.01952965371310711\n",
      "Epoch 839 Cost 0.019528931006789207\n",
      "Epoch 840 Cost 0.019528202712535858\n",
      "Epoch 841 Cost 0.0195274967700243\n",
      "Epoch 842 Cost 0.019526783376932144\n",
      "Epoch 843 Cost 0.019526086747646332\n",
      "Epoch 844 Cost 0.019525401294231415\n",
      "Epoch 845 Cost 0.019524719566106796\n",
      "Epoch 846 Cost 0.019524037837982178\n",
      "Epoch 847 Cost 0.01952337473630905\n",
      "Epoch 848 Cost 0.019522717222571373\n",
      "Epoch 849 Cost 0.01952207274734974\n",
      "Epoch 850 Cost 0.01952141523361206\n",
      "Epoch 851 Cost 0.019520791247487068\n",
      "Epoch 852 Cost 0.01952015608549118\n",
      "Epoch 853 Cost 0.019519537687301636\n",
      "Epoch 854 Cost 0.01951892487704754\n",
      "Epoch 855 Cost 0.019518306478857994\n",
      "Epoch 856 Cost 0.019517719745635986\n",
      "Epoch 857 Cost 0.019517116248607635\n",
      "Epoch 858 Cost 0.01951652579009533\n",
      "Epoch 859 Cost 0.019515953958034515\n",
      "Epoch 860 Cost 0.019515374675393105\n",
      "Epoch 861 Cost 0.01951480656862259\n",
      "Epoch 862 Cost 0.019514253363013268\n",
      "Epoch 863 Cost 0.019513696432113647\n",
      "Epoch 864 Cost 0.019513145089149475\n",
      "Epoch 865 Cost 0.019512608647346497\n",
      "Epoch 866 Cost 0.019512072205543518\n",
      "Epoch 867 Cost 0.019511546939611435\n",
      "Epoch 868 Cost 0.01951102539896965\n",
      "Epoch 869 Cost 0.019510511308908463\n",
      "Epoch 870 Cost 0.019509999081492424\n",
      "Epoch 871 Cost 0.019509494304656982\n",
      "Epoch 872 Cost 0.01950898952782154\n",
      "Epoch 873 Cost 0.019508497789502144\n",
      "Epoch 874 Cost 0.019508013501763344\n",
      "Epoch 875 Cost 0.019507532939314842\n",
      "Epoch 876 Cost 0.019507046788930893\n",
      "Epoch 877 Cost 0.01950656995177269\n",
      "Epoch 878 Cost 0.01950611174106598\n",
      "Epoch 879 Cost 0.019505644217133522\n",
      "Epoch 880 Cost 0.019505193457007408\n",
      "Epoch 881 Cost 0.019504744559526443\n",
      "Epoch 882 Cost 0.019504301249980927\n",
      "Epoch 883 Cost 0.01950385421514511\n",
      "Epoch 884 Cost 0.01950342208147049\n",
      "Epoch 885 Cost 0.019502989947795868\n",
      "Epoch 886 Cost 0.01950257457792759\n",
      "Epoch 887 Cost 0.019502153620123863\n",
      "Epoch 888 Cost 0.019501736387610435\n",
      "Epoch 889 Cost 0.019501332193613052\n",
      "Epoch 890 Cost 0.01950092427432537\n",
      "Epoch 891 Cost 0.019500523805618286\n",
      "Epoch 892 Cost 0.0195001233369112\n",
      "Epoch 893 Cost 0.01949973590672016\n",
      "Epoch 894 Cost 0.01949934847652912\n",
      "Epoch 895 Cost 0.01949896849691868\n",
      "Epoch 896 Cost 0.019498586654663086\n",
      "Epoch 897 Cost 0.019498221576213837\n",
      "Epoch 898 Cost 0.019497843459248543\n",
      "Epoch 899 Cost 0.01949748396873474\n",
      "Epoch 900 Cost 0.019497117027640343\n",
      "Epoch 901 Cost 0.01949675753712654\n",
      "Epoch 902 Cost 0.019496412947773933\n",
      "Epoch 903 Cost 0.019496066495776176\n",
      "Epoch 904 Cost 0.019495707005262375\n",
      "Epoch 905 Cost 0.01949538104236126\n",
      "Epoch 906 Cost 0.0194950383156538\n",
      "Epoch 907 Cost 0.01949470303952694\n",
      "Epoch 908 Cost 0.019494375213980675\n",
      "Epoch 909 Cost 0.01949404925107956\n",
      "Epoch 910 Cost 0.01949373632669449\n",
      "Epoch 911 Cost 0.01949341408908367\n",
      "Epoch 912 Cost 0.019493091851472855\n",
      "Epoch 913 Cost 0.019492782652378082\n",
      "Epoch 914 Cost 0.01949247345328331\n",
      "Epoch 915 Cost 0.019492177292704582\n",
      "Epoch 916 Cost 0.01949186809360981\n",
      "Epoch 917 Cost 0.01949157565832138\n",
      "Epoch 918 Cost 0.019491279497742653\n",
      "Epoch 919 Cost 0.019490988925099373\n",
      "Epoch 920 Cost 0.019490715116262436\n",
      "Epoch 921 Cost 0.019490424543619156\n",
      "Epoch 922 Cost 0.019490141421556473\n",
      "Epoch 923 Cost 0.019489863887429237\n",
      "Epoch 924 Cost 0.0194895938038826\n",
      "Epoch 925 Cost 0.019489318132400513\n",
      "Epoch 926 Cost 0.01948905922472477\n",
      "Epoch 927 Cost 0.01948879286646843\n",
      "Epoch 928 Cost 0.019488532096147537\n",
      "Epoch 929 Cost 0.019488276913762093\n",
      "Epoch 930 Cost 0.019488010555505753\n",
      "Epoch 931 Cost 0.019487759098410606\n",
      "Epoch 932 Cost 0.019487522542476654\n",
      "Epoch 933 Cost 0.01948726922273636\n",
      "Epoch 934 Cost 0.019487030804157257\n",
      "Epoch 935 Cost 0.019486792385578156\n",
      "Epoch 936 Cost 0.019486552104353905\n",
      "Epoch 937 Cost 0.019486311823129654\n",
      "Epoch 938 Cost 0.0194860827177763\n",
      "Epoch 939 Cost 0.019485855475068092\n",
      "Epoch 940 Cost 0.019485624507069588\n",
      "Epoch 941 Cost 0.019485395401716232\n",
      "Epoch 942 Cost 0.019485166296362877\n",
      "Epoch 943 Cost 0.019484957680106163\n",
      "Epoch 944 Cost 0.019484739750623703\n",
      "Epoch 945 Cost 0.01948452740907669\n",
      "Epoch 946 Cost 0.01948430947959423\n",
      "Epoch 947 Cost 0.019484106451272964\n",
      "Epoch 948 Cost 0.019483886659145355\n",
      "Epoch 949 Cost 0.019483692944049835\n",
      "Epoch 950 Cost 0.01948348619043827\n",
      "Epoch 951 Cost 0.01948329247534275\n",
      "Epoch 952 Cost 0.019483091309666634\n",
      "Epoch 953 Cost 0.019482893869280815\n",
      "Epoch 954 Cost 0.01948269084095955\n",
      "Epoch 955 Cost 0.019482504576444626\n",
      "Epoch 956 Cost 0.01948232762515545\n",
      "Epoch 957 Cost 0.019482124596834183\n",
      "Epoch 958 Cost 0.01948194019496441\n",
      "Epoch 959 Cost 0.01948177069425583\n",
      "Epoch 960 Cost 0.019481582567095757\n",
      "Epoch 961 Cost 0.019481411203742027\n",
      "Epoch 962 Cost 0.01948123425245285\n",
      "Epoch 963 Cost 0.019481047987937927\n",
      "Epoch 964 Cost 0.019480880349874496\n",
      "Epoch 965 Cost 0.019480716437101364\n",
      "Epoch 966 Cost 0.019480541348457336\n",
      "Epoch 967 Cost 0.019480383023619652\n",
      "Epoch 968 Cost 0.01948021724820137\n",
      "Epoch 969 Cost 0.01948004588484764\n",
      "Epoch 970 Cost 0.019479883834719658\n",
      "Epoch 971 Cost 0.01947972923517227\n",
      "Epoch 972 Cost 0.019479570910334587\n",
      "Epoch 973 Cost 0.01947941444814205\n",
      "Epoch 974 Cost 0.019479263573884964\n",
      "Epoch 975 Cost 0.01947910524904728\n",
      "Epoch 976 Cost 0.01947896182537079\n",
      "Epoch 977 Cost 0.0194788109511137\n",
      "Epoch 978 Cost 0.01947866566479206\n",
      "Epoch 979 Cost 0.01947851851582527\n",
      "Epoch 980 Cost 0.019478382542729378\n",
      "Epoch 981 Cost 0.019478237256407738\n",
      "Epoch 982 Cost 0.019478105008602142\n",
      "Epoch 983 Cost 0.019477955996990204\n",
      "Epoch 984 Cost 0.01947781629860401\n",
      "Epoch 985 Cost 0.01947769522666931\n",
      "Epoch 986 Cost 0.01947755366563797\n",
      "Epoch 987 Cost 0.01947742886841297\n",
      "Epoch 988 Cost 0.01947728730738163\n",
      "Epoch 989 Cost 0.019477156922221184\n",
      "Epoch 990 Cost 0.01947704330086708\n",
      "Epoch 991 Cost 0.019476909190416336\n",
      "Epoch 992 Cost 0.019476788118481636\n",
      "Epoch 993 Cost 0.01947665773332119\n",
      "Epoch 994 Cost 0.019476547837257385\n",
      "Epoch 995 Cost 0.019476424902677536\n",
      "Epoch 996 Cost 0.019476300105452538\n",
      "Epoch 997 Cost 0.019476182758808136\n",
      "Epoch 998 Cost 0.019476059824228287\n",
      "Epoch 999 Cost 0.01947595551609993\n"
     ]
    }
   ],
   "source": [
    "epochs = 1000\n",
    "for epoch in range(epochs):\n",
    "    optimizer.zero_grad()\n",
    "    \n",
    "    yhat = regression(x,m,b) #step 1 forward pass\n",
    "    C = mse(yhat, y) # step 2 measure cost MSE\n",
    "    \n",
    "    C.backward() # step 3 calc gradients autodiff\n",
    "    optimizer.step() # step 4 SGD optimizer to adjust m,b\n",
    "    \n",
    "    print(f'Epoch {epoch} Cost {C.item()}')"
   ]
  },
  {
   "cell_type": "code",
   "execution_count": 51,
   "metadata": {},
   "outputs": [
    {
     "data": {
      "image/png": "[encoded data removed]",
      "text/plain": [
       "<Figure size 432x288 with 1 Axes>"
      ]
     },
     "metadata": {
      "needs_background": "light"
     },
     "output_type": "display_data"
    }
   ],
   "source": [
    "regression_plot(x,y,m,b)"
   ]
  },
  {
   "cell_type": "code",
   "execution_count": 53,
   "metadata": {},
   "outputs": [
    {
     "data": {
      "text/plain": [
       "-0.4681258499622345"
      ]
     },
     "execution_count": 53,
     "metadata": {},
     "output_type": "execute_result"
    }
   ],
   "source": [
    "m.item()"
   ]
  },
  {
   "cell_type": "code",
   "execution_count": 54,
   "metadata": {},
   "outputs": [
    {
     "data": {
      "text/plain": [
       "1.7542961835861206"
      ]
     },
     "execution_count": 54,
     "metadata": {},
     "output_type": "execute_result"
    }
   ],
   "source": [
    "b.item()"
   ]
  },
  {
   "cell_type": "code",
   "execution_count": null,
   "metadata": {},
   "outputs": [],
   "source": []
  }
 ],
 "metadata": {
  "kernelspec": {
   "display_name": "Python 3",
   "language": "python",
   "name": "python3"
  },
  "language_info": {
   "codemirror_mode": {
    "name": "ipython",
    "version": 3
   },
   "file_extension": ".py",
   "mimetype": "text/x-python",
   "name": "python",
   "nbconvert_exporter": "python",
   "pygments_lexer": "ipython3",
   "version": "3.8.5"
  }
 },
 "nbformat": 4,
 "nbformat_minor": 4
}
