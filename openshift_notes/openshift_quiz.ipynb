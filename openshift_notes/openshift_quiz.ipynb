{
 "cells": [
  {
   "cell_type": "code",
   "execution_count": 1,
   "metadata": {},
   "outputs": [],
   "source": [
    "from utils import Question, run_test\n",
    "import questParser"
   ]
  },
  {
   "cell_type": "code",
   "execution_count": 2,
   "metadata": {},
   "outputs": [
    {
     "name": "stdout",
     "output_type": "stream",
     "text": [
      "\n",
      "Perform a smoke test of the cluster to verify basic cluster functionality. \n",
      "Use a deployment configuration to create an \n",
      "application named hello-world-nginx. The application source \n",
      "code is located in the hello-world-nginx subdirectory of the https://github.com/RedHatTraining/DO280-apps repository.\n",
      "    \n",
      "Create a route for the application using any available \n",
      "hostname in the apps.ocp4.example.com subdomain, and \n",
      "then verify that the application responds to external requests.\n",
      "    \n",
      "What is step 1?  \n",
      "x\n",
      "\n",
      "What is step 2?\n",
      "x\n",
      "\n",
      "What is the command for step 2?\n",
      "x\n",
      "\n",
      "What is step 3?\n",
      "x\n",
      "\n",
      "What is the command for step 3?\n",
      "x\n",
      "\n",
      "What is step 4?\n",
      "x\n",
      "\n",
      "What is the command for step 4? \n",
      "x\n",
      "\n",
      "Configure the cluster to use an HTPasswd identity provider. \n",
      "The name of the identity provider is cluster-users. The identity provider \n",
      "reads htpasswd credentials stored in the compreview-users secret.\n",
      "\n",
      "Ensure that four user accounts exist: admin, leader, developer, and qa-engineer. \n",
      "All user accounts must use review as the password.\n",
      "\n",
      "Add the cluster-admin role to the admin user. \n",
      "    \n",
      "What is step 1?\n",
      "x\n",
      "\n",
      "You got 0/8 correct\n"
     ]
    }
   ],
   "source": [
    "run_test(questParser.questions)"
   ]
  },
  {
   "cell_type": "code",
   "execution_count": null,
   "metadata": {},
   "outputs": [],
   "source": []
  }
 ],
 "metadata": {
  "kernelspec": {
   "display_name": "Python (fast_ai)",
   "language": "python",
   "name": "fast_ai"
  },
  "language_info": {
   "codemirror_mode": {
    "name": "ipython",
    "version": 3
   },
   "file_extension": ".py",
   "mimetype": "text/x-python",
   "name": "python",
   "nbconvert_exporter": "python",
   "pygments_lexer": "ipython3",
   "version": "3.7.3"
  }
 },
 "nbformat": 4,
 "nbformat_minor": 4
}
