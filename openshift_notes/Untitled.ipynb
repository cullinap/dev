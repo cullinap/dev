{
 "cells": [
  {
   "cell_type": "code",
   "execution_count": 1,
   "metadata": {},
   "outputs": [],
   "source": [
    "import json"
   ]
  },
  {
   "cell_type": "code",
   "execution_count": 2,
   "metadata": {},
   "outputs": [],
   "source": [
    "def match_question_with_url(number):\n",
    "\tquestion = {}\n",
    "\twith open ('./data/quiz_data.json', 'r') as json_data:\n",
    "\t\ttestData = json.load(json_data)\n",
    "\t\tfor obj in testData:\n",
    "\t\t\tif obj['url'] == str(number):\n",
    "\t\t\t\tquestion = obj\n",
    "\n",
    "\treturn question"
   ]
  },
  {
   "cell_type": "code",
   "execution_count": 4,
   "metadata": {},
   "outputs": [
    {
     "data": {
      "text/plain": [
       "{'riddle': 'What has roots as nobody sees, Is taller than trees, Up up it goes, And yet never grows?',\n",
       " 'answer': 'Mountain',\n",
       " 'url': '2',\n",
       " 'image_source': 'static/img/riddle-2.png',\n",
       " 'original_source': 'http://78.media.tumblr.com/f1eb583b52d43019744de0687f9f7589/tumblr_o8ho9omAB21qh5xqho3_1280.jpg'}"
      ]
     },
     "execution_count": 4,
     "metadata": {},
     "output_type": "execute_result"
    }
   ],
   "source": [
    "match_question_with_url(2)"
   ]
  },
  {
   "cell_type": "code",
   "execution_count": null,
   "metadata": {},
   "outputs": [],
   "source": []
  }
 ],
 "metadata": {
  "kernelspec": {
   "display_name": "Python 3",
   "language": "python",
   "name": "python3"
  },
  "language_info": {
   "codemirror_mode": {
    "name": "ipython",
    "version": 3
   },
   "file_extension": ".py",
   "mimetype": "text/x-python",
   "name": "python",
   "nbconvert_exporter": "python",
   "pygments_lexer": "ipython3",
   "version": "3.8.5"
  }
 },
 "nbformat": 4,
 "nbformat_minor": 4
}
