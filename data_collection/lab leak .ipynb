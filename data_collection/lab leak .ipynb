{
 "cells": [
  {
   "cell_type": "markdown",
   "metadata": {},
   "source": [
    "##### Resources\n",
    "\n",
    "https://www.youtube.com/watch?v=bNDRiaFyLrs\n",
    "https://developer.twitter.com/en/portal/dashboard\n",
    "\n"
   ]
  },
  {
   "cell_type": "code",
   "execution_count": 20,
   "metadata": {},
   "outputs": [],
   "source": [
    "import schedule\n",
    "import time\n",
    "import tweepy\n",
    "import pandas as pd"
   ]
  },
  {
   "cell_type": "code",
   "execution_count": 7,
   "metadata": {},
   "outputs": [],
   "source": [
    "# import tokens from temp credential nb\n",
    "\n",
    "%run ./keys.ipynb"
   ]
  },
  {
   "cell_type": "code",
   "execution_count": 8,
   "metadata": {},
   "outputs": [],
   "source": [
    "# add authentication variables to api\n",
    "\n",
    "auth = tweepy.OAuthHandler(consumer_key, consumer_secret)\n",
    "auth.set_access_token(access_token, access_token_secret)\n",
    "api = tweepy.API(auth)"
   ]
  },
  {
   "cell_type": "code",
   "execution_count": 30,
   "metadata": {},
   "outputs": [],
   "source": [
    "def scrapeTwitter(tweets=5):\n",
    "    number_of_tweets = tweets\n",
    "    tweets = []\n",
    "    likes = []\n",
    "    time = []\n",
    "\n",
    "    for i in tweepy.Cursor(api.search, \n",
    "                           q='Israel', \n",
    "                           tweet_mode='extended').items(number_of_tweets):\n",
    "\n",
    "        tweets.append(i.full_text)\n",
    "        likes.append(i.favorite_count)\n",
    "        time.append(i.created_at)\n",
    "    \n",
    "    df = pd.DataFrame({'tweets':tweets,'likes':likes, 'time':time})\n",
    "    print(df.head(1))\n",
    "\n",
    "\n",
    "def job():\n",
    "    print('scraping twitter')\n",
    "    scrapeTwitter()"
   ]
  },
  {
   "cell_type": "code",
   "execution_count": 33,
   "metadata": {},
   "outputs": [
    {
     "name": "stdout",
     "output_type": "stream",
     "text": [
      "scraping twitter\n",
      "                                              tweets  likes  \\\n",
      "0  RT @ajplus: Ireland's government says it suppo...      0   \n",
      "\n",
      "                 time  \n",
      "0 2021-06-01 03:40:00  \n",
      "scraping twitter\n",
      "                                              tweets  likes  \\\n",
      "0  RT @ajplus: Ireland's government says it suppo...      0   \n",
      "\n",
      "                 time  \n",
      "0 2021-06-01 03:40:00  \n",
      "scraping twitter\n",
      "                                              tweets  likes  \\\n",
      "0  RT @ajplus: Ireland's government says it suppo...      0   \n",
      "\n",
      "                 time  \n",
      "0 2021-06-01 03:40:00  \n"
     ]
    },
    {
     "ename": "KeyboardInterrupt",
     "evalue": "",
     "output_type": "error",
     "traceback": [
      "\u001b[0;31m---------------------------------------------------------------------------\u001b[0m",
      "\u001b[0;31mKeyboardInterrupt\u001b[0m                         Traceback (most recent call last)",
      "\u001b[0;32m<ipython-input-33-eed5e4122115>\u001b[0m in \u001b[0;36m<module>\u001b[0;34m\u001b[0m\n\u001b[1;32m      3\u001b[0m \u001b[0;32mwhile\u001b[0m \u001b[0;32mTrue\u001b[0m\u001b[0;34m:\u001b[0m\u001b[0;34m\u001b[0m\u001b[0;34m\u001b[0m\u001b[0m\n\u001b[1;32m      4\u001b[0m     \u001b[0mschedule\u001b[0m\u001b[0;34m.\u001b[0m\u001b[0mrun_pending\u001b[0m\u001b[0;34m(\u001b[0m\u001b[0;34m)\u001b[0m\u001b[0;34m\u001b[0m\u001b[0;34m\u001b[0m\u001b[0m\n\u001b[0;32m----> 5\u001b[0;31m     \u001b[0mtime\u001b[0m\u001b[0;34m.\u001b[0m\u001b[0msleep\u001b[0m\u001b[0;34m(\u001b[0m\u001b[0;36m1\u001b[0m\u001b[0;34m)\u001b[0m\u001b[0;34m\u001b[0m\u001b[0;34m\u001b[0m\u001b[0m\n\u001b[0m",
      "\u001b[0;31mKeyboardInterrupt\u001b[0m: "
     ]
    }
   ],
   "source": [
    "schedule.every().hour.at(\":40\").do(job)\n",
    "\n",
    "while True:\n",
    "    schedule.run_pending()\n",
    "    time.sleep(1)\n"
   ]
  },
  {
   "cell_type": "code",
   "execution_count": 18,
   "metadata": {},
   "outputs": [
    {
     "data": {
      "text/html": [
       "<div>\n",
       "<style scoped>\n",
       "    .dataframe tbody tr th:only-of-type {\n",
       "        vertical-align: middle;\n",
       "    }\n",
       "\n",
       "    .dataframe tbody tr th {\n",
       "        vertical-align: top;\n",
       "    }\n",
       "\n",
       "    .dataframe thead th {\n",
       "        text-align: right;\n",
       "    }\n",
       "</style>\n",
       "<table border=\"1\" class=\"dataframe\">\n",
       "  <thead>\n",
       "    <tr style=\"text-align: right;\">\n",
       "      <th></th>\n",
       "      <th>tweets</th>\n",
       "      <th>likes</th>\n",
       "      <th>time</th>\n",
       "    </tr>\n",
       "  </thead>\n",
       "  <tbody>\n",
       "    <tr>\n",
       "      <th>0</th>\n",
       "      <td>RT @DonVocero: Israel llama a consultas al Emb...</td>\n",
       "      <td>0</td>\n",
       "      <td>2021-05-31 22:23:53</td>\n",
       "    </tr>\n",
       "    <tr>\n",
       "      <th>1</th>\n",
       "      <td>@asishefer @abgutman Sorry ur PR sucks..everyo...</td>\n",
       "      <td>0</td>\n",
       "      <td>2021-05-31 22:23:53</td>\n",
       "    </tr>\n",
       "    <tr>\n",
       "      <th>2</th>\n",
       "      <td>@iameese @AeolusDrift @besf0rt you believe tha...</td>\n",
       "      <td>0</td>\n",
       "      <td>2021-05-31 22:23:53</td>\n",
       "    </tr>\n",
       "    <tr>\n",
       "      <th>3</th>\n",
       "      <td>RT @rosariopalomi71: Arran pinta i assenyala l...</td>\n",
       "      <td>0</td>\n",
       "      <td>2021-05-31 22:23:53</td>\n",
       "    </tr>\n",
       "    <tr>\n",
       "      <th>4</th>\n",
       "      <td>@LuisAFi12201516 @SameeraKhan Hamas is the tru...</td>\n",
       "      <td>0</td>\n",
       "      <td>2021-05-31 22:23:52</td>\n",
       "    </tr>\n",
       "  </tbody>\n",
       "</table>\n",
       "</div>"
      ],
      "text/plain": [
       "                                              tweets  likes  \\\n",
       "0  RT @DonVocero: Israel llama a consultas al Emb...      0   \n",
       "1  @asishefer @abgutman Sorry ur PR sucks..everyo...      0   \n",
       "2  @iameese @AeolusDrift @besf0rt you believe tha...      0   \n",
       "3  RT @rosariopalomi71: Arran pinta i assenyala l...      0   \n",
       "4  @LuisAFi12201516 @SameeraKhan Hamas is the tru...      0   \n",
       "\n",
       "                 time  \n",
       "0 2021-05-31 22:23:53  \n",
       "1 2021-05-31 22:23:53  \n",
       "2 2021-05-31 22:23:53  \n",
       "3 2021-05-31 22:23:53  \n",
       "4 2021-05-31 22:23:52  "
      ]
     },
     "execution_count": 18,
     "metadata": {},
     "output_type": "execute_result"
    }
   ],
   "source": [
    "df = pd.DataFrame({'tweets':tweets,'likes':likes, 'time':time}); df.head()"
   ]
  },
  {
   "cell_type": "code",
   "execution_count": 19,
   "metadata": {},
   "outputs": [
    {
     "data": {
      "text/plain": [
       "0    197\n",
       "1      2\n",
       "2      1\n",
       "Name: likes, dtype: int64"
      ]
     },
     "execution_count": 19,
     "metadata": {},
     "output_type": "execute_result"
    }
   ],
   "source": [
    "df.likes.value_counts()"
   ]
  },
  {
   "cell_type": "code",
   "execution_count": null,
   "metadata": {},
   "outputs": [],
   "source": []
  }
 ],
 "metadata": {
  "kernelspec": {
   "display_name": "Python 3",
   "language": "python",
   "name": "python3"
  },
  "language_info": {
   "codemirror_mode": {
    "name": "ipython",
    "version": 3
   },
   "file_extension": ".py",
   "mimetype": "text/x-python",
   "name": "python",
   "nbconvert_exporter": "python",
   "pygments_lexer": "ipython3",
   "version": "3.8.5"
  }
 },
 "nbformat": 4,
 "nbformat_minor": 4
}
