{
 "cells": [
  {
   "cell_type": "markdown",
   "metadata": {},
   "source": [
    "##### Question 1\n",
    "\n",
    "a) the solid cube is complete and compact<br>\n",
    "First you can show it is compact by showing that the cube is a subset of $\\mathbb{R}^3$ and that it is compact iff it is closed and bounded. We can see that each variable in the set is closed and bounded therefore it is compact.\n",
    "The cube is complete because every cauchy sequence converges to a point in the space. We can see that $x$ $y$ and $z$ contain all their limit points, and therefore it is closed\n",
    "\n",
    "b) We have from the question that a set of sequences is closed and bounded as such $-1\\leq x_i \\leq 1$ for each $x_i$ in $1,2,3...$. These sequences will contain their limits within the bounds because $-1$ and $1$ are included, and we know that every sequence in this set has a convergent subsequence. We also know that it is possible to pick out Also we known that the difference between each sequence cannot be more than the maximum due to the uniform norm, and if the maximum converges then we know that each subsequent sequence converges. Therefore it is complete.\n",
    "\n",
    "c) \n",
    "\n",
    "\n",
    "d) "
   ]
  },
  {
   "cell_type": "markdown",
   "metadata": {},
   "source": [
    "##### Question 2\n",
    "\n",
    "\n",
    "\n"
   ]
  },
  {
   "cell_type": "code",
   "execution_count": null,
   "metadata": {},
   "outputs": [],
   "source": []
  }
 ],
 "metadata": {
  "kernelspec": {
   "display_name": "Python 3",
   "language": "python",
   "name": "python3"
  },
  "language_info": {
   "codemirror_mode": {
    "name": "ipython",
    "version": 3
   },
   "file_extension": ".py",
   "mimetype": "text/x-python",
   "name": "python",
   "nbconvert_exporter": "python",
   "pygments_lexer": "ipython3",
   "version": "3.8.5"
  }
 },
 "nbformat": 4,
 "nbformat_minor": 4
}
