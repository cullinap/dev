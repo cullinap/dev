{
 "cells": [
  {
   "cell_type": "code",
   "execution_count": 1,
   "metadata": {},
   "outputs": [],
   "source": [
    "import math\n",
    "from scipy.special import comb"
   ]
  },
  {
   "cell_type": "markdown",
   "metadata": {},
   "source": [
    "You have: <br>\n",
    "-4 shirts <br>\n",
    "-3 ties <br>\n",
    "-2 jackets <br>\n",
    "\n",
    "Number of possible attires?:\n",
    "\n",
    "$r$ stages <br>\n",
    "$n_i$ choices at stage $i$\n",
    "\n",
    "product of choices at each stage"
   ]
  },
  {
   "cell_type": "code",
   "execution_count": 5,
   "metadata": {},
   "outputs": [
    {
     "data": {
      "text/plain": [
       "24"
      ]
     },
     "execution_count": 5,
     "metadata": {},
     "output_type": "execute_result"
    }
   ],
   "source": [
    "4*3*2 # 24 total options"
   ]
  },
  {
   "cell_type": "code",
   "execution_count": 8,
   "metadata": {},
   "outputs": [
    {
     "name": "stdout",
     "output_type": "stream",
     "text": [
      "676000\n"
     ]
    },
    {
     "data": {
      "text/plain": [
       "468000"
      ]
     },
     "execution_count": 8,
     "metadata": {},
     "output_type": "execute_result"
    }
   ],
   "source": [
    "# 2 license plates with 2 letters followed by 3 digits\n",
    "print(26*26*10*10*10)\n",
    "\n",
    "# if repetition is prohibited\n",
    "26*25*10*9*8"
   ]
  },
  {
   "cell_type": "markdown",
   "metadata": {},
   "source": [
    "Permutations\n",
    "\n",
    "If you have a set of elements and you pick one and put it into a slot you have n-1 elements left <br>\n",
    "If you then pick the next one you have n-2...and so on...\n",
    "\n",
    "The product is denoted $n!$: $n \\cdot (n-1) \\cdot (n-2),...,1$ $= n!$\n",
    "\n",
    "If we now have a set and we want to create a subset: \n",
    "\n",
    "For each element we have two choices, in or out, and the overall number of choices we have is: $2\\cdot2\\cdot2...$\n",
    "which is $2^n$<br>\n",
    "If you have $2^1$ you have one set with the element and an empty set"
   ]
  },
  {
   "cell_type": "markdown",
   "metadata": {},
   "source": [
    "Find the probability that:\n",
    "six rolls of a (six-sided) die all give different numbers:\n",
    "\n",
    "$P(A) = \\dfrac{number \\, in \\, A}{number \\, of \\, possible \\, outcomes}$\n",
    "\n",
    "typical outcome could be:\n",
    "\n",
    "$(2,3,4,3,6,2)$ $= \\dfrac{1}{6^6}$ <br>\n",
    "which is: $1/6 * 1/6...$\n",
    "\n",
    "$(2,3,4,1,6,5)$ $= \\dfrac{6!}{6^6}$ <br>"
   ]
  },
  {
   "cell_type": "markdown",
   "metadata": {},
   "source": [
    "Combinations\n",
    "\n",
    "We want to pick a $k$ element of a set $n$ by using n choose k: $n \\choose k$\n",
    "\n",
    "We can imagine $k$ different slots and we want to take elements from $n$ and we fill by<br>\n",
    "choose the $k$ items one at a time: $n(n-1)(n-2),...,(n-k+1) = \\dfrac{n!}{(n-k)!}$\n",
    "\n",
    "choose $k$ items, then order them: \n",
    "$n \\choose k$ $k!$\n",
    "\n",
    "$n \\choose k$ $= \\dfrac{n!}{k!(n-k)!}$\n",
    "\n",
    "$\\sum_{k=0}^{n} $ = ${n\\choose0} {n\\choose1}...{n\\choose n}$"
   ]
  },
  {
   "cell_type": "markdown",
   "metadata": {},
   "source": [
    "Binomial coefficients\n",
    "\n",
    "$n \\geq 1$ independent coin tosses; $P(H) = p$ $P(k heads)$\n",
    "\n",
    "What is the probability that we observe this sequence:<br>\n",
    "$p$ we observe heads, $(1-p)$ we observe tails<br>\n",
    "$P(HTTHHH)$ = $P(1-p)(1-p)ppp = p^4(1-p)^2$\n",
    "\n",
    "$p^{heads} \\cdot (1-p)^{tails}$\n",
    "\n",
    "$P(particular \\, k-head \\, sequence) = p^{k} \\cdot (1-p)^{n-k}$\n",
    "\n",
    "$P(k \\, heads) = p^k(1-p)^{m-k} \\cdot number \\,of \\,k-head \\,sequences$\n",
    "\n",
    "$P(k \\, heads) = p^k(1-p)^{m-k} \\cdot {n \\choose k}$"
   ]
  },
  {
   "cell_type": "markdown",
   "metadata": {},
   "source": [
    "Coin tossing problem\n",
    "\n",
    "Given that there were 3 heads in 10 tosses <br>\n",
    "what is the probability that the first two tosses were heads? <br>\n",
    "- event A: the first two tosses were heads\n",
    "- event B: 3 out of the 10 tosses were heads\n",
    "\n",
    "First solution:<br>\n",
    "$P(A|B) = \\dfrac{P(A \\cap B)}{P(B)}$ = $\\dfrac{P(H_1, \\,H_2, \\,and \\,H \\,in \\,tosses \\,3,...,10)}{P(B)}$ <br>\n",
    "\n",
    "$\\dfrac{p^2 \\cdot {8 \\choose 1} \\cdot p^1 \\cdot (1-p)^7}{{10 \\choose 3} p^3(1-p)^7} $ = \n",
    "$\\dfrac{{8 \\choose 1}}{{10 \\choose 3}}$ = $\\dfrac{8}{{10 \\choose 3}}$\n",
    "\n",
    "Second approach:<br>\n",
    "Conditional probability law<br>\n",
    "$\\dfrac{in\\,(A \\cap B)}{B}$ = $\\dfrac{8}{{10 \\choose 3}}$\n",
    "\n",
    "\n"
   ]
  },
  {
   "cell_type": "markdown",
   "metadata": {},
   "source": [
    "Partitions\n",
    "\n",
    "52-card deck, dealt fairly to four players find P(each player gets and Ace)\n",
    "\n",
    "number of outcomes: $\\dfrac{52!}{13!13!13!13!}$\n",
    "\n",
    "distribute the aces: $4 \\cdot 3 \\cdot 2 \\cdot 1$\n",
    "\n",
    "distribute the remaining 48 cards: $\\dfrac{48!}{12!12!12!12!}$\n",
    "\n",
    "final answer: $\\dfrac{4! \\dfrac{48!}{12!12!12!12!}}{\\dfrac{52!}{13!13!13!13!}}$"
   ]
  },
  {
   "cell_type": "code",
   "execution_count": null,
   "metadata": {},
   "outputs": [],
   "source": []
  }
 ],
 "metadata": {
  "kernelspec": {
   "display_name": "Python 3",
   "language": "python",
   "name": "python3"
  },
  "language_info": {
   "codemirror_mode": {
    "name": "ipython",
    "version": 3
   },
   "file_extension": ".py",
   "mimetype": "text/x-python",
   "name": "python",
   "nbconvert_exporter": "python",
   "pygments_lexer": "ipython3",
   "version": "3.8.5"
  }
 },
 "nbformat": 4,
 "nbformat_minor": 4
}
