{
 "cells": [
  {
   "cell_type": "code",
   "execution_count": 1,
   "metadata": {},
   "outputs": [],
   "source": [
    "from math import factorial as fact\n",
    "from scipy.special import comb"
   ]
  },
  {
   "cell_type": "markdown",
   "metadata": {},
   "source": [
    "###### Question 12b:\n",
    "\n",
    "Verify the following identity for $n = 1,2,3,4,5$"
   ]
  },
  {
   "cell_type": "markdown",
   "metadata": {},
   "source": [
    "###### In Python"
   ]
  },
  {
   "cell_type": "code",
   "execution_count": 35,
   "metadata": {},
   "outputs": [],
   "source": [
    "# combinatorial identities \n",
    "def fn1(n):\n",
    "    result = 0\n",
    "    for k in range(n):\n",
    "        k+=1\n",
    "        result += comb(n,k)*k**2\n",
    "        \n",
    "    return int(result)\n",
    "\n",
    "fn2 = lambda n: int(2**(n-2)*(n)*(n+1))"
   ]
  },
  {
   "cell_type": "code",
   "execution_count": 46,
   "metadata": {},
   "outputs": [
    {
     "name": "stdout",
     "output_type": "stream",
     "text": [
      "for n=5: combination 1: 1 combination 2: 1\n",
      "for n=5: combination 1: 6 combination 2: 6\n",
      "for n=5: combination 1: 24 combination 2: 24\n",
      "for n=5: combination 1: 80 combination 2: 80\n",
      "for n=5: combination 1: 240 combination 2: 240\n"
     ]
    }
   ],
   "source": [
    "for n in range(1,6):\n",
    "    id1,id2 = fn1(n),fn2(n)\n",
    "    if id1 == id2:\n",
    "        print(f'for n={i}: combination 1: {id1} combination 2: {id2}')"
   ]
  },
  {
   "cell_type": "markdown",
   "metadata": {},
   "source": [
    "###### verification"
   ]
  },
  {
   "cell_type": "markdown",
   "metadata": {},
   "source": [
    "a) for $n=1, k=1$\n",
    "\n",
    "$\n",
    "\\begin{align}\n",
    " \\sum_{k=1}^{n} {n \\choose k} k^2 = 2^{n-2}n(n+1)\n",
    "\\end{align}\n",
    "$\n",
    "\n",
    "$\n",
    "\\begin{align}\n",
    "  \\implies {1 \\choose 1} \\cdot 1^2 = 2^{1-2}(1)(1+1)\n",
    "\\end{align}\n",
    "$\n",
    "\n",
    "$\n",
    "\\begin{align}\n",
    "  \\implies 1 = 1\n",
    "\\end{align}\n",
    "$\n"
   ]
  },
  {
   "cell_type": "markdown",
   "metadata": {},
   "source": [
    "b) for $n=2, k=1,2$\n",
    "\n",
    "$\n",
    "\\begin{align}\n",
    "  \\implies {2 \\choose 1} \\cdot 1^2 + {2 \\choose 2} \\cdot 2^2 = 6\n",
    "\\end{align}\n",
    "$\n",
    "\n",
    "$\n",
    "\\begin{align}\n",
    "  \\implies 2^{2-2}(2)(2+1) = 6\n",
    "\\end{align}\n",
    "$\n",
    "\n",
    "$\n",
    "\\begin{align}\n",
    "  \\implies 6 = 6\n",
    "\\end{align}\n",
    "$"
   ]
  },
  {
   "cell_type": "markdown",
   "metadata": {},
   "source": [
    "c) for $n=3, k=1,2,3$\n",
    "\n",
    "$\n",
    "\\begin{align}\n",
    "  \\implies {3 \\choose 1} \\cdot 1^2 + {3 \\choose 2} \\cdot 2^2 \n",
    "   + {3 \\choose 3} \\cdot 3^2\n",
    "   = 3^{3-2}(3)(3+1)\n",
    "\\end{align}\n",
    "$\n",
    "\n",
    "$\n",
    "\\begin{align}\n",
    "  \\implies 24 = 24\n",
    "\\end{align}\n",
    "$"
   ]
  },
  {
   "cell_type": "markdown",
   "metadata": {},
   "source": [
    "c) for $n=4, k=1,2,3,4$\n",
    "\n",
    "$\n",
    "\\begin{align}\n",
    "  \\implies {4 \\choose 1} \\cdot 1^2 \n",
    "   + {4 \\choose 2} \\cdot 2^2 \n",
    "   + {4 \\choose 3} \\cdot 3^2\n",
    "   + {4 \\choose 4} \\cdot 4^2\n",
    "   = 4^{4-2}(4)(4+1)\n",
    "\\end{align}\n",
    "$\n",
    "\n",
    "$\n",
    "\\begin{align}\n",
    "  \\implies 80 = 80\n",
    "\\end{align}\n",
    "$"
   ]
  },
  {
   "cell_type": "markdown",
   "metadata": {},
   "source": [
    "c) for $n=5, k=1,2,3,4,5$\n",
    "\n",
    "$\n",
    "\\begin{align}\n",
    "  \\implies {5 \\choose 1} \\cdot 1^2 \n",
    "   + {5 \\choose 2} \\cdot 2^2 \n",
    "   + {5 \\choose 3} \\cdot 3^2\n",
    "   + {5 \\choose 4} \\cdot 4^2\n",
    "   + {5 \\choose 4} \\cdot 5^2\n",
    "   = 5^{5-2}(5)(5+1)\n",
    "\\end{align}\n",
    "$\n",
    "\n",
    "$\n",
    "\\begin{align}\n",
    "  \\implies 240 = 240\n",
    "\\end{align}\n",
    "$"
   ]
  },
  {
   "cell_type": "markdown",
   "metadata": {},
   "source": [
    "Combinatorial Proof:\n",
    "\n",
    "k members (of the committee) can be selected from n people ${n \\choose k}$ ways. One chairperson and one secretary can be selected from the committee (both can be the same $n \\choose k$$k^2$ ways.\n",
    "\n",
    "If the chair and the secretary are the same person then they can be $n 2^{n-1}$ because there are two possible states, in the group and out of the group and the exponent represents the total of the group less the chair and secretary. Finally the n value represents the total number of ways this can occur.\n",
    "\n",
    "A chair person can be selected from a group of $n$ people $n \\choose 1$ ways, and a secratary $n-1 \\choose 1$ ways, which is the same as saying $n(n-1)$. \n",
    "\n",
    "Similar to above the remaining members can be selected $2^{n-2}$ ways. This results in $n(n-1)2^{n-2}$ for secretary and chair as different people.\n",
    "\n",
    "Finally combining the two scenarios we get: $n 2^{n-1} + n(n-1)2^{n-2}$, which simplifies to $2^{n-2}(n+1)$\n"
   ]
  },
  {
   "cell_type": "code",
   "execution_count": null,
   "metadata": {},
   "outputs": [],
   "source": []
  }
 ],
 "metadata": {
  "kernelspec": {
   "display_name": "Python 3",
   "language": "python",
   "name": "python3"
  },
  "language_info": {
   "codemirror_mode": {
    "name": "ipython",
    "version": 3
   },
   "file_extension": ".py",
   "mimetype": "text/x-python",
   "name": "python",
   "nbconvert_exporter": "python",
   "pygments_lexer": "ipython3",
   "version": "3.8.5"
  }
 },
 "nbformat": 4,
 "nbformat_minor": 4
}
