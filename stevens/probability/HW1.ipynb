{
 "cells": [
  {
   "cell_type": "code",
   "execution_count": 1,
   "metadata": {},
   "outputs": [],
   "source": [
    "import math\n",
    "from math import factorial as fact\n",
    "from scipy.special import comb\n",
    "from itertools import *\n",
    "import numpy as np\n",
    "from collections import Counter\n",
    "import torch\n",
    "import matplotlib.pyplot as plt"
   ]
  },
  {
   "cell_type": "markdown",
   "metadata": {},
   "source": [
    "questions:\n",
    "    \n",
    "1) 1√, 4√, 7√, T12(b)√ <br>\n",
    "2) 8√, 13√, 30√, T15√ <br>\n",
    "3) 3, 4"
   ]
  },
  {
   "cell_type": "markdown",
   "metadata": {},
   "source": [
    "###### Question 1:\n",
    "\n",
    "Verify the following identity for $n = 1,2,3,4,5$"
   ]
  },
  {
   "cell_type": "markdown",
   "metadata": {},
   "source": [
    "###### Question 12b:\n",
    "\n",
    "Verify the following identity for $n = 1,2,3,4,5$"
   ]
  },
  {
   "cell_type": "markdown",
   "metadata": {},
   "source": [
    "###### In Python"
   ]
  },
  {
   "cell_type": "code",
   "execution_count": 35,
   "metadata": {},
   "outputs": [],
   "source": [
    "# combinatorial identities \n",
    "def fn1(n):\n",
    "    result = 0\n",
    "    for k in range(n):\n",
    "        k+=1\n",
    "        result += comb(n,k)*k**2\n",
    "        \n",
    "    return int(result)\n",
    "\n",
    "fn2 = lambda n: int(2**(n-2)*(n)*(n+1))"
   ]
  },
  {
   "cell_type": "code",
   "execution_count": 46,
   "metadata": {},
   "outputs": [
    {
     "name": "stdout",
     "output_type": "stream",
     "text": [
      "for n=5: combination 1: 1 combination 2: 1\n",
      "for n=5: combination 1: 6 combination 2: 6\n",
      "for n=5: combination 1: 24 combination 2: 24\n",
      "for n=5: combination 1: 80 combination 2: 80\n",
      "for n=5: combination 1: 240 combination 2: 240\n"
     ]
    }
   ],
   "source": [
    "for n in range(1,6):\n",
    "    id1,id2 = fn1(n),fn2(n)\n",
    "    if id1 == id2:\n",
    "        print(f'for n={i}: combination 1: {id1} combination 2: {id2}')"
   ]
  },
  {
   "cell_type": "markdown",
   "metadata": {},
   "source": [
    "###### verification"
   ]
  },
  {
   "cell_type": "markdown",
   "metadata": {},
   "source": [
    "a) for $n=1, k=1$\n",
    "\n",
    "$\n",
    "\\begin{align}\n",
    " \\sum_{k=1}^{n} {n \\choose k} k^2 = 2^{n-2}n(n+1)\n",
    "\\end{align}\n",
    "$\n",
    "\n",
    "$\n",
    "\\begin{align}\n",
    "  \\implies {1 \\choose 1} \\cdot 1^2 = 2^{1-2}(1)(1+1)\n",
    "\\end{align}\n",
    "$\n",
    "\n",
    "$\n",
    "\\begin{align}\n",
    "  \\implies 1 = 1\n",
    "\\end{align}\n",
    "$\n"
   ]
  },
  {
   "cell_type": "markdown",
   "metadata": {},
   "source": [
    "b) for $n=2, k=1,2$\n",
    "\n",
    "$\n",
    "\\begin{align}\n",
    "  \\implies {2 \\choose 1} \\cdot 1^2 + {2 \\choose 2} \\cdot 2^2 = 6\n",
    "\\end{align}\n",
    "$\n",
    "\n",
    "$\n",
    "\\begin{align}\n",
    "  \\implies 2^{2-2}(2)(2+1) = 6\n",
    "\\end{align}\n",
    "$\n",
    "\n",
    "$\n",
    "\\begin{align}\n",
    "  \\implies 6 = 6\n",
    "\\end{align}\n",
    "$"
   ]
  },
  {
   "cell_type": "markdown",
   "metadata": {},
   "source": [
    "c) for $n=3, k=1,2,3$\n",
    "\n",
    "$\n",
    "\\begin{align}\n",
    "  \\implies {3 \\choose 1} \\cdot 1^2 + {3 \\choose 2} \\cdot 2^2 \n",
    "   + {3 \\choose 3} \\cdot 3^2\n",
    "   = 3^{3-2}(3)(3+1)\n",
    "\\end{align}\n",
    "$\n",
    "\n",
    "$\n",
    "\\begin{align}\n",
    "  \\implies 24 = 24\n",
    "\\end{align}\n",
    "$"
   ]
  },
  {
   "cell_type": "markdown",
   "metadata": {},
   "source": [
    "c) for $n=4, k=1,2,3,4$\n",
    "\n",
    "$\n",
    "\\begin{align}\n",
    "  \\implies {4 \\choose 1} \\cdot 1^2 \n",
    "   + {4 \\choose 2} \\cdot 2^2 \n",
    "   + {4 \\choose 3} \\cdot 3^2\n",
    "   + {4 \\choose 4} \\cdot 4^2\n",
    "   = 4^{4-2}(4)(4+1)\n",
    "\\end{align}\n",
    "$\n",
    "\n",
    "$\n",
    "\\begin{align}\n",
    "  \\implies 80 = 80\n",
    "\\end{align}\n",
    "$"
   ]
  },
  {
   "cell_type": "markdown",
   "metadata": {},
   "source": [
    "c) for $n=5, k=1,2,3,4,5$\n",
    "\n",
    "$\n",
    "\\begin{align}\n",
    "  \\implies {5 \\choose 1} \\cdot 1^2 \n",
    "   + {5 \\choose 2} \\cdot 2^2 \n",
    "   + {5 \\choose 3} \\cdot 3^2\n",
    "   + {5 \\choose 4} \\cdot 4^2\n",
    "   + {5 \\choose 4} \\cdot 5^2\n",
    "   = 5^{5-2}(5)(5+1)\n",
    "\\end{align}\n",
    "$\n",
    "\n",
    "$\n",
    "\\begin{align}\n",
    "  \\implies 240 = 240\n",
    "\\end{align}\n",
    "$"
   ]
  },
  {
   "cell_type": "markdown",
   "metadata": {},
   "source": [
    "Combinatorial Proof:\n",
    "\n",
    "$k$ members (of the committee) can be selected from n people ${n \\choose k}$ ways. One chairperson and one secretary can be selected from the committee (both can be the same $n \\choose k$$k^2$ ways.\n",
    "\n",
    "If the chair and the secretary are the same person then they can be $n 2^{n-1}$ because there are two possible states, in the group and out of the group and the exponent represents the total of the group less the chair and secretary. Finally the n value represents the total number of ways this can occur.\n",
    "\n",
    "A chair person can be selected from a group of $n$ people $n \\choose 1$ ways, and a secratary $n-1 \\choose 1$ ways, which is the same as saying $n(n-1)$. \n",
    "\n",
    "Similar to above the remaining members can be selected $2^{n-2}$ ways. This results in $n(n-1)2^{n-2}$ for secretary and chair as different people.\n",
    "\n",
    "Finally combining the two scenarios we get: $n 2^{n-1} + n(n-1)2^{n-2}$, which simplifies to $2^{n-2}(n+1)$\n"
   ]
  },
  {
   "cell_type": "markdown",
   "metadata": {},
   "source": [
    "#### Chapter 2:"
   ]
  },
  {
   "cell_type": "markdown",
   "metadata": {},
   "source": [
    "###### Question 30:\n",
    "\n",
    "a) Rebecca and Elise paired: <br>\n",
    "-total choices for schools: $8 \\choose 4$ and $9 \\choose 4$ <br>\n",
    "-after rebecca and elise are paired off: $7 \\choose 3$ and $8 \\choose 3$ <br>\n",
    "-players can be paired: $4!$ and rebecca & elise: $3!$ <br>\n",
    "\n",
    "$\n",
    "\\begin{align}\n",
    "  P(R \\cap E) = \\dfrac{outcomes \\hspace{1mm} where \\hspace{1mm} \n",
    "  rebecca \\hspace{1mm} and \\hspace{1mm} elise \\hspace{1mm} paired}{outcomes}\n",
    "\\end{align}\n",
    "$\n",
    "\n",
    "$\n",
    "\\begin{align}\n",
    "  P(R \\cap E) = \\dfrac{{7 \\choose 3} {8 \\choose 3}3!}{{8 \\choose 4} {9 \\choose 4}4!}\n",
    "  = \\dfrac{1}{18}\n",
    "\\end{align}\n",
    "$"
   ]
  },
  {
   "cell_type": "markdown",
   "metadata": {},
   "source": [
    "###### *calculations using python"
   ]
  },
  {
   "cell_type": "code",
   "execution_count": 54,
   "metadata": {},
   "outputs": [],
   "source": [
    "total_choices = comb(8,4)*comb(9,4)\n",
    "rebecca, elise = comb(7,3), comb(8,3)"
   ]
  },
  {
   "cell_type": "code",
   "execution_count": 61,
   "metadata": {},
   "outputs": [
    {
     "data": {
      "text/plain": [
       "0.05555555555555555"
      ]
     },
     "execution_count": 61,
     "metadata": {},
     "output_type": "execute_result"
    }
   ],
   "source": [
    "# 0.05555 = 1/18\n",
    "\n",
    "(math.factorial(3)*rebecca*elise)/(total_choices*math.factorial(4))"
   ]
  },
  {
   "cell_type": "markdown",
   "metadata": {},
   "source": [
    "b) Rebecca and Elise will not play eachother (not paired): <br>\n",
    "This time subtract off the number of ways rebecca and elise are paird $3!$ and everyone is paired $4!$\n",
    "\n",
    "$\n",
    "\\begin{align}\n",
    "  P(R \\cap E) = \\dfrac{{7 \\choose 3} {8 \\choose 3}}{{8 \\choose 4} {9 \\choose 4}} \\cdot\n",
    "  1 - \\dfrac{3!}{4!}\n",
    "  = \\dfrac{1}{6}\n",
    "\\end{align}\n",
    "$"
   ]
  },
  {
   "cell_type": "code",
   "execution_count": 63,
   "metadata": {},
   "outputs": [
    {
     "data": {
      "text/plain": [
       "0.16666666666666666"
      ]
     },
     "execution_count": 63,
     "metadata": {},
     "output_type": "execute_result"
    }
   ],
   "source": [
    "# part b calculation\n",
    "\n",
    "(rebecca*elise)/(total_choices)*(1 - (math.factorial(3)/math.factorial(4)))"
   ]
  },
  {
   "cell_type": "markdown",
   "metadata": {},
   "source": [
    "c) either rebecca or elise\n",
    "-start by calculating R and not E and E and not R, then add these two probabilities together\n",
    "\n",
    "$\n",
    "\\begin{align}\n",
    "  P(R \\cap E^c) = \\dfrac{{7 \\choose 3} }{{8 \\choose 4} } \\cdot\n",
    "  1 - \\dfrac{{8 \\choose 3}}{{9 \\choose 4}}\n",
    "  = \\dfrac{5}{18}\n",
    "\\end{align}\n",
    "$\n",
    "\n",
    "$\n",
    "\\begin{align}\n",
    "  P(R^c \\cap E) = 1 - \\dfrac{{7 \\choose 3} }{{8 \\choose 4} } \\cdot\n",
    "  \\dfrac{{8 \\choose 3}}{{9 \\choose 4}}\n",
    "  = \\dfrac{4}{18}\n",
    "\\end{align}\n",
    "$\n",
    "\n",
    "$\n",
    "\\begin{align}\n",
    "  P(R \\cap E^c) + P(R^c \\cap E) = \\dfrac{5}{18} + \\dfrac{4}{18}\n",
    "  = \\dfrac{1}{2} \n",
    "\\end{align}\n",
    "$"
   ]
  },
  {
   "cell_type": "code",
   "execution_count": 70,
   "metadata": {},
   "outputs": [
    {
     "data": {
      "text/plain": [
       "0.5"
      ]
     },
     "execution_count": 70,
     "metadata": {},
     "output_type": "execute_result"
    }
   ],
   "source": [
    "r_not_e = (comb(7,3)/comb(8,4))*(1-((comb(8,3)/comb(9,4))))\n",
    "e_not_r = (1-(comb(7,3)/comb(8,4)))*((comb(8,3)/comb(9,4)))\n",
    "\n",
    "r_not_e + e_not_r"
   ]
  },
  {
   "cell_type": "markdown",
   "metadata": {},
   "source": [
    "##### Question T15\n",
    "\n",
    "An urn contains $M$ white and $N$ black balls. If a random sample size of $r$ is chosen, what is the probability that it contains $k$ white balls?\n",
    "\n",
    "-If $S$ is the sample space containing all possible choices or $r$, there are $M + N$ choices in $S$. <br>\n",
    "-$S$ consists of ${M+N \\choose r}$ total possibilities <br>\n",
    "-Since every outcome is equally likely: $P(E) = \\dfrac{E}{S}$ <br>\n",
    "-Since $M$ represents combinations of white balls, the event $k$ white balls are drawn is represented by $N \\choose k$ <br>\n",
    "-Also $N$ represents combinations of black balls: $M \\choose r-k $. $r$ is calculated for black balls by subtracting off $k$ balls chosen in previous statement <br>\n",
    "-$E$ = ${M \\choose k} {N \\choose r-k}$ <br>\n",
    "-Finally the probability of choosing $r$ balls from $M$ white and $N$ black is: <br>\n",
    "$P(E) = \\dfrac{{M \\choose k} {N \\choose r-k}}{{M+N \\choose r}}$"
   ]
  },
  {
   "cell_type": "markdown",
   "metadata": {},
   "source": [
    "##### Question 3: \n",
    "\n",
    "Consider flipping two fair m-sided dice and the random variable $X$ represents the sum of the 2 numbers you get. In this case the probability mass function for $X$ is:\n",
    "\n",
    "$\n",
    "\\begin{align}\n",
    "  p(x) = \\dfrac{m - |x - (m+1)|}{m^2}\n",
    "  , x = 2,...,2m\n",
    "\\end{align}\n",
    "$\n",
    "\n",
    "Show/disprove $p(x)$ is a valid pmf and that $E(X) = m + 1, Var(X) = \\dfrac{m^2-1}{2m}$"
   ]
  },
  {
   "cell_type": "code",
   "execution_count": 2,
   "metadata": {},
   "outputs": [],
   "source": [
    "# x represents sum of numbers you get\n",
    "# m is sides of dice \n",
    "def pmf(x,m):\n",
    "    p_x = (m - abs(x-(m+1)))/m**2\n",
    "    return p_x\n",
    "\n",
    "def output_pmf(m):\n",
    "    P = []\n",
    "\n",
    "    for i in range(2,m+1):\n",
    "        P.append(pmf(i,m/2))\n",
    "        \n",
    "    return P"
   ]
  },
  {
   "cell_type": "code",
   "execution_count": 23,
   "metadata": {},
   "outputs": [
    {
     "data": {
      "image/png": "[encoded data removed]",
      "text/plain": [
       "<Figure size 360x360 with 1 Axes>"
      ]
     },
     "metadata": {
      "needs_background": "light"
     },
     "output_type": "display_data"
    }
   ],
   "source": [
    "p_x = output_pmf(7)\n",
    "die = list(range(1,7))\n",
    "dice_sum = [np.sum(i) for i in [x for x in product(die,repeat=1)]]\n",
    "dice_outcome = dict(Counter(dice_sum))\n",
    "cumulative_probs = np.cumsum(p_x)\n",
    "\n",
    "plt.figure(figsize=(5,5))\n",
    "plt.plot(list(dice_outcome), p_x, 'ro', ms=12, mec='g')\n",
    "plt.vlines(list(dice_outcome),0,p_x)\n",
    "plt.show()"
   ]
  },
  {
   "cell_type": "code",
   "execution_count": 24,
   "metadata": {},
   "outputs": [
    {
     "data": {
      "image/png": "[encoded data removed]",
      "text/plain": [
       "<Figure size 360x360 with 1 Axes>"
      ]
     },
     "metadata": {
      "needs_background": "light"
     },
     "output_type": "display_data"
    }
   ],
   "source": [
    "plt.figure(figsize=(5,5))\n",
    "plt.plot(list(dice_outcome), cumulative_probs, 'ro', ms=12, mec='g')\n",
    "plt.step(list(dice_outcome),cumulative_probs, where='post')\n",
    "plt.xticks(list(dice_outcome))\n",
    "plt.show()"
   ]
  },
  {
   "cell_type": "code",
   "execution_count": 25,
   "metadata": {},
   "outputs": [
    {
     "data": {
      "text/plain": [
       "3.4285714285714284"
      ]
     },
     "execution_count": 25,
     "metadata": {},
     "output_type": "execute_result"
    }
   ],
   "source": [
    "expected_value = np.sum(np.multiply(list(dice_outcome),p_x))\n",
    "expected_value"
   ]
  },
  {
   "cell_type": "code",
   "execution_count": 26,
   "metadata": {},
   "outputs": [
    {
     "data": {
      "text/plain": [
       "3.4285714285714284"
      ]
     },
     "execution_count": 26,
     "metadata": {},
     "output_type": "execute_result"
    }
   ],
   "source": [
    "expected_value"
   ]
  },
  {
   "cell_type": "code",
   "execution_count": 27,
   "metadata": {},
   "outputs": [
    {
     "data": {
      "text/plain": [
       "3.5"
      ]
     },
     "execution_count": 27,
     "metadata": {},
     "output_type": "execute_result"
    }
   ],
   "source": [
    "7/2"
   ]
  },
  {
   "cell_type": "code",
   "execution_count": 28,
   "metadata": {},
   "outputs": [
    {
     "data": {
      "text/plain": [
       "1.4608843537414966"
      ]
     },
     "execution_count": 28,
     "metadata": {},
     "output_type": "execute_result"
    }
   ],
   "source": [
    "squared_diff = np.subtract(die, expected_value)**2\n",
    "variance = np.sum(squared_diff)/12; variance"
   ]
  },
  {
   "cell_type": "code",
   "execution_count": 29,
   "metadata": {},
   "outputs": [
    {
     "data": {
      "text/plain": [
       "1.2086704901425767"
      ]
     },
     "execution_count": 29,
     "metadata": {},
     "output_type": "execute_result"
    }
   ],
   "source": [
    "std = np.sqrt(variance); std"
   ]
  },
  {
   "cell_type": "code",
   "execution_count": null,
   "metadata": {},
   "outputs": [],
   "source": []
  }
 ],
 "metadata": {
  "kernelspec": {
   "display_name": "Python 3",
   "language": "python",
   "name": "python3"
  },
  "language_info": {
   "codemirror_mode": {
    "name": "ipython",
    "version": 3
   },
   "file_extension": ".py",
   "mimetype": "text/x-python",
   "name": "python",
   "nbconvert_exporter": "python",
   "pygments_lexer": "ipython3",
   "version": "3.8.5"
  }
 },
 "nbformat": 4,
 "nbformat_minor": 4
}
