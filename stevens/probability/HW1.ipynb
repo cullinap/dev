{
 "cells": [
  {
   "cell_type": "code",
   "execution_count": 1,
   "metadata": {},
   "outputs": [],
   "source": [
    "import math\n",
    "from math import factorial as fact\n",
    "from scipy.special import comb\n",
    "from itertools import *\n",
    "import numpy as np\n",
    "from collections import Counter\n",
    "import torch\n",
    "import matplotlib.pyplot as plt"
   ]
  },
  {
   "cell_type": "markdown",
   "metadata": {},
   "source": [
    "###### Question 12b:\n",
    "\n",
    "Verify the following identity for $n = 1,2,3,4,5$"
   ]
  },
  {
   "cell_type": "markdown",
   "metadata": {},
   "source": [
    "###### In Python"
   ]
  },
  {
   "cell_type": "code",
   "execution_count": 35,
   "metadata": {},
   "outputs": [],
   "source": [
    "# combinatorial identities \n",
    "def fn1(n):\n",
    "    result = 0\n",
    "    for k in range(n):\n",
    "        k+=1\n",
    "        result += comb(n,k)*k**2\n",
    "        \n",
    "    return int(result)\n",
    "\n",
    "fn2 = lambda n: int(2**(n-2)*(n)*(n+1))"
   ]
  },
  {
   "cell_type": "code",
   "execution_count": 46,
   "metadata": {},
   "outputs": [
    {
     "name": "stdout",
     "output_type": "stream",
     "text": [
      "for n=5: combination 1: 1 combination 2: 1\n",
      "for n=5: combination 1: 6 combination 2: 6\n",
      "for n=5: combination 1: 24 combination 2: 24\n",
      "for n=5: combination 1: 80 combination 2: 80\n",
      "for n=5: combination 1: 240 combination 2: 240\n"
     ]
    }
   ],
   "source": [
    "for n in range(1,6):\n",
    "    id1,id2 = fn1(n),fn2(n)\n",
    "    if id1 == id2:\n",
    "        print(f'for n={i}: combination 1: {id1} combination 2: {id2}')"
   ]
  },
  {
   "cell_type": "markdown",
   "metadata": {},
   "source": [
    "###### verification"
   ]
  },
  {
   "cell_type": "markdown",
   "metadata": {},
   "source": [
    "a) for $n=1, k=1$\n",
    "\n",
    "$\n",
    "\\begin{align}\n",
    " \\sum_{k=1}^{n} {n \\choose k} k^2 = 2^{n-2}n(n+1)\n",
    "\\end{align}\n",
    "$\n",
    "\n",
    "$\n",
    "\\begin{align}\n",
    "  \\implies {1 \\choose 1} \\cdot 1^2 = 2^{1-2}(1)(1+1)\n",
    "\\end{align}\n",
    "$\n",
    "\n",
    "$\n",
    "\\begin{align}\n",
    "  \\implies 1 = 1\n",
    "\\end{align}\n",
    "$\n"
   ]
  },
  {
   "cell_type": "markdown",
   "metadata": {},
   "source": [
    "b) for $n=2, k=1,2$\n",
    "\n",
    "$\n",
    "\\begin{align}\n",
    "  \\implies {2 \\choose 1} \\cdot 1^2 + {2 \\choose 2} \\cdot 2^2 = 6\n",
    "\\end{align}\n",
    "$\n",
    "\n",
    "$\n",
    "\\begin{align}\n",
    "  \\implies 2^{2-2}(2)(2+1) = 6\n",
    "\\end{align}\n",
    "$\n",
    "\n",
    "$\n",
    "\\begin{align}\n",
    "  \\implies 6 = 6\n",
    "\\end{align}\n",
    "$"
   ]
  },
  {
   "cell_type": "markdown",
   "metadata": {},
   "source": [
    "c) for $n=3, k=1,2,3$\n",
    "\n",
    "$\n",
    "\\begin{align}\n",
    "  \\implies {3 \\choose 1} \\cdot 1^2 + {3 \\choose 2} \\cdot 2^2 \n",
    "   + {3 \\choose 3} \\cdot 3^2\n",
    "   = 3^{3-2}(3)(3+1)\n",
    "\\end{align}\n",
    "$\n",
    "\n",
    "$\n",
    "\\begin{align}\n",
    "  \\implies 24 = 24\n",
    "\\end{align}\n",
    "$"
   ]
  },
  {
   "cell_type": "markdown",
   "metadata": {},
   "source": [
    "c) for $n=4, k=1,2,3,4$\n",
    "\n",
    "$\n",
    "\\begin{align}\n",
    "  \\implies {4 \\choose 1} \\cdot 1^2 \n",
    "   + {4 \\choose 2} \\cdot 2^2 \n",
    "   + {4 \\choose 3} \\cdot 3^2\n",
    "   + {4 \\choose 4} \\cdot 4^2\n",
    "   = 4^{4-2}(4)(4+1)\n",
    "\\end{align}\n",
    "$\n",
    "\n",
    "$\n",
    "\\begin{align}\n",
    "  \\implies 80 = 80\n",
    "\\end{align}\n",
    "$"
   ]
  },
  {
   "cell_type": "markdown",
   "metadata": {},
   "source": [
    "c) for $n=5, k=1,2,3,4,5$\n",
    "\n",
    "$\n",
    "\\begin{align}\n",
    "  \\implies {5 \\choose 1} \\cdot 1^2 \n",
    "   + {5 \\choose 2} \\cdot 2^2 \n",
    "   + {5 \\choose 3} \\cdot 3^2\n",
    "   + {5 \\choose 4} \\cdot 4^2\n",
    "   + {5 \\choose 4} \\cdot 5^2\n",
    "   = 5^{5-2}(5)(5+1)\n",
    "\\end{align}\n",
    "$\n",
    "\n",
    "$\n",
    "\\begin{align}\n",
    "  \\implies 240 = 240\n",
    "\\end{align}\n",
    "$"
   ]
  },
  {
   "cell_type": "markdown",
   "metadata": {},
   "source": [
    "Combinatorial Proof:\n",
    "\n",
    "$k$ members (of the committee) can be selected from n people ${n \\choose k}$ ways. One chairperson and one secretary can be selected from the committee (both can be the same $n \\choose k$$k^2$ ways.\n",
    "\n",
    "If the chair and the secretary are the same person then they can be $n 2^{n-1}$ because there are two possible states, in the group and out of the group and the exponent represents the total of the group less the chair and secretary. Finally the n value represents the total number of ways this can occur.\n",
    "\n",
    "A chair person can be selected from a group of $n$ people $n \\choose 1$ ways, and a secratary $n-1 \\choose 1$ ways, which is the same as saying $n(n-1)$. \n",
    "\n",
    "Similar to above the remaining members can be selected $2^{n-2}$ ways. This results in $n(n-1)2^{n-2}$ for secretary and chair as different people.\n",
    "\n",
    "Finally combining the two scenarios we get: $n 2^{n-1} + n(n-1)2^{n-2}$, which simplifies to $2^{n-2}(n+1)$\n"
   ]
  },
  {
   "cell_type": "markdown",
   "metadata": {},
   "source": [
    "#### Chapter 2:"
   ]
  },
  {
   "cell_type": "markdown",
   "metadata": {},
   "source": [
    "###### Question 30:\n",
    "\n",
    "a) Rebecca and Elise paired: <br>\n",
    "-total choices for schools: $8 \\choose 4$ and $9 \\choose 4$ <br>\n",
    "-after rebecca and elise are paired off: $7 \\choose 3$ and $8 \\choose 3$ <br>\n",
    "-players can be paired: $4!$ and rebecca & elise: $3!$ <br>\n",
    "\n",
    "$\n",
    "\\begin{align}\n",
    "  P(R \\cap E) = \\dfrac{outcomes \\hspace{1mm} where \\hspace{1mm} \n",
    "  rebecca \\hspace{1mm} and \\hspace{1mm} elise \\hspace{1mm} paired}{outcomes}\n",
    "\\end{align}\n",
    "$\n",
    "\n",
    "$\n",
    "\\begin{align}\n",
    "  P(R \\cap E) = \\dfrac{{7 \\choose 3} {8 \\choose 3}3!}{{8 \\choose 4} {9 \\choose 4}4!}\n",
    "  = \\dfrac{1}{18}\n",
    "\\end{align}\n",
    "$"
   ]
  },
  {
   "cell_type": "markdown",
   "metadata": {},
   "source": [
    "###### *calculations using python"
   ]
  },
  {
   "cell_type": "code",
   "execution_count": 54,
   "metadata": {},
   "outputs": [],
   "source": [
    "total_choices = comb(8,4)*comb(9,4)\n",
    "rebecca, elise = comb(7,3), comb(8,3)"
   ]
  },
  {
   "cell_type": "code",
   "execution_count": 61,
   "metadata": {},
   "outputs": [
    {
     "data": {
      "text/plain": [
       "0.05555555555555555"
      ]
     },
     "execution_count": 61,
     "metadata": {},
     "output_type": "execute_result"
    }
   ],
   "source": [
    "# 0.05555 = 1/18\n",
    "\n",
    "(math.factorial(3)*rebecca*elise)/(total_choices*math.factorial(4))"
   ]
  },
  {
   "cell_type": "markdown",
   "metadata": {},
   "source": [
    "b) Rebecca and Elise will not play eachother (not paired): <br>\n",
    "This time subtract off the number of ways rebecca and elise are paird $3!$ and everyone is paired $4!$\n",
    "\n",
    "$\n",
    "\\begin{align}\n",
    "  P(R \\cap E) = \\dfrac{{7 \\choose 3} {8 \\choose 3}}{{8 \\choose 4} {9 \\choose 4}} \\cdot\n",
    "  1 - \\dfrac{3!}{4!}\n",
    "  = \\dfrac{1}{6}\n",
    "\\end{align}\n",
    "$"
   ]
  },
  {
   "cell_type": "code",
   "execution_count": 63,
   "metadata": {},
   "outputs": [
    {
     "data": {
      "text/plain": [
       "0.16666666666666666"
      ]
     },
     "execution_count": 63,
     "metadata": {},
     "output_type": "execute_result"
    }
   ],
   "source": [
    "# part b calculation\n",
    "\n",
    "(rebecca*elise)/(total_choices)*(1 - (math.factorial(3)/math.factorial(4)))"
   ]
  },
  {
   "cell_type": "markdown",
   "metadata": {},
   "source": [
    "c) either rebecca or elise\n",
    "-start by calculating R and not E and E and not R, then add these two probabilities together\n",
    "\n",
    "$\n",
    "\\begin{align}\n",
    "  P(R \\cap E^c) = \\dfrac{{7 \\choose 3} }{{8 \\choose 4} } \\cdot\n",
    "  1 - \\dfrac{{8 \\choose 3}}{{9 \\choose 4}}\n",
    "  = \\dfrac{5}{18}\n",
    "\\end{align}\n",
    "$\n",
    "\n",
    "$\n",
    "\\begin{align}\n",
    "  P(R^c \\cap E) = 1 - \\dfrac{{7 \\choose 3} }{{8 \\choose 4} } \\cdot\n",
    "  \\dfrac{{8 \\choose 3}}{{9 \\choose 4}}\n",
    "  = \\dfrac{4}{18}\n",
    "\\end{align}\n",
    "$\n",
    "\n",
    "$\n",
    "\\begin{align}\n",
    "  P(R \\cap E^c) + P(R^c \\cap E) = \\dfrac{5}{18} + \\dfrac{4}{18}\n",
    "  = \\dfrac{1}{2} \n",
    "\\end{align}\n",
    "$"
   ]
  },
  {
   "cell_type": "code",
   "execution_count": 70,
   "metadata": {},
   "outputs": [
    {
     "data": {
      "text/plain": [
       "0.5"
      ]
     },
     "execution_count": 70,
     "metadata": {},
     "output_type": "execute_result"
    }
   ],
   "source": [
    "r_not_e = (comb(7,3)/comb(8,4))*(1-((comb(8,3)/comb(9,4))))\n",
    "e_not_r = (1-(comb(7,3)/comb(8,4)))*((comb(8,3)/comb(9,4)))\n",
    "\n",
    "r_not_e + e_not_r"
   ]
  },
  {
   "cell_type": "markdown",
   "metadata": {},
   "source": [
    "##### Question T15\n",
    "\n",
    "An urn contains $M$ white and $N$ black balls. If a random sample size of $r$ is chosen, what is the probability that it contains $k$ white balls?\n",
    "\n",
    "-If $S$ is the sample space containing all possible choices or $r$, there are $M + N$ choices in $S$. <br>\n",
    "-$S$ consists of ${M+N \\choose r}$ total possibilities <br>\n",
    "-Since every outcome is equally likely: $P(E) = \\dfrac{E}{S}$ <br>\n",
    "-Since $M$ represents combinations of white balls, the event $k$ white balls are drawn is represented by $N \\choose k$ <br>\n",
    "-Also $N$ represents combinations of black balls: $M \\choose r-k $. $r$ is calculated for black balls by subtracting off $k$ balls chosen in previous statement <br>\n",
    "-$E$ = ${M \\choose k} {N \\choose r-k}$ <br>\n",
    "-Finally the probability of choosing $r$ balls from $M$ white and $N$ black is: <br>\n",
    "$P(E) = \\dfrac{{M \\choose k} {N \\choose r-k}}{{M+N \\choose r}}$"
   ]
  },
  {
   "cell_type": "markdown",
   "metadata": {},
   "source": [
    "##### Question 3: \n",
    "\n",
    "Consider flipping two fair m-sided dice and the random variable $X$ represents the sum of the 2 numbers you get. In this case the probability mass function for $X$ is:\n",
    "\n",
    "$\n",
    "\\begin{align}\n",
    "  p(x) = \\dfrac{m - |x - (m+1)|}{m^2}\n",
    "  , x = 2,...,2m\n",
    "\\end{align}\n",
    "$\n",
    "\n",
    "Show/disprove $p(x)$ is a valid pmf and that $E(X) = m + 1, Var(X) = \\dfrac{m^2-1}{2m}$"
   ]
  },
  {
   "cell_type": "markdown",
   "metadata": {},
   "source": [
    "To show $p(x)$ is a valid pmf we must show that \n",
    "\n",
    "1) it is non-negative<br>\n",
    "-We can see for any value $\\geq 2$ that the equation will always be non-negative <br>\n",
    "So the pmf satisfies this first requirement\n",
    "\n",
    "\n",
    "2) it sums to 1 for all values of $x$\n",
    "\n",
    "If we divide the pmf up into two parts:<br>\n",
    "${2,3,4,5,6,7}$ and ${8,9,10,11,12}$ we can represent the function like so:<br>\n",
    "\n",
    "$\n",
    "\\begin{align}\n",
    " \\sum_{x=2}^{m+1} \\dfrac{m + x - m - 1}{m^2} + \\sum_{m+2}^{2m} \\dfrac{m - x + m + 1}{m^2}\n",
    " = 1\n",
    "\\end{align}\n",
    "$\n",
    "\n",
    "Then you can see that:\n",
    "\n",
    "$\n",
    "\\begin{align}\n",
    "  2(\\dfrac{1}{m^2} + \\dfrac{2}{m^2} + \\dfrac{3}{m^2} +\n",
    "  \\dfrac{4}{m^2} + \\dfrac{5}{m^2}) + \\dfrac{6}{m^2} = 1\n",
    "\\end{align}\n",
    "$\n",
    "\n",
    "This can reduce to:\n",
    "\n",
    "$\n",
    "\\begin{align}\n",
    "  \\dfrac{36}{m^2}= 1\n",
    "\\end{align}\n",
    "$\n",
    "\n",
    "And we can see that 36 = $m^2$ if $m$=6, and that $\\dfrac{m^2}{m^2} = 1$\n",
    "\n",
    "Thus all values sum to 1.\n",
    "\n",
    "More generally we can see that: \n",
    "\n",
    "$\n",
    "\\begin{align}\n",
    "  2(\\dfrac{[1 + 2 +,...,+ m-1]}{m^2}) + \\dfrac{m}{m^2} = 1\n",
    "\\end{align}\n",
    "$\n",
    "\n",
    "The left term can be describe using a sequence, while we can reduce $m/m^2$ like so:\n",
    "\n",
    "$\n",
    "\\begin{align}\n",
    "  \\dfrac{2m(m-1)}{2m^2} + \\dfrac{1}{m} = 1\n",
    "\\end{align}\n",
    "$\n",
    "\n",
    "You can then reduce the fraction:\n",
    "\n",
    "$\n",
    "\\begin{align}\n",
    "  \\dfrac{m-1}{m} + \\dfrac{1}{m} = 1\n",
    "\\end{align}\n",
    "$\n",
    "\n",
    "You can then reduce it to show it equals 1:\n",
    "\n",
    "$\n",
    "\\begin{align}\n",
    "  \\dfrac{1}{m} + \\dfrac{m}{m} - \\dfrac{1}{m} = 1\n",
    "\\end{align}\n",
    "$\n",
    "\n",
    "$\n",
    "\\begin{align}\n",
    "  \\dfrac{m}{m} = 1\n",
    "\\end{align}\n",
    "$\n",
    "\n",
    "\n",
    "For $E(X)$:\n",
    "\n",
    "$\n",
    "\\begin{align}\n",
    "  \\sum(x) \\cdot p(x)\n",
    "\\end{align}\n",
    "$\n",
    "\n",
    "sum([2,3,4,5,6,7,8,9,10,11,12]) * 2([1/36, 2/26/, 3/36, 4/36, 5/36, 6/36]) = 7\n",
    "\n",
    "This is $m + 1$ if m = 6 and there are two die\n",
    "\n",
    "For $Var(X)$:\n",
    "\n",
    "Variance= $[E(x^2) - {E(x)}^2]$= 54.83 - 49 = 5.83\n",
    "\n",
    "\n"
   ]
  },
  {
   "cell_type": "markdown",
   "metadata": {},
   "source": [
    "Also this can be shown by calculating the pmf for arbitrary values of m as shown below in the code. \n",
    "\n",
    "For example if we take our original pmf function and input $m$ = 6 (a six sided die) we can plug it into our function below and iterate through all $X$, which are the random values of the sum of two 6-sided die in this case. When we sum up all of the values when inputting 2,3,4...12 we get 1, which confirms that this is a valid pmf for two six sided die. We can do the same for any arbitrary value of $m$. We have shown below that this can be done for $m$ = 6,10, and 21"
   ]
  },
  {
   "cell_type": "code",
   "execution_count": 67,
   "metadata": {},
   "outputs": [],
   "source": [
    "# x represents sum of numbers you get\n",
    "# m is sides of dice \n",
    "\n",
    "def pmf(x,m):\n",
    "    p_x = (m - abs(x-(m+1)))/m**2\n",
    "    return p_x\n",
    "\n",
    "def output_pmf(m):\n",
    "    x = m*2\n",
    "    P = []\n",
    "\n",
    "    for i in range(2,(x+1)):\n",
    "        P.append(pmf(i,x/2))\n",
    "        \n",
    "    return P"
   ]
  },
  {
   "cell_type": "code",
   "execution_count": 69,
   "metadata": {},
   "outputs": [
    {
     "data": {
      "text/plain": [
       "1.0000000000000002"
      ]
     },
     "execution_count": 69,
     "metadata": {},
     "output_type": "execute_result"
    }
   ],
   "source": [
    "sum(output_pmf(6))"
   ]
  },
  {
   "cell_type": "code",
   "execution_count": 70,
   "metadata": {},
   "outputs": [
    {
     "data": {
      "text/plain": [
       "1.0000000000000002"
      ]
     },
     "execution_count": 70,
     "metadata": {},
     "output_type": "execute_result"
    }
   ],
   "source": [
    "sum(output_pmf(10))"
   ]
  },
  {
   "cell_type": "code",
   "execution_count": 72,
   "metadata": {},
   "outputs": [
    {
     "data": {
      "text/plain": [
       "1.0"
      ]
     },
     "execution_count": 72,
     "metadata": {},
     "output_type": "execute_result"
    }
   ],
   "source": [
    "sum(output_pmf(21))"
   ]
  },
  {
   "cell_type": "code",
   "execution_count": 126,
   "metadata": {},
   "outputs": [
    {
     "data": {
      "image/png": "[encoded data removed]",
      "text/plain": [
       "<Figure size 360x360 with 1 Axes>"
      ]
     },
     "metadata": {
      "needs_background": "light"
     },
     "output_type": "display_data"
    }
   ],
   "source": [
    "p_x = output_pmf(6)\n",
    "die = list(range(1,7))\n",
    "dice_sum = [np.sum(i) for i in [x for x in product(die,repeat=2)]]\n",
    "dice_outcome = dict(Counter(dice_sum))\n",
    "cumulative_probs = np.cumsum(p_x)\n",
    "\n",
    "plt.figure(figsize=(5,5))\n",
    "plt.plot(list(dice_outcome), p_x, 'ro', ms=12, mec='g')\n",
    "plt.vlines(list(dice_outcome),0,p_x)\n",
    "plt.show()"
   ]
  },
  {
   "cell_type": "code",
   "execution_count": 127,
   "metadata": {},
   "outputs": [
    {
     "data": {
      "image/png": "[encoded data removed]",
      "text/plain": [
       "<Figure size 360x360 with 1 Axes>"
      ]
     },
     "metadata": {
      "needs_background": "light"
     },
     "output_type": "display_data"
    }
   ],
   "source": [
    "plt.figure(figsize=(5,5))\n",
    "plt.plot(list(dice_outcome), cumulative_probs, 'ro', ms=12, mec='g')\n",
    "plt.step(list(dice_outcome),cumulative_probs, where='post')\n",
    "plt.xticks(list(dice_outcome))\n",
    "plt.show()"
   ]
  },
  {
   "cell_type": "code",
   "execution_count": 130,
   "metadata": {},
   "outputs": [
    {
     "data": {
      "text/plain": [
       "6.999999999999998"
      ]
     },
     "execution_count": 130,
     "metadata": {},
     "output_type": "execute_result"
    }
   ],
   "source": [
    "expected_value = np.sum(np.multiply(list(dice_outcome),p_x))\n",
    "expected_value"
   ]
  },
  {
   "cell_type": "code",
   "execution_count": 131,
   "metadata": {},
   "outputs": [
    {
     "data": {
      "text/plain": [
       "5.833333333333333"
      ]
     },
     "execution_count": 131,
     "metadata": {},
     "output_type": "execute_result"
    }
   ],
   "source": [
    "np.var(dice_sum)"
   ]
  },
  {
   "cell_type": "markdown",
   "metadata": {},
   "source": [
    "##### Question 4"
   ]
  },
  {
   "cell_type": "markdown",
   "metadata": {},
   "source": [
    "$E(X)$ and $Var(X)$ as $m$ goes to infinity:\n",
    "\n",
    "$E(X)$ will be the average of sums of dice as $m$ approaches infinity, and it will increase because the value of sides on the die will increase.\n",
    "\n",
    "$Var(X)$ will increase "
   ]
  },
  {
   "cell_type": "code",
   "execution_count": 133,
   "metadata": {},
   "outputs": [
    {
     "data": {
      "image/png": "[encoded data removed]",
      "text/plain": [
       "<Figure size 360x360 with 1 Axes>"
      ]
     },
     "metadata": {
      "needs_background": "light"
     },
     "output_type": "display_data"
    }
   ],
   "source": [
    "p_x = output_pmf(20)\n",
    "die = list(range(1,21))\n",
    "dice_sum = [np.sum(i) for i in [x for x in product(die,repeat=2)]]\n",
    "dice_outcome = dict(Counter(dice_sum))\n",
    "cumulative_probs = np.cumsum(p_x)\n",
    "\n",
    "plt.figure(figsize=(5,5))\n",
    "plt.plot(list(dice_outcome), p_x, 'ro', ms=12, mec='g')\n",
    "plt.vlines(list(dice_outcome),0,p_x)\n",
    "plt.show()"
   ]
  },
  {
   "cell_type": "code",
   "execution_count": 134,
   "metadata": {},
   "outputs": [
    {
     "data": {
      "image/png": "[encoded data removed]",
      "text/plain": [
       "<Figure size 360x360 with 1 Axes>"
      ]
     },
     "metadata": {
      "needs_background": "light"
     },
     "output_type": "display_data"
    }
   ],
   "source": [
    "plt.figure(figsize=(5,5))\n",
    "plt.plot(list(dice_outcome), cumulative_probs, 'ro', ms=12, mec='g')\n",
    "plt.step(list(dice_outcome),cumulative_probs, where='post')\n",
    "plt.xticks(list(dice_outcome))\n",
    "plt.show()"
   ]
  },
  {
   "cell_type": "code",
   "execution_count": 135,
   "metadata": {},
   "outputs": [
    {
     "name": "stdout",
     "output_type": "stream",
     "text": [
      "21.0\n",
      "66.5\n"
     ]
    }
   ],
   "source": [
    "expected_value = np.sum(np.multiply(list(dice_outcome),p_x))\n",
    "print(expected_value)\n",
    "print(np.var(dice_sum))"
   ]
  },
  {
   "cell_type": "code",
   "execution_count": null,
   "metadata": {},
   "outputs": [],
   "source": []
  }
 ],
 "metadata": {
  "kernelspec": {
   "display_name": "Python 3",
   "language": "python",
   "name": "python3"
  },
  "language_info": {
   "codemirror_mode": {
    "name": "ipython",
    "version": 3
   },
   "file_extension": ".py",
   "mimetype": "text/x-python",
   "name": "python",
   "nbconvert_exporter": "python",
   "pygments_lexer": "ipython3",
   "version": "3.8.5"
  }
 },
 "nbformat": 4,
 "nbformat_minor": 4
}
