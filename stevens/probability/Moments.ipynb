{
 "cells": [
  {
   "cell_type": "code",
   "execution_count": 16,
   "metadata": {},
   "outputs": [],
   "source": [
    "import numpy as np\n",
    "\n",
    "data1 = [12, 14, 14, 17, 18]\n",
    "data2 = [15, 15, 15, 15, 15]"
   ]
  },
  {
   "cell_type": "markdown",
   "metadata": {},
   "source": [
    "a) First Moment (Crude)\n",
    "\n",
    "$\n",
    "\\begin{align}\n",
    " \\frac{\\sum x_i}{n}\n",
    "\\end{align}\n",
    "$\n",
    "\n",
    "b) Second Moment (Crude)\n",
    "\n",
    "$\n",
    "\\begin{align}\n",
    " \\frac{\\sum x^2_i}{n}\n",
    "\\end{align}\n",
    "$\n",
    "\n",
    "c) Centered Second Moment\n",
    "\n",
    "$\n",
    "\\begin{align}\n",
    " \\frac{\\sum (x^2_i - u_1)}{n}\n",
    "\\end{align}\n",
    "$"
   ]
  },
  {
   "cell_type": "code",
   "execution_count": 42,
   "metadata": {},
   "outputs": [],
   "source": [
    "# mean\n",
    "def calcFirstMoment(data):\n",
    "    return sum(data)/len(data)\n",
    "\n",
    "def calcSecondMoment(data):\n",
    "    return sum([i**2 for i in data])/len(data)\n",
    "\n",
    "# variance\n",
    "def centeredSecondMoment(data):\n",
    "    return sum([(i-np.mean(data))**2 for i in data])/len(data)\n",
    "\n",
    "def calc_n_moment(data, n):\n",
    "    return sum([i**n for i in data])/len(data)\n",
    "\n",
    "def centered_n_moment(data, n):\n",
    "    return sum([(i-np.mean(data))**n for i in data])/len(data)"
   ]
  },
  {
   "cell_type": "code",
   "execution_count": 14,
   "metadata": {},
   "outputs": [
    {
     "name": "stdout",
     "output_type": "stream",
     "text": [
      "15.0 15.0\n"
     ]
    }
   ],
   "source": [
    "# the first moment of these two data sets are equal even though\n",
    "# the data is different\n",
    "\n",
    "print(calcFirstMoment(data1), calcFirstMoment(data2))"
   ]
  },
  {
   "cell_type": "code",
   "execution_count": 15,
   "metadata": {},
   "outputs": [
    {
     "name": "stdout",
     "output_type": "stream",
     "text": [
      "229.8 225.0\n"
     ]
    }
   ],
   "source": [
    "# the two datasets have the same first moment but \n",
    "# have different second moments bc the first dataset has\n",
    "# spread to it i.e. greater squared distance\n",
    "\n",
    "print(calcSecondMoment(data1), calcSecondMoment(data2))"
   ]
  },
  {
   "cell_type": "code",
   "execution_count": 36,
   "metadata": {},
   "outputs": [
    {
     "name": "stdout",
     "output_type": "stream",
     "text": [
      "4.8 0.0\n"
     ]
    }
   ],
   "source": [
    "# centered second moment, gives indication of the spread of the dataset by\n",
    "# subtracting off the first moment\n",
    "\n",
    "print(centeredSecondMoment(data1), centeredSecondMoment(data2))"
   ]
  },
  {
   "cell_type": "code",
   "execution_count": 45,
   "metadata": {},
   "outputs": [
    {
     "name": "stdout",
     "output_type": "stream",
     "text": [
      "3592.2 3375.0\n",
      "1.2 0.0\n"
     ]
    }
   ],
   "source": [
    "print(calc_n_moment(data1,3), calc_n_moment(data2,3))\n",
    "print(centered_n_moment(data1,3), centered_n_moment(data2,3))"
   ]
  },
  {
   "cell_type": "code",
   "execution_count": null,
   "metadata": {},
   "outputs": [],
   "source": []
  }
 ],
 "metadata": {
  "kernelspec": {
   "display_name": "Python 3",
   "language": "python",
   "name": "python3"
  },
  "language_info": {
   "codemirror_mode": {
    "name": "ipython",
    "version": 3
   },
   "file_extension": ".py",
   "mimetype": "text/x-python",
   "name": "python",
   "nbconvert_exporter": "python",
   "pygments_lexer": "ipython3",
   "version": "3.8.5"
  }
 },
 "nbformat": 4,
 "nbformat_minor": 4
}
