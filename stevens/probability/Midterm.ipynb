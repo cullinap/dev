{
 "cells": [
  {
   "cell_type": "code",
   "execution_count": 2,
   "metadata": {},
   "outputs": [],
   "source": [
    "import numpy as np\n",
    "from scipy.special import comb"
   ]
  },
  {
   "cell_type": "markdown",
   "metadata": {},
   "source": [
    "##### Question 1\n",
    "\n",
    "From a group of 8 women and 6 men, a committee consisting of 3 men and 3 women is to be formed. How many different committees are possible if 1 man and 1 woman refuse to serve together on the committee?"
   ]
  },
  {
   "cell_type": "code",
   "execution_count": 3,
   "metadata": {},
   "outputs": [
    {
     "data": {
      "text/plain": [
       "910.0"
      ]
     },
     "execution_count": 3,
     "metadata": {},
     "output_type": "execute_result"
    }
   ],
   "source": [
    "(comb(6,3)*comb(8,3)) - (comb(5,2)*comb(7,2))"
   ]
  },
  {
   "cell_type": "markdown",
   "metadata": {},
   "source": [
    "##### Question 2\n",
    "\n",
    "A hospital codes incoming patient according to whether they have insurance (1 if they do and 0 if they do not) and according to their condition, which is rated as good (g), fair (f), or serious (s). Consider an experiment that consists of the coding of such a patient.\n",
    "\n",
    "(a) Give the sample space of this experiment.\n",
    "\n",
    "(1g, 1f, 1s, 0g, 0f, 0s)\n",
    "\n",
    "Let every sample in sample space be of the form XY where X denotes insurance status and Y denotes patient condition.\n",
    "\n",
    "(b) Let 𝐴 be the event that the patient is in serious condition. Specify the outcomes in 𝐴. \n",
    "\n",
    "A = (1s,0s)\n",
    "If patient is serious then value of Y in XY is fixed and is s.\n",
    "\n",
    "c) Let 𝐵 be the event that the patient is uninsured. Specify the outcomes in B.\n",
    "\n",
    "B = (0g, 0f, 0s)\n",
    "If patient is uninsured then value of X in XY is fixed as 0.\n",
    "\n",
    "(d) Give all the outcomes in the event 𝐵𝑐 ∪ 𝐴.\n",
    "\n",
    "(B^c U A) = (1g, 1f, 1s, 0s), B^c = (1g, 1f, 1s)"
   ]
  },
  {
   "cell_type": "markdown",
   "metadata": {},
   "source": [
    "##### Question 3\n",
    "A parallel system functions whenever at least one of its components works. Consider a parallel system of 𝑛 components and suppose that each component works independently with probability 0.5. Find the conditional probability that component 1 works given that the system is functioning.\n",
    "\n",
    "0.5/(1-(0.5)^n)\n",
    "\n",
    "https://www.chegg.com/homework-help/questions-and-answers/parallel-system-functions-whenever-least-one-components-works-consider-parallel-system-n-c-q1600621"
   ]
  },
  {
   "cell_type": "markdown",
   "metadata": {},
   "source": [
    "##### Question 4\n",
    "\n",
    "A doctor wishes to recruit 5 patients for a test of a new drug. If the probability of a patient agreeing in 𝑝 = 0.2, what is the probability that exactly 15 patients must be asked before 5 agree to participate? If the random variable 𝑋 represents the number of patients that are asked until the 5 are found, what is the expected value 𝐸(𝑋) and variance 𝑉𝑎𝑟(𝑋)?\n",
    "\n",
    "https://www.chegg.com/homework-help/questions-and-answers/1-doctor-wishes-recruit-5-patients-test-new-drug-probability-patient-agreeing-p-02-probabi-q59742202"
   ]
  },
  {
   "cell_type": "markdown",
   "metadata": {},
   "source": [
    "###### Question 5\n",
    "\n",
    "Suppose that 8 balls are put into 4 boxes, with each ball independently being put in box 𝑖 with probability 𝑝 , ∑4 𝑝 = 1. Find the expected number of boxes that have at most 1 ball. What is the expected number\n",
    "𝑖 𝑖=1𝑖\n",
    "of boxes when a) 𝑝1 = 𝑝2 = 𝑝3 = 𝑝4 = 0.25 and b) 𝑝1 = 1, 𝑝2 = 𝑝3 = 𝑝4 = 0.\n",
    "\n",
    "https://www.chegg.com/homework-help/questions-and-answers/5-suppose-8-balls-put-4-boxes-ball-independently-put-box-probability-pu-1-find-expected-nu-q59815202\n",
    "\n",
    "https://www.slader.com/discussion/question/suppose-that-10-balls-are-put-into-5-boxes-with/#"
   ]
  },
  {
   "cell_type": "code",
   "execution_count": null,
   "metadata": {},
   "outputs": [],
   "source": []
  }
 ],
 "metadata": {
  "kernelspec": {
   "display_name": "Python 3",
   "language": "python",
   "name": "python3"
  },
  "language_info": {
   "codemirror_mode": {
    "name": "ipython",
    "version": 3
   },
   "file_extension": ".py",
   "mimetype": "text/x-python",
   "name": "python",
   "nbconvert_exporter": "python",
   "pygments_lexer": "ipython3",
   "version": "3.8.5"
  }
 },
 "nbformat": 4,
 "nbformat_minor": 4
}
