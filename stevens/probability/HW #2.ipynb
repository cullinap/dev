{
 "cells": [
  {
   "cell_type": "code",
   "execution_count": 60,
   "metadata": {},
   "outputs": [],
   "source": [
    "# import exponential\n",
    "import numpy as np\n",
    "import matplotlib.pyplot as plt\n",
    "import math\n",
    "from scipy.special import comb"
   ]
  },
  {
   "cell_type": "markdown",
   "metadata": {},
   "source": [
    "##### Question 3.19\n",
    "\n",
    "a)\n",
    "\n",
    "$\n",
    "\\begin{align}\n",
    "    P(W|A) = \\dfrac{P(W\\cap A)}{A}\n",
    "\\end{align}\n",
    "$\n",
    "\n",
    "$\n",
    "\\begin{align}\n",
    "     = \\dfrac{P(A|W)P(A)}{P(A|W)P(W) + P(A|M)P(M)}\n",
    "\\end{align}\n",
    "$\n",
    "\n",
    "$\n",
    "\\begin{align}\n",
    "    = \\dfrac{(0.48)(0.38)}{(0.48)(0.38) + (0.37)(0.62)}\n",
    "\\end{align}\n",
    "$\n",
    "\n",
    "$\n",
    "\\begin{align}\n",
    "    = \\dfrac{0.1824}{0.4118}\n",
    "\\end{align}\n",
    "$\n",
    "\n",
    "$\n",
    "\\begin{align}\n",
    "    = .4429 = 44.29\\%\n",
    "\\end{align}\n",
    "$\n",
    "\n",
    "b)\n",
    "\n",
    "$\n",
    "\\begin{align}\n",
    "    = P(A|W)P(W) + P(A|M)P(M)\n",
    "\\end{align}\n",
    "$\n",
    "\n",
    "$\n",
    "\\begin{align}\n",
    "    = (0.48)(0.38) + (0.37)(0.62)\n",
    "\\end{align}\n",
    "$\n",
    "\n",
    "$\n",
    "\\begin{align}\n",
    "    = 0.4118 = 41.18\\%\n",
    "\\end{align}\n",
    "$"
   ]
  },
  {
   "cell_type": "markdown",
   "metadata": {},
   "source": [
    "##### Question 3.71\n",
    "\n",
    "The probability for each team to win a game is $p=\\dfrac{1}{2}$ since each team is equally likely of winning or losing each game. Because each game is independent the probability of winning or losing 3 games is $\\dfrac{1}{2} \\cdot \\dfrac{1}{2} \\cdot \\dfrac{1}{2} = \\dfrac{1}{8}$\n",
    "\n",
    "The probability of winning 2 games or 1 game are ${3 \\choose 2} \\cdot \\dfrac{1}{8} = \\dfrac{3}{8}$ and ${3 \\choose 1} \\cdot \\dfrac{1}{8} = \\dfrac{3}{8}$ respectively\n",
    "\n",
    "https://www.chegg.com/homework-help/morning-september-30-1982-won-lost-records-three-leading-bas-chapter-3-problem-71p-solution-9780321794772-exc"
   ]
  },
  {
   "cell_type": "code",
   "execution_count": 42,
   "metadata": {},
   "outputs": [
    {
     "name": "stdout",
     "output_type": "stream",
     "text": [
      "(3, 0, 3, 90, 86, 89), | (90, ['braves'])\n",
      "(3, 1, 2, 90, 87, 88), | (90, ['braves'])\n",
      "(3, 2, 1, 90, 88, 87), | (90, ['braves'])\n",
      "(3, 3, 0, 90, 89, 86), | (90, ['braves'])\n",
      "(2, 0, 3, 89, 86, 89), | (89, ['braves', 'dodgers'])\n",
      "(2, 1, 2, 89, 87, 88), | (89, ['braves'])\n",
      "(2, 2, 1, 89, 88, 87), | (89, ['braves'])\n",
      "(2, 3, 0, 89, 89, 86), | (89, ['braves', 'giants'])\n",
      "(1, 0, 3, 88, 86, 89), | (89, ['dodgers'])\n",
      "(1, 1, 2, 88, 87, 88), | (88, ['braves', 'dodgers'])\n",
      "(1, 2, 1, 88, 88, 87), | (88, ['braves', 'giants'])\n",
      "(1, 3, 0, 88, 89, 86), | (89, ['giants'])\n",
      "(0, 0, 3, 87, 86, 89), | (89, ['dodgers'])\n",
      "(0, 1, 2, 87, 87, 88), | (88, ['dodgers'])\n",
      "(0, 2, 1, 87, 88, 87), | (88, ['giants'])\n",
      "(0, 3, 0, 87, 89, 86), | (89, ['giants'])\n"
     ]
    }
   ],
   "source": [
    "braves = 87\n",
    "giants = 86\n",
    "dodgers = 86\n",
    "total = {}\n",
    "iteration = 0\n",
    "\n",
    "for i in reversed(range(4)):\n",
    "    braves_wins = braves\n",
    "    giants_wins = giants\n",
    "    dodgers_wins = dodgers\n",
    "    for j,k in zip(range(4),reversed(range(4))):\n",
    "        braves_wins = braves + i\n",
    "        giants_wins = giants + j\n",
    "        dodgers_wins = dodgers + k\n",
    "        records = {'braves': braves_wins, 'giants': giants_wins, 'dodgers': dodgers_wins}\n",
    "        win = max(braves_wins, giants_wins, dodgers_wins)\n",
    "        winner = []\n",
    "        for x,y in records.items():\n",
    "            if y == win:\n",
    "                winner.append(x)\n",
    "        iteration += 1\n",
    "        total[iteration] = winner\n",
    "        print(f'{i,j,k, braves_wins, giants_wins, dodgers_wins}, | {win, winner}')"
   ]
  },
  {
   "cell_type": "code",
   "execution_count": 57,
   "metadata": {},
   "outputs": [],
   "source": [
    "braves = []\n",
    "giants = []\n",
    "dodgers = []\n",
    "\n",
    "for t,i in total.items():\n",
    "    for j in i:\n",
    "        if j == 'braves':\n",
    "            braves.append(j)\n",
    "        elif j == 'giants':\n",
    "            giants.append(j)\n",
    "        else:\n",
    "            dodgers.append(j)"
   ]
  },
  {
   "cell_type": "code",
   "execution_count": 59,
   "metadata": {},
   "outputs": [
    {
     "data": {
      "text/plain": [
       "5"
      ]
     },
     "execution_count": 59,
     "metadata": {},
     "output_type": "execute_result"
    }
   ],
   "source": [
    "len(dodgers)"
   ]
  },
  {
   "cell_type": "markdown",
   "metadata": {},
   "source": [
    "##### Question 4.52\n",
    "Poisson distribution"
   ]
  },
  {
   "cell_type": "code",
   "execution_count": null,
   "metadata": {},
   "outputs": [],
   "source": []
  },
  {
   "cell_type": "markdown",
   "metadata": {},
   "source": [
    "##### Question 4.79\n",
    "\n",
    "Hypergeometric random variable"
   ]
  },
  {
   "cell_type": "code",
   "execution_count": 6,
   "metadata": {},
   "outputs": [
    {
     "data": {
      "text/plain": [
       "0.5223047493549781"
      ]
     },
     "execution_count": 6,
     "metadata": {},
     "output_type": "execute_result"
    }
   ],
   "source": [
    "# part a\n",
    "x_0 = (comb(6,0)*comb(94,10))/comb(100,10); x_0"
   ]
  },
  {
   "cell_type": "code",
   "execution_count": 7,
   "metadata": {},
   "outputs": [
    {
     "data": {
      "text/plain": [
       "0.012551075774856923"
      ]
     },
     "execution_count": 7,
     "metadata": {},
     "output_type": "execute_result"
    }
   ],
   "source": [
    "# part b\n",
    "\n",
    "x_1 = (comb(6,1)*comb(94,9))/comb(100,10)\n",
    "x_2 = (comb(6,2)*comb(94,8))/comb(100,10)\n",
    "\n",
    "1 - (x_0 + x_1 + x_2)"
   ]
  },
  {
   "cell_type": "code",
   "execution_count": 9,
   "metadata": {},
   "outputs": [
    {
     "data": {
      "text/plain": [
       "0.0964584694431218"
      ]
     },
     "execution_count": 9,
     "metadata": {},
     "output_type": "execute_result"
    }
   ],
   "source": [
    "x_2"
   ]
  },
  {
   "cell_type": "code",
   "execution_count": null,
   "metadata": {},
   "outputs": [],
   "source": []
  },
  {
   "cell_type": "markdown",
   "metadata": {},
   "source": [
    "##### Question 4.84"
   ]
  },
  {
   "cell_type": "markdown",
   "metadata": {},
   "source": [
    "###### Question 3"
   ]
  },
  {
   "cell_type": "code",
   "execution_count": 61,
   "metadata": {},
   "outputs": [
    {
     "data": {
      "image/png": "[encoded data removed]",
      "text/plain": [
       "<Figure size 432x288 with 1 Axes>"
      ]
     },
     "metadata": {
      "needs_background": "light"
     },
     "output_type": "display_data"
    }
   ],
   "source": [
    "# Using exponential() method\n",
    "gfg = np.random.exponential(3.45, 10000)\n",
    "  \n",
    "count, bins, ignored = plt.hist(gfg, 14, density = True)\n",
    "plt.show()"
   ]
  },
  {
   "cell_type": "markdown",
   "metadata": {},
   "source": [
    "###### Question 5.4"
   ]
  },
  {
   "cell_type": "markdown",
   "metadata": {},
   "source": [
    "##### Question 5.8"
   ]
  },
  {
   "cell_type": "markdown",
   "metadata": {},
   "source": [
    "##### Qurdyion 5.20"
   ]
  },
  {
   "cell_type": "markdown",
   "metadata": {},
   "source": [
    "##### Question 5.36"
   ]
  },
  {
   "cell_type": "markdown",
   "metadata": {},
   "source": [
    "###### Questoin 5.40"
   ]
  },
  {
   "cell_type": "code",
   "execution_count": null,
   "metadata": {},
   "outputs": [],
   "source": []
  }
 ],
 "metadata": {
  "kernelspec": {
   "display_name": "Python 3",
   "language": "python",
   "name": "python3"
  },
  "language_info": {
   "codemirror_mode": {
    "name": "ipython",
    "version": 3
   },
   "file_extension": ".py",
   "mimetype": "text/x-python",
   "name": "python",
   "nbconvert_exporter": "python",
   "pygments_lexer": "ipython3",
   "version": "3.8.5"
  }
 },
 "nbformat": 4,
 "nbformat_minor": 4
}
