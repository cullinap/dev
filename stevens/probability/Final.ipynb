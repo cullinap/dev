{
 "cells": [
  {
   "cell_type": "code",
   "execution_count": 1,
   "metadata": {},
   "outputs": [],
   "source": [
    "import math\n",
    "from math import factorial as fact\n",
    "from scipy.special import comb\n",
    "from itertools import *\n",
    "import numpy as np\n",
    "from collections import Counter\n",
    "import torch\n",
    "import matplotlib.pyplot as plt"
   ]
  },
  {
   "cell_type": "markdown",
   "metadata": {},
   "source": [
    "##### Question 1\n",
    "\n",
    "Suppose that only 25% of all drivers come to a complete stop at an intersection having flashing red lights in all directions when no other cars are visible. What is the probability that, of 20 randomly chosen drivers coming to an intersection under these conditions, at least 2 will come to a complete stop?\n",
    "\n",
    "The probability of an event, $p$, occuring exactly $r$ times\n",
    "\n",
    "$\n",
    "\\begin{align}\n",
    " {n \\choose r} \\cdot p^r \\cdot (1 - p)^{n-r} \n",
    "\\end{align}\n",
    "$\n",
    "\n",
    "$\n",
    "\\begin{align}\n",
    " P(X \\geq 2) = 1 - P(X < 2)\n",
    "\\end{align}\n",
    "$\n",
    "\n",
    "$\n",
    "\\begin{align}\n",
    " P(X \\geq 2) = 1 - [{20 \\choose 0} \\cdot (0.25)^0 \\cdot (1 - 0.25)^{20-0} + {20 \\choose 1} \\cdot (0.25)^1 \\cdot (1 - 0.25)^{20-1} + {20 \\choose 2} \\cdot (0.25)^2 \\cdot (1 - 0.25)^{20-2}]\n",
    "\\end{align}\n",
    "$"
   ]
  },
  {
   "cell_type": "code",
   "execution_count": 34,
   "metadata": {},
   "outputs": [
    {
     "name": "stdout",
     "output_type": "stream",
     "text": [
      "[0.0031712119389339932, 0.02114141292622662, 0.06694780759971763]\n",
      "\n",
      "0.9087395675351218\n"
     ]
    }
   ],
   "source": [
    "tot = []\n",
    "\n",
    "for i in range(3):\n",
    "    tot.append(comb(20,i)*((0.25)**i)*(1-0.25)**(20-i))\n",
    "\n",
    "print(tot)\n",
    "print('')\n",
    "print(1 - sum(tot))\n",
    "\n"
   ]
  },
  {
   "cell_type": "markdown",
   "metadata": {},
   "source": [
    "##### Question 2\n",
    "\n",
    "Let 𝑋 denote the amount of time a randomly selected student needs to finish this test and suppose that the cdf of 𝑋 is given by:\n",
    "\n",
    "$\n",
    "F(x) = \n",
    "\\begin{cases} \n",
    "  0 & x < 0 \\\\\n",
    "  \\frac{x^2}{4} & 0\\leq x < 2 \\\\\n",
    "  1 & x \\geq 2 \n",
    "\\end{cases}\n",
    "$\n",
    "\n",
    "Estimate:"
   ]
  },
  {
   "cell_type": "markdown",
   "metadata": {},
   "source": [
    "(a) $ P(X \\leq 1) $\n",
    "\n",
    "$ P(X \\leq 1) = F(1) $\n",
    "\n",
    "$ \\dfrac{1^2}{4} = 0.2500$"
   ]
  },
  {
   "cell_type": "markdown",
   "metadata": {},
   "source": [
    "(b) $ P(0.5 \\leq X \\leq 1) $\n",
    "\n",
    "$ P(0.5 \\leq X \\leq 1) = F(1) - F(0.5) $\n",
    "\n",
    "$ = \\dfrac{1^2}{4} - \\dfrac{0.5^2}{4} = 0.2500 - 0.0625 = 0.1875$"
   ]
  },
  {
   "cell_type": "markdown",
   "metadata": {},
   "source": [
    "(c) The pdf of $ X, f(x) $\n",
    "\n",
    "$\n",
    "= \n",
    "\\begin{cases} \n",
    "  \\dfrac{d}{dx} (0) & x < 0 \\\\\n",
    "  \\dfrac{d}{dx} (\\frac{x^2}{4}) & 0\\leq x < 2 \\\\\n",
    "  \\dfrac{d}{dx} (1) & x \\geq 2 \n",
    "\\end{cases}\n",
    "$\n",
    "\n",
    "$\n",
    "= \n",
    "\\begin{cases} \n",
    "  0 & x < 0\\\\\n",
    "  \\dfrac{d}{dx} (\\frac{x^2}{4}) =  \\dfrac{x}{2} & 0\\leq x < 2 \\\\\n",
    "  0 & x \\geq 2 \n",
    "\\end{cases}\n",
    "$\n",
    "\n",
    "The PDF is:\n",
    "\n",
    "$\n",
    "= \n",
    "\\begin{cases} \n",
    "  \\dfrac{x}{2} & 0\\leq x < 2 \\\\\n",
    "  0 & otherwise\n",
    "\\end{cases}\n",
    "$"
   ]
  },
  {
   "cell_type": "markdown",
   "metadata": {},
   "source": [
    "(d) The expected value and the variance of $ X $\n",
    "\n",
    "$\n",
    "E[X]= \n",
    "  \\int_{0}^{2} x \\cdot \\dfrac{x}{2} \\,dx + \\int_{0}^{2} x \\cdot 0 \\,dx\n",
    "$\n",
    "\n",
    "$\n",
    "= \n",
    "  \\dfrac{1}{2} \\int_{0}^{2} x^2 \\,dx\n",
    "$\n",
    "\n",
    "$\n",
    "= \n",
    "  \\dfrac{1}{2} \\dfrac{x^3}{3}|^2_0\n",
    "$\n",
    "\n",
    "$\n",
    "= \n",
    "  \\dfrac{1}{2x^3} [2^3 - 0]\n",
    "$\n",
    "\n",
    "$\n",
    "= \n",
    "  \\dfrac{4}{3}\n",
    "$\n",
    "\n",
    "The variance is:\n",
    "\n",
    "$\n",
    "    Var(X) = E[X^2] - E[X]^2\n",
    "$\n",
    "\n",
    "$\n",
    "  E[X^2] = \\int_{0}^{2} x^2 \\cdot \\dfrac{x}{2}  \\,dx = \n",
    "  \\dfrac{1}{2} \\int_{0}^{2} x^3 \\,dx\n",
    "$\n",
    "\n",
    "$\n",
    "  = \\dfrac{1}{2} \\cdot \\dfrac{x^4}{4} |^2_0 = \\dfrac{1}{8} \\cdot 16 = 2\n",
    "$\n",
    "\n",
    "$\n",
    "    Var(X) = 2 - (\\dfrac{4}{3})^2\n",
    "$\n",
    "\n",
    "$\n",
    "    Var(X) = \\dfrac{2}{9}\n",
    "$\n"
   ]
  },
  {
   "cell_type": "code",
   "execution_count": null,
   "metadata": {},
   "outputs": [],
   "source": []
  }
 ],
 "metadata": {
  "kernelspec": {
   "display_name": "Python 3",
   "language": "python",
   "name": "python3"
  },
  "language_info": {
   "codemirror_mode": {
    "name": "ipython",
    "version": 3
   },
   "file_extension": ".py",
   "mimetype": "text/x-python",
   "name": "python",
   "nbconvert_exporter": "python",
   "pygments_lexer": "ipython3",
   "version": "3.8.5"
  }
 },
 "nbformat": 4,
 "nbformat_minor": 4
}
