{
 "cells": [
  {
   "cell_type": "code",
   "execution_count": 1,
   "metadata": {},
   "outputs": [],
   "source": [
    "import math\n",
    "from math import factorial as fact\n",
    "from scipy.special import comb\n",
    "from itertools import *\n",
    "import numpy as np\n",
    "from collections import Counter\n",
    "import torch\n",
    "import matplotlib.pyplot as plt"
   ]
  },
  {
   "cell_type": "markdown",
   "metadata": {},
   "source": [
    "##### Question 1\n",
    "\n",
    "Suppose that only 25% of all drivers come to a complete stop at an intersection having flashing red lights in all directions when no other cars are visible. What is the probability that, of 20 randomly chosen drivers coming to an intersection under these conditions, at least 2 will come to a complete stop?\n",
    "\n",
    "The probability of an event, $p$, occuring exactly $r$ times\n",
    "\n",
    "$\n",
    "\\begin{align}\n",
    " {n \\choose r} \\cdot p^r \\cdot (1 - p)^{n-r} \n",
    "\\end{align}\n",
    "$\n",
    "\n",
    "$\n",
    "\\begin{align}\n",
    " P(X \\geq 2) = 1 - P(X < 2)\n",
    "\\end{align}\n",
    "$\n",
    "\n",
    "$\n",
    "\\begin{align}\n",
    " P(X \\geq 2) = 1 - [{20 \\choose 0} \\cdot (0.25)^0 \\cdot (1 - 0.25)^{20-0} + {20 \\choose 1} \\cdot (0.25)^1 \\cdot (1 - 0.25)^{20-1} + {20 \\choose 2} \\cdot (0.25)^2 \\cdot (1 - 0.25)^{20-2}]\n",
    "\\end{align}\n",
    "$"
   ]
  },
  {
   "cell_type": "code",
   "execution_count": 28,
   "metadata": {},
   "outputs": [
    {
     "name": "stdout",
     "output_type": "stream",
     "text": [
      "[0.0031712119389339932, 0.02114141292622662, 0.06694780759971763]\n",
      "\n",
      "0.9087395675351218\n"
     ]
    }
   ],
   "source": [
    "tot = []\n",
    "\n",
    "for i in range(3):\n",
    "    tot.append(comb(20,i)*((0.25)**i)*(1-0.25)**(20-i))\n",
    "\n",
    "print(tot)\n",
    "print('')\n",
    "print(1 - sum(tot))"
   ]
  },
  {
   "cell_type": "markdown",
   "metadata": {},
   "source": [
    "##### Question 1\n",
    "\n",
    "Let 𝑋 denote the amount of time a randomly selected student needs to finish this test and suppose that the cdf of 𝑋 is given by:\n",
    "\n",
    "$\n",
    "F(x) = \n",
    "\\begin{cases} \n",
    "  0 & x < 0 \\\\\n",
    "  \\frac{x^2}{4} & 0\\leq x < 2 \\\\\n",
    "  1 & x \\geq 2 \n",
    "\\end{cases}\n",
    "$\n",
    "\n",
    "Estimate:"
   ]
  },
  {
   "cell_type": "markdown",
   "metadata": {},
   "source": [
    "(a) $ P(X \\leq 1) $\n",
    "\n",
    "$ P(X \\leq 1) = F(1) $\n",
    "\n",
    "$ \\dfrac{1^2}{4} = 0.2500$"
   ]
  },
  {
   "cell_type": "markdown",
   "metadata": {},
   "source": [
    "(b) $ P(0.5 \\leq X \\leq 1) $\n",
    "\n",
    "$ P(0.5 \\leq X \\leq 1) = F(1) - F(0.5) $\n",
    "\n",
    "$ = \\dfrac{1^2}{4} - \\dfrac{0.5^2}{4} = 0.2500 - 0.0625 = 0.1875$"
   ]
  },
  {
   "cell_type": "markdown",
   "metadata": {},
   "source": [
    "(c) The pdf of $ X, f(x) $"
   ]
  },
  {
   "cell_type": "code",
   "execution_count": null,
   "metadata": {},
   "outputs": [],
   "source": []
  }
 ],
 "metadata": {
  "kernelspec": {
   "display_name": "Python 3",
   "language": "python",
   "name": "python3"
  },
  "language_info": {
   "codemirror_mode": {
    "name": "ipython",
    "version": 3
   },
   "file_extension": ".py",
   "mimetype": "text/x-python",
   "name": "python",
   "nbconvert_exporter": "python",
   "pygments_lexer": "ipython3",
   "version": "3.8.5"
  }
 },
 "nbformat": 4,
 "nbformat_minor": 4
}
