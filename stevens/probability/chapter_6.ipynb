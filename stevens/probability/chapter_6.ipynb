{
 "cells": [
  {
   "cell_type": "markdown",
   "metadata": {},
   "source": [
    "pg 294 - chapter 6\n",
    "\n",
    "Suppose that 3 balls are chosen without replacement from an um consisting of 5 white and 8 red balls. Let Xi equal 1 if the ith ball selected is white, and let it equal 0 otherwise. Give the joint probability mass function of\n",
    "\n",
    "(a) Xi,X2; <br>\n",
    "(b) Xi,X2,X3."
   ]
  },
  {
   "cell_type": "code",
   "execution_count": null,
   "metadata": {},
   "outputs": [],
   "source": []
  }
 ],
 "metadata": {
  "kernelspec": {
   "display_name": "Python 3",
   "language": "python",
   "name": "python3"
  },
  "language_info": {
   "codemirror_mode": {
    "name": "ipython",
    "version": 3
   },
   "file_extension": ".py",
   "mimetype": "text/x-python",
   "name": "python",
   "nbconvert_exporter": "python",
   "pygments_lexer": "ipython3",
   "version": "3.8.5"
  }
 },
 "nbformat": 4,
 "nbformat_minor": 4
}
