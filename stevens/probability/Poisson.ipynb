{
 "cells": [
  {
   "cell_type": "code",
   "execution_count": 33,
   "metadata": {},
   "outputs": [],
   "source": [
    "import math\n",
    "import numpy as np\n",
    "import matplotlib.pyplot as plt"
   ]
  },
  {
   "cell_type": "code",
   "execution_count": 55,
   "metadata": {},
   "outputs": [
    {
     "name": "stdout",
     "output_type": "stream",
     "text": [
      "0 0.0\n",
      "1 0.06131324019524039\n",
      "2 0.1804470443154836\n",
      "3 0.22404180765538775\n",
      "4 0.19536681481316456\n",
      "5 0.14037389581428056\n",
      "6 0.08923507835998891\n",
      "7 0.052129252364199845\n",
      "8 0.02862614424768101\n",
      "9 0.014994291196531567\n",
      "10 0.007566654960414142\n",
      "11 0.003704993958636162\n",
      "12 0.0017695331577585243\n",
      "13 0.000827657284522896\n",
      "14 0.0003802858008700317\n",
      "15 0.000172070055282277\n",
      "16 7.682401260834756e-05\n",
      "17 3.389919002065254e-05\n",
      "18 1.4803540311860676e-05\n",
      "19 6.404930127511353e-06\n",
      "\n",
      "1.001080695852511\n"
     ]
    }
   ],
   "source": [
    "j = 0\n",
    "y = []\n",
    "for i in range(0,20):\n",
    "    x = math.exp(-i)*i**3/math.factorial(3)\n",
    "    print(i, x)\n",
    "    j+=x\n",
    "    y.append(j)\n",
    "    \n",
    "print('')\n",
    "print(j)"
   ]
  },
  {
   "cell_type": "code",
   "execution_count": 54,
   "metadata": {},
   "outputs": [
    {
     "data": {
      "image/png": "[encoded data removed]",
      "text/plain": [
       "<Figure size 432x288 with 1 Axes>"
      ]
     },
     "metadata": {
      "needs_background": "light"
     },
     "output_type": "display_data"
    }
   ],
   "source": [
    "x = np.arange(20)\n",
    "#y = [math.exp(-5)*5**i/math.factorial(i) for i in x]\n",
    "\n",
    "fig, ax = plt.subplots()\n",
    "plt.axvline(x=0, color='lightgray')\n",
    "plt.axhline(y=0, color='lightgray')\n",
    "plt.xlim(-0,1.5)\n",
    "plt.ylim(-.2,.2)\n",
    "_ = ax.plot(x,y)"
   ]
  },
  {
   "cell_type": "code",
   "execution_count": 52,
   "metadata": {},
   "outputs": [
    {
     "data": {
      "text/plain": [
       "[0.0,\n",
       " 0.06131324019524039,\n",
       " 0.1804470443154836,\n",
       " 0.22404180765538775,\n",
       " 0.19536681481316456,\n",
       " 0.14037389581428056,\n",
       " 0.08923507835998891,\n",
       " 0.052129252364199845,\n",
       " 0.02862614424768101,\n",
       " 0.014994291196531567,\n",
       " 0.007566654960414142,\n",
       " 0.003704993958636162,\n",
       " 0.0017695331577585243,\n",
       " 0.000827657284522896,\n",
       " 0.0003802858008700317,\n",
       " 0.000172070055282277,\n",
       " 7.682401260834756e-05,\n",
       " 3.389919002065254e-05,\n",
       " 1.4803540311860676e-05,\n",
       " 6.404930127511353e-06]"
      ]
     },
     "execution_count": 52,
     "metadata": {},
     "output_type": "execute_result"
    }
   ],
   "source": [
    "y"
   ]
  },
  {
   "cell_type": "code",
   "execution_count": null,
   "metadata": {},
   "outputs": [],
   "source": []
  }
 ],
 "metadata": {
  "kernelspec": {
   "display_name": "Python 3",
   "language": "python",
   "name": "python3"
  },
  "language_info": {
   "codemirror_mode": {
    "name": "ipython",
    "version": 3
   },
   "file_extension": ".py",
   "mimetype": "text/x-python",
   "name": "python",
   "nbconvert_exporter": "python",
   "pygments_lexer": "ipython3",
   "version": "3.8.5"
  }
 },
 "nbformat": 4,
 "nbformat_minor": 4
}
