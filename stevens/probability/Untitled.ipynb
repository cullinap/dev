{
 "cells": [
  {
   "cell_type": "code",
   "execution_count": 1,
   "metadata": {},
   "outputs": [],
   "source": [
    "import math\n",
    "from math import factorial as fact\n",
    "from scipy.special import comb\n",
    "from itertools import *\n",
    "import numpy as np\n",
    "from collections import Counter\n",
    "import torch\n",
    "import matplotlib.pyplot as plt"
   ]
  },
  {
   "cell_type": "markdown",
   "metadata": {},
   "source": [
    "From a group of 8 women and 6 men, a committee consisting of 3 men and 3 women is to be formed. How many different committees are possible if 1 man and 1 woman refuse to serve together on the committee?\n",
    "\n",
    "Page 16"
   ]
  },
  {
   "cell_type": "code",
   "execution_count": 10,
   "metadata": {},
   "outputs": [
    {
     "data": {
      "text/plain": [
       "910.0"
      ]
     },
     "execution_count": 10,
     "metadata": {},
     "output_type": "execute_result"
    }
   ],
   "source": [
    "guys = comb(6,3)\n",
    "girls = comb(8,3)\n",
    "total_comb = guys*girls\n",
    "\n",
    "# girl and guy who refuse to serve together\n",
    "refuse_guy = comb(5,2)\n",
    "refuse_girl = comb(7,2)\n",
    "\n",
    "# total combos if 1 guy and 1 girl refuse to work together\n",
    "total_comb - (refuse_girl*refuse_guy)"
   ]
  },
  {
   "cell_type": "markdown",
   "metadata": {},
   "source": [
    "A hospital codes incoming patient according to whether they have insurance (1 if they do and 0 if they do not) and according to their condition, which is rated as good (g), fair (f), or serious (s). Consider an experiment that consists of the coding of such a patient.\n",
    "(a) Give the sample space of this experiment.\n",
    "(b) Let 𝐴 be the event that the patient is in serious condition. Specify the outcomes in 𝐴. (c) Let 𝐵 be the event that the patient is uninsured. Specify the outcomes in B.\n",
    "(d) Give all the outcomes in the event 𝐵𝑐 ∪ 𝐴.\n",
    "\n",
    "Page 50"
   ]
  },
  {
   "cell_type": "markdown",
   "metadata": {},
   "source": [
    "a) (1g, 1f, 1s, 0g, 0f, 0s) <br>\n",
    "b) A = (1s, 0s) <br>\n",
    "c) B = (0g, 0f, 0s) <br>\n",
    "d) B^c U A = (1g, 1f, 1s, 0s)"
   ]
  },
  {
   "cell_type": "markdown",
   "metadata": {},
   "source": [
    "A parallel system functions whenever at least one of its components works. Consider a parallel system of 𝑛 components and suppose that each component works independently with probability 0.5. Find the conditional probability that component 1 works given that the system is functioning.\n",
    "\n",
    "Pg 107"
   ]
  },
  {
   "cell_type": "markdown",
   "metadata": {},
   "source": [
    "$\n",
    "\\begin{align}\n",
    "  P(E|F) = \\dfrac{P(EandF)}{P(F)} = \\dfrac{\\dfrac{1}{2}}{1 - (\\dfrac{1}{2})^n} = \\dfrac{2^n-1}{2^n-1}\n",
    "\\end{align}\n",
    "$"
   ]
  },
  {
   "cell_type": "markdown",
   "metadata": {},
   "source": [
    "A doctor wishes to recruit 5 patients for a test of a new drug. If the probability of a patient agreeing in 𝑝 = 0.2, what is the probability that exactly 15 patients must be asked before 5 agree to participate? If the random variable 𝑋 represents the number of patients that are asked until the 5 are found, what is the expected value 𝐸(𝑋) and variance Var(x)?"
   ]
  },
  {
   "cell_type": "code",
   "execution_count": 11,
   "metadata": {},
   "outputs": [],
   "source": [
    "X = 15\n",
    "K = 5\n",
    "P = 0.2\n",
    "Q = 1 - P"
   ]
  },
  {
   "cell_type": "code",
   "execution_count": 19,
   "metadata": {},
   "outputs": [],
   "source": [
    "prob_five_paitents = comb(X-1, K-1)*(P**5)*(Q**(X-K))\n",
    "e_x = K/P\n",
    "var = (K*Q)/P**2"
   ]
  },
  {
   "cell_type": "code",
   "execution_count": 20,
   "metadata": {},
   "outputs": [
    {
     "name": "stdout",
     "output_type": "stream",
     "text": [
      "0.03439409810636803 25.0 99.99999999999999\n"
     ]
    }
   ],
   "source": [
    "print(prob_five_paitents, e_x, var)"
   ]
  },
  {
   "cell_type": "markdown",
   "metadata": {},
   "source": [
    "Suppose that 8 balls are put into 4 boxes, with each ball independently being put in box 𝑖 with probability 𝑝 , ∑4 𝑝 = 1. Find the expected number of boxes that have at most 1 ball. What is the expected number\n",
    "𝑖 𝑖=1𝑖\n",
    "of boxes when a) p1 = p2 = p3 = p4 = 0.25  b) 𝑝1 = 1, 𝑝2 = 𝑝3 = 𝑝4 = 0."
   ]
  },
  {
   "cell_type": "code",
   "execution_count": null,
   "metadata": {},
   "outputs": [],
   "source": []
  },
  {
   "cell_type": "code",
   "execution_count": 21,
   "metadata": {},
   "outputs": [
    {
     "data": {
      "text/plain": [
       "240"
      ]
     },
     "execution_count": 21,
     "metadata": {},
     "output_type": "execute_result"
    }
   ],
   "source": [
    "math.factorial(5)*2"
   ]
  },
  {
   "cell_type": "code",
   "execution_count": 25,
   "metadata": {},
   "outputs": [
    {
     "data": {
      "text/plain": [
       "864"
      ]
     },
     "execution_count": 25,
     "metadata": {},
     "output_type": "execute_result"
    }
   ],
   "source": [
    "math.factorial(4)*math.factorial(3)*math.factorial(3)"
   ]
  },
  {
   "cell_type": "code",
   "execution_count": 29,
   "metadata": {},
   "outputs": [
    {
     "data": {
      "text/plain": [
       "110.0"
      ]
     },
     "execution_count": 29,
     "metadata": {},
     "output_type": "execute_result"
    }
   ],
   "source": [
    "comb(10,7) - comb(5,3)"
   ]
  },
  {
   "cell_type": "code",
   "execution_count": 34,
   "metadata": {},
   "outputs": [
    {
     "data": {
      "text/plain": [
       "210.0"
      ]
     },
     "execution_count": 34,
     "metadata": {},
     "output_type": "execute_result"
    }
   ],
   "source": [
    "math.factorial(7)/(math.factorial(3)*math.factorial(2)*math.factorial(2))"
   ]
  },
  {
   "cell_type": "code",
   "execution_count": 40,
   "metadata": {},
   "outputs": [
    {
     "data": {
      "text/plain": [
       "3.0"
      ]
     },
     "execution_count": 40,
     "metadata": {},
     "output_type": "execute_result"
    }
   ],
   "source": [
    "comb(3,2)"
   ]
  },
  {
   "cell_type": "code",
   "execution_count": 41,
   "metadata": {},
   "outputs": [
    {
     "data": {
      "text/plain": [
       "0.031160772001108134"
      ]
     },
     "execution_count": 41,
     "metadata": {},
     "output_type": "execute_result"
    }
   ],
   "source": [
    "comb(38,3)/comb(52,4)"
   ]
  },
  {
   "cell_type": "code",
   "execution_count": null,
   "metadata": {},
   "outputs": [],
   "source": []
  }
 ],
 "metadata": {
  "kernelspec": {
   "display_name": "Python 3",
   "language": "python",
   "name": "python3"
  },
  "language_info": {
   "codemirror_mode": {
    "name": "ipython",
    "version": 3
   },
   "file_extension": ".py",
   "mimetype": "text/x-python",
   "name": "python",
   "nbconvert_exporter": "python",
   "pygments_lexer": "ipython3",
   "version": "3.8.5"
  }
 },
 "nbformat": 4,
 "nbformat_minor": 4
}
