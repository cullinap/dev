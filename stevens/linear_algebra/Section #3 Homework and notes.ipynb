{
 "cells": [
  {
   "cell_type": "code",
   "execution_count": 8,
   "metadata": {},
   "outputs": [],
   "source": [
    "import numpy as np\n",
    "import sympy"
   ]
  },
  {
   "cell_type": "markdown",
   "metadata": {},
   "source": [
    "##### Reduced Row Echleon Format Calculator\n",
    "\n",
    "https://www.emathhelp.net/calculators/linear-algebra/reduced-row-echelon-form-rref-caclulator/?i=%5B%5B1%2C2%2C5%2C0%2C5%5D%2C%5B3%2C1%2C15%2C2%2C2%5D%2C%5B2%2C0%2C4%2C3%2C2%5D%5D&reduced=on"
   ]
  },
  {
   "cell_type": "markdown",
   "metadata": {},
   "source": [
    "##### Good way to calculate a row change\n",
    "\n",
    "-5*R3 + R1 --> R1\n",
    "\n",
    "https://www.wolframalpha.com/input/?i=-5+*+%7B-7%2F30%2C+-2%2F5%7D+%2B+%7B4%2F5%2C+-1%2F5%7D"
   ]
  },
  {
   "cell_type": "markdown",
   "metadata": {},
   "source": [
    "##### Numpy Matrix Rank Calculator\n",
    "\n",
    "https://numpy.org/doc/stable/reference/generated/numpy.linalg.matrix_rank.html\n",
    "\n",
    "how to calculate a matrix rank\n",
    "\n",
    "https://stattrek.com/matrix-algebra/matrix-rank.aspx\n",
    "\n",
    "###### online matrix rank calculator\n",
    "\n",
    "https://matrix.reshish.com/rank.php\n",
    "\n",
    "###### Gauss-Jordan Elimination Calculator\n",
    "https://matrix.reshish.com/gauss-jordanElimination.php"
   ]
  },
  {
   "cell_type": "markdown",
   "metadata": {},
   "source": [
    "###### Calculate nullspace"
   ]
  },
  {
   "cell_type": "code",
   "execution_count": 12,
   "metadata": {},
   "outputs": [
    {
     "data": {
      "text/plain": [
       "[Matrix([\n",
       " [2],\n",
       " [2],\n",
       " [1],\n",
       " [0]]),\n",
       " Matrix([\n",
       " [3],\n",
       " [1],\n",
       " [0],\n",
       " [1]])]"
      ]
     },
     "execution_count": 12,
     "metadata": {},
     "output_type": "execute_result"
    }
   ],
   "source": [
    "A = sympy.Matrix([[1,0,-2,-3],\n",
    "                  [0,1,-2,-1]])\n",
    "\n",
    "A.nullspace()"
   ]
  },
  {
   "cell_type": "markdown",
   "metadata": {},
   "source": [
    "#### HWQ1: Question 21 page 142"
   ]
  },
  {
   "cell_type": "code",
   "execution_count": null,
   "metadata": {},
   "outputs": [],
   "source": []
  },
  {
   "cell_type": "markdown",
   "metadata": {},
   "source": [
    "#### HWQ2: Question 23 page 142"
   ]
  },
  {
   "cell_type": "code",
   "execution_count": null,
   "metadata": {},
   "outputs": [],
   "source": []
  },
  {
   "cell_type": "markdown",
   "metadata": {},
   "source": [
    "https://www.emathhelp.net/calculators/linear-algebra/reduced-row-echelon-form-rref-caclulator/?i=%5B%5B1%2C2%2C5%2C0%2C5%5D%2C%5B3%2C1%2C15%2C2%2C2%5D%2C%5B2%2C0%2C4%2C3%2C2%5D%5D&reduced=on"
   ]
  },
  {
   "cell_type": "markdown",
   "metadata": {},
   "source": [
    "https://www.chegg.com/homework-help/questions-and-answers/problem-4-15-pts-numbers-c-d-following-matrix-rank-2-1-2-5-5-0-0-0-0-0-0-2-d-2-q57994457"
   ]
  },
  {
   "cell_type": "code",
   "execution_count": 4,
   "metadata": {},
   "outputs": [],
   "source": [
    "import numpy as np"
   ]
  },
  {
   "cell_type": "code",
   "execution_count": 5,
   "metadata": {},
   "outputs": [
    {
     "data": {
      "text/plain": [
       "array([[1, 2, 5, 0, 5],\n",
       "       [0, 0, 1, 2, 2],\n",
       "       [0, 0, 0, 5, 2]])"
      ]
     },
     "execution_count": 5,
     "metadata": {},
     "output_type": "execute_result"
    }
   ],
   "source": [
    "A = np.array([[1,2,5,0,5],\n",
    "                  [0,0,1,2,2],\n",
    "                  [0,0,0,5,2]\n",
    "                 ])\n",
    "A"
   ]
  },
  {
   "cell_type": "markdown",
   "metadata": {},
   "source": [
    "###### Question 4"
   ]
  },
  {
   "cell_type": "code",
   "execution_count": 6,
   "metadata": {},
   "outputs": [
    {
     "data": {
      "text/plain": [
       "3"
      ]
     },
     "execution_count": 6,
     "metadata": {},
     "output_type": "execute_result"
    }
   ],
   "source": [
    "np.linalg.matrix_rank(A)"
   ]
  }
 ],
 "metadata": {
  "kernelspec": {
   "display_name": "Python 3",
   "language": "python",
   "name": "python3"
  },
  "language_info": {
   "codemirror_mode": {
    "name": "ipython",
    "version": 3
   },
   "file_extension": ".py",
   "mimetype": "text/x-python",
   "name": "python",
   "nbconvert_exporter": "python",
   "pygments_lexer": "ipython3",
   "version": "3.8.5"
  }
 },
 "nbformat": 4,
 "nbformat_minor": 4
}
