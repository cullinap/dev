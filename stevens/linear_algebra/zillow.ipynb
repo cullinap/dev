{
 "cells": [
  {
   "cell_type": "code",
   "execution_count": 1,
   "metadata": {},
   "outputs": [
    {
     "ename": "SyntaxError",
     "evalue": "EOL while scanning string literal (<ipython-input-1-30a58e77e5e7>, line 17)",
     "output_type": "error",
     "traceback": [
      "\u001b[0;36m  File \u001b[0;32m\"<ipython-input-1-30a58e77e5e7>\"\u001b[0;36m, line \u001b[0;32m17\u001b[0m\n\u001b[0;31m    'user-agent': 'Mozilla/5.0 (Windows NT 10.0; Win64; x64)\u001b[0m\n\u001b[0m                                                             ^\u001b[0m\n\u001b[0;31mSyntaxError\u001b[0m\u001b[0;31m:\u001b[0m EOL while scanning string literal\n"
     ]
    }
   ],
   "source": [
    "import requests\n",
    "from bs4 import BeautifulSoup\n",
    "\n",
    "\n",
    "class ZillowScraper:\n",
    "\n",
    "    def __init__(self):\n",
    "        self.url = \"https://www.zillow.com/homes/for_sale/Los-Angeles-CA_rb/?fromHomePage=true&shouldFireSellPageImplicitClaimGA=false&fromHomePageTab=buy\"\n",
    "        self.properties = []\n",
    "    def scrape_properties(self):\n",
    "        headers = {\n",
    "           'accept': \n",
    "           'text/html,application/xhtml+xml,application/xml;q=0.9,image/webp,image/apng,*/*;q=0.8',\n",
    "           'accept-encoding': 'gzip, deflate, br',\n",
    "           'accept-language': 'en-US,en;q=0.8',\n",
    "           'upgrade-insecure-requests': '1',\n",
    "           'user-agent': 'Mozilla/5.0 (Windows NT 10.0; Win64; x64) AppleWebKit/537.36 (KHTML, like Gecko) Chrome/61.0.3163.100 Safari/537.36'}\n",
    "            content = requests.get(self.url, headers=headers)\n",
    "            soup = BeautifulSoup(content.text, \"html.parser\")\n",
    "            properties = soup.find(\"ul\", {\"class\": \"photo-cards photo-cards_wow photo-\n",
    "            cards_short\"}).find_all(\"li\")\n",
    "                                      \n",
    "        for e in properties:\n",
    "            price = e.find(\"article\").find(\"div\", {\"class\": \"list-card-price\"}).text\n",
    "            address = e.find(\"article\").find(\"div\", {\"class\": \"list-card-addr\"}).text\n",
    "            self.properties.append([price, address])\n",
    "        print(self.properties)\n",
    "\n",
    "x = ZillowScraper()\n",
    "x.scrape_properties()"
   ]
  },
  {
   "cell_type": "code",
   "execution_count": null,
   "metadata": {},
   "outputs": [],
   "source": []
  }
 ],
 "metadata": {
  "kernelspec": {
   "display_name": "Python 3",
   "language": "python",
   "name": "python3"
  },
  "language_info": {
   "codemirror_mode": {
    "name": "ipython",
    "version": 3
   },
   "file_extension": ".py",
   "mimetype": "text/x-python",
   "name": "python",
   "nbconvert_exporter": "python",
   "pygments_lexer": "ipython3",
   "version": "3.8.5"
  }
 },
 "nbformat": 4,
 "nbformat_minor": 4
}
