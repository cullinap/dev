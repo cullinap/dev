{
 "cells": [
  {
   "cell_type": "code",
   "execution_count": 6,
   "metadata": {},
   "outputs": [],
   "source": [
    "import numpy as np\n",
    "import torch\n",
    "import sympy"
   ]
  },
  {
   "cell_type": "markdown",
   "metadata": {},
   "source": [
    "##### Question 1"
   ]
  },
  {
   "cell_type": "code",
   "execution_count": 15,
   "metadata": {},
   "outputs": [],
   "source": [
    "A = sympy.Matrix([[1,0,-2,-3],\n",
    "                  [0,1,-2,-1]])\n",
    "A_T = A.T"
   ]
  },
  {
   "cell_type": "code",
   "execution_count": 32,
   "metadata": {},
   "outputs": [
    {
     "data": {
      "text/plain": [
       "[Matrix([\n",
       " [2],\n",
       " [2],\n",
       " [1],\n",
       " [0]]),\n",
       " Matrix([\n",
       " [3],\n",
       " [1],\n",
       " [0],\n",
       " [1]])]"
      ]
     },
     "execution_count": 32,
     "metadata": {},
     "output_type": "execute_result"
    }
   ],
   "source": [
    "B = sympy.Matrix([[2,2,1,0],\n",
    "                  [3,1,0,1]])\n",
    "\n",
    "A.nullspace()"
   ]
  },
  {
   "cell_type": "code",
   "execution_count": 33,
   "metadata": {},
   "outputs": [
    {
     "data": {
      "text/latex": [
       "$\\displaystyle \\left[\\begin{matrix}1 & 2 & 5 & 0 & 5\\\\3 & 1 & 15 & 2 & 2\\\\2 & 0 & 4 & 3 & 2\\end{matrix}\\right]$"
      ],
      "text/plain": [
       "Matrix([\n",
       "[1, 2,  5, 0, 5],\n",
       "[3, 1, 15, 2, 2],\n",
       "[2, 0,  4, 3, 2]])"
      ]
     },
     "execution_count": 33,
     "metadata": {},
     "output_type": "execute_result"
    }
   ],
   "source": [
    "B = sympy.Matrix([[1,2,5,0,5],\n",
    "                  [3,1,15,2,2],\n",
    "                  [2,0,4,3,2]\n",
    "                 ])\n",
    "\n",
    "B"
   ]
  },
  {
   "cell_type": "code",
   "execution_count": 34,
   "metadata": {},
   "outputs": [
    {
     "data": {
      "text/plain": [
       "(Matrix([\n",
       " [1, 0, 0, 59/30,  9/5],\n",
       " [0, 1, 0,  -2/5, 13/5],\n",
       " [0, 0, 1, -7/30, -2/5]]),\n",
       " (0, 1, 2))"
      ]
     },
     "execution_count": 34,
     "metadata": {},
     "output_type": "execute_result"
    }
   ],
   "source": [
    "B.rref()"
   ]
  },
  {
   "cell_type": "code",
   "execution_count": 39,
   "metadata": {},
   "outputs": [
    {
     "data": {
      "text/plain": [
       "1.8"
      ]
     },
     "execution_count": 39,
     "metadata": {},
     "output_type": "execute_result"
    }
   ],
   "source": [
    "9/5"
   ]
  },
  {
   "cell_type": "code",
   "execution_count": 24,
   "metadata": {},
   "outputs": [],
   "source": [
    "Anp = np.array([[1,0,-2,-3],\n",
    "                [0,1,-2,-1]])\n",
    "\n",
    "Bnp = np.array([[1,0,0,0],\n",
    "                [0,1,0,0]])"
   ]
  },
  {
   "cell_type": "code",
   "execution_count": 30,
   "metadata": {},
   "outputs": [
    {
     "data": {
      "text/plain": [
       "-3.0"
      ]
     },
     "execution_count": 30,
     "metadata": {},
     "output_type": "execute_result"
    }
   ],
   "source": [
    "2*-1.5"
   ]
  },
  {
   "cell_type": "code",
   "execution_count": 20,
   "metadata": {},
   "outputs": [
    {
     "data": {
      "text/latex": [
       "$\\displaystyle \\left[\\begin{matrix}14 & 7\\\\7 & 6\\end{matrix}\\right]$"
      ],
      "text/plain": [
       "Matrix([\n",
       "[14, 7],\n",
       "[ 7, 6]])"
      ]
     },
     "execution_count": 20,
     "metadata": {},
     "output_type": "execute_result"
    }
   ],
   "source": [
    "sympy.mulA.T"
   ]
  },
  {
   "cell_type": "code",
   "execution_count": 179,
   "metadata": {},
   "outputs": [],
   "source": [
    "E_21 = torch.tensor([[1,0,0],[1,1,0],[0,0,1]])\n",
    "A = torch.tensor([[2,1,0],[-2,0,1],[8,5,3]])"
   ]
  },
  {
   "cell_type": "code",
   "execution_count": 190,
   "metadata": {},
   "outputs": [
    {
     "data": {
      "text/plain": [
       "tensor([[1, 0, 0],\n",
       "        [1, 1, 0],\n",
       "        [0, 0, 1]])"
      ]
     },
     "execution_count": 190,
     "metadata": {},
     "output_type": "execute_result"
    }
   ],
   "source": [
    "E_21"
   ]
  },
  {
   "cell_type": "code",
   "execution_count": 180,
   "metadata": {},
   "outputs": [
    {
     "data": {
      "text/plain": [
       "tensor([[2, 1, 0],\n",
       "        [0, 1, 1],\n",
       "        [8, 5, 3]])"
      ]
     },
     "execution_count": 180,
     "metadata": {},
     "output_type": "execute_result"
    }
   ],
   "source": [
    "torch.matmul(E_21,A)"
   ]
  },
  {
   "cell_type": "code",
   "execution_count": 181,
   "metadata": {},
   "outputs": [],
   "source": [
    "E_31 = torch.tensor([[1,0,0],[0,1,0],[-4,0,1]])\n",
    "A = torch.tensor([[2,1,0],[-2,0,1],[8,5,3]])"
   ]
  },
  {
   "cell_type": "code",
   "execution_count": 182,
   "metadata": {},
   "outputs": [
    {
     "data": {
      "text/plain": [
       "tensor([[ 2,  1,  0],\n",
       "        [-2,  0,  1],\n",
       "        [ 0,  1,  3]])"
      ]
     },
     "execution_count": 182,
     "metadata": {},
     "output_type": "execute_result"
    }
   ],
   "source": [
    "torch.matmul(E_31,A)"
   ]
  },
  {
   "cell_type": "code",
   "execution_count": 191,
   "metadata": {},
   "outputs": [
    {
     "data": {
      "text/plain": [
       "tensor([[ 1,  0,  0],\n",
       "        [ 1,  1,  0],\n",
       "        [-4,  0,  1]])"
      ]
     },
     "execution_count": 191,
     "metadata": {},
     "output_type": "execute_result"
    }
   ],
   "source": [
    "E = torch.matmul(E_21,E_31)\n",
    "E"
   ]
  },
  {
   "cell_type": "code",
   "execution_count": 192,
   "metadata": {},
   "outputs": [
    {
     "data": {
      "text/plain": [
       "tensor([[2, 1, 0],\n",
       "        [0, 1, 1],\n",
       "        [0, 1, 3]])"
      ]
     },
     "execution_count": 192,
     "metadata": {},
     "output_type": "execute_result"
    }
   ],
   "source": [
    "torch.matmul(E,A)"
   ]
  },
  {
   "cell_type": "code",
   "execution_count": 167,
   "metadata": {},
   "outputs": [],
   "source": [
    "# example from lecture: elmininate x and y to make upper triangular\n",
    "# b is the last column in the augmented matrix\n",
    "E_21 = torch.tensor([[1,0,0],[-2,1,0],[1,0,1]])\n",
    "A = torch.tensor([[2,4,-2,2],[4,9,-3,8],[-2,-3,7,10]])\n",
    "E_32 = torch.tensor([[1,0,0],[0,1,0],[0,-1,1]])"
   ]
  },
  {
   "cell_type": "code",
   "execution_count": 168,
   "metadata": {},
   "outputs": [
    {
     "data": {
      "text/plain": [
       "tensor([[ 2,  4, -2,  2],\n",
       "        [ 0,  1,  1,  4],\n",
       "        [ 0,  0,  4,  8]])"
      ]
     },
     "execution_count": 168,
     "metadata": {},
     "output_type": "execute_result"
    }
   ],
   "source": [
    "# solving system of linear equations using matrix multiplication\n",
    "torch.matmul(E_32,torch.matmul(E_21,A))"
   ]
  },
  {
   "cell_type": "code",
   "execution_count": 106,
   "metadata": {},
   "outputs": [],
   "source": [
    "# example from lecture: elmininate x and y to make upper triangular\n",
    "# b is the last column in the augmented matrix\n",
    "E = torch.tensor([[1,0,0],[-3,1,0],[-2,0,1]])\n",
    "A = torch.tensor([[1,3,5,1,0,0],[3,10,17,0,1,0],[2,8,3,0,0,1]])"
   ]
  },
  {
   "cell_type": "code",
   "execution_count": 107,
   "metadata": {},
   "outputs": [
    {
     "data": {
      "text/plain": [
       "tensor([[ 1,  3,  5,  1,  0,  0],\n",
       "        [ 0,  1,  2, -3,  1,  0],\n",
       "        [ 0,  2, -7, -2,  0,  1]])"
      ]
     },
     "execution_count": 107,
     "metadata": {},
     "output_type": "execute_result"
    }
   ],
   "source": [
    "# pivot first column\n",
    "A_1 = torch.matmul(E,A); A_1"
   ]
  },
  {
   "cell_type": "code",
   "execution_count": 108,
   "metadata": {},
   "outputs": [
    {
     "data": {
      "text/plain": [
       "tensor([[  1,   3,   5,   1,   0,   0],\n",
       "        [  0,   1,   2,  -3,   1,   0],\n",
       "        [  0,   0, -11,   4,  -2,   1]])"
      ]
     },
     "execution_count": 108,
     "metadata": {},
     "output_type": "execute_result"
    }
   ],
   "source": [
    "# pivot second column\n",
    "E2 = E = torch.tensor([[1,0,0],[0,1,0],[0,-2,1]])\n",
    "A_2 = torch.matmul(E2,A_1); A_2"
   ]
  },
  {
   "cell_type": "code",
   "execution_count": 109,
   "metadata": {},
   "outputs": [
    {
     "data": {
      "text/plain": [
       "tensor([[-0.0000, -0.0000,  1.0000, -0.3636,  0.1818, -0.0909]])"
      ]
     },
     "execution_count": 109,
     "metadata": {},
     "output_type": "execute_result"
    }
   ],
   "source": [
    "A_2[2:3]/-11"
   ]
  },
  {
   "cell_type": "markdown",
   "metadata": {},
   "source": [
    "###### Question 2"
   ]
  },
  {
   "cell_type": "code",
   "execution_count": 204,
   "metadata": {},
   "outputs": [],
   "source": [
    "A = torch.tensor([[0,0,0,2,1,0,0,0.],\n",
    "                  [0,0,3,0,0,1,0,0.],\n",
    "                  [0,4,0,0,0,0,1,0.],\n",
    "                  [5,0,0,0,0,0,0,1.]])\n",
    "\n",
    "_A_ = torch.tensor([[0,0,0,2.],\n",
    "                    [0,0,3,0.],\n",
    "                    [0,4,0,0.],\n",
    "                    [5,0,0,0.]])\n"
   ]
  },
  {
   "cell_type": "code",
   "execution_count": 205,
   "metadata": {},
   "outputs": [
    {
     "data": {
      "text/plain": [
       "array([[0.        , 0.        , 0.        , 0.2       ],\n",
       "       [0.        , 0.        , 0.25      , 0.        ],\n",
       "       [0.        , 0.33333334, 0.        , 0.        ],\n",
       "       [0.5       , 0.        , 0.        , 0.        ]], dtype=float32)"
      ]
     },
     "execution_count": 205,
     "metadata": {},
     "output_type": "execute_result"
    }
   ],
   "source": [
    "np.linalg.inv(_A_)"
   ]
  },
  {
   "cell_type": "code",
   "execution_count": 220,
   "metadata": {},
   "outputs": [],
   "source": [
    "E = torch.tensor([[0,0,0,.2],\n",
    "                  [0,0,.25,0.],\n",
    "                  [0,.333,0,0.],\n",
    "                  [0.5,0,0,0.]])"
   ]
  },
  {
   "cell_type": "code",
   "execution_count": 221,
   "metadata": {},
   "outputs": [
    {
     "data": {
      "text/plain": [
       "tensor([[1.0000, 0.0000, 0.0000, 0.0000, 0.0000, 0.0000, 0.0000, 0.2000],\n",
       "        [0.0000, 1.0000, 0.0000, 0.0000, 0.0000, 0.0000, 0.2500, 0.0000],\n",
       "        [0.0000, 0.0000, 0.9990, 0.0000, 0.0000, 0.3330, 0.0000, 0.0000],\n",
       "        [0.0000, 0.0000, 0.0000, 1.0000, 0.5000, 0.0000, 0.0000, 0.0000]])"
      ]
     },
     "execution_count": 221,
     "metadata": {},
     "output_type": "execute_result"
    }
   ],
   "source": [
    "torch.matmul(E,A)"
   ]
  },
  {
   "cell_type": "code",
   "execution_count": 222,
   "metadata": {},
   "outputs": [
    {
     "data": {
      "text/plain": [
       "array([[1.   , 0.   , 0.   , 0.   , 0.   , 0.   , 0.   , 0.2  ],\n",
       "       [0.   , 1.   , 0.   , 0.   , 0.   , 0.   , 0.25 , 0.   ],\n",
       "       [0.   , 0.   , 0.999, 0.   , 0.   , 0.333, 0.   , 0.   ],\n",
       "       [0.   , 0.   , 0.   , 1.   , 0.5  , 0.   , 0.   , 0.   ]],\n",
       "      dtype=float32)"
      ]
     },
     "execution_count": 222,
     "metadata": {},
     "output_type": "execute_result"
    }
   ],
   "source": [
    "np.dot(E,A)"
   ]
  },
  {
   "cell_type": "code",
   "execution_count": 225,
   "metadata": {},
   "outputs": [],
   "source": [
    "w = np.array([0,0,0,5])\n",
    "u = np.array([0,0,0,1])"
   ]
  },
  {
   "cell_type": "code",
   "execution_count": 226,
   "metadata": {},
   "outputs": [
    {
     "data": {
      "text/plain": [
       "5"
      ]
     },
     "execution_count": 226,
     "metadata": {},
     "output_type": "execute_result"
    }
   ],
   "source": [
    "np.dot(w,u)"
   ]
  },
  {
   "cell_type": "code",
   "execution_count": 227,
   "metadata": {},
   "outputs": [
    {
     "data": {
      "text/plain": [
       "tensor([[ 3.,  2.,  0.,  0.,  1.,  0.,  0.,  0.],\n",
       "        [ 4.,  3.,  0.,  0.,  0.,  1.,  0.,  0.],\n",
       "        [ 0.,  0.,  6.,  5.,  0.,  0.,  1.,  0.],\n",
       "        [ 0.,  0.,  7., -6.,  0.,  0.,  0.,  1.]])"
      ]
     },
     "execution_count": 227,
     "metadata": {},
     "output_type": "execute_result"
    }
   ],
   "source": [
    "A = torch.tensor([[3,2,0,0,1,0,0,0.],\n",
    "                  [4,3,0,0,0,1,0,0.],\n",
    "                  [0,0,6,5,0,0,1,0.],\n",
    "                  [0,0,7,-6,0,0,0,1.]])\n",
    "\n",
    "A"
   ]
  },
  {
   "cell_type": "code",
   "execution_count": 254,
   "metadata": {},
   "outputs": [
    {
     "data": {
      "text/plain": [
       "tensor([[ 1.0000,  0.0000,  0.0000,  0.0000],\n",
       "        [-1.3333,  1.0000,  0.0000,  0.0000],\n",
       "        [ 0.0000,  0.0000,  1.0000,  0.0000],\n",
       "        [ 0.0000,  0.0000, -1.1667,  1.0000]])"
      ]
     },
     "execution_count": 254,
     "metadata": {},
     "output_type": "execute_result"
    }
   ],
   "source": [
    "E = torch.tensor([[1,0,0,0.],\n",
    "                  [-(4/3),1,0,0.],\n",
    "                  [0,0,1,0.],\n",
    "                  [0,0,-(7/6),1.]])\n",
    "E"
   ]
  },
  {
   "cell_type": "code",
   "execution_count": 255,
   "metadata": {},
   "outputs": [
    {
     "data": {
      "text/plain": [
       "tensor([[  3.0000,   2.0000,   0.0000,   0.0000,   1.0000,   0.0000,   0.0000,\n",
       "           0.0000],\n",
       "        [  0.0000,   0.3333,   0.0000,   0.0000,  -1.3333,   1.0000,   0.0000,\n",
       "           0.0000],\n",
       "        [  0.0000,   0.0000,   6.0000,   5.0000,   0.0000,   0.0000,   1.0000,\n",
       "           0.0000],\n",
       "        [  0.0000,   0.0000,   0.0000, -11.8333,   0.0000,   0.0000,  -1.1667,\n",
       "           1.0000]])"
      ]
     },
     "execution_count": 255,
     "metadata": {},
     "output_type": "execute_result"
    }
   ],
   "source": [
    "torch.matmul(E,A)"
   ]
  },
  {
   "cell_type": "markdown",
   "metadata": {},
   "source": [
    "###### Question 3"
   ]
  },
  {
   "cell_type": "code",
   "execution_count": 88,
   "metadata": {},
   "outputs": [
    {
     "data": {
      "text/plain": [
       "tensor([[ 2., -1.,  0.],\n",
       "        [-1.,  2., -1.],\n",
       "        [ 0., -1.,  2.]])"
      ]
     },
     "execution_count": 88,
     "metadata": {},
     "output_type": "execute_result"
    }
   ],
   "source": [
    "A = torch.tensor([[2,-1,0.],\n",
    "                  [-1,2,-1.],\n",
    "                  [0,-1,2.]])\n",
    "A"
   ]
  },
  {
   "cell_type": "code",
   "execution_count": 89,
   "metadata": {},
   "outputs": [
    {
     "data": {
      "text/plain": [
       "tensor([[1.0000, 0.0000, 0.0000],\n",
       "        [0.5000, 1.0000, 0.0000],\n",
       "        [0.3333, 0.6667, 1.0000]])"
      ]
     },
     "execution_count": 89,
     "metadata": {},
     "output_type": "execute_result"
    }
   ],
   "source": [
    "E1 = torch.tensor([[1,0,0.],\n",
    "                   [0.5,1,0.],\n",
    "                   [1/3,2/3,1.]\n",
    "                  ])\n",
    "E1"
   ]
  },
  {
   "cell_type": "code",
   "execution_count": 91,
   "metadata": {},
   "outputs": [
    {
     "data": {
      "text/plain": [
       "tensor([[ 2.0000, -1.0000,  0.0000],\n",
       "        [ 0.0000,  1.5000, -1.0000],\n",
       "        [ 0.0000,  0.0000,  1.3333]])"
      ]
     },
     "execution_count": 91,
     "metadata": {},
     "output_type": "execute_result"
    }
   ],
   "source": [
    "# calc U\n",
    "U = torch.matmul(E1,A); A1"
   ]
  },
  {
   "cell_type": "code",
   "execution_count": 109,
   "metadata": {},
   "outputs": [
    {
     "data": {
      "text/plain": [
       "tensor([[ 1.0000, -0.5000,  0.0000],\n",
       "        [ 0.0000,  1.0000, -0.6667],\n",
       "        [-0.0000, -0.0000,  1.0000]])"
      ]
     },
     "execution_count": 109,
     "metadata": {},
     "output_type": "execute_result"
    }
   ],
   "source": [
    "L.T"
   ]
  },
  {
   "cell_type": "code",
   "execution_count": 110,
   "metadata": {},
   "outputs": [
    {
     "data": {
      "text/plain": [
       "tensor([[ 1.0000,  0.0000, -0.0000],\n",
       "        [-0.5000,  1.0000, -0.0000],\n",
       "        [ 0.0000, -0.6667,  1.0000]])"
      ]
     },
     "execution_count": 110,
     "metadata": {},
     "output_type": "execute_result"
    }
   ],
   "source": [
    "L"
   ]
  },
  {
   "cell_type": "code",
   "execution_count": 97,
   "metadata": {},
   "outputs": [
    {
     "name": "stdout",
     "output_type": "stream",
     "text": [
      "tensor([[ 1.0000,  0.0000, -0.0000],\n",
      "        [-0.5000,  1.0000, -0.0000],\n",
      "        [ 0.0000, -0.6667,  1.0000]])\n"
     ]
    },
    {
     "data": {
      "text/plain": [
       "tensor([[ 2., -1.,  0.],\n",
       "        [-1.,  2., -1.],\n",
       "        [ 0., -1.,  2.]])"
      ]
     },
     "execution_count": 97,
     "metadata": {},
     "output_type": "execute_result"
    }
   ],
   "source": [
    "# calc E1\n",
    "L = torch.inverse(E1)\n",
    "print(L)\n",
    "\n",
    "# check\n",
    "torch.matmul(L,U)"
   ]
  },
  {
   "cell_type": "code",
   "execution_count": 103,
   "metadata": {},
   "outputs": [],
   "source": [
    "# make D by adding diagnols\n",
    "D = torch.tensor([[2,0,0],\n",
    "                  [0,1.5,0],\n",
    "                  [0,0,1.3333]\n",
    "                 ])"
   ]
  },
  {
   "cell_type": "code",
   "execution_count": 108,
   "metadata": {},
   "outputs": [
    {
     "data": {
      "text/plain": [
       "tensor([[ 2.0000, -1.0000,  0.0000],\n",
       "        [-1.0000,  2.0000, -1.0000],\n",
       "        [ 0.0000, -1.0000,  2.0000]])"
      ]
     },
     "execution_count": 108,
     "metadata": {},
     "output_type": "execute_result"
    }
   ],
   "source": [
    "# now you have LDL^T\n",
    "\n",
    "A_final = torch.matmul(L,torch.matmul(D,L.T)); A_final"
   ]
  },
  {
   "cell_type": "code",
   "execution_count": 124,
   "metadata": {},
   "outputs": [],
   "source": [
    "A = torch.tensor([[1,0.,0.],\n",
    "                  [0,1.,0.],\n",
    "                  [0,3.,1.]\n",
    "               ])"
   ]
  },
  {
   "cell_type": "code",
   "execution_count": 125,
   "metadata": {},
   "outputs": [],
   "source": [
    "B = torch.tensor([[1,0.,0.],\n",
    "                  [2,1.,0.],\n",
    "                  [0,0.,1.]\n",
    "               ])"
   ]
  },
  {
   "cell_type": "code",
   "execution_count": 126,
   "metadata": {},
   "outputs": [
    {
     "data": {
      "text/plain": [
       "tensor([[ 1.0000e+00,  0.0000e+00,  0.0000e+00],\n",
       "        [-2.0000e+00,  1.0000e+00,  0.0000e+00],\n",
       "        [ 1.7881e-07, -3.0000e+00,  1.0000e+00]])"
      ]
     },
     "execution_count": 126,
     "metadata": {},
     "output_type": "execute_result"
    }
   ],
   "source": [
    "torch.inverse(torch.matmul(A,B))"
   ]
  },
  {
   "cell_type": "code",
   "execution_count": null,
   "metadata": {},
   "outputs": [],
   "source": []
  }
 ],
 "metadata": {
  "kernelspec": {
   "display_name": "Python 3",
   "language": "python",
   "name": "python3"
  },
  "language_info": {
   "codemirror_mode": {
    "name": "ipython",
    "version": 3
   },
   "file_extension": ".py",
   "mimetype": "text/x-python",
   "name": "python",
   "nbconvert_exporter": "python",
   "pygments_lexer": "ipython3",
   "version": "3.8.5"
  }
 },
 "nbformat": 4,
 "nbformat_minor": 4
}
