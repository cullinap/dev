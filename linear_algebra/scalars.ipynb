{
 "cells": [
  {
   "cell_type": "code",
   "execution_count": 4,
   "metadata": {},
   "outputs": [
    {
     "name": "stdout",
     "output_type": "stream",
     "text": [
      "25\n",
      "<class 'int'>\n",
      "28\n",
      "28.0\n",
      "<class 'float'>\n"
     ]
    }
   ],
   "source": [
    "# rank 0 tensor\n",
    "x = 25\n",
    "y = 3\n",
    "print(x)\n",
    "print(type(x))\n",
    "\n",
    "py_sum = x + y\n",
    "print(py_sum)\n",
    "\n",
    "x_float = 25.0\n",
    "float_sum = x_float + y\n",
    "print(float_sum)\n",
    "print(type(float_sum))"
   ]
  },
  {
   "cell_type": "code",
   "execution_count": 5,
   "metadata": {},
   "outputs": [
    {
     "name": "stdout",
     "output_type": "stream",
     "text": [
      "tensor(25)\n",
      "torch.Size([])\n"
     ]
    }
   ],
   "source": [
    "# scalars/rank 0 tensors in pytorch\n",
    "import torch\n",
    "x_pt = torch.tensor(25)\n",
    "print(x_pt)\n",
    "print(x_pt.shape)"
   ]
  },
  {
   "cell_type": "code",
   "execution_count": 13,
   "metadata": {},
   "outputs": [
    {
     "name": "stdout",
     "output_type": "stream",
     "text": [
      "<tf.Variable 'Variable:0' shape=() dtype=int16, numpy=25>\n",
      "()\n",
      "28\n",
      "<class 'numpy.int16'>\n",
      "<tf.Variable 'Variable:0' shape=() dtype=float16, numpy=25.0>\n"
     ]
    }
   ],
   "source": [
    "# in tensorflow\n",
    "import tensorflow as tf\n",
    "x_tf = tf.Variable(25, dtype=tf.int16) # specify int\n",
    "print(x_tf)\n",
    "print(x_tf.shape)\n",
    "\n",
    "y_tf = tf.Variable(3, dtype=tf.int16)\n",
    "x_tf + y_tf\n",
    "tf_sum = tf.add(x_tf, y_tf)\n",
    "print(tf_sum.numpy())\n",
    "print(type(tf_sum.numpy()))\n",
    "tf_float = tf.Variable(25, dtype=tf.float16)\n",
    "print(tf_float)"
   ]
  },
  {
   "cell_type": "code",
   "execution_count": null,
   "metadata": {},
   "outputs": [],
   "source": []
  }
 ],
 "metadata": {
  "kernelspec": {
   "display_name": "Python 3",
   "language": "python",
   "name": "python3"
  },
  "language_info": {
   "codemirror_mode": {
    "name": "ipython",
    "version": 3
   },
   "file_extension": ".py",
   "mimetype": "text/x-python",
   "name": "python",
   "nbconvert_exporter": "python",
   "pygments_lexer": "ipython3",
   "version": "3.8.5"
  }
 },
 "nbformat": 4,
 "nbformat_minor": 4
}
