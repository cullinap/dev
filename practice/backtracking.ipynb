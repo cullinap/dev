{
 "cells": [
  {
   "cell_type": "code",
   "execution_count": null,
   "metadata": {},
   "outputs": [],
   "source": []
  },
  {
   "cell_type": "code",
   "execution_count": 6,
   "metadata": {},
   "outputs": [],
   "source": [
    "maze = [[1,0,0,0],\n",
    "        [1,1,0,1],\n",
    "        [0,1,0,0],\n",
    "        [1,1,1,1]]\n",
    "\n",
    "N = 4 # maze size\n",
    "\n",
    "def printSolution(solution):\n",
    "    for i in solution:\n",
    "        for j in i:\n",
    "            print(str(j) + '', end='')\n",
    "        print('')\n",
    "        \n",
    "def isSafe(maze, x, y):\n",
    "    if x >= 0 and x < N and y >= 0 and y < N and maze[x][y] == 1:\n",
    "        return True\n",
    "    \n",
    "    return False\n",
    "\n",
    "def solveMaze(maze):\n",
    "    solution = [[0 for j in range(4)] for i in range(4)]\n",
    "    \n",
    "    if solveMazeUtil(maze, 0, 0, solution) == False:\n",
    "        print('Solution does not exist')\n",
    "        return False\n",
    "    \n",
    "    printSolution(solution)\n",
    "    return True\n",
    "\n",
    "def solveMazeUtil(maze, x, y, solution):\n",
    "    \n",
    "    if x == N-1 and y == N-1 and maze[x][y] == 1:\n",
    "        return False\n",
    "    \n",
    "    if isSafe(maze, x, y) == True:\n",
    "        if solution[x][y] == 1:\n",
    "            return False\n",
    "        \n",
    "        solution[x][y] == 1\n",
    "        \n",
    "        if solveMazeUtil(maze, x+1, y, solution) == True:\n",
    "            return True\n",
    "        \n",
    "        if solveMazeUtil(maze, x, y+1, solution) == True:\n",
    "            return True\n",
    "        \n",
    "        if solveMazeUtil(maze, x-1, y, solution) == True:\n",
    "            return True\n",
    "        \n",
    "        if solveMazeUtil(maze, x, y-1, solution) == True:\n",
    "            return True\n",
    "        \n",
    "        solution[x][y] == 0\n",
    "        return False"
   ]
  },
  {
   "cell_type": "code",
   "execution_count": 7,
   "metadata": {},
   "outputs": [
    {
     "name": "stdout",
     "output_type": "stream",
     "text": [
      "0000\n",
      "0000\n",
      "0000\n",
      "0000\n"
     ]
    }
   ],
   "source": [
    "solveMaze(maze)"
   ]
  },
  {
   "cell_type": "code",
   "execution_count": null,
   "metadata": {},
   "outputs": [],
   "source": []
  }
 ],
 "metadata": {
  "kernelspec": {
   "display_name": "Python 3",
   "language": "python",
   "name": "python3"
  },
  "language_info": {
   "codemirror_mode": {
    "name": "ipython",
    "version": 3
   },
   "file_extension": ".py",
   "mimetype": "text/x-python",
   "name": "python",
   "nbconvert_exporter": "python",
   "pygments_lexer": "ipython3",
   "version": "3.7.3"
  }
 },
 "nbformat": 4,
 "nbformat_minor": 2
}
