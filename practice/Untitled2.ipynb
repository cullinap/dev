{
 "cells": [
  {
   "cell_type": "code",
   "execution_count": 21,
   "metadata": {},
   "outputs": [],
   "source": [
    "import numpy as np"
   ]
  },
  {
   "cell_type": "code",
   "execution_count": 10,
   "metadata": {},
   "outputs": [],
   "source": [
    "cap = 65\n",
    "low = 97\n",
    "\n",
    "capitals = [chr(cap+i) for i in range(26)]\n",
    "lowerCase = [chr(low+i) for i in range(26)]"
   ]
  },
  {
   "cell_type": "code",
   "execution_count": 26,
   "metadata": {},
   "outputs": [
    {
     "data": {
      "text/plain": [
       "14"
      ]
     },
     "execution_count": 26,
     "metadata": {},
     "output_type": "execute_result"
    }
   ],
   "source": [
    "np.random.randint(0,17)"
   ]
  },
  {
   "cell_type": "code",
   "execution_count": 33,
   "metadata": {},
   "outputs": [],
   "source": [
    "combos = []\n",
    "combosR = []\n",
    "\n",
    "for i in range(10):\n",
    "    r = np.random.randint(0,17)\n",
    "    combos.append(lowerCase[r:r+5])\n",
    "    combosR.append([c for c in sorted(lowerCase[r:r+5],reverse=True)])"
   ]
  },
  {
   "cell_type": "code",
   "execution_count": 34,
   "metadata": {},
   "outputs": [
    {
     "data": {
      "text/plain": [
       "array([['f', 'g', 'h', 'i', 'j'],\n",
       "       ['q', 'r', 's', 't', 'u'],\n",
       "       ['a', 'b', 'c', 'd', 'e'],\n",
       "       ['c', 'd', 'e', 'f', 'g'],\n",
       "       ['m', 'n', 'o', 'p', 'q'],\n",
       "       ['o', 'p', 'q', 'r', 's'],\n",
       "       ['g', 'h', 'i', 'j', 'k'],\n",
       "       ['a', 'b', 'c', 'd', 'e'],\n",
       "       ['d', 'e', 'f', 'g', 'h'],\n",
       "       ['d', 'e', 'f', 'g', 'h']], dtype='<U1')"
      ]
     },
     "execution_count": 34,
     "metadata": {},
     "output_type": "execute_result"
    }
   ],
   "source": [
    "np.array(combos)"
   ]
  },
  {
   "cell_type": "code",
   "execution_count": 35,
   "metadata": {},
   "outputs": [
    {
     "data": {
      "text/plain": [
       "[['j', 'i', 'h', 'g', 'f'],\n",
       " ['u', 't', 's', 'r', 'q'],\n",
       " ['e', 'd', 'c', 'b', 'a'],\n",
       " ['g', 'f', 'e', 'd', 'c'],\n",
       " ['q', 'p', 'o', 'n', 'm'],\n",
       " ['s', 'r', 'q', 'p', 'o'],\n",
       " ['k', 'j', 'i', 'h', 'g'],\n",
       " ['e', 'd', 'c', 'b', 'a'],\n",
       " ['h', 'g', 'f', 'e', 'd'],\n",
       " ['h', 'g', 'f', 'e', 'd']]"
      ]
     },
     "execution_count": 35,
     "metadata": {},
     "output_type": "execute_result"
    }
   ],
   "source": [
    "combosR"
   ]
  },
  {
   "cell_type": "code",
   "execution_count": null,
   "metadata": {},
   "outputs": [],
   "source": []
  }
 ],
 "metadata": {
  "kernelspec": {
   "display_name": "Python 3",
   "language": "python",
   "name": "python3"
  },
  "language_info": {
   "codemirror_mode": {
    "name": "ipython",
    "version": 3
   },
   "file_extension": ".py",
   "mimetype": "text/x-python",
   "name": "python",
   "nbconvert_exporter": "python",
   "pygments_lexer": "ipython3",
   "version": "3.8.5"
  }
 },
 "nbformat": 4,
 "nbformat_minor": 4
}
