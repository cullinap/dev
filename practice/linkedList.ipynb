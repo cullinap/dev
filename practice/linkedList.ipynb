{
 "cells": [
  {
   "cell_type": "code",
   "execution_count": 82,
   "metadata": {},
   "outputs": [],
   "source": [
    "class Node:\n",
    "    \n",
    "    def __init__(self, val=None, next_node=None):\n",
    "        self.val = val\n",
    "        self.next_node = next_node\n",
    "            \n",
    "class linkedList:\n",
    "    \n",
    "    def __init__(self, head):\n",
    "        self.head = Node()\n",
    "        \n",
    "        cur = head\n",
    "        \n",
    "        while cur.next_node:\n",
    "            cur = cur.next_node\n",
    "            print(cur.val)\n",
    "\n",
    "class linkedDict:\n",
    "\n",
    "    def __init__(self, head):\n",
    "        self.head = head\n",
    "\n",
    "        \n",
    "    def lastNode(self):\n",
    "        cur = self.head\n",
    "        while cur['next_node']:\n",
    "            cur = cur['next_node']\n",
    "        \n",
    "        print(cur['val'])\n",
    "            \n",
    "        #return cur\n",
    "                    "
   ]
  },
  {
   "cell_type": "code",
   "execution_count": 83,
   "metadata": {},
   "outputs": [],
   "source": [
    "n1 = Node(1, Node(2,None))\n"
   ]
  },
  {
   "cell_type": "code",
   "execution_count": 84,
   "metadata": {},
   "outputs": [
    {
     "name": "stdout",
     "output_type": "stream",
     "text": [
      "2\n"
     ]
    },
    {
     "data": {
      "text/plain": [
       "<__main__.linkedList at 0x7fbf705a5820>"
      ]
     },
     "execution_count": 84,
     "metadata": {},
     "output_type": "execute_result"
    }
   ],
   "source": [
    "linkedList(n1)"
   ]
  },
  {
   "cell_type": "code",
   "execution_count": 85,
   "metadata": {},
   "outputs": [],
   "source": [
    "listNode = {'val': 1, 'next_node':{'val':2, 'next_node': {'val': 3, 'next_node': None}}}"
   ]
  },
  {
   "cell_type": "code",
   "execution_count": 86,
   "metadata": {},
   "outputs": [
    {
     "name": "stdout",
     "output_type": "stream",
     "text": [
      "3\n"
     ]
    }
   ],
   "source": [
    "linkedDict(listNode).lastNode()"
   ]
  },
  {
   "cell_type": "code",
   "execution_count": null,
   "metadata": {},
   "outputs": [],
   "source": [
    "{}"
   ]
  }
 ],
 "metadata": {
  "kernelspec": {
   "display_name": "Python 3",
   "language": "python",
   "name": "python3"
  },
  "language_info": {
   "codemirror_mode": {
    "name": "ipython",
    "version": 3
   },
   "file_extension": ".py",
   "mimetype": "text/x-python",
   "name": "python",
   "nbconvert_exporter": "python",
   "pygments_lexer": "ipython3",
   "version": "3.8.5"
  }
 },
 "nbformat": 4,
 "nbformat_minor": 4
}
