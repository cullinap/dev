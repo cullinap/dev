{
 "cells": [
  {
   "cell_type": "code",
   "execution_count": 1,
   "metadata": {},
   "outputs": [],
   "source": [
    "# phse 1\n",
    "# create a dataframe froom a list, dictionary, list comprehension, sort_values, output to csv, read csv\n",
    "# output to a csv, import with a file parser\n",
    "# create a sqlite3 table and insert some values"
   ]
  },
  {
   "cell_type": "code",
   "execution_count": 57,
   "metadata": {},
   "outputs": [],
   "source": [
    "import pandas as pd\n",
    "import random as randint"
   ]
  },
  {
   "cell_type": "code",
   "execution_count": 58,
   "metadata": {},
   "outputs": [
    {
     "name": "stdout",
     "output_type": "stream",
     "text": [
      "Requirement already up-to-date: wget in /opt/miniconda3/lib/python3.8/site-packages (3.2)\n",
      "\u001b[33mWARNING: Error parsing requirements for plotly: [Errno 2] No such file or directory: '/opt/miniconda3/lib/python3.8/site-packages/plotly-4.12.0.dist-info/METADATA'\u001b[0m\n",
      "06-26-2020 (1).csv\n"
     ]
    }
   ],
   "source": [
    "!pip install --upgrade wget\n",
    "import wget\n",
    "\n",
    "#cus_churn_url = 'https://raw.githubusercontent.com/pmservice/wml-sample-models/master/spark/customer-satisfaction-prediction/data/Telco_customer_churn.csv'\n",
    "jh_covid_url = 'https://raw.githubusercontent.com/CSSEGISandData/COVID-19/master/csse_covid_19_data/csse_covid_19_daily_reports/06-26-2020.csv'\n",
    "\n",
    "data = wget.download(jh_covid_url)\n",
    "\n",
    "print(data)"
   ]
  },
  {
   "cell_type": "code",
   "execution_count": 60,
   "metadata": {},
   "outputs": [
    {
     "data": {
      "text/html": [
       "<div>\n",
       "<style scoped>\n",
       "    .dataframe tbody tr th:only-of-type {\n",
       "        vertical-align: middle;\n",
       "    }\n",
       "\n",
       "    .dataframe tbody tr th {\n",
       "        vertical-align: top;\n",
       "    }\n",
       "\n",
       "    .dataframe thead th {\n",
       "        text-align: right;\n",
       "    }\n",
       "</style>\n",
       "<table border=\"1\" class=\"dataframe\">\n",
       "  <thead>\n",
       "    <tr style=\"text-align: right;\">\n",
       "      <th></th>\n",
       "      <th>col1</th>\n",
       "      <th>col2</th>\n",
       "    </tr>\n",
       "  </thead>\n",
       "  <tbody>\n",
       "    <tr>\n",
       "      <th>0</th>\n",
       "      <td>a</td>\n",
       "      <td>1</td>\n",
       "    </tr>\n",
       "    <tr>\n",
       "      <th>1</th>\n",
       "      <td>b</td>\n",
       "      <td>2</td>\n",
       "    </tr>\n",
       "    <tr>\n",
       "      <th>2</th>\n",
       "      <td>c</td>\n",
       "      <td>3</td>\n",
       "    </tr>\n",
       "  </tbody>\n",
       "</table>\n",
       "</div>"
      ],
      "text/plain": [
       "  col1  col2\n",
       "0    a     1\n",
       "1    b     2\n",
       "2    c     3"
      ]
     },
     "execution_count": 60,
     "metadata": {},
     "output_type": "execute_result"
    }
   ],
   "source": [
    "# make a dictionary from a list/dictionary\n",
    "pd.DataFrame({'col1':['a','b','c'],'col2':[1,2,3]})"
   ]
  },
  {
   "cell_type": "code",
   "execution_count": 62,
   "metadata": {},
   "outputs": [],
   "source": [
    "df = pd.read_csv('06-26-2020.csv')"
   ]
  },
  {
   "cell_type": "code",
   "execution_count": 63,
   "metadata": {},
   "outputs": [],
   "source": [
    "# output 3 main data structures\n",
    "columns = df.columns\n",
    "index = df.index\n",
    "data = df.to_numpy()"
   ]
  },
  {
   "cell_type": "code",
   "execution_count": 66,
   "metadata": {},
   "outputs": [
    {
     "data": {
      "text/plain": [
       "array([[45001.0, 'Abbeville', 'South Carolina', ...,\n",
       "        'Abbeville, South Carolina, US', 407.7139478941575, 0.0],\n",
       "       [22001.0, 'Acadia', 'Louisiana', ..., 'Acadia, Louisiana, US',\n",
       "        1261.9872673059876, 4.597701149425287],\n",
       "       [51001.0, 'Accomack', 'Virginia', ..., 'Accomack, Virginia, US',\n",
       "        3208.9367495977226, 1.3500482160077143],\n",
       "       ...,\n",
       "       [2066.0, 'Copper River', 'Alaska', ...,\n",
       "        'Copper River, Alaska, US', nan, nan],\n",
       "       [2063.0, 'Chugach', 'Alaska', ..., 'Chugach, Alaska, US', nan,\n",
       "        nan],\n",
       "       [nan, nan, 'Unknown', ..., 'Unknown, China', 0.0, 0.0]],\n",
       "      dtype=object)"
      ]
     },
     "execution_count": 66,
     "metadata": {},
     "output_type": "execute_result"
    }
   ],
   "source": [
    "data"
   ]
  },
  {
   "cell_type": "code",
   "execution_count": 71,
   "metadata": {},
   "outputs": [
    {
     "name": "stdout",
     "output_type": "stream",
     "text": [
      "<class 'pandas.core.frame.DataFrame'>\n",
      "RangeIndex: 3788 entries, 0 to 3787\n",
      "Data columns (total 14 columns):\n",
      " #   Column               Non-Null Count  Dtype  \n",
      "---  ------               --------------  -----  \n",
      " 0   FIPS                 3103 non-null   float64\n",
      " 1   Admin2               3107 non-null   object \n",
      " 2   Province_State       3619 non-null   object \n",
      " 3   Country_Region       3788 non-null   object \n",
      " 4   Last_Update          3788 non-null   object \n",
      " 5   Lat                  3712 non-null   float64\n",
      " 6   Long_                3712 non-null   float64\n",
      " 7   Confirmed            3788 non-null   int64  \n",
      " 8   Deaths               3788 non-null   int64  \n",
      " 9   Recovered            3788 non-null   int64  \n",
      " 10  Active               3788 non-null   int64  \n",
      " 11  Combined_Key         3788 non-null   object \n",
      " 12  Incidence_Rate       3708 non-null   float64\n",
      " 13  Case-Fatality_Ratio  3722 non-null   float64\n",
      "dtypes: float64(5), int64(4), object(5)\n",
      "memory usage: 414.4+ KB\n"
     ]
    }
   ],
   "source": [
    "# data types, value_counts, and info\n",
    "df.info()"
   ]
  },
  {
   "cell_type": "code",
   "execution_count": 77,
   "metadata": {},
   "outputs": [
    {
     "data": {
      "text/plain": [
       "dtype('O')"
      ]
     },
     "execution_count": 77,
     "metadata": {},
     "output_type": "execute_result"
    }
   ],
   "source": [
    "df.loc[:,'Province_State'].dtypes"
   ]
  },
  {
   "cell_type": "code",
   "execution_count": 78,
   "metadata": {},
   "outputs": [
    {
     "data": {
      "text/plain": [
       "dtype('O')"
      ]
     },
     "execution_count": 78,
     "metadata": {},
     "output_type": "execute_result"
    }
   ],
   "source": [
    "df.iloc[:,2].dtypes"
   ]
  },
  {
   "cell_type": "code",
   "execution_count": 82,
   "metadata": {},
   "outputs": [
    {
     "data": {
      "text/plain": [
       "array([<class 'str'>, <class 'float'>], dtype=object)"
      ]
     },
     "execution_count": 82,
     "metadata": {},
     "output_type": "execute_result"
    }
   ],
   "source": [
    "df.loc[:,'Province_State'].apply(type).unique()"
   ]
  },
  {
   "cell_type": "code",
   "execution_count": 97,
   "metadata": {},
   "outputs": [
    {
     "data": {
      "text/plain": [
       "Texas       246\n",
       "Georgia     161\n",
       "Virginia    134\n",
       "Kentucky    120\n",
       "Missouri    116\n",
       "Name: Province_State, dtype: int64"
      ]
     },
     "execution_count": 97,
     "metadata": {},
     "output_type": "execute_result"
    }
   ],
   "source": [
    "df.loc[:,'Province_State'].value_counts().head()"
   ]
  },
  {
   "cell_type": "code",
   "execution_count": 100,
   "metadata": {},
   "outputs": [
    {
     "data": {
      "text/plain": [
       "d    4\n",
       "dtype: int64"
      ]
     },
     "execution_count": 100,
     "metadata": {},
     "output_type": "execute_result"
    }
   ],
   "source": [
    "l = pd.DataFrame(['a','a','b','b','b','c','d','d','d','d'])\n",
    "l.value_counts().head(1)"
   ]
  },
  {
   "cell_type": "code",
   "execution_count": 105,
   "metadata": {},
   "outputs": [
    {
     "data": {
      "text/html": [
       "<div>\n",
       "<style scoped>\n",
       "    .dataframe tbody tr th:only-of-type {\n",
       "        vertical-align: middle;\n",
       "    }\n",
       "\n",
       "    .dataframe tbody tr th {\n",
       "        vertical-align: top;\n",
       "    }\n",
       "\n",
       "    .dataframe thead th {\n",
       "        text-align: right;\n",
       "    }\n",
       "</style>\n",
       "<table border=\"1\" class=\"dataframe\">\n",
       "  <thead>\n",
       "    <tr style=\"text-align: right;\">\n",
       "      <th></th>\n",
       "      <th>FIPS</th>\n",
       "      <th>Admin2</th>\n",
       "      <th>State</th>\n",
       "      <th>Country_Region</th>\n",
       "      <th>Last_Update</th>\n",
       "      <th>Lat</th>\n",
       "      <th>Long_</th>\n",
       "      <th>Confirmed</th>\n",
       "      <th>Deaths</th>\n",
       "      <th>Recovered</th>\n",
       "      <th>Active</th>\n",
       "      <th>Combined_Key</th>\n",
       "      <th>Incidence_Rate</th>\n",
       "      <th>Case-Fatality_Ratio</th>\n",
       "    </tr>\n",
       "  </thead>\n",
       "  <tbody>\n",
       "    <tr>\n",
       "      <th>zero</th>\n",
       "      <td>45001.0</td>\n",
       "      <td>Abbeville</td>\n",
       "      <td>South Carolina</td>\n",
       "      <td>US</td>\n",
       "      <td>2020-06-27 04:33:35</td>\n",
       "      <td>34.223334</td>\n",
       "      <td>-82.461707</td>\n",
       "      <td>100</td>\n",
       "      <td>0</td>\n",
       "      <td>0</td>\n",
       "      <td>100</td>\n",
       "      <td>Abbeville, South Carolina, US</td>\n",
       "      <td>407.713948</td>\n",
       "      <td>0.000000</td>\n",
       "    </tr>\n",
       "    <tr>\n",
       "      <th>1</th>\n",
       "      <td>22001.0</td>\n",
       "      <td>Acadia</td>\n",
       "      <td>Louisiana</td>\n",
       "      <td>US</td>\n",
       "      <td>2020-06-27 04:33:35</td>\n",
       "      <td>30.295065</td>\n",
       "      <td>-92.414197</td>\n",
       "      <td>783</td>\n",
       "      <td>36</td>\n",
       "      <td>0</td>\n",
       "      <td>747</td>\n",
       "      <td>Acadia, Louisiana, US</td>\n",
       "      <td>1261.987267</td>\n",
       "      <td>4.597701</td>\n",
       "    </tr>\n",
       "    <tr>\n",
       "      <th>2</th>\n",
       "      <td>51001.0</td>\n",
       "      <td>Accomack</td>\n",
       "      <td>Virginia</td>\n",
       "      <td>US</td>\n",
       "      <td>2020-06-27 04:33:35</td>\n",
       "      <td>37.767072</td>\n",
       "      <td>-75.632346</td>\n",
       "      <td>1037</td>\n",
       "      <td>14</td>\n",
       "      <td>0</td>\n",
       "      <td>1023</td>\n",
       "      <td>Accomack, Virginia, US</td>\n",
       "      <td>3208.936750</td>\n",
       "      <td>1.350048</td>\n",
       "    </tr>\n",
       "    <tr>\n",
       "      <th>3</th>\n",
       "      <td>16001.0</td>\n",
       "      <td>Ada</td>\n",
       "      <td>Idaho</td>\n",
       "      <td>US</td>\n",
       "      <td>2020-06-27 04:33:35</td>\n",
       "      <td>43.452658</td>\n",
       "      <td>-116.241552</td>\n",
       "      <td>1585</td>\n",
       "      <td>23</td>\n",
       "      <td>0</td>\n",
       "      <td>1562</td>\n",
       "      <td>Ada, Idaho, US</td>\n",
       "      <td>329.120180</td>\n",
       "      <td>1.451104</td>\n",
       "    </tr>\n",
       "    <tr>\n",
       "      <th>4</th>\n",
       "      <td>19001.0</td>\n",
       "      <td>Adair</td>\n",
       "      <td>Iowa</td>\n",
       "      <td>US</td>\n",
       "      <td>2020-06-27 03:33:36</td>\n",
       "      <td>41.330756</td>\n",
       "      <td>-94.471059</td>\n",
       "      <td>14</td>\n",
       "      <td>0</td>\n",
       "      <td>0</td>\n",
       "      <td>14</td>\n",
       "      <td>Adair, Iowa, US</td>\n",
       "      <td>195.749441</td>\n",
       "      <td>0.000000</td>\n",
       "    </tr>\n",
       "  </tbody>\n",
       "</table>\n",
       "</div>"
      ],
      "text/plain": [
       "         FIPS     Admin2           State Country_Region          Last_Update  \\\n",
       "zero  45001.0  Abbeville  South Carolina             US  2020-06-27 04:33:35   \n",
       "1     22001.0     Acadia       Louisiana             US  2020-06-27 04:33:35   \n",
       "2     51001.0   Accomack        Virginia             US  2020-06-27 04:33:35   \n",
       "3     16001.0        Ada           Idaho             US  2020-06-27 04:33:35   \n",
       "4     19001.0      Adair            Iowa             US  2020-06-27 03:33:36   \n",
       "\n",
       "            Lat       Long_  Confirmed  Deaths  Recovered  Active  \\\n",
       "zero  34.223334  -82.461707        100       0          0     100   \n",
       "1     30.295065  -92.414197        783      36          0     747   \n",
       "2     37.767072  -75.632346       1037      14          0    1023   \n",
       "3     43.452658 -116.241552       1585      23          0    1562   \n",
       "4     41.330756  -94.471059         14       0          0      14   \n",
       "\n",
       "                       Combined_Key  Incidence_Rate  Case-Fatality_Ratio  \n",
       "zero  Abbeville, South Carolina, US      407.713948             0.000000  \n",
       "1             Acadia, Louisiana, US     1261.987267             4.597701  \n",
       "2            Accomack, Virginia, US     3208.936750             1.350048  \n",
       "3                    Ada, Idaho, US      329.120180             1.451104  \n",
       "4                   Adair, Iowa, US      195.749441             0.000000  "
      ]
     },
     "execution_count": 105,
     "metadata": {},
     "output_type": "execute_result"
    }
   ],
   "source": [
    "col_name = {'Province_State':'State'}\n",
    "idx_name = {0:'zero'}\n",
    "\n",
    "df.rename(index=idx_name, columns=col_name).head()"
   ]
  },
  {
   "cell_type": "code",
   "execution_count": 106,
   "metadata": {},
   "outputs": [],
   "source": [
    "# creative\n",
    "# javascript, docker, object oriented programming, weird data structures\n",
    "# sql, django, flask, kubernetes, pervious day's leetcode question\n"
   ]
  },
  {
   "cell_type": "code",
   "execution_count": 211,
   "metadata": {},
   "outputs": [],
   "source": [
    "class Node:\n",
    "    \n",
    "    def __init__(self, head):\n",
    "        self.cur_node = head\n",
    "        self.prev_node = None\n",
    "        \n",
    "    def printNode(self, cur_node):\n",
    "        print(self.cur_node)\n",
    "#         while cur_node:\n",
    "#             next_node = cur_node['next_val']\n",
    "#             prev_node = cur_node\n",
    "        \n",
    "#         head = prev_node\n",
    "        #print(head)\n",
    "        \n",
    "#         while cur_node:\n",
    "#             next_node = cur_node.next\n",
    "#             cur_node.next = prev_node\n",
    "#             prev_node = cur_node\n",
    "#             cur_node = cur_node\n",
    "            \n",
    "#         head = prev_node\n",
    "        \n",
    "#         return head"
   ]
  },
  {
   "cell_type": "code",
   "execution_count": 212,
   "metadata": {},
   "outputs": [],
   "source": [
    "listNode = {'val': 1, 'next_val':{'val':2, 'next_val': None}}"
   ]
  },
  {
   "cell_type": "code",
   "execution_count": 213,
   "metadata": {},
   "outputs": [
    {
     "data": {
      "text/plain": [
       "{'val': 1, 'next_val': {'val': 2, 'next_val': None}}"
      ]
     },
     "execution_count": 213,
     "metadata": {},
     "output_type": "execute_result"
    }
   ],
   "source": [
    "listNode"
   ]
  },
  {
   "cell_type": "code",
   "execution_count": 214,
   "metadata": {},
   "outputs": [
    {
     "data": {
      "text/plain": [
       "<__main__.Node at 0x7f992d1f6a00>"
      ]
     },
     "execution_count": 214,
     "metadata": {},
     "output_type": "execute_result"
    }
   ],
   "source": [
    "Node(listNode)"
   ]
  },
  {
   "cell_type": "code",
   "execution_count": 123,
   "metadata": {},
   "outputs": [],
   "source": [
    "state = [s for s in df.loc[:,'Province_State']]"
   ]
  },
  {
   "cell_type": "code",
   "execution_count": 142,
   "metadata": {},
   "outputs": [],
   "source": [
    "node = {}\n",
    "\n",
    "node['val'] = state[0]\n",
    "node['next'] = {'val': state[1], 'next': {'val': state[2], 'next': None}}"
   ]
  },
  {
   "cell_type": "code",
   "execution_count": 143,
   "metadata": {},
   "outputs": [],
   "source": [
    "prev_node = None\n",
    "cur_node = node\n",
    "next_node = node['next']"
   ]
  },
  {
   "cell_type": "code",
   "execution_count": null,
   "metadata": {},
   "outputs": [],
   "source": []
  }
 ],
 "metadata": {
  "kernelspec": {
   "display_name": "Python 3",
   "language": "python",
   "name": "python3"
  },
  "language_info": {
   "codemirror_mode": {
    "name": "ipython",
    "version": 3
   },
   "file_extension": ".py",
   "mimetype": "text/x-python",
   "name": "python",
   "nbconvert_exporter": "python",
   "pygments_lexer": "ipython3",
   "version": "3.8.5"
  }
 },
 "nbformat": 4,
 "nbformat_minor": 4
}
