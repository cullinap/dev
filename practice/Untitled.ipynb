{
 "cells": [
  {
   "cell_type": "code",
   "execution_count": 1,
   "metadata": {},
   "outputs": [],
   "source": [
    "# phse 1\n",
    "# create a dataframe froom a list, dictionary, list comprehension, sort_values, output to csv, read csv\n",
    "# output to a csv, import with a file parser\n",
    "# create a sqlite3 table and insert some values"
   ]
  },
  {
   "cell_type": "code",
   "execution_count": 57,
   "metadata": {},
   "outputs": [],
   "source": [
    "import pandas as pd\n",
    "import random as randint"
   ]
  },
  {
   "cell_type": "code",
   "execution_count": 58,
   "metadata": {},
   "outputs": [
    {
     "name": "stdout",
     "output_type": "stream",
     "text": [
      "Requirement already up-to-date: wget in /opt/miniconda3/lib/python3.8/site-packages (3.2)\n",
      "\u001b[33mWARNING: Error parsing requirements for plotly: [Errno 2] No such file or directory: '/opt/miniconda3/lib/python3.8/site-packages/plotly-4.12.0.dist-info/METADATA'\u001b[0m\n",
      "06-26-2020 (1).csv\n"
     ]
    }
   ],
   "source": [
    "!pip install --upgrade wget\n",
    "import wget\n",
    "\n",
    "#cus_churn_url = 'https://raw.githubusercontent.com/pmservice/wml-sample-models/master/spark/customer-satisfaction-prediction/data/Telco_customer_churn.csv'\n",
    "jh_covid_url = 'https://raw.githubusercontent.com/CSSEGISandData/COVID-19/master/csse_covid_19_data/csse_covid_19_daily_reports/06-26-2020.csv'\n",
    "\n",
    "data = wget.download(jh_covid_url)\n",
    "\n",
    "print(data)"
   ]
  },
  {
   "cell_type": "code",
   "execution_count": 60,
   "metadata": {},
   "outputs": [
    {
     "data": {
      "text/html": [
       "<div>\n",
       "<style scoped>\n",
       "    .dataframe tbody tr th:only-of-type {\n",
       "        vertical-align: middle;\n",
       "    }\n",
       "\n",
       "    .dataframe tbody tr th {\n",
       "        vertical-align: top;\n",
       "    }\n",
       "\n",
       "    .dataframe thead th {\n",
       "        text-align: right;\n",
       "    }\n",
       "</style>\n",
       "<table border=\"1\" class=\"dataframe\">\n",
       "  <thead>\n",
       "    <tr style=\"text-align: right;\">\n",
       "      <th></th>\n",
       "      <th>col1</th>\n",
       "      <th>col2</th>\n",
       "    </tr>\n",
       "  </thead>\n",
       "  <tbody>\n",
       "    <tr>\n",
       "      <th>0</th>\n",
       "      <td>a</td>\n",
       "      <td>1</td>\n",
       "    </tr>\n",
       "    <tr>\n",
       "      <th>1</th>\n",
       "      <td>b</td>\n",
       "      <td>2</td>\n",
       "    </tr>\n",
       "    <tr>\n",
       "      <th>2</th>\n",
       "      <td>c</td>\n",
       "      <td>3</td>\n",
       "    </tr>\n",
       "  </tbody>\n",
       "</table>\n",
       "</div>"
      ],
      "text/plain": [
       "  col1  col2\n",
       "0    a     1\n",
       "1    b     2\n",
       "2    c     3"
      ]
     },
     "execution_count": 60,
     "metadata": {},
     "output_type": "execute_result"
    }
   ],
   "source": [
    "# make a dictionary from a list/dictionary\n",
    "pd.DataFrame({'col1':['a','b','c'],'col2':[1,2,3]})"
   ]
  },
  {
   "cell_type": "code",
   "execution_count": 62,
   "metadata": {},
   "outputs": [],
   "source": [
    "df = pd.read_csv('06-26-2020.csv')"
   ]
  },
  {
   "cell_type": "code",
   "execution_count": 63,
   "metadata": {},
   "outputs": [],
   "source": [
    "# output 3 main data structures\n",
    "columns = df.columns\n",
    "index = df.index\n",
    "data = df.to_numpy()"
   ]
  },
  {
   "cell_type": "code",
   "execution_count": 66,
   "metadata": {},
   "outputs": [
    {
     "data": {
      "text/plain": [
       "array([[45001.0, 'Abbeville', 'South Carolina', ...,\n",
       "        'Abbeville, South Carolina, US', 407.7139478941575, 0.0],\n",
       "       [22001.0, 'Acadia', 'Louisiana', ..., 'Acadia, Louisiana, US',\n",
       "        1261.9872673059876, 4.597701149425287],\n",
       "       [51001.0, 'Accomack', 'Virginia', ..., 'Accomack, Virginia, US',\n",
       "        3208.9367495977226, 1.3500482160077143],\n",
       "       ...,\n",
       "       [2066.0, 'Copper River', 'Alaska', ...,\n",
       "        'Copper River, Alaska, US', nan, nan],\n",
       "       [2063.0, 'Chugach', 'Alaska', ..., 'Chugach, Alaska, US', nan,\n",
       "        nan],\n",
       "       [nan, nan, 'Unknown', ..., 'Unknown, China', 0.0, 0.0]],\n",
       "      dtype=object)"
      ]
     },
     "execution_count": 66,
     "metadata": {},
     "output_type": "execute_result"
    }
   ],
   "source": [
    "data"
   ]
  },
  {
   "cell_type": "code",
   "execution_count": 71,
   "metadata": {},
   "outputs": [
    {
     "name": "stdout",
     "output_type": "stream",
     "text": [
      "<class 'pandas.core.frame.DataFrame'>\n",
      "RangeIndex: 3788 entries, 0 to 3787\n",
      "Data columns (total 14 columns):\n",
      " #   Column               Non-Null Count  Dtype  \n",
      "---  ------               --------------  -----  \n",
      " 0   FIPS                 3103 non-null   float64\n",
      " 1   Admin2               3107 non-null   object \n",
      " 2   Province_State       3619 non-null   object \n",
      " 3   Country_Region       3788 non-null   object \n",
      " 4   Last_Update          3788 non-null   object \n",
      " 5   Lat                  3712 non-null   float64\n",
      " 6   Long_                3712 non-null   float64\n",
      " 7   Confirmed            3788 non-null   int64  \n",
      " 8   Deaths               3788 non-null   int64  \n",
      " 9   Recovered            3788 non-null   int64  \n",
      " 10  Active               3788 non-null   int64  \n",
      " 11  Combined_Key         3788 non-null   object \n",
      " 12  Incidence_Rate       3708 non-null   float64\n",
      " 13  Case-Fatality_Ratio  3722 non-null   float64\n",
      "dtypes: float64(5), int64(4), object(5)\n",
      "memory usage: 414.4+ KB\n"
     ]
    }
   ],
   "source": [
    "# data types, value_counts, and info\n",
    "df.info()"
   ]
  },
  {
   "cell_type": "code",
   "execution_count": 77,
   "metadata": {},
   "outputs": [
    {
     "data": {
      "text/plain": [
       "dtype('O')"
      ]
     },
     "execution_count": 77,
     "metadata": {},
     "output_type": "execute_result"
    }
   ],
   "source": [
    "df.loc[:,'Province_State'].dtypes"
   ]
  },
  {
   "cell_type": "code",
   "execution_count": 78,
   "metadata": {},
   "outputs": [
    {
     "data": {
      "text/plain": [
       "dtype('O')"
      ]
     },
     "execution_count": 78,
     "metadata": {},
     "output_type": "execute_result"
    }
   ],
   "source": [
    "df.iloc[:,2].dtypes"
   ]
  },
  {
   "cell_type": "code",
   "execution_count": 82,
   "metadata": {},
   "outputs": [
    {
     "data": {
      "text/plain": [
       "array([<class 'str'>, <class 'float'>], dtype=object)"
      ]
     },
     "execution_count": 82,
     "metadata": {},
     "output_type": "execute_result"
    }
   ],
   "source": [
    "df.loc[:,'Province_State'].apply(type).unique()"
   ]
  },
  {
   "cell_type": "code",
   "execution_count": 95,
   "metadata": {},
   "outputs": [
    {
     "data": {
      "text/plain": [
       "0        True\n",
       "1        True\n",
       "2        True\n",
       "3        True\n",
       "4        True\n",
       "        ...  \n",
       "3783    False\n",
       "3784    False\n",
       "3785     True\n",
       "3786     True\n",
       "3787     True\n",
       "Name: Province_State, Length: 3788, dtype: bool"
      ]
     },
     "execution_count": 95,
     "metadata": {},
     "output_type": "execute_result"
    }
   ],
   "source": [
    "df.loc[:,'Province_State'].notna()"
   ]
  },
  {
   "cell_type": "code",
   "execution_count": null,
   "metadata": {},
   "outputs": [],
   "source": []
  }
 ],
 "metadata": {
  "kernelspec": {
   "display_name": "Python 3",
   "language": "python",
   "name": "python3"
  },
  "language_info": {
   "codemirror_mode": {
    "name": "ipython",
    "version": 3
   },
   "file_extension": ".py",
   "mimetype": "text/x-python",
   "name": "python",
   "nbconvert_exporter": "python",
   "pygments_lexer": "ipython3",
   "version": "3.8.5"
  }
 },
 "nbformat": 4,
 "nbformat_minor": 4
}
