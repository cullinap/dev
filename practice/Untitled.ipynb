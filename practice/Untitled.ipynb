{
 "cells": [
  {
   "cell_type": "code",
   "execution_count": 1,
   "metadata": {},
   "outputs": [],
   "source": [
    "# phse 1\n",
    "# create a dataframe froom a list, dictionary, list comprehension, sort_values, output to csv, read csv\n",
    "# output to a csv, import with a file parser\n",
    "# create a sqlite3 table and insert some values"
   ]
  },
  {
   "cell_type": "code",
   "execution_count": 1,
   "metadata": {},
   "outputs": [],
   "source": [
    "import pandas as pd\n",
    "import random as randint"
   ]
  },
  {
   "cell_type": "code",
   "execution_count": 2,
   "metadata": {},
   "outputs": [
    {
     "name": "stdout",
     "output_type": "stream",
     "text": [
      "Requirement already up-to-date: wget in /opt/miniconda3/lib/python3.8/site-packages (3.2)\n",
      "\u001b[33mWARNING: Error parsing requirements for plotly: [Errno 2] No such file or directory: '/opt/miniconda3/lib/python3.8/site-packages/plotly-4.12.0.dist-info/METADATA'\u001b[0m\n",
      "06-26-2020 (2).csv\n"
     ]
    }
   ],
   "source": [
    "!pip install --upgrade wget\n",
    "import wget\n",
    "\n",
    "#cus_churn_url = 'https://raw.githubusercontent.com/pmservice/wml-sample-models/master/spark/customer-satisfaction-prediction/data/Telco_customer_churn.csv'\n",
    "jh_covid_url = 'https://raw.githubusercontent.com/CSSEGISandData/COVID-19/master/csse_covid_19_data/csse_covid_19_daily_reports/06-26-2020.csv'\n",
    "\n",
    "data = wget.download(jh_covid_url)\n",
    "\n",
    "print(data)"
   ]
  },
  {
   "cell_type": "code",
   "execution_count": 4,
   "metadata": {},
   "outputs": [
    {
     "data": {
      "text/html": [
       "<div>\n",
       "<style scoped>\n",
       "    .dataframe tbody tr th:only-of-type {\n",
       "        vertical-align: middle;\n",
       "    }\n",
       "\n",
       "    .dataframe tbody tr th {\n",
       "        vertical-align: top;\n",
       "    }\n",
       "\n",
       "    .dataframe thead th {\n",
       "        text-align: right;\n",
       "    }\n",
       "</style>\n",
       "<table border=\"1\" class=\"dataframe\">\n",
       "  <thead>\n",
       "    <tr style=\"text-align: right;\">\n",
       "      <th></th>\n",
       "      <th>a</th>\n",
       "      <th>b</th>\n",
       "    </tr>\n",
       "  </thead>\n",
       "  <tbody>\n",
       "    <tr>\n",
       "      <th>0</th>\n",
       "      <td>1</td>\n",
       "      <td>4</td>\n",
       "    </tr>\n",
       "    <tr>\n",
       "      <th>1</th>\n",
       "      <td>2</td>\n",
       "      <td>5</td>\n",
       "    </tr>\n",
       "    <tr>\n",
       "      <th>2</th>\n",
       "      <td>3</td>\n",
       "      <td>6</td>\n",
       "    </tr>\n",
       "  </tbody>\n",
       "</table>\n",
       "</div>"
      ],
      "text/plain": [
       "   a  b\n",
       "0  1  4\n",
       "1  2  5\n",
       "2  3  6"
      ]
     },
     "execution_count": 4,
     "metadata": {},
     "output_type": "execute_result"
    }
   ],
   "source": [
    "l = ['a','b','c','d']\n",
    "d = {'a':[1,2,3],'b':[4,5,6]}\n",
    "\n",
    "pd.DataFrame(d)"
   ]
  },
  {
   "cell_type": "code",
   "execution_count": 6,
   "metadata": {},
   "outputs": [
    {
     "data": {
      "text/html": [
       "<div>\n",
       "<style scoped>\n",
       "    .dataframe tbody tr th:only-of-type {\n",
       "        vertical-align: middle;\n",
       "    }\n",
       "\n",
       "    .dataframe tbody tr th {\n",
       "        vertical-align: top;\n",
       "    }\n",
       "\n",
       "    .dataframe thead th {\n",
       "        text-align: right;\n",
       "    }\n",
       "</style>\n",
       "<table border=\"1\" class=\"dataframe\">\n",
       "  <thead>\n",
       "    <tr style=\"text-align: right;\">\n",
       "      <th></th>\n",
       "      <th>FIPS</th>\n",
       "      <th>Admin2</th>\n",
       "      <th>Province_State</th>\n",
       "      <th>Country_Region</th>\n",
       "      <th>Last_Update</th>\n",
       "      <th>Lat</th>\n",
       "      <th>Long_</th>\n",
       "      <th>Confirmed</th>\n",
       "      <th>Deaths</th>\n",
       "      <th>Recovered</th>\n",
       "      <th>Active</th>\n",
       "      <th>Combined_Key</th>\n",
       "      <th>Incidence_Rate</th>\n",
       "      <th>Case-Fatality_Ratio</th>\n",
       "    </tr>\n",
       "  </thead>\n",
       "  <tbody>\n",
       "    <tr>\n",
       "      <th>0</th>\n",
       "      <td>45001.0</td>\n",
       "      <td>Abbeville</td>\n",
       "      <td>South Carolina</td>\n",
       "      <td>US</td>\n",
       "      <td>2020-06-27 04:33:35</td>\n",
       "      <td>34.223334</td>\n",
       "      <td>-82.461707</td>\n",
       "      <td>100</td>\n",
       "      <td>0</td>\n",
       "      <td>0</td>\n",
       "      <td>100</td>\n",
       "      <td>Abbeville, South Carolina, US</td>\n",
       "      <td>407.713948</td>\n",
       "      <td>0.000000</td>\n",
       "    </tr>\n",
       "    <tr>\n",
       "      <th>1</th>\n",
       "      <td>22001.0</td>\n",
       "      <td>Acadia</td>\n",
       "      <td>Louisiana</td>\n",
       "      <td>US</td>\n",
       "      <td>2020-06-27 04:33:35</td>\n",
       "      <td>30.295065</td>\n",
       "      <td>-92.414197</td>\n",
       "      <td>783</td>\n",
       "      <td>36</td>\n",
       "      <td>0</td>\n",
       "      <td>747</td>\n",
       "      <td>Acadia, Louisiana, US</td>\n",
       "      <td>1261.987267</td>\n",
       "      <td>4.597701</td>\n",
       "    </tr>\n",
       "  </tbody>\n",
       "</table>\n",
       "</div>"
      ],
      "text/plain": [
       "      FIPS     Admin2  Province_State Country_Region          Last_Update  \\\n",
       "0  45001.0  Abbeville  South Carolina             US  2020-06-27 04:33:35   \n",
       "1  22001.0     Acadia       Louisiana             US  2020-06-27 04:33:35   \n",
       "\n",
       "         Lat      Long_  Confirmed  Deaths  Recovered  Active  \\\n",
       "0  34.223334 -82.461707        100       0          0     100   \n",
       "1  30.295065 -92.414197        783      36          0     747   \n",
       "\n",
       "                    Combined_Key  Incidence_Rate  Case-Fatality_Ratio  \n",
       "0  Abbeville, South Carolina, US      407.713948             0.000000  \n",
       "1          Acadia, Louisiana, US     1261.987267             4.597701  "
      ]
     },
     "execution_count": 6,
     "metadata": {},
     "output_type": "execute_result"
    }
   ],
   "source": [
    "df = pd.read_csv('06-26-2020.csv'); df.head(2)"
   ]
  },
  {
   "cell_type": "code",
   "execution_count": 15,
   "metadata": {},
   "outputs": [],
   "source": [
    "columns = df.columns\n",
    "index = df.index \n",
    "data = df.to_numpy()"
   ]
  },
  {
   "cell_type": "code",
   "execution_count": 13,
   "metadata": {},
   "outputs": [
    {
     "data": {
      "text/plain": [
       "array([   0,    1,    2, ..., 3785, 3786, 3787])"
      ]
     },
     "execution_count": 13,
     "metadata": {},
     "output_type": "execute_result"
    }
   ],
   "source": [
    "index.to_numpy()"
   ]
  },
  {
   "cell_type": "code",
   "execution_count": 19,
   "metadata": {},
   "outputs": [
    {
     "data": {
      "text/plain": [
       "(3788, 14)"
      ]
     },
     "execution_count": 19,
     "metadata": {},
     "output_type": "execute_result"
    }
   ],
   "source": [
    "data.shape"
   ]
  },
  {
   "cell_type": "code",
   "execution_count": 25,
   "metadata": {},
   "outputs": [
    {
     "name": "stdout",
     "output_type": "stream",
     "text": [
      "<class 'pandas.core.frame.DataFrame'>\n",
      "RangeIndex: 3788 entries, 0 to 3787\n",
      "Data columns (total 14 columns):\n",
      " #   Column               Non-Null Count  Dtype  \n",
      "---  ------               --------------  -----  \n",
      " 0   FIPS                 3103 non-null   float64\n",
      " 1   Admin2               3107 non-null   object \n",
      " 2   Province_State       3619 non-null   object \n",
      " 3   Country_Region       3788 non-null   object \n",
      " 4   Last_Update          3788 non-null   object \n",
      " 5   Lat                  3712 non-null   float64\n",
      " 6   Long_                3712 non-null   float64\n",
      " 7   Confirmed            3788 non-null   int64  \n",
      " 8   Deaths               3788 non-null   int64  \n",
      " 9   Recovered            3788 non-null   int64  \n",
      " 10  Active               3788 non-null   int64  \n",
      " 11  Combined_Key         3788 non-null   object \n",
      " 12  Incidence_Rate       3708 non-null   float64\n",
      " 13  Case-Fatality_Ratio  3722 non-null   float64\n",
      "dtypes: float64(5), int64(4), object(5)\n",
      "memory usage: 414.4+ KB\n"
     ]
    }
   ],
   "source": [
    "df.info()"
   ]
  },
  {
   "cell_type": "code",
   "execution_count": 28,
   "metadata": {},
   "outputs": [
    {
     "data": {
      "text/plain": [
       "FIPS                   float64\n",
       "Admin2                  object\n",
       "Province_State          object\n",
       "Country_Region          object\n",
       "Last_Update             object\n",
       "Lat                    float64\n",
       "Long_                  float64\n",
       "Confirmed                int64\n",
       "Deaths                   int64\n",
       "Recovered                int64\n",
       "Active                   int64\n",
       "Combined_Key            object\n",
       "Incidence_Rate         float64\n",
       "Case-Fatality_Ratio    float64\n",
       "dtype: object"
      ]
     },
     "execution_count": 28,
     "metadata": {},
     "output_type": "execute_result"
    }
   ],
   "source": [
    "df.dtypes"
   ]
  },
  {
   "cell_type": "code",
   "execution_count": 31,
   "metadata": {},
   "outputs": [
    {
     "data": {
      "text/plain": [
       "FIPS     Admin2     Province_State  Country_Region  Last_Update          Lat        Long_        Confirmed  Deaths  Recovered  Active  Combined_Key             Incidence_Rate  Case-Fatality_Ratio\n",
       "56045.0  Weston     Wyoming         US              2020-06-27 04:33:35  43.839612  -104.567488  1          0       0          1       Weston, Wyoming, US      14.436264       0.000000               1\n",
       "21083.0  Graves     Kentucky        US              2020-06-27 04:33:35  36.722925  -88.651433   192        21      0          171     Graves, Kentucky, US     515.214941      10.937500              1\n",
       "21101.0  Henderson  Kentucky        US              2020-06-27 04:33:35  37.793446  -87.573920   155        3       0          152     Henderson, Kentucky, US  342.844503      1.935484               1\n",
       "21099.0  Hart       Kentucky        US              2020-06-27 04:33:35  37.299439  -85.884611   39         0       0          39      Hart, Kentucky, US       204.885737      0.000000               1\n",
       "21097.0  Harrison   Kentucky        US              2020-06-27 04:33:35  38.441882  -84.328697   66         0       0          66      Harrison, Kentucky, US   349.465212      0.000000               1\n",
       "                                                                                                                                                                                                      ..\n",
       "39099.0  Mahoning   Ohio            US              2020-06-27 04:33:35  41.016311  -80.772870   1695       203     0          1468    Mahoning, Ohio, US       741.200701      13.392330              1\n",
       "39097.0  Madison    Ohio            US              2020-06-27 04:33:35  39.893811  -83.401783   181        6       0          173     Madison, Ohio, US        404.641077      4.419890               1\n",
       "39095.0  Lucas      Ohio            US              2020-06-27 04:33:35  41.621012  -83.654686   2538       261     0          2239    Lucas, Ohio, US          592.508895      11.780930              1\n",
       "39093.0  Lorain     Ohio            US              2020-06-27 04:33:35  41.295538  -82.150835   901        64      0          834     Lorain, Ohio, US         290.801819      7.436182               1\n",
       "1001.0   Autauga    Alabama         US              2020-06-27 04:33:35  32.539527  -86.644082   500        10      0          472     Autauga, Alabama, US     862.732463      2.074689               1\n",
       "Length: 3012, dtype: int64"
      ]
     },
     "execution_count": 31,
     "metadata": {},
     "output_type": "execute_result"
    }
   ],
   "source": [
    "df.value_counts()"
   ]
  },
  {
   "cell_type": "code",
   "execution_count": 54,
   "metadata": {},
   "outputs": [
    {
     "data": {
      "text/plain": [
       "array(['South Carolina', 'Louisiana', 'Virginia', 'Idaho', 'Iowa',\n",
       "       'Kentucky', 'Missouri', 'Oklahoma', 'Colorado', 'Illinois',\n",
       "       'Indiana', 'Mississippi', 'Nebraska', 'Ohio', 'Pennsylvania',\n",
       "       'Washington', 'Wisconsin', 'Vermont', 'Minnesota', 'Florida',\n",
       "       'North Carolina', 'California', 'New York', 'Wyoming', 'Michigan',\n",
       "       'Maryland', 'Kansas', 'Alaska', 'Tennessee', 'Texas', 'Maine',\n",
       "       'Arizona', 'Georgia', 'Arkansas', 'New Jersey', 'South Dakota',\n",
       "       'Alabama', 'Oregon', 'West Virginia', 'North Dakota',\n",
       "       'Massachusetts', 'Utah', 'Montana', 'New Hampshire', 'New Mexico',\n",
       "       'Rhode Island', 'Nevada', 'District of Columbia', 'Connecticut',\n",
       "       'Hawaii', 'Delaware', 'Abruzzo', 'Acre', 'Adygea Republic',\n",
       "       'Aguascalientes', 'Aichi', 'Akita', 'Alagoas', 'Alberta',\n",
       "       'Altai Krai', 'Altai Republic', 'Amapa', 'Amazonas', 'Amur Oblast',\n",
       "       'Ancash', 'Andalusia', 'Andaman and Nicobar Islands',\n",
       "       'Andhra Pradesh', 'Anguilla', 'Anhui', 'Antioquia', 'Antofagasta',\n",
       "       'Aomori', 'Apurimac', 'Aragon', 'Arauca', 'Araucania', 'Arequipa',\n",
       "       'Arica y Parinacota', 'Arkhangelsk Oblast', 'Aruba',\n",
       "       'Arunachal Pradesh', 'Assam', 'Astrakhan Oblast', 'Asturias',\n",
       "       'Atacama', 'Atlantico', 'Australian Capital Territory', 'Ayacucho',\n",
       "       'Aysen', 'Azad Jammu and Kashmir', 'Baden-Wurttemberg', 'Bahia',\n",
       "       'Baja California', 'Baja California Sur', 'Baleares',\n",
       "       'Balochistan', 'Bashkortostan Republic', 'Basilicata', 'Bayern',\n",
       "       'Beijing', 'Belgorod Oblast', 'Berlin', 'Bermuda', 'Bihar',\n",
       "       'Biobio', 'Blekinge', 'Bolivar',\n",
       "       'Bonaire, Sint Eustatius and Saba', 'Boyaca', 'Brandenburg',\n",
       "       'Bremen', 'British Columbia', 'British Virgin Islands',\n",
       "       'Bryansk Oblast', 'Buryatia Republic', 'C. Valenciana',\n",
       "       'Cajamarca', 'Calabria', 'Caldas', 'Callao', 'Campania',\n",
       "       'Campeche', 'Canarias', 'Cantabria', 'Capital District', 'Caqueta',\n",
       "       'Casanare', 'Castilla - La Mancha', 'Castilla y Leon', 'Catalonia',\n",
       "       'Cauca', 'Cayman Islands', 'Ceara', 'Cesar', 'Ceuta', 'Chandigarh',\n",
       "       'Channel Islands', 'Chechen Republic', 'Chelyabinsk Oblast',\n",
       "       'Cherkasy Oblast', 'Chernihiv Oblast', 'Chernivtsi Oblast',\n",
       "       'Chhattisgarh', 'Chiapas', 'Chiba', 'Chihuahua', 'Choco',\n",
       "       'Chongqing', 'Chukotka Autonomous Okrug', 'Chuvashia Republic',\n",
       "       'Ciudad de Mexico', 'Coahuila', 'Colima', 'Coquimbo', 'Cordoba',\n",
       "       'Crimea Republic*', 'Cundinamarca', 'Curacao', 'Cusco',\n",
       "       'Dadra and Nagar Haveli and Daman and Diu', 'Dagestan Republic',\n",
       "       'Dalarna', 'Delhi', 'Diamond Princess', 'Distrito Federal',\n",
       "       'Dnipropetrovsk Oblast', 'Donetsk Oblast', 'Durango', 'Ehime',\n",
       "       'Emilia-Romagna', 'England', 'Espirito Santo', 'Extremadura',\n",
       "       'Falkland Islands (Malvinas)', 'Faroe Islands', 'French Guiana',\n",
       "       'French Polynesia', 'Friuli Venezia Giulia', 'Fujian', 'Fukui',\n",
       "       'Fukuoka', 'Fukushima', 'Galicia', 'Gansu', 'Gavleborg',\n",
       "       'Gibraltar', 'Gifu', 'Gilgit-Baltistan', 'Goa', 'Goias', 'Gotland',\n",
       "       'Grand Princess', 'Greenland', 'Guadeloupe', 'Guainia', 'Guam',\n",
       "       'Guanajuato', 'Guangdong', 'Guangxi', 'Guaviare', 'Guerrero',\n",
       "       'Guizhou', 'Gujarat', 'Gunma', 'Hainan', 'Halland', 'Hamburg',\n",
       "       'Haryana', 'Hebei', 'Heilongjiang', 'Henan', 'Hessen', 'Hidalgo',\n",
       "       'Himachal Pradesh', 'Hiroshima', 'Hokkaido', 'Hong Kong',\n",
       "       'Huancavelica', 'Huanuco', 'Hubei', 'Huila', 'Hunan', 'Hyogo',\n",
       "       'Ibaraki', 'Ica', 'Ingushetia Republic', 'Inner Mongolia',\n",
       "       'Irkutsk Oblast', 'Ishikawa', 'Islamabad', 'Isle of Man',\n",
       "       'Ivano-Frankivsk Oblast', 'Ivanovo Oblast', 'Jalisco',\n",
       "       'Jammu and Kashmir', 'Jamtland Harjedalen',\n",
       "       'Jewish Autonomous Okrug', 'Jharkhand', 'Jiangsu', 'Jiangxi',\n",
       "       'Jilin', 'Jonkoping', 'Junin', 'Kabardino-Balkarian Republic',\n",
       "       'Kagawa', 'Kagoshima', 'Kaliningrad Oblast', 'Kalmar',\n",
       "       'Kalmykia Republic', 'Kaluga Oblast', 'Kamchatka Krai', 'Kanagawa',\n",
       "       'Karachay-Cherkess Republic', 'Karelia Republic', 'Karnataka',\n",
       "       'Kemerovo Oblast', 'Kerala', 'Khabarovsk Krai',\n",
       "       'Khakassia Republic', 'Khanty-Mansi Autonomous Okrug',\n",
       "       'Kharkiv Oblast', 'Kherson Oblast', 'Khmelnytskyi Oblast',\n",
       "       'Khyber Pakhtunkhwa', 'Kiev', 'Kiev Oblast', 'Kirov Oblast',\n",
       "       'Kirovohrad Oblast', 'Kochi', 'Komi Republic', 'Kostroma Oblast',\n",
       "       'Krasnodar Krai', 'Krasnoyarsk Krai', 'Kronoberg', 'Kumamoto',\n",
       "       'Kurgan Oblast', 'Kursk Oblast', 'Kyoto', 'La Guajira',\n",
       "       'La Libertad', 'La Rioja', 'Ladakh', 'Lambayeque', 'Lazio',\n",
       "       'Leningrad Oblast', 'Liaoning', 'Liguria', 'Lima',\n",
       "       'Lipetsk Oblast', 'Lombardia', 'Loreto', 'Los Lagos', 'Los Rios',\n",
       "       'Luhansk Oblast', 'Lviv Oblast', 'Macau', 'Madhya Pradesh',\n",
       "       'Madre de Dios', 'Madrid', 'Magadan Oblast', 'Magallanes',\n",
       "       'Magdalena', 'Maharashtra', 'Manipur', 'Manitoba', 'Maranhao',\n",
       "       'Marche', 'Mari El Republic', 'Martinique', 'Mato Grosso',\n",
       "       'Mato Grosso do Sul', 'Maule', 'Mayotte', 'Mecklenburg-Vorpommern',\n",
       "       'Meghalaya', 'Melilla', 'Meta', 'Metropolitana', 'Mexico',\n",
       "       'Michoacan', 'Mie', 'Minas Gerais', 'Miyagi', 'Miyazaki',\n",
       "       'Mizoram', 'Molise', 'Montserrat', 'Moquegua', 'Mordovia Republic',\n",
       "       'Morelos', 'Moscow', 'Moscow Oblast', 'Murcia', 'Murmansk Oblast',\n",
       "       'Mykolaiv Oblast', 'Nagaland', 'Nagano', 'Nagasaki', 'Nara',\n",
       "       'Narino', 'Navarra', 'Nayarit', 'Nenets Autonomous Okrug',\n",
       "       'New Brunswick', 'New Caledonia', 'New South Wales',\n",
       "       'Newfoundland and Labrador', 'Niedersachsen', 'Niigata', 'Ningxia',\n",
       "       'Nizhny Novgorod Oblast', 'Nordrhein-Westfalen', 'Norrbotten',\n",
       "       'Norte de Santander', 'North Ossetia - Alania Republic',\n",
       "       'Northern Ireland', 'Northern Mariana Islands',\n",
       "       'Northern Territory', 'Northwest Territories', 'Nova Scotia',\n",
       "       'Nunavut', 'Novgorod Oblast', 'Novosibirsk Oblast', 'Nuble',\n",
       "       'Nuevo Leon', 'OHiggins', 'Oaxaca', 'Odessa Oblast', 'Odisha',\n",
       "       'Oita', 'Okayama', 'Okinawa', 'Omsk Oblast', 'Ontario', 'Orebro',\n",
       "       'Orel Oblast', 'Orenburg Oblast', 'Osaka', 'Ostergotland',\n",
       "       'P.A. Bolzano', 'P.A. Trento', 'Pais Vasco', 'Para', 'Paraiba',\n",
       "       'Parana', 'Pasco', 'Penza Oblast', 'Perm Krai', 'Pernambuco',\n",
       "       'Piaui', 'Piemonte', 'Piura', 'Poltava Oblast', 'Port Quarantine',\n",
       "       'Primorsky Krai', 'Prince Edward Island', 'Pskov Oblast',\n",
       "       'Puducherry', 'Puebla', 'Puerto Rico', 'Puglia', 'Punjab', 'Puno',\n",
       "       'Putumayo', 'Qinghai', 'Quebec', 'Queensland', 'Queretaro',\n",
       "       'Quindio', 'Quintana Roo', 'Rajasthan', 'Recovered', 'Reunion',\n",
       "       'Rheinland-Pfalz', 'Rio Grande do Norte', 'Rio Grande do Sul',\n",
       "       'Rio de Janeiro', 'Risaralda', 'Rivne Oblast', 'Rondonia',\n",
       "       'Roraima', 'Rostov Oblast', 'Ryazan Oblast', 'Saarland', 'Sachsen',\n",
       "       'Sachsen-Anhalt', 'Saga', 'Saint Barthelemy',\n",
       "       'Saint Helena, Ascension and Tristan da Cunha', 'Saint Petersburg',\n",
       "       'Saint Pierre and Miquelon', 'Saitama',\n",
       "       'Sakha (Yakutiya) Republic', 'Sakhalin Oblast', 'Samara Oblast',\n",
       "       'San Andres y Providencia', 'San Luis Potosi', 'San Martin',\n",
       "       'Santa Catarina', 'Santander', 'Sao Paulo', 'Saratov Oblast',\n",
       "       'Sardegna', 'Saskatchewan', 'Schleswig-Holstein', 'Scotland',\n",
       "       'Sergipe', 'Sevastopol*', 'Shaanxi', 'Shandong', 'Shanghai',\n",
       "       'Shanxi', 'Shiga', 'Shimane', 'Shizuoka', 'Sichuan', 'Sicilia',\n",
       "       'Sikkim', 'Sinaloa', 'Sindh', 'Sint Maarten', 'Skane',\n",
       "       'Smolensk Oblast', 'Sonora', 'Sormland', 'South Australia',\n",
       "       'St Martin', 'Stavropol Krai', 'Stockholm', 'Sucre', 'Sumy Oblast',\n",
       "       'Sverdlovsk Oblast', 'Tabasco', 'Tacna', 'Tamaulipas',\n",
       "       'Tambov Oblast', 'Tamil Nadu', 'Tarapaca', 'Tasmania',\n",
       "       'Tatarstan Republic', 'Telangana', 'Ternopil Oblast', 'Thuringen',\n",
       "       'Tianjin', 'Tibet', 'Tlaxcala', 'Tocantins', 'Tochigi',\n",
       "       'Tokushima', 'Tokyo', 'Tolima', 'Tomsk Oblast', 'Toscana',\n",
       "       'Tottori', 'Toyama', 'Tripura', 'Tula Oblast', 'Tumbes',\n",
       "       'Turks and Caicos Islands', 'Tver Oblast', 'Tyumen Oblast',\n",
       "       'Tyva Republic', 'Ucayali', 'Udmurt Republic', 'Ulyanovsk Oblast',\n",
       "       'Umbria', 'Unknown', 'Uppsala', 'Uttar Pradesh', 'Uttarakhand',\n",
       "       \"Valle d'Aosta\", 'Valle del Cauca', 'Valparaiso', 'Varmland',\n",
       "       'Vasterbotten', 'Vasternorrland', 'Vastmanland', 'Vastra Gotaland',\n",
       "       'Vaupes', 'Veneto', 'Veracruz', 'Vichada', 'Victoria',\n",
       "       'Vinnytsia Oblast', 'Virgin Islands', 'Vladimir Oblast',\n",
       "       'Volgograd Oblast', 'Vologda Oblast', 'Volyn Oblast',\n",
       "       'Voronezh Oblast', 'Wakayama', 'Wales', 'West Bengal',\n",
       "       'Western Australia', 'Xinjiang', 'Yamagata', 'Yamaguchi',\n",
       "       'Yamalo-Nenets Autonomous Okrug', 'Yamanashi', 'Yaroslavl Oblast',\n",
       "       'Yucatan', 'Yukon', 'Yunnan', 'Zabaykalsky Krai', 'Zacatecas',\n",
       "       'Zakarpattia Oblast', 'Zaporizhia Oblast', 'Zhejiang',\n",
       "       'Zhytomyr Oblast', nan], dtype=object)"
      ]
     },
     "execution_count": 54,
     "metadata": {},
     "output_type": "execute_result"
    }
   ],
   "source": [
    "df.loc[:,[c for c in df.columns if c.startswith('P')][0]].unique()"
   ]
  },
  {
   "cell_type": "code",
   "execution_count": 60,
   "metadata": {},
   "outputs": [
    {
     "data": {
      "text/plain": [
       "3619"
      ]
     },
     "execution_count": 60,
     "metadata": {},
     "output_type": "execute_result"
    }
   ],
   "source": [
    "df.iloc[:,2].describe()[0]"
   ]
  },
  {
   "cell_type": "code",
   "execution_count": 68,
   "metadata": {},
   "outputs": [
    {
     "data": {
      "text/plain": [
       "Texas    246\n",
       "Name: Province_State, dtype: int64"
      ]
     },
     "execution_count": 68,
     "metadata": {},
     "output_type": "execute_result"
    }
   ],
   "source": [
    "df.iloc[:,2].value_counts().head(1)"
   ]
  },
  {
   "cell_type": "code",
   "execution_count": 75,
   "metadata": {},
   "outputs": [
    {
     "data": {
      "text/plain": [
       "Index(['FIPS', 'Admin2', 'Province_State', 'Country_Region', 'Last_Update',\n",
       "       'Lat', 'Long_', 'Confirmed', 'Deaths', 'Recovered', 'Active',\n",
       "       'Combined_Key', 'Incidence_Rate', 'Case-Fatality_Ratio'],\n",
       "      dtype='object')"
      ]
     },
     "execution_count": 75,
     "metadata": {},
     "output_type": "execute_result"
    }
   ],
   "source": [
    "df['']"
   ]
  },
  {
   "cell_type": "code",
   "execution_count": 77,
   "metadata": {},
   "outputs": [
    {
     "data": {
      "text/html": [
       "<div>\n",
       "<style scoped>\n",
       "    .dataframe tbody tr th:only-of-type {\n",
       "        vertical-align: middle;\n",
       "    }\n",
       "\n",
       "    .dataframe tbody tr th {\n",
       "        vertical-align: top;\n",
       "    }\n",
       "\n",
       "    .dataframe thead th {\n",
       "        text-align: right;\n",
       "    }\n",
       "</style>\n",
       "<table border=\"1\" class=\"dataframe\">\n",
       "  <thead>\n",
       "    <tr style=\"text-align: right;\">\n",
       "      <th></th>\n",
       "      <th>FIPS</th>\n",
       "      <th>Admin2</th>\n",
       "      <th>State</th>\n",
       "      <th>Country_Region</th>\n",
       "      <th>Last_Update</th>\n",
       "      <th>Lat</th>\n",
       "      <th>Long_</th>\n",
       "      <th>Confirmed</th>\n",
       "      <th>Deaths</th>\n",
       "      <th>Recovered</th>\n",
       "      <th>Active</th>\n",
       "      <th>Combined_Key</th>\n",
       "      <th>Incidence_Rate</th>\n",
       "      <th>Case-Fatality_Ratio</th>\n",
       "    </tr>\n",
       "  </thead>\n",
       "  <tbody>\n",
       "    <tr>\n",
       "      <th>Zero</th>\n",
       "      <td>45001.0</td>\n",
       "      <td>Abbeville</td>\n",
       "      <td>South Carolina</td>\n",
       "      <td>US</td>\n",
       "      <td>2020-06-27 04:33:35</td>\n",
       "      <td>34.223334</td>\n",
       "      <td>-82.461707</td>\n",
       "      <td>100</td>\n",
       "      <td>0</td>\n",
       "      <td>0</td>\n",
       "      <td>100</td>\n",
       "      <td>Abbeville, South Carolina, US</td>\n",
       "      <td>407.713948</td>\n",
       "      <td>0.000000</td>\n",
       "    </tr>\n",
       "    <tr>\n",
       "      <th>1</th>\n",
       "      <td>22001.0</td>\n",
       "      <td>Acadia</td>\n",
       "      <td>Louisiana</td>\n",
       "      <td>US</td>\n",
       "      <td>2020-06-27 04:33:35</td>\n",
       "      <td>30.295065</td>\n",
       "      <td>-92.414197</td>\n",
       "      <td>783</td>\n",
       "      <td>36</td>\n",
       "      <td>0</td>\n",
       "      <td>747</td>\n",
       "      <td>Acadia, Louisiana, US</td>\n",
       "      <td>1261.987267</td>\n",
       "      <td>4.597701</td>\n",
       "    </tr>\n",
       "    <tr>\n",
       "      <th>2</th>\n",
       "      <td>51001.0</td>\n",
       "      <td>Accomack</td>\n",
       "      <td>Virginia</td>\n",
       "      <td>US</td>\n",
       "      <td>2020-06-27 04:33:35</td>\n",
       "      <td>37.767072</td>\n",
       "      <td>-75.632346</td>\n",
       "      <td>1037</td>\n",
       "      <td>14</td>\n",
       "      <td>0</td>\n",
       "      <td>1023</td>\n",
       "      <td>Accomack, Virginia, US</td>\n",
       "      <td>3208.936750</td>\n",
       "      <td>1.350048</td>\n",
       "    </tr>\n",
       "    <tr>\n",
       "      <th>3</th>\n",
       "      <td>16001.0</td>\n",
       "      <td>Ada</td>\n",
       "      <td>Idaho</td>\n",
       "      <td>US</td>\n",
       "      <td>2020-06-27 04:33:35</td>\n",
       "      <td>43.452658</td>\n",
       "      <td>-116.241552</td>\n",
       "      <td>1585</td>\n",
       "      <td>23</td>\n",
       "      <td>0</td>\n",
       "      <td>1562</td>\n",
       "      <td>Ada, Idaho, US</td>\n",
       "      <td>329.120180</td>\n",
       "      <td>1.451104</td>\n",
       "    </tr>\n",
       "    <tr>\n",
       "      <th>4</th>\n",
       "      <td>19001.0</td>\n",
       "      <td>Adair</td>\n",
       "      <td>Iowa</td>\n",
       "      <td>US</td>\n",
       "      <td>2020-06-27 03:33:36</td>\n",
       "      <td>41.330756</td>\n",
       "      <td>-94.471059</td>\n",
       "      <td>14</td>\n",
       "      <td>0</td>\n",
       "      <td>0</td>\n",
       "      <td>14</td>\n",
       "      <td>Adair, Iowa, US</td>\n",
       "      <td>195.749441</td>\n",
       "      <td>0.000000</td>\n",
       "    </tr>\n",
       "  </tbody>\n",
       "</table>\n",
       "</div>"
      ],
      "text/plain": [
       "         FIPS     Admin2           State Country_Region          Last_Update  \\\n",
       "Zero  45001.0  Abbeville  South Carolina             US  2020-06-27 04:33:35   \n",
       "1     22001.0     Acadia       Louisiana             US  2020-06-27 04:33:35   \n",
       "2     51001.0   Accomack        Virginia             US  2020-06-27 04:33:35   \n",
       "3     16001.0        Ada           Idaho             US  2020-06-27 04:33:35   \n",
       "4     19001.0      Adair            Iowa             US  2020-06-27 03:33:36   \n",
       "\n",
       "            Lat       Long_  Confirmed  Deaths  Recovered  Active  \\\n",
       "Zero  34.223334  -82.461707        100       0          0     100   \n",
       "1     30.295065  -92.414197        783      36          0     747   \n",
       "2     37.767072  -75.632346       1037      14          0    1023   \n",
       "3     43.452658 -116.241552       1585      23          0    1562   \n",
       "4     41.330756  -94.471059         14       0          0      14   \n",
       "\n",
       "                       Combined_Key  Incidence_Rate  Case-Fatality_Ratio  \n",
       "Zero  Abbeville, South Carolina, US      407.713948             0.000000  \n",
       "1             Acadia, Louisiana, US     1261.987267             4.597701  \n",
       "2            Accomack, Virginia, US     3208.936750             1.350048  \n",
       "3                    Ada, Idaho, US      329.120180             1.451104  \n",
       "4                   Adair, Iowa, US      195.749441             0.000000  "
      ]
     },
     "execution_count": 77,
     "metadata": {},
     "output_type": "execute_result"
    }
   ],
   "source": [
    "cols = {\n",
    "    'Province_State':'State'\n",
    "}\n",
    "\n",
    "idx = {\n",
    "    0: 'Zero'\n",
    "}\n",
    "\n",
    "df.rename(index=idx, columns=cols).head()"
   ]
  },
  {
   "cell_type": "code",
   "execution_count": 82,
   "metadata": {},
   "outputs": [],
   "source": [
    "import random\n",
    "\n",
    "length = len(df.loc[:,[c for c in df.columns if c.startswith('P')][0]])\n",
    "\n",
    "vals = [random.randint(0,10) for i in range(length)]\n",
    "\n",
    "df['newCol'] = vals"
   ]
  },
  {
   "cell_type": "code",
   "execution_count": 84,
   "metadata": {},
   "outputs": [
    {
     "data": {
      "text/plain": [
       "Index(['FIPS', 'Admin2', 'Province_State', 'Country_Region', 'Last_Update',\n",
       "       'Lat', 'Long_', 'Confirmed', 'Deaths', 'Recovered', 'Active',\n",
       "       'Combined_Key', 'Incidence_Rate', 'Case-Fatality_Ratio', 'newCol'],\n",
       "      dtype='object')"
      ]
     },
     "execution_count": 84,
     "metadata": {},
     "output_type": "execute_result"
    }
   ],
   "source": [
    "df.columns"
   ]
  },
  {
   "cell_type": "code",
   "execution_count": null,
   "metadata": {},
   "outputs": [],
   "source": []
  }
 ],
 "metadata": {
  "kernelspec": {
   "display_name": "Python 3",
   "language": "python",
   "name": "python3"
  },
  "language_info": {
   "codemirror_mode": {
    "name": "ipython",
    "version": 3
   },
   "file_extension": ".py",
   "mimetype": "text/x-python",
   "name": "python",
   "nbconvert_exporter": "python",
   "pygments_lexer": "ipython3",
   "version": "3.8.5"
  }
 },
 "nbformat": 4,
 "nbformat_minor": 4
}
