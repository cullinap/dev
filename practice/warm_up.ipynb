{
 "cells": [
  {
   "cell_type": "code",
   "execution_count": 110,
   "metadata": {},
   "outputs": [],
   "source": [
    "import interview_questions, warm_up\n",
    "import random\n",
    "import datetime\n",
    "import pandas as pd\n",
    "import numpy as np\n",
    "import torch\n",
    "from sqlalchemy import create_engine\n",
    "engine = create_engine('sqlite://', echo=False)"
   ]
  },
  {
   "cell_type": "code",
   "execution_count": 111,
   "metadata": {},
   "outputs": [],
   "source": [
    "df = pd.read_csv('06-26-2020.csv') # dataset for coding warmup\n",
    "df.to_sql('june_corona', con=engine)\n",
    "questions = interview_questions.questions\n",
    "warmUp = warm_up.questions\n",
    "data = [q for q in questions.items()]\n",
    "warmUpQuestions = [q for q in warmUp.items()]"
   ]
  },
  {
   "cell_type": "code",
   "execution_count": 112,
   "metadata": {},
   "outputs": [],
   "source": [
    "# join warmups\n",
    "url1 = 'https://raw.githubusercontent.com/CSSEGISandData/COVID-19/master/csse_covid_19_data/csse_covid_19_daily_reports/12-31-2020.csv'\n",
    "url2 = 'https://raw.githubusercontent.com/CSSEGISandData/COVID-19/master/csse_covid_19_data/csse_covid_19_daily_reports/12-27-2020.csv'"
   ]
  },
  {
   "cell_type": "code",
   "execution_count": 113,
   "metadata": {},
   "outputs": [],
   "source": [
    "#day1 = pd.read_csv(url1)\n",
    "#day2 = pd.read_csv(url2)"
   ]
  },
  {
   "cell_type": "code",
   "execution_count": 114,
   "metadata": {},
   "outputs": [],
   "source": [
    "results = {}\n",
    "\n",
    "def trackAnswers(result, question):\n",
    "    datetime_object = datetime.datetime.now()\n",
    "    if result:\n",
    "        results[datetime_object] = (question, 'T')\n",
    "    results[datetime_object] = (question, 'T')\n",
    "\n",
    "# add in some probability questions\n",
    "def quiz_question():\n",
    "    q = data[random.randint(0,2)]\n",
    "    print(q[0])\n",
    "    answer = input()\n",
    "    if answer == q[1]:\n",
    "        print('good job', trackAnswers(True, q[0]))\n",
    "    else:    \n",
    "        print(f'wrong answer {q[1]}', trackAnswers(False, q[0]))\n",
    "\n",
    "# make it so this does not repeat questions\n",
    "# add in some probability questions\n",
    "def warm_up_question():\n",
    "    for n,i in enumerate(range(5)):\n",
    "        q = warmUpQuestions[random.randint(0,14)]\n",
    "        print(str(n+1) + \" \" + q[1] + '\\n')"
   ]
  },
  {
   "cell_type": "code",
   "execution_count": 115,
   "metadata": {},
   "outputs": [],
   "source": [
    "#quiz_question()\n",
    "#engine.execute(\"SELECT Admin2 FROM june_corona\").fetchall()"
   ]
  },
  {
   "cell_type": "markdown",
   "metadata": {},
   "source": [
    "##### Warm-up"
   ]
  },
  {
   "cell_type": "code",
   "execution_count": 116,
   "metadata": {},
   "outputs": [
    {
     "name": "stdout",
     "output_type": "stream",
     "text": [
      "1 rename index and column name\n",
      "\n",
      "2 create a vector and matrix in pytorch and numpy\n",
      "\n",
      "3 assign the columns, index, and data to varaibles and display\n",
      "\n",
      "4 rename index and column name\n",
      "\n",
      "5 return the summary statistics of the column\n",
      "\n"
     ]
    }
   ],
   "source": [
    "warm_up_question()"
   ]
  },
  {
   "cell_type": "code",
   "execution_count": 117,
   "metadata": {},
   "outputs": [
    {
     "data": {
      "text/plain": [
       "Index(['FIPS', 'Admin2', 'Province_State', 'Country_Region', 'Last_Update',\n",
       "       'Lat', 'Long_', 'Confirmed', 'Deaths', 'Recovered', 'Active',\n",
       "       'Combined_Key', 'Incidence_Rate', 'Case-Fatality_Ratio'],\n",
       "      dtype='object')"
      ]
     },
     "execution_count": 117,
     "metadata": {},
     "output_type": "execute_result"
    }
   ],
   "source": [
    "df.columns"
   ]
  },
  {
   "cell_type": "code",
   "execution_count": 119,
   "metadata": {},
   "outputs": [
    {
     "data": {
      "text/html": [
       "<div>\n",
       "<style scoped>\n",
       "    .dataframe tbody tr th:only-of-type {\n",
       "        vertical-align: middle;\n",
       "    }\n",
       "\n",
       "    .dataframe tbody tr th {\n",
       "        vertical-align: top;\n",
       "    }\n",
       "\n",
       "    .dataframe thead th {\n",
       "        text-align: right;\n",
       "    }\n",
       "</style>\n",
       "<table border=\"1\" class=\"dataframe\">\n",
       "  <thead>\n",
       "    <tr style=\"text-align: right;\">\n",
       "      <th></th>\n",
       "      <th>FIPS</th>\n",
       "      <th>admind2</th>\n",
       "      <th>Province_State</th>\n",
       "      <th>Country_Region</th>\n",
       "      <th>Last_Update</th>\n",
       "      <th>Lat</th>\n",
       "      <th>Long_</th>\n",
       "      <th>Confirmed</th>\n",
       "      <th>Deaths</th>\n",
       "      <th>Recovered</th>\n",
       "      <th>Active</th>\n",
       "      <th>Combined_Key</th>\n",
       "      <th>Incidence_Rate</th>\n",
       "      <th>Case-Fatality_Ratio</th>\n",
       "    </tr>\n",
       "  </thead>\n",
       "  <tbody>\n",
       "    <tr>\n",
       "      <th>zero</th>\n",
       "      <td>45001.0</td>\n",
       "      <td>Abbeville</td>\n",
       "      <td>South Carolina</td>\n",
       "      <td>US</td>\n",
       "      <td>2020-06-27 04:33:35</td>\n",
       "      <td>34.223334</td>\n",
       "      <td>-82.461707</td>\n",
       "      <td>100</td>\n",
       "      <td>0</td>\n",
       "      <td>0</td>\n",
       "      <td>100</td>\n",
       "      <td>Abbeville, South Carolina, US</td>\n",
       "      <td>407.713948</td>\n",
       "      <td>0.000000</td>\n",
       "    </tr>\n",
       "    <tr>\n",
       "      <th>1</th>\n",
       "      <td>22001.0</td>\n",
       "      <td>Acadia</td>\n",
       "      <td>Louisiana</td>\n",
       "      <td>US</td>\n",
       "      <td>2020-06-27 04:33:35</td>\n",
       "      <td>30.295065</td>\n",
       "      <td>-92.414197</td>\n",
       "      <td>783</td>\n",
       "      <td>36</td>\n",
       "      <td>0</td>\n",
       "      <td>747</td>\n",
       "      <td>Acadia, Louisiana, US</td>\n",
       "      <td>1261.987267</td>\n",
       "      <td>4.597701</td>\n",
       "    </tr>\n",
       "  </tbody>\n",
       "</table>\n",
       "</div>"
      ],
      "text/plain": [
       "         FIPS    admind2  Province_State Country_Region          Last_Update  \\\n",
       "zero  45001.0  Abbeville  South Carolina             US  2020-06-27 04:33:35   \n",
       "1     22001.0     Acadia       Louisiana             US  2020-06-27 04:33:35   \n",
       "\n",
       "            Lat      Long_  Confirmed  Deaths  Recovered  Active  \\\n",
       "zero  34.223334 -82.461707        100       0          0     100   \n",
       "1     30.295065 -92.414197        783      36          0     747   \n",
       "\n",
       "                       Combined_Key  Incidence_Rate  Case-Fatality_Ratio  \n",
       "zero  Abbeville, South Carolina, US      407.713948             0.000000  \n",
       "1             Acadia, Louisiana, US     1261.987267             4.597701  "
      ]
     },
     "execution_count": 119,
     "metadata": {},
     "output_type": "execute_result"
    }
   ],
   "source": [
    "df.rename(index={0:'zero'},columns={'Admin2':'admind2'}).head(2)"
   ]
  },
  {
   "cell_type": "code",
   "execution_count": 132,
   "metadata": {},
   "outputs": [
    {
     "data": {
      "text/plain": [
       "[]"
      ]
     },
     "execution_count": 132,
     "metadata": {},
     "output_type": "execute_result"
    }
   ],
   "source": [
    "engine.execute(\n",
    "    '''\n",
    "    alter table june_corona\n",
    "    rename column Admin2 to admin2;\n",
    "    '''\n",
    ").fetchall()"
   ]
  },
  {
   "cell_type": "code",
   "execution_count": 135,
   "metadata": {},
   "outputs": [
    {
     "data": {
      "text/plain": [
       "tensor([0, 0, 1])"
      ]
     },
     "execution_count": 135,
     "metadata": {},
     "output_type": "execute_result"
    }
   ],
   "source": [
    "torch.tensor([0,0,1])"
   ]
  },
  {
   "cell_type": "code",
   "execution_count": 136,
   "metadata": {},
   "outputs": [
    {
     "data": {
      "text/plain": [
       "array([0, 1, 1])"
      ]
     },
     "execution_count": 136,
     "metadata": {},
     "output_type": "execute_result"
    }
   ],
   "source": [
    "np.array([0,1,1])"
   ]
  },
  {
   "cell_type": "code",
   "execution_count": 137,
   "metadata": {},
   "outputs": [
    {
     "data": {
      "text/plain": [
       "array([[0, 1],\n",
       "       [1, 0]])"
      ]
     },
     "execution_count": 137,
     "metadata": {},
     "output_type": "execute_result"
    }
   ],
   "source": [
    "np.array([[0,1],[1,0]])"
   ]
  },
  {
   "cell_type": "code",
   "execution_count": 138,
   "metadata": {},
   "outputs": [
    {
     "data": {
      "text/plain": [
       "tensor([[0, 1],\n",
       "        [1, 0]])"
      ]
     },
     "execution_count": 138,
     "metadata": {},
     "output_type": "execute_result"
    }
   ],
   "source": [
    "torch.tensor([[0,1],[1,0]])"
   ]
  },
  {
   "cell_type": "code",
   "execution_count": 140,
   "metadata": {},
   "outputs": [
    {
     "data": {
      "text/plain": [
       "array([   0,    1,    2, ..., 3785, 3786, 3787])"
      ]
     },
     "execution_count": 140,
     "metadata": {},
     "output_type": "execute_result"
    }
   ],
   "source": [
    "df.index.to_numpy()"
   ]
  },
  {
   "cell_type": "code",
   "execution_count": 141,
   "metadata": {},
   "outputs": [
    {
     "data": {
      "text/plain": [
       "Index(['FIPS', 'Admin2', 'Province_State', 'Country_Region', 'Last_Update',\n",
       "       'Lat', 'Long_', 'Confirmed', 'Deaths', 'Recovered', 'Active',\n",
       "       'Combined_Key', 'Incidence_Rate', 'Case-Fatality_Ratio'],\n",
       "      dtype='object')"
      ]
     },
     "execution_count": 141,
     "metadata": {},
     "output_type": "execute_result"
    }
   ],
   "source": [
    "df.columns"
   ]
  },
  {
   "cell_type": "code",
   "execution_count": 148,
   "metadata": {},
   "outputs": [
    {
     "data": {
      "text/plain": [
       "'Virginia'"
      ]
     },
     "execution_count": 148,
     "metadata": {},
     "output_type": "execute_result"
    }
   ],
   "source": [
    "df.to_numpy()[2][2]"
   ]
  },
  {
   "cell_type": "code",
   "execution_count": 153,
   "metadata": {},
   "outputs": [
    {
     "data": {
      "text/html": [
       "<div>\n",
       "<style scoped>\n",
       "    .dataframe tbody tr th:only-of-type {\n",
       "        vertical-align: middle;\n",
       "    }\n",
       "\n",
       "    .dataframe tbody tr th {\n",
       "        vertical-align: top;\n",
       "    }\n",
       "\n",
       "    .dataframe thead th {\n",
       "        text-align: right;\n",
       "    }\n",
       "</style>\n",
       "<table border=\"1\" class=\"dataframe\">\n",
       "  <thead>\n",
       "    <tr style=\"text-align: right;\">\n",
       "      <th></th>\n",
       "      <th>FIPS</th>\n",
       "      <th>Admin2</th>\n",
       "      <th>Province_State</th>\n",
       "      <th>Country_Region</th>\n",
       "      <th>Last_Update</th>\n",
       "      <th>Lat</th>\n",
       "      <th>Long_</th>\n",
       "      <th>Confirmed</th>\n",
       "      <th>Deaths</th>\n",
       "      <th>Recovered</th>\n",
       "      <th>Active</th>\n",
       "      <th>Combined_Key</th>\n",
       "      <th>Incidence_Rate</th>\n",
       "      <th>Case-Fatality_Ratio</th>\n",
       "    </tr>\n",
       "  </thead>\n",
       "  <tbody>\n",
       "    <tr>\n",
       "      <th>0</th>\n",
       "      <td>45001.0</td>\n",
       "      <td>Abbeville</td>\n",
       "      <td>South Carolina</td>\n",
       "      <td>US</td>\n",
       "      <td>2020-06-27 04:33:35</td>\n",
       "      <td>34.223334</td>\n",
       "      <td>-82.461707</td>\n",
       "      <td>100</td>\n",
       "      <td>0</td>\n",
       "      <td>0</td>\n",
       "      <td>100</td>\n",
       "      <td>Abbeville, South Carolina, US</td>\n",
       "      <td>407.713948</td>\n",
       "      <td>0.000000</td>\n",
       "    </tr>\n",
       "    <tr>\n",
       "      <th>1</th>\n",
       "      <td>22001.0</td>\n",
       "      <td>Acadia</td>\n",
       "      <td>Louisiana</td>\n",
       "      <td>US</td>\n",
       "      <td>2020-06-27 04:33:35</td>\n",
       "      <td>30.295065</td>\n",
       "      <td>-92.414197</td>\n",
       "      <td>783</td>\n",
       "      <td>36</td>\n",
       "      <td>0</td>\n",
       "      <td>747</td>\n",
       "      <td>Acadia, Louisiana, US</td>\n",
       "      <td>1261.987267</td>\n",
       "      <td>4.597701</td>\n",
       "    </tr>\n",
       "  </tbody>\n",
       "</table>\n",
       "</div>"
      ],
      "text/plain": [
       "      FIPS     Admin2  Province_State Country_Region          Last_Update  \\\n",
       "0  45001.0  Abbeville  South Carolina             US  2020-06-27 04:33:35   \n",
       "1  22001.0     Acadia       Louisiana             US  2020-06-27 04:33:35   \n",
       "\n",
       "         Lat      Long_  Confirmed  Deaths  Recovered  Active  \\\n",
       "0  34.223334 -82.461707        100       0          0     100   \n",
       "1  30.295065 -92.414197        783      36          0     747   \n",
       "\n",
       "                    Combined_Key  Incidence_Rate  Case-Fatality_Ratio  \n",
       "0  Abbeville, South Carolina, US      407.713948             0.000000  \n",
       "1          Acadia, Louisiana, US     1261.987267             4.597701  "
      ]
     },
     "execution_count": 153,
     "metadata": {},
     "output_type": "execute_result"
    }
   ],
   "source": [
    "df.head(2)"
   ]
  },
  {
   "cell_type": "code",
   "execution_count": 169,
   "metadata": {},
   "outputs": [
    {
     "data": {
      "text/plain": [
       "[('average', 130.46224920802536, 2590.8513727560717),\n",
       " ('max', 38888, 258508),\n",
       " ('min', 0, 0),\n",
       " ('total', 494191, 9814145)]"
      ]
     },
     "execution_count": 169,
     "metadata": {},
     "output_type": "execute_result"
    }
   ],
   "source": [
    "engine.execute(\n",
    "    '''\n",
    "    select 'total',\n",
    "        sum(deaths),\n",
    "        sum(confirmed)\n",
    "    from june_corona\n",
    "    union\n",
    "    select 'average',\n",
    "        avg(deaths),\n",
    "        avg(Confirmed)\n",
    "    from june_corona\n",
    "    union\n",
    "    select 'min',\n",
    "        min(deaths),\n",
    "        min(Confirmed)\n",
    "    from june_corona\n",
    "    union\n",
    "    select 'max',\n",
    "        max(deaths),\n",
    "        max(Confirmed)\n",
    "    from june_corona\n",
    "    '''\n",
    ").fetchall()"
   ]
  },
  {
   "cell_type": "code",
   "execution_count": null,
   "metadata": {},
   "outputs": [],
   "source": []
  }
 ],
 "metadata": {
  "kernelspec": {
   "display_name": "Python 3",
   "language": "python",
   "name": "python3"
  },
  "language_info": {
   "codemirror_mode": {
    "name": "ipython",
    "version": 3
   },
   "file_extension": ".py",
   "mimetype": "text/x-python",
   "name": "python",
   "nbconvert_exporter": "python",
   "pygments_lexer": "ipython3",
   "version": "3.8.5"
  }
 },
 "nbformat": 4,
 "nbformat_minor": 4
}
