{
 "cells": [
  {
   "cell_type": "code",
   "execution_count": 1,
   "metadata": {},
   "outputs": [],
   "source": [
    "import interview_questions, warm_up\n",
    "import random\n",
    "import datetime\n",
    "import pandas as pd\n",
    "import numpy as np\n",
    "import torch\n",
    "from sqlalchemy import create_engine\n",
    "engine = create_engine('sqlite://', echo=False)"
   ]
  },
  {
   "cell_type": "code",
   "execution_count": 2,
   "metadata": {},
   "outputs": [],
   "source": [
    "df = pd.read_csv('06-26-2020.csv') # dataset for coding warmup\n",
    "df.to_sql('june_corona', con=engine)\n",
    "questions = interview_questions.questions\n",
    "warmUp = warm_up.questions\n",
    "data = [q for q in questions.items()]\n",
    "warmUpQuestions = [q for q in warmUp.items()]"
   ]
  },
  {
   "cell_type": "markdown",
   "metadata": {},
   "source": [
    "https://pandas.pydata.org/docs/getting_started/comparison/comparison_with_sql.html#pandas-equivalents-for-some-sql-analytic-and-aggregate-functions"
   ]
  },
  {
   "cell_type": "code",
   "execution_count": 3,
   "metadata": {},
   "outputs": [],
   "source": [
    "# join warmups\n",
    "url1 = 'https://raw.githubusercontent.com/CSSEGISandData/COVID-19/master/csse_covid_19_data/csse_covid_19_daily_reports/12-31-2020.csv'\n",
    "url2 = 'https://raw.githubusercontent.com/CSSEGISandData/COVID-19/master/csse_covid_19_data/csse_covid_19_daily_reports/12-27-2020.csv'"
   ]
  },
  {
   "cell_type": "code",
   "execution_count": 4,
   "metadata": {},
   "outputs": [],
   "source": [
    "#day1 = pd.read_csv(url1)\n",
    "#day2 = pd.read_csv(url2)"
   ]
  },
  {
   "cell_type": "code",
   "execution_count": 5,
   "metadata": {},
   "outputs": [],
   "source": [
    "results = {}\n",
    "\n",
    "def trackAnswers(result, question):\n",
    "    datetime_object = datetime.datetime.now()\n",
    "    if result:\n",
    "        results[datetime_object] = (question, 'T')\n",
    "    results[datetime_object] = (question, 'T')\n",
    "\n",
    "# add in some probability questions\n",
    "def quiz_question():\n",
    "    q = data[random.randint(0,2)]\n",
    "    print(q[0])\n",
    "    answer = input()\n",
    "    if answer == q[1]:\n",
    "        print('good job', trackAnswers(True, q[0]))\n",
    "    else:    \n",
    "        print(f'wrong answer {q[1]}', trackAnswers(False, q[0]))\n",
    "\n",
    "# make it so this does not repeat questions\n",
    "# add in some probability questions\n",
    "def warm_up_question():\n",
    "    tot_q = len(warmUpQuestions)\n",
    "    for n,i in enumerate(range(5)):\n",
    "        try:\n",
    "            q = warmUpQuestions[random.randint(0,tot_q-1)]\n",
    "            print(str(n+1) + \" \" + q[1] + '\\n')\n",
    "        except:\n",
    "            print(f'ERROR: {tot_q}')"
   ]
  },
  {
   "cell_type": "code",
   "execution_count": 6,
   "metadata": {},
   "outputs": [],
   "source": [
    "#quiz_question()\n",
    "#engine.execute(\"SELECT Admin2 FROM june_corona\").fetchall()"
   ]
  },
  {
   "cell_type": "markdown",
   "metadata": {},
   "source": [
    "##### Warm-up"
   ]
  },
  {
   "cell_type": "code",
   "execution_count": 7,
   "metadata": {},
   "outputs": [
    {
     "name": "stdout",
     "output_type": "stream",
     "text": [
      "1 sql: create a table and insert values\n",
      "\n",
      "2 ssh into @bandit.labs.overthewire.org with username bandit0, port 2220 and pw: bandit0\n",
      "\n",
      "3 return the summary statistics of the column\n",
      "\n",
      "4 sql: total time spend by each employee: https://leetcode.com/problems/find-total-time-spent-by-each-employee/submissions/\n",
      "\n",
      "5 reorder the column names by alphabetical order and reverse alpha order\n",
      "\n"
     ]
    }
   ],
   "source": [
    "warm_up_question()"
   ]
  },
  {
   "cell_type": "code",
   "execution_count": 8,
   "metadata": {},
   "outputs": [],
   "source": [
    "df1 = pd.DataFrame({'key':['A','B','C','D'],'value':np.random.randn(4)})\n",
    "df2 = pd.DataFrame({'key':['B','D','D','E'],'value':np.random.randn(4)})"
   ]
  },
  {
   "cell_type": "code",
   "execution_count": 10,
   "metadata": {},
   "outputs": [
    {
     "data": {
      "text/html": [
       "<div>\n",
       "<style scoped>\n",
       "    .dataframe tbody tr th:only-of-type {\n",
       "        vertical-align: middle;\n",
       "    }\n",
       "\n",
       "    .dataframe tbody tr th {\n",
       "        vertical-align: top;\n",
       "    }\n",
       "\n",
       "    .dataframe thead th {\n",
       "        text-align: right;\n",
       "    }\n",
       "</style>\n",
       "<table border=\"1\" class=\"dataframe\">\n",
       "  <thead>\n",
       "    <tr style=\"text-align: right;\">\n",
       "      <th></th>\n",
       "      <th>key</th>\n",
       "      <th>value_x</th>\n",
       "      <th>value_y</th>\n",
       "    </tr>\n",
       "  </thead>\n",
       "  <tbody>\n",
       "    <tr>\n",
       "      <th>0</th>\n",
       "      <td>B</td>\n",
       "      <td>0.007801</td>\n",
       "      <td>-1.123426</td>\n",
       "    </tr>\n",
       "    <tr>\n",
       "      <th>1</th>\n",
       "      <td>D</td>\n",
       "      <td>0.784333</td>\n",
       "      <td>0.991502</td>\n",
       "    </tr>\n",
       "    <tr>\n",
       "      <th>2</th>\n",
       "      <td>D</td>\n",
       "      <td>0.784333</td>\n",
       "      <td>1.435913</td>\n",
       "    </tr>\n",
       "  </tbody>\n",
       "</table>\n",
       "</div>"
      ],
      "text/plain": [
       "  key   value_x   value_y\n",
       "0   B  0.007801 -1.123426\n",
       "1   D  0.784333  0.991502\n",
       "2   D  0.784333  1.435913"
      ]
     },
     "execution_count": 10,
     "metadata": {},
     "output_type": "execute_result"
    }
   ],
   "source": [
    "pd.merge(df1, df2, on='key')"
   ]
  },
  {
   "cell_type": "code",
   "execution_count": 12,
   "metadata": {},
   "outputs": [],
   "source": [
    "df1.to_sql('df1', con=engine)\n",
    "df2.to_sql('df2', con=engine)"
   ]
  },
  {
   "cell_type": "code",
   "execution_count": 14,
   "metadata": {},
   "outputs": [
    {
     "data": {
      "text/plain": [
       "[(1, 'B', 0.00780140892297036, 0, 'B', -1.1234259910536837),\n",
       " (3, 'D', 0.7843332734781189, 1, 'D', 0.9915021219140007),\n",
       " (3, 'D', 0.7843332734781189, 2, 'D', 1.4359126228037398)]"
      ]
     },
     "execution_count": 14,
     "metadata": {},
     "output_type": "execute_result"
    }
   ],
   "source": [
    "engine.execute(\n",
    "    '''\n",
    "    select *\n",
    "    from df1\n",
    "    join df2 on df1.key = df2.key;\n",
    "    '''\n",
    ").fetchall()"
   ]
  },
  {
   "cell_type": "code",
   "execution_count": 15,
   "metadata": {},
   "outputs": [
    {
     "data": {
      "text/html": [
       "<div>\n",
       "<style scoped>\n",
       "    .dataframe tbody tr th:only-of-type {\n",
       "        vertical-align: middle;\n",
       "    }\n",
       "\n",
       "    .dataframe tbody tr th {\n",
       "        vertical-align: top;\n",
       "    }\n",
       "\n",
       "    .dataframe thead th {\n",
       "        text-align: right;\n",
       "    }\n",
       "</style>\n",
       "<table border=\"1\" class=\"dataframe\">\n",
       "  <thead>\n",
       "    <tr style=\"text-align: right;\">\n",
       "      <th></th>\n",
       "      <th>key</th>\n",
       "      <th>value_x</th>\n",
       "      <th>value_y</th>\n",
       "    </tr>\n",
       "  </thead>\n",
       "  <tbody>\n",
       "    <tr>\n",
       "      <th>0</th>\n",
       "      <td>A</td>\n",
       "      <td>1.438991</td>\n",
       "      <td>NaN</td>\n",
       "    </tr>\n",
       "    <tr>\n",
       "      <th>1</th>\n",
       "      <td>B</td>\n",
       "      <td>0.007801</td>\n",
       "      <td>-1.123426</td>\n",
       "    </tr>\n",
       "    <tr>\n",
       "      <th>2</th>\n",
       "      <td>C</td>\n",
       "      <td>-1.153260</td>\n",
       "      <td>NaN</td>\n",
       "    </tr>\n",
       "    <tr>\n",
       "      <th>3</th>\n",
       "      <td>D</td>\n",
       "      <td>0.784333</td>\n",
       "      <td>0.991502</td>\n",
       "    </tr>\n",
       "    <tr>\n",
       "      <th>4</th>\n",
       "      <td>D</td>\n",
       "      <td>0.784333</td>\n",
       "      <td>1.435913</td>\n",
       "    </tr>\n",
       "  </tbody>\n",
       "</table>\n",
       "</div>"
      ],
      "text/plain": [
       "  key   value_x   value_y\n",
       "0   A  1.438991       NaN\n",
       "1   B  0.007801 -1.123426\n",
       "2   C -1.153260       NaN\n",
       "3   D  0.784333  0.991502\n",
       "4   D  0.784333  1.435913"
      ]
     },
     "execution_count": 15,
     "metadata": {},
     "output_type": "execute_result"
    }
   ],
   "source": [
    "pd.merge(df1, df2, on='key', how='left')"
   ]
  },
  {
   "cell_type": "code",
   "execution_count": 16,
   "metadata": {},
   "outputs": [
    {
     "data": {
      "text/plain": [
       "[(0, 'A', 1.438990592232384, None, None, None),\n",
       " (1, 'B', 0.00780140892297036, 0, 'B', -1.1234259910536837),\n",
       " (2, 'C', -1.1532597498662258, None, None, None),\n",
       " (3, 'D', 0.7843332734781189, 1, 'D', 0.9915021219140007),\n",
       " (3, 'D', 0.7843332734781189, 2, 'D', 1.4359126228037398)]"
      ]
     },
     "execution_count": 16,
     "metadata": {},
     "output_type": "execute_result"
    }
   ],
   "source": [
    "engine.execute(\n",
    "    '''\n",
    "    select * \n",
    "    from df1\n",
    "    left join df2 on df1.key = df2.key;\n",
    "    '''\n",
    ").fetchall()"
   ]
  },
  {
   "cell_type": "code",
   "execution_count": 17,
   "metadata": {},
   "outputs": [
    {
     "data": {
      "text/html": [
       "<div>\n",
       "<style scoped>\n",
       "    .dataframe tbody tr th:only-of-type {\n",
       "        vertical-align: middle;\n",
       "    }\n",
       "\n",
       "    .dataframe tbody tr th {\n",
       "        vertical-align: top;\n",
       "    }\n",
       "\n",
       "    .dataframe thead th {\n",
       "        text-align: right;\n",
       "    }\n",
       "</style>\n",
       "<table border=\"1\" class=\"dataframe\">\n",
       "  <thead>\n",
       "    <tr style=\"text-align: right;\">\n",
       "      <th></th>\n",
       "      <th>key</th>\n",
       "      <th>value_x</th>\n",
       "      <th>value_y</th>\n",
       "    </tr>\n",
       "  </thead>\n",
       "  <tbody>\n",
       "    <tr>\n",
       "      <th>0</th>\n",
       "      <td>B</td>\n",
       "      <td>0.007801</td>\n",
       "      <td>-1.123426</td>\n",
       "    </tr>\n",
       "    <tr>\n",
       "      <th>1</th>\n",
       "      <td>D</td>\n",
       "      <td>0.784333</td>\n",
       "      <td>0.991502</td>\n",
       "    </tr>\n",
       "    <tr>\n",
       "      <th>2</th>\n",
       "      <td>D</td>\n",
       "      <td>0.784333</td>\n",
       "      <td>1.435913</td>\n",
       "    </tr>\n",
       "    <tr>\n",
       "      <th>3</th>\n",
       "      <td>E</td>\n",
       "      <td>NaN</td>\n",
       "      <td>3.399846</td>\n",
       "    </tr>\n",
       "  </tbody>\n",
       "</table>\n",
       "</div>"
      ],
      "text/plain": [
       "  key   value_x   value_y\n",
       "0   B  0.007801 -1.123426\n",
       "1   D  0.784333  0.991502\n",
       "2   D  0.784333  1.435913\n",
       "3   E       NaN  3.399846"
      ]
     },
     "execution_count": 17,
     "metadata": {},
     "output_type": "execute_result"
    }
   ],
   "source": [
    "pd.merge(df1, df2, on='key', how='right')"
   ]
  },
  {
   "cell_type": "code",
   "execution_count": 19,
   "metadata": {},
   "outputs": [
    {
     "data": {
      "text/plain": [
       "count           3107\n",
       "unique          1801\n",
       "top       Unassigned\n",
       "freq              50\n",
       "Name: Admin2, dtype: object"
      ]
     },
     "execution_count": 19,
     "metadata": {},
     "output_type": "execute_result"
    }
   ],
   "source": [
    "df.loc[:,'Admin2'].describe()"
   ]
  },
  {
   "cell_type": "code",
   "execution_count": 26,
   "metadata": {},
   "outputs": [
    {
     "data": {
      "text/plain": [
       "count     3788.000000\n",
       "mean       130.462249\n",
       "std       1075.882839\n",
       "min          0.000000\n",
       "25%          0.000000\n",
       "50%          2.000000\n",
       "75%         18.000000\n",
       "max      38888.000000\n",
       "Name: Deaths, dtype: float64"
      ]
     },
     "execution_count": 26,
     "metadata": {},
     "output_type": "execute_result"
    }
   ],
   "source": [
    "df.loc[:,'Deaths'].describe()"
   ]
  },
  {
   "cell_type": "code",
   "execution_count": 30,
   "metadata": {},
   "outputs": [
    {
     "data": {
      "text/html": [
       "<div>\n",
       "<style scoped>\n",
       "    .dataframe tbody tr th:only-of-type {\n",
       "        vertical-align: middle;\n",
       "    }\n",
       "\n",
       "    .dataframe tbody tr th {\n",
       "        vertical-align: top;\n",
       "    }\n",
       "\n",
       "    .dataframe thead th {\n",
       "        text-align: right;\n",
       "    }\n",
       "</style>\n",
       "<table border=\"1\" class=\"dataframe\">\n",
       "  <thead>\n",
       "    <tr style=\"text-align: right;\">\n",
       "      <th></th>\n",
       "      <th>Recovered</th>\n",
       "      <th>Province_State</th>\n",
       "      <th>Long_</th>\n",
       "      <th>Lat</th>\n",
       "      <th>Last_Update</th>\n",
       "      <th>Incidence_Rate</th>\n",
       "      <th>FIPS</th>\n",
       "      <th>Deaths</th>\n",
       "      <th>Country_Region</th>\n",
       "      <th>Confirmed</th>\n",
       "      <th>Combined_Key</th>\n",
       "      <th>Case-Fatality_Ratio</th>\n",
       "      <th>Admin2</th>\n",
       "      <th>Active</th>\n",
       "    </tr>\n",
       "  </thead>\n",
       "  <tbody>\n",
       "    <tr>\n",
       "      <th>0</th>\n",
       "      <td>0</td>\n",
       "      <td>South Carolina</td>\n",
       "      <td>-82.461707</td>\n",
       "      <td>34.223334</td>\n",
       "      <td>2020-06-27 04:33:35</td>\n",
       "      <td>407.713948</td>\n",
       "      <td>45001.0</td>\n",
       "      <td>0</td>\n",
       "      <td>US</td>\n",
       "      <td>100</td>\n",
       "      <td>Abbeville, South Carolina, US</td>\n",
       "      <td>0.000000</td>\n",
       "      <td>Abbeville</td>\n",
       "      <td>100</td>\n",
       "    </tr>\n",
       "    <tr>\n",
       "      <th>1</th>\n",
       "      <td>0</td>\n",
       "      <td>Louisiana</td>\n",
       "      <td>-92.414197</td>\n",
       "      <td>30.295065</td>\n",
       "      <td>2020-06-27 04:33:35</td>\n",
       "      <td>1261.987267</td>\n",
       "      <td>22001.0</td>\n",
       "      <td>36</td>\n",
       "      <td>US</td>\n",
       "      <td>783</td>\n",
       "      <td>Acadia, Louisiana, US</td>\n",
       "      <td>4.597701</td>\n",
       "      <td>Acadia</td>\n",
       "      <td>747</td>\n",
       "    </tr>\n",
       "    <tr>\n",
       "      <th>2</th>\n",
       "      <td>0</td>\n",
       "      <td>Virginia</td>\n",
       "      <td>-75.632346</td>\n",
       "      <td>37.767072</td>\n",
       "      <td>2020-06-27 04:33:35</td>\n",
       "      <td>3208.936750</td>\n",
       "      <td>51001.0</td>\n",
       "      <td>14</td>\n",
       "      <td>US</td>\n",
       "      <td>1037</td>\n",
       "      <td>Accomack, Virginia, US</td>\n",
       "      <td>1.350048</td>\n",
       "      <td>Accomack</td>\n",
       "      <td>1023</td>\n",
       "    </tr>\n",
       "    <tr>\n",
       "      <th>3</th>\n",
       "      <td>0</td>\n",
       "      <td>Idaho</td>\n",
       "      <td>-116.241552</td>\n",
       "      <td>43.452658</td>\n",
       "      <td>2020-06-27 04:33:35</td>\n",
       "      <td>329.120180</td>\n",
       "      <td>16001.0</td>\n",
       "      <td>23</td>\n",
       "      <td>US</td>\n",
       "      <td>1585</td>\n",
       "      <td>Ada, Idaho, US</td>\n",
       "      <td>1.451104</td>\n",
       "      <td>Ada</td>\n",
       "      <td>1562</td>\n",
       "    </tr>\n",
       "    <tr>\n",
       "      <th>4</th>\n",
       "      <td>0</td>\n",
       "      <td>Iowa</td>\n",
       "      <td>-94.471059</td>\n",
       "      <td>41.330756</td>\n",
       "      <td>2020-06-27 03:33:36</td>\n",
       "      <td>195.749441</td>\n",
       "      <td>19001.0</td>\n",
       "      <td>0</td>\n",
       "      <td>US</td>\n",
       "      <td>14</td>\n",
       "      <td>Adair, Iowa, US</td>\n",
       "      <td>0.000000</td>\n",
       "      <td>Adair</td>\n",
       "      <td>14</td>\n",
       "    </tr>\n",
       "    <tr>\n",
       "      <th>...</th>\n",
       "      <td>...</td>\n",
       "      <td>...</td>\n",
       "      <td>...</td>\n",
       "      <td>...</td>\n",
       "      <td>...</td>\n",
       "      <td>...</td>\n",
       "      <td>...</td>\n",
       "      <td>...</td>\n",
       "      <td>...</td>\n",
       "      <td>...</td>\n",
       "      <td>...</td>\n",
       "      <td>...</td>\n",
       "      <td>...</td>\n",
       "      <td>...</td>\n",
       "    </tr>\n",
       "    <tr>\n",
       "      <th>3783</th>\n",
       "      <td>1233</td>\n",
       "      <td>NaN</td>\n",
       "      <td>27.849332</td>\n",
       "      <td>-13.133897</td>\n",
       "      <td>2020-06-27 04:33:35</td>\n",
       "      <td>8.327914</td>\n",
       "      <td>NaN</td>\n",
       "      <td>21</td>\n",
       "      <td>Zambia</td>\n",
       "      <td>1531</td>\n",
       "      <td>Zambia</td>\n",
       "      <td>1.371653</td>\n",
       "      <td>NaN</td>\n",
       "      <td>277</td>\n",
       "    </tr>\n",
       "    <tr>\n",
       "      <th>3784</th>\n",
       "      <td>135</td>\n",
       "      <td>NaN</td>\n",
       "      <td>29.154857</td>\n",
       "      <td>-19.015438</td>\n",
       "      <td>2020-06-27 04:33:35</td>\n",
       "      <td>3.774492</td>\n",
       "      <td>NaN</td>\n",
       "      <td>6</td>\n",
       "      <td>Zimbabwe</td>\n",
       "      <td>561</td>\n",
       "      <td>Zimbabwe</td>\n",
       "      <td>1.069519</td>\n",
       "      <td>NaN</td>\n",
       "      <td>420</td>\n",
       "    </tr>\n",
       "    <tr>\n",
       "      <th>3785</th>\n",
       "      <td>0</td>\n",
       "      <td>Alaska</td>\n",
       "      <td>-162.890520</td>\n",
       "      <td>60.388600</td>\n",
       "      <td>2021-04-02 15:13:53</td>\n",
       "      <td>NaN</td>\n",
       "      <td>2066.0</td>\n",
       "      <td>0</td>\n",
       "      <td>US</td>\n",
       "      <td>1</td>\n",
       "      <td>Copper River, Alaska, US</td>\n",
       "      <td>NaN</td>\n",
       "      <td>Copper River</td>\n",
       "      <td>0</td>\n",
       "    </tr>\n",
       "    <tr>\n",
       "      <th>3786</th>\n",
       "      <td>0</td>\n",
       "      <td>Alaska</td>\n",
       "      <td>-149.900000</td>\n",
       "      <td>61.166660</td>\n",
       "      <td>2021-04-02 15:13:53</td>\n",
       "      <td>NaN</td>\n",
       "      <td>2063.0</td>\n",
       "      <td>0</td>\n",
       "      <td>US</td>\n",
       "      <td>18</td>\n",
       "      <td>Chugach, Alaska, US</td>\n",
       "      <td>NaN</td>\n",
       "      <td>Chugach</td>\n",
       "      <td>0</td>\n",
       "    </tr>\n",
       "    <tr>\n",
       "      <th>3787</th>\n",
       "      <td>0</td>\n",
       "      <td>Unknown</td>\n",
       "      <td>NaN</td>\n",
       "      <td>NaN</td>\n",
       "      <td>2020-06-27 04:33:35</td>\n",
       "      <td>0.000000</td>\n",
       "      <td>NaN</td>\n",
       "      <td>0</td>\n",
       "      <td>China</td>\n",
       "      <td>0</td>\n",
       "      <td>Unknown, China</td>\n",
       "      <td>0.000000</td>\n",
       "      <td>NaN</td>\n",
       "      <td>0</td>\n",
       "    </tr>\n",
       "  </tbody>\n",
       "</table>\n",
       "<p>3788 rows × 14 columns</p>\n",
       "</div>"
      ],
      "text/plain": [
       "      Recovered  Province_State       Long_        Lat          Last_Update  \\\n",
       "0             0  South Carolina  -82.461707  34.223334  2020-06-27 04:33:35   \n",
       "1             0       Louisiana  -92.414197  30.295065  2020-06-27 04:33:35   \n",
       "2             0        Virginia  -75.632346  37.767072  2020-06-27 04:33:35   \n",
       "3             0           Idaho -116.241552  43.452658  2020-06-27 04:33:35   \n",
       "4             0            Iowa  -94.471059  41.330756  2020-06-27 03:33:36   \n",
       "...         ...             ...         ...        ...                  ...   \n",
       "3783       1233             NaN   27.849332 -13.133897  2020-06-27 04:33:35   \n",
       "3784        135             NaN   29.154857 -19.015438  2020-06-27 04:33:35   \n",
       "3785          0          Alaska -162.890520  60.388600  2021-04-02 15:13:53   \n",
       "3786          0          Alaska -149.900000  61.166660  2021-04-02 15:13:53   \n",
       "3787          0         Unknown         NaN        NaN  2020-06-27 04:33:35   \n",
       "\n",
       "      Incidence_Rate     FIPS  Deaths Country_Region  Confirmed  \\\n",
       "0         407.713948  45001.0       0             US        100   \n",
       "1        1261.987267  22001.0      36             US        783   \n",
       "2        3208.936750  51001.0      14             US       1037   \n",
       "3         329.120180  16001.0      23             US       1585   \n",
       "4         195.749441  19001.0       0             US         14   \n",
       "...              ...      ...     ...            ...        ...   \n",
       "3783        8.327914      NaN      21         Zambia       1531   \n",
       "3784        3.774492      NaN       6       Zimbabwe        561   \n",
       "3785             NaN   2066.0       0             US          1   \n",
       "3786             NaN   2063.0       0             US         18   \n",
       "3787        0.000000      NaN       0          China          0   \n",
       "\n",
       "                       Combined_Key  Case-Fatality_Ratio        Admin2  Active  \n",
       "0     Abbeville, South Carolina, US             0.000000     Abbeville     100  \n",
       "1             Acadia, Louisiana, US             4.597701        Acadia     747  \n",
       "2            Accomack, Virginia, US             1.350048      Accomack    1023  \n",
       "3                    Ada, Idaho, US             1.451104           Ada    1562  \n",
       "4                   Adair, Iowa, US             0.000000         Adair      14  \n",
       "...                             ...                  ...           ...     ...  \n",
       "3783                         Zambia             1.371653           NaN     277  \n",
       "3784                       Zimbabwe             1.069519           NaN     420  \n",
       "3785       Copper River, Alaska, US                  NaN  Copper River       0  \n",
       "3786            Chugach, Alaska, US                  NaN       Chugach       0  \n",
       "3787                 Unknown, China             0.000000           NaN       0  \n",
       "\n",
       "[3788 rows x 14 columns]"
      ]
     },
     "execution_count": 30,
     "metadata": {},
     "output_type": "execute_result"
    }
   ],
   "source": [
    "df[sorted(df.columns, reverse=True)]"
   ]
  },
  {
   "cell_type": "code",
   "execution_count": null,
   "metadata": {},
   "outputs": [],
   "source": []
  }
 ],
 "metadata": {
  "kernelspec": {
   "display_name": "Python 3",
   "language": "python",
   "name": "python3"
  },
  "language_info": {
   "codemirror_mode": {
    "name": "ipython",
    "version": 3
   },
   "file_extension": ".py",
   "mimetype": "text/x-python",
   "name": "python",
   "nbconvert_exporter": "python",
   "pygments_lexer": "ipython3",
   "version": "3.8.5"
  }
 },
 "nbformat": 4,
 "nbformat_minor": 4
}
