{
 "cells": [
  {
   "cell_type": "code",
   "execution_count": 3,
   "metadata": {},
   "outputs": [],
   "source": [
    "import interview_questions, warm_up\n",
    "import random\n",
    "import datetime\n",
    "import pandas as pd\n",
    "import numpy as np\n",
    "import torch\n",
    "from sqlalchemy import create_engine\n",
    "engine = create_engine('sqlite://', echo=False)"
   ]
  },
  {
   "cell_type": "code",
   "execution_count": 4,
   "metadata": {},
   "outputs": [],
   "source": [
    "df = pd.read_csv('06-26-2020.csv') # dataset for coding warmup\n",
    "df.to_sql('june_corona', con=engine)\n",
    "questions = interview_questions.questions\n",
    "warmUp = warm_up.questions\n",
    "data = [q for q in questions.items()]\n",
    "warmUpQuestions = [q for q in warmUp.items()]"
   ]
  },
  {
   "cell_type": "markdown",
   "metadata": {},
   "source": [
    "https://pandas.pydata.org/docs/getting_started/comparison/comparison_with_sql.html#pandas-equivalents-for-some-sql-analytic-and-aggregate-functions"
   ]
  },
  {
   "cell_type": "code",
   "execution_count": 5,
   "metadata": {},
   "outputs": [],
   "source": [
    "# join warmups\n",
    "url1 = 'https://raw.githubusercontent.com/CSSEGISandData/COVID-19/master/csse_covid_19_data/csse_covid_19_daily_reports/12-31-2020.csv'\n",
    "url2 = 'https://raw.githubusercontent.com/CSSEGISandData/COVID-19/master/csse_covid_19_data/csse_covid_19_daily_reports/12-27-2020.csv'"
   ]
  },
  {
   "cell_type": "code",
   "execution_count": 6,
   "metadata": {},
   "outputs": [],
   "source": [
    "#day1 = pd.read_csv(url1)\n",
    "#day2 = pd.read_csv(url2)"
   ]
  },
  {
   "cell_type": "code",
   "execution_count": 85,
   "metadata": {},
   "outputs": [],
   "source": [
    "results = {}\n",
    "\n",
    "def trackAnswers(result, question):\n",
    "    datetime_object = datetime.datetime.now()\n",
    "    if result:\n",
    "        results[datetime_object] = (question, 'T')\n",
    "    results[datetime_object] = (question, 'T')\n",
    "\n",
    "# add in some probability questions\n",
    "def quiz_question():\n",
    "    q = data[random.randint(0,2)]\n",
    "    print(q[0])\n",
    "    answer = input()\n",
    "    if answer == q[1]:\n",
    "        print('good job', trackAnswers(True, q[0]))\n",
    "    else:    \n",
    "        print(f'wrong answer {q[1]}', trackAnswers(False, q[0]))\n",
    "\n",
    "# make it so this does not repeat questions\n",
    "# add in some probability questions\n",
    "def warm_up_question():\n",
    "    tot_q = len(warmUpQuestions)\n",
    "    tbl = {}\n",
    "    for n,i in enumerate(range(5)):\n",
    "        try:\n",
    "            q = warmUpQuestions[random.randint(0,tot_q-1)]\n",
    "            tbl.update({q:i})\n",
    "            #if q not in tbl:\n",
    "            print(str(n+1) + \" \" + q[1] + '\\n')\n",
    "#         else:\n",
    "#             print('repeat question')\n",
    "        except:\n",
    "            print(f'ERROR: {tot_q}')\n",
    "            \n",
    "    #print(tbl)"
   ]
  },
  {
   "cell_type": "code",
   "execution_count": 86,
   "metadata": {},
   "outputs": [],
   "source": [
    "#quiz_question()\n",
    "#engine.execute(\"SELECT Admin2 FROM june_corona\").fetchall()"
   ]
  },
  {
   "cell_type": "markdown",
   "metadata": {},
   "source": [
    "##### Warm-up"
   ]
  },
  {
   "cell_type": "code",
   "execution_count": 87,
   "metadata": {},
   "outputs": [
    {
     "name": "stdout",
     "output_type": "stream",
     "text": [
      "1 assign the columns, index, and data to varaibles and display\n",
      "\n",
      "2 rename index and column name\n",
      "\n",
      "3 ssh into @bandit.labs.overthewire.org with username bandit0, port 2220 and pw: bandit0\n",
      "\n",
      "4 check to see if there are missing values in the dataset\n",
      "\n",
      "5 check to see if there are missing values in the dataset\n",
      "\n"
     ]
    }
   ],
   "source": [
    "warm_up_question()"
   ]
  },
  {
   "cell_type": "code",
   "execution_count": 12,
   "metadata": {},
   "outputs": [],
   "source": [
    "df1 = pd.DataFrame({'key':['A','B','C','D'],'value':np.random.randn(4)})\n",
    "df2 = pd.DataFrame({'key':['B','D','D','E'],'value':np.random.randn(4)})"
   ]
  },
  {
   "cell_type": "code",
   "execution_count": 13,
   "metadata": {},
   "outputs": [
    {
     "data": {
      "text/html": [
       "<div>\n",
       "<style scoped>\n",
       "    .dataframe tbody tr th:only-of-type {\n",
       "        vertical-align: middle;\n",
       "    }\n",
       "\n",
       "    .dataframe tbody tr th {\n",
       "        vertical-align: top;\n",
       "    }\n",
       "\n",
       "    .dataframe thead th {\n",
       "        text-align: right;\n",
       "    }\n",
       "</style>\n",
       "<table border=\"1\" class=\"dataframe\">\n",
       "  <thead>\n",
       "    <tr style=\"text-align: right;\">\n",
       "      <th></th>\n",
       "      <th>key</th>\n",
       "      <th>value_x</th>\n",
       "      <th>value_y</th>\n",
       "    </tr>\n",
       "  </thead>\n",
       "  <tbody>\n",
       "    <tr>\n",
       "      <th>0</th>\n",
       "      <td>B</td>\n",
       "      <td>-0.976484</td>\n",
       "      <td>0.117046</td>\n",
       "    </tr>\n",
       "    <tr>\n",
       "      <th>1</th>\n",
       "      <td>D</td>\n",
       "      <td>-0.291979</td>\n",
       "      <td>-0.833454</td>\n",
       "    </tr>\n",
       "    <tr>\n",
       "      <th>2</th>\n",
       "      <td>D</td>\n",
       "      <td>-0.291979</td>\n",
       "      <td>1.036447</td>\n",
       "    </tr>\n",
       "  </tbody>\n",
       "</table>\n",
       "</div>"
      ],
      "text/plain": [
       "  key   value_x   value_y\n",
       "0   B -0.976484  0.117046\n",
       "1   D -0.291979 -0.833454\n",
       "2   D -0.291979  1.036447"
      ]
     },
     "execution_count": 13,
     "metadata": {},
     "output_type": "execute_result"
    }
   ],
   "source": [
    "pd.merge(df1, df2, on='key')"
   ]
  },
  {
   "cell_type": "code",
   "execution_count": 15,
   "metadata": {},
   "outputs": [],
   "source": [
    "df1.to_sql('df1',con=engine)\n",
    "df2.to_sql('df2',con=engine)"
   ]
  },
  {
   "cell_type": "code",
   "execution_count": 16,
   "metadata": {},
   "outputs": [
    {
     "data": {
      "text/plain": [
       "[(1, 'B', -0.9764843547246063, 0, 'B', 0.11704551455155662),\n",
       " (3, 'D', -0.29197896160900305, 1, 'D', -0.833453876998126),\n",
       " (3, 'D', -0.29197896160900305, 2, 'D', 1.0364470120596716)]"
      ]
     },
     "execution_count": 16,
     "metadata": {},
     "output_type": "execute_result"
    }
   ],
   "source": [
    "engine.execute(\n",
    "    '''\n",
    "    select *\n",
    "    from df1\n",
    "    join df2 on df1.key = df2.key;\n",
    "    '''\n",
    ").fetchall()"
   ]
  },
  {
   "cell_type": "code",
   "execution_count": 26,
   "metadata": {},
   "outputs": [],
   "source": [
    "l = [n for n in range(10)]\n",
    "d = {'col':[n for n in range(10)]}\n",
    "\n",
    "#pd.DataFrame(d)"
   ]
  },
  {
   "cell_type": "code",
   "execution_count": 39,
   "metadata": {},
   "outputs": [
    {
     "data": {
      "text/html": [
       "<div>\n",
       "<style scoped>\n",
       "    .dataframe tbody tr th:only-of-type {\n",
       "        vertical-align: middle;\n",
       "    }\n",
       "\n",
       "    .dataframe tbody tr th {\n",
       "        vertical-align: top;\n",
       "    }\n",
       "\n",
       "    .dataframe thead th {\n",
       "        text-align: right;\n",
       "    }\n",
       "</style>\n",
       "<table border=\"1\" class=\"dataframe\">\n",
       "  <thead>\n",
       "    <tr style=\"text-align: right;\">\n",
       "      <th></th>\n",
       "      <th>FIPS</th>\n",
       "      <th>Lat</th>\n",
       "      <th>Long_</th>\n",
       "      <th>Incidence_Rate</th>\n",
       "      <th>Case-Fatality_Ratio</th>\n",
       "    </tr>\n",
       "  </thead>\n",
       "  <tbody>\n",
       "    <tr>\n",
       "      <th>count</th>\n",
       "      <td>3103.000000</td>\n",
       "      <td>3712.000000</td>\n",
       "      <td>3712.000000</td>\n",
       "      <td>3708.000000</td>\n",
       "      <td>3722.000000</td>\n",
       "    </tr>\n",
       "    <tr>\n",
       "      <th>mean</th>\n",
       "      <td>31401.484370</td>\n",
       "      <td>36.161767</td>\n",
       "      <td>-72.152212</td>\n",
       "      <td>443.949452</td>\n",
       "      <td>3.450731</td>\n",
       "    </tr>\n",
       "    <tr>\n",
       "      <th>std</th>\n",
       "      <td>17044.103788</td>\n",
       "      <td>12.846812</td>\n",
       "      <td>53.586658</td>\n",
       "      <td>703.839397</td>\n",
       "      <td>17.393944</td>\n",
       "    </tr>\n",
       "    <tr>\n",
       "      <th>min</th>\n",
       "      <td>66.000000</td>\n",
       "      <td>-52.368000</td>\n",
       "      <td>-172.104600</td>\n",
       "      <td>0.000000</td>\n",
       "      <td>0.000000</td>\n",
       "    </tr>\n",
       "    <tr>\n",
       "      <th>25%</th>\n",
       "      <td>19006.000000</td>\n",
       "      <td>33.591828</td>\n",
       "      <td>-96.326142</td>\n",
       "      <td>90.292204</td>\n",
       "      <td>0.000000</td>\n",
       "    </tr>\n",
       "    <tr>\n",
       "      <th>50%</th>\n",
       "      <td>29201.000000</td>\n",
       "      <td>37.974131</td>\n",
       "      <td>-87.073239</td>\n",
       "      <td>231.164170</td>\n",
       "      <td>1.618778</td>\n",
       "    </tr>\n",
       "    <tr>\n",
       "      <th>75%</th>\n",
       "      <td>46055.000000</td>\n",
       "      <td>42.056212</td>\n",
       "      <td>-78.358276</td>\n",
       "      <td>523.148027</td>\n",
       "      <td>4.651163</td>\n",
       "    </tr>\n",
       "    <tr>\n",
       "      <th>max</th>\n",
       "      <td>99999.000000</td>\n",
       "      <td>71.706900</td>\n",
       "      <td>178.065000</td>\n",
       "      <td>13053.881602</td>\n",
       "      <td>1027.272727</td>\n",
       "    </tr>\n",
       "  </tbody>\n",
       "</table>\n",
       "</div>"
      ],
      "text/plain": [
       "               FIPS          Lat        Long_  Incidence_Rate  \\\n",
       "count   3103.000000  3712.000000  3712.000000     3708.000000   \n",
       "mean   31401.484370    36.161767   -72.152212      443.949452   \n",
       "std    17044.103788    12.846812    53.586658      703.839397   \n",
       "min       66.000000   -52.368000  -172.104600        0.000000   \n",
       "25%    19006.000000    33.591828   -96.326142       90.292204   \n",
       "50%    29201.000000    37.974131   -87.073239      231.164170   \n",
       "75%    46055.000000    42.056212   -78.358276      523.148027   \n",
       "max    99999.000000    71.706900   178.065000    13053.881602   \n",
       "\n",
       "       Case-Fatality_Ratio  \n",
       "count          3722.000000  \n",
       "mean              3.450731  \n",
       "std              17.393944  \n",
       "min               0.000000  \n",
       "25%               0.000000  \n",
       "50%               1.618778  \n",
       "75%               4.651163  \n",
       "max            1027.272727  "
      ]
     },
     "execution_count": 39,
     "metadata": {},
     "output_type": "execute_result"
    }
   ],
   "source": [
    "df.loc[:,[c for c in df.columns if df[c].dtypes == 'float']].describe()"
   ]
  },
  {
   "cell_type": "code",
   "execution_count": 30,
   "metadata": {},
   "outputs": [
    {
     "name": "stdout",
     "output_type": "stream",
     "text": [
      "<class 'pandas.core.frame.DataFrame'>\n",
      "RangeIndex: 3788 entries, 0 to 3787\n",
      "Data columns (total 14 columns):\n",
      " #   Column               Non-Null Count  Dtype  \n",
      "---  ------               --------------  -----  \n",
      " 0   FIPS                 3103 non-null   float64\n",
      " 1   Admin2               3107 non-null   object \n",
      " 2   Province_State       3619 non-null   object \n",
      " 3   Country_Region       3788 non-null   object \n",
      " 4   Last_Update          3788 non-null   object \n",
      " 5   Lat                  3712 non-null   float64\n",
      " 6   Long_                3712 non-null   float64\n",
      " 7   Confirmed            3788 non-null   int64  \n",
      " 8   Deaths               3788 non-null   int64  \n",
      " 9   Recovered            3788 non-null   int64  \n",
      " 10  Active               3788 non-null   int64  \n",
      " 11  Combined_Key         3788 non-null   object \n",
      " 12  Incidence_Rate       3708 non-null   float64\n",
      " 13  Case-Fatality_Ratio  3722 non-null   float64\n",
      "dtypes: float64(5), int64(4), object(5)\n",
      "memory usage: 414.4+ KB\n"
     ]
    }
   ],
   "source": [
    "df.info()"
   ]
  },
  {
   "cell_type": "code",
   "execution_count": null,
   "metadata": {},
   "outputs": [],
   "source": []
  }
 ],
 "metadata": {
  "kernelspec": {
   "display_name": "Python 3",
   "language": "python",
   "name": "python3"
  },
  "language_info": {
   "codemirror_mode": {
    "name": "ipython",
    "version": 3
   },
   "file_extension": ".py",
   "mimetype": "text/x-python",
   "name": "python",
   "nbconvert_exporter": "python",
   "pygments_lexer": "ipython3",
   "version": "3.8.5"
  }
 },
 "nbformat": 4,
 "nbformat_minor": 4
}
