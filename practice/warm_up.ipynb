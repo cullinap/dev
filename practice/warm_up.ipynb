{
 "cells": [
  {
   "cell_type": "code",
   "execution_count": 83,
   "metadata": {},
   "outputs": [],
   "source": [
    "import interview_questions, warm_up\n",
    "import random\n",
    "import datetime\n",
    "import pandas as pd"
   ]
  },
  {
   "cell_type": "code",
   "execution_count": 84,
   "metadata": {},
   "outputs": [],
   "source": [
    "df = pd.read_csv('06-26-2020.csv') # dataset for coding warmup\n",
    "questions = interview_questions.questions\n",
    "warmUp = warm_up.questions\n",
    "data = [q for q in questions.items()]\n",
    "warmUpQuestions = [q for q in warmUp.items()]"
   ]
  },
  {
   "cell_type": "code",
   "execution_count": 85,
   "metadata": {},
   "outputs": [],
   "source": [
    "results = {}\n",
    "\n",
    "def trackAnswers(result, question):\n",
    "    datetime_object = datetime.datetime.now()\n",
    "    if result:\n",
    "        results[datetime_object] = (question, 'T')\n",
    "    results[datetime_object] = (question, 'T')\n",
    "\n",
    "# add in some probability questions\n",
    "def quiz_question():\n",
    "    q = data[random.randint(0,2)]\n",
    "    print(q[0])\n",
    "    answer = input()\n",
    "    if answer == q[1]:\n",
    "        print('good job', trackAnswers(True, q[0]))\n",
    "    else:    \n",
    "        print(f'wrong answer {q[1]}', trackAnswers(False, q[0]))\n",
    "\n",
    "# make it so this does not repeat questions\n",
    "# add in some probability questions\n",
    "def warm_up_question():\n",
    "    for n,i in enumerate(range(12)):\n",
    "        q = warmUpQuestions[random.randint(0,14)]\n",
    "        print(str(n+1) + \" \" + q[1] + '\\n')"
   ]
  },
  {
   "cell_type": "code",
   "execution_count": 88,
   "metadata": {},
   "outputs": [
    {
     "name": "stdout",
     "output_type": "stream",
     "text": [
      "what is a type 2 error\n",
      "False negative: not rejecting the null hypothesis when it is actually false. The test showed you did not have corona virus when you actually did\n",
      "wrong answer rejecting the null hypothesis when the alternative hypothesis is true None\n"
     ]
    }
   ],
   "source": [
    "quiz_question()"
   ]
  },
  {
   "cell_type": "markdown",
   "metadata": {},
   "source": [
    "##### Warm-up"
   ]
  },
  {
   "cell_type": "code",
   "execution_count": 89,
   "metadata": {},
   "outputs": [
    {
     "name": "stdout",
     "output_type": "stream",
     "text": [
      "1 create a column/delete a column\n",
      "\n",
      "2 select the same column with loc and iloc, and then print out all types in the column\n",
      "\n",
      "3 sql: use like to select string match and/or/not\n",
      "\n",
      "4 check to see if there are missing values in the dataset\n",
      "\n",
      "5 check to see if there are missing values in the dataset\n",
      "\n",
      "6 return the summary statistics of the column\n",
      "\n",
      "7 return the summary statistics of the column\n",
      "\n",
      "8 select the same column with loc and iloc, and then print out all types in the column\n",
      "\n",
      "9 sql: use like to select string match and/or/not\n",
      "\n",
      "10 select the same column with loc and iloc, and then print out all types in the column\n",
      "\n",
      "11 return unique values from the column, and the frequencies of values in the column\n",
      "\n",
      "12 assign the columns, index, and data to varaibles and display\n",
      "\n"
     ]
    }
   ],
   "source": [
    "warm_up_question()"
   ]
  },
  {
   "cell_type": "code",
   "execution_count": 92,
   "metadata": {},
   "outputs": [],
   "source": [
    "tmp = [random.randint(0,10) for i in range(len(df.iloc[:,3]))]"
   ]
  },
  {
   "cell_type": "code",
   "execution_count": 94,
   "metadata": {},
   "outputs": [
    {
     "data": {
      "text/html": [
       "<div>\n",
       "<style scoped>\n",
       "    .dataframe tbody tr th:only-of-type {\n",
       "        vertical-align: middle;\n",
       "    }\n",
       "\n",
       "    .dataframe tbody tr th {\n",
       "        vertical-align: top;\n",
       "    }\n",
       "\n",
       "    .dataframe thead th {\n",
       "        text-align: right;\n",
       "    }\n",
       "</style>\n",
       "<table border=\"1\" class=\"dataframe\">\n",
       "  <thead>\n",
       "    <tr style=\"text-align: right;\">\n",
       "      <th></th>\n",
       "      <th>FIPS</th>\n",
       "      <th>Admin2</th>\n",
       "      <th>Province_State</th>\n",
       "      <th>Country_Region</th>\n",
       "      <th>Last_Update</th>\n",
       "      <th>Lat</th>\n",
       "      <th>Long_</th>\n",
       "      <th>Confirmed</th>\n",
       "      <th>Deaths</th>\n",
       "      <th>Recovered</th>\n",
       "      <th>Active</th>\n",
       "      <th>Combined_Key</th>\n",
       "      <th>Incidence_Rate</th>\n",
       "      <th>Case-Fatality_Ratio</th>\n",
       "      <th>New_Col1</th>\n",
       "    </tr>\n",
       "  </thead>\n",
       "  <tbody>\n",
       "    <tr>\n",
       "      <th>0</th>\n",
       "      <td>45001.0</td>\n",
       "      <td>Abbeville</td>\n",
       "      <td>South Carolina</td>\n",
       "      <td>US</td>\n",
       "      <td>2020-06-27 04:33:35</td>\n",
       "      <td>34.223334</td>\n",
       "      <td>-82.461707</td>\n",
       "      <td>100</td>\n",
       "      <td>0</td>\n",
       "      <td>0</td>\n",
       "      <td>100</td>\n",
       "      <td>Abbeville, South Carolina, US</td>\n",
       "      <td>407.713948</td>\n",
       "      <td>0.000000</td>\n",
       "      <td>9</td>\n",
       "    </tr>\n",
       "    <tr>\n",
       "      <th>1</th>\n",
       "      <td>22001.0</td>\n",
       "      <td>Acadia</td>\n",
       "      <td>Louisiana</td>\n",
       "      <td>US</td>\n",
       "      <td>2020-06-27 04:33:35</td>\n",
       "      <td>30.295065</td>\n",
       "      <td>-92.414197</td>\n",
       "      <td>783</td>\n",
       "      <td>36</td>\n",
       "      <td>0</td>\n",
       "      <td>747</td>\n",
       "      <td>Acadia, Louisiana, US</td>\n",
       "      <td>1261.987267</td>\n",
       "      <td>4.597701</td>\n",
       "      <td>10</td>\n",
       "    </tr>\n",
       "    <tr>\n",
       "      <th>2</th>\n",
       "      <td>51001.0</td>\n",
       "      <td>Accomack</td>\n",
       "      <td>Virginia</td>\n",
       "      <td>US</td>\n",
       "      <td>2020-06-27 04:33:35</td>\n",
       "      <td>37.767072</td>\n",
       "      <td>-75.632346</td>\n",
       "      <td>1037</td>\n",
       "      <td>14</td>\n",
       "      <td>0</td>\n",
       "      <td>1023</td>\n",
       "      <td>Accomack, Virginia, US</td>\n",
       "      <td>3208.936750</td>\n",
       "      <td>1.350048</td>\n",
       "      <td>10</td>\n",
       "    </tr>\n",
       "    <tr>\n",
       "      <th>3</th>\n",
       "      <td>16001.0</td>\n",
       "      <td>Ada</td>\n",
       "      <td>Idaho</td>\n",
       "      <td>US</td>\n",
       "      <td>2020-06-27 04:33:35</td>\n",
       "      <td>43.452658</td>\n",
       "      <td>-116.241552</td>\n",
       "      <td>1585</td>\n",
       "      <td>23</td>\n",
       "      <td>0</td>\n",
       "      <td>1562</td>\n",
       "      <td>Ada, Idaho, US</td>\n",
       "      <td>329.120180</td>\n",
       "      <td>1.451104</td>\n",
       "      <td>4</td>\n",
       "    </tr>\n",
       "    <tr>\n",
       "      <th>4</th>\n",
       "      <td>19001.0</td>\n",
       "      <td>Adair</td>\n",
       "      <td>Iowa</td>\n",
       "      <td>US</td>\n",
       "      <td>2020-06-27 03:33:36</td>\n",
       "      <td>41.330756</td>\n",
       "      <td>-94.471059</td>\n",
       "      <td>14</td>\n",
       "      <td>0</td>\n",
       "      <td>0</td>\n",
       "      <td>14</td>\n",
       "      <td>Adair, Iowa, US</td>\n",
       "      <td>195.749441</td>\n",
       "      <td>0.000000</td>\n",
       "      <td>6</td>\n",
       "    </tr>\n",
       "  </tbody>\n",
       "</table>\n",
       "</div>"
      ],
      "text/plain": [
       "      FIPS     Admin2  Province_State Country_Region          Last_Update  \\\n",
       "0  45001.0  Abbeville  South Carolina             US  2020-06-27 04:33:35   \n",
       "1  22001.0     Acadia       Louisiana             US  2020-06-27 04:33:35   \n",
       "2  51001.0   Accomack        Virginia             US  2020-06-27 04:33:35   \n",
       "3  16001.0        Ada           Idaho             US  2020-06-27 04:33:35   \n",
       "4  19001.0      Adair            Iowa             US  2020-06-27 03:33:36   \n",
       "\n",
       "         Lat       Long_  Confirmed  Deaths  Recovered  Active  \\\n",
       "0  34.223334  -82.461707        100       0          0     100   \n",
       "1  30.295065  -92.414197        783      36          0     747   \n",
       "2  37.767072  -75.632346       1037      14          0    1023   \n",
       "3  43.452658 -116.241552       1585      23          0    1562   \n",
       "4  41.330756  -94.471059         14       0          0      14   \n",
       "\n",
       "                    Combined_Key  Incidence_Rate  Case-Fatality_Ratio  \\\n",
       "0  Abbeville, South Carolina, US      407.713948             0.000000   \n",
       "1          Acadia, Louisiana, US     1261.987267             4.597701   \n",
       "2         Accomack, Virginia, US     3208.936750             1.350048   \n",
       "3                 Ada, Idaho, US      329.120180             1.451104   \n",
       "4                Adair, Iowa, US      195.749441             0.000000   \n",
       "\n",
       "   New_Col1  \n",
       "0         9  \n",
       "1        10  \n",
       "2        10  \n",
       "3         4  \n",
       "4         6  "
      ]
     },
     "execution_count": 94,
     "metadata": {},
     "output_type": "execute_result"
    }
   ],
   "source": [
    "df['New_Col1'] = tmp; df.head()"
   ]
  },
  {
   "cell_type": "code",
   "execution_count": 100,
   "metadata": {},
   "outputs": [
    {
     "data": {
      "text/plain": [
       "dtype('O')"
      ]
     },
     "execution_count": 100,
     "metadata": {},
     "output_type": "execute_result"
    }
   ],
   "source": [
    "df.iloc[:,2].head(2).dtypes"
   ]
  },
  {
   "cell_type": "code",
   "execution_count": 98,
   "metadata": {},
   "outputs": [
    {
     "data": {
      "text/html": [
       "<div>\n",
       "<style scoped>\n",
       "    .dataframe tbody tr th:only-of-type {\n",
       "        vertical-align: middle;\n",
       "    }\n",
       "\n",
       "    .dataframe tbody tr th {\n",
       "        vertical-align: top;\n",
       "    }\n",
       "\n",
       "    .dataframe thead th {\n",
       "        text-align: right;\n",
       "    }\n",
       "</style>\n",
       "<table border=\"1\" class=\"dataframe\">\n",
       "  <thead>\n",
       "    <tr style=\"text-align: right;\">\n",
       "      <th></th>\n",
       "      <th>Province_State</th>\n",
       "    </tr>\n",
       "  </thead>\n",
       "  <tbody>\n",
       "    <tr>\n",
       "      <th>0</th>\n",
       "      <td>South Carolina</td>\n",
       "    </tr>\n",
       "    <tr>\n",
       "      <th>1</th>\n",
       "      <td>Louisiana</td>\n",
       "    </tr>\n",
       "  </tbody>\n",
       "</table>\n",
       "</div>"
      ],
      "text/plain": [
       "   Province_State\n",
       "0  South Carolina\n",
       "1       Louisiana"
      ]
     },
     "execution_count": 98,
     "metadata": {},
     "output_type": "execute_result"
    }
   ],
   "source": [
    "df.loc[:,[c for c in df.columns if c.startswith('P')]].head(2)"
   ]
  },
  {
   "cell_type": "code",
   "execution_count": 108,
   "metadata": {},
   "outputs": [
    {
     "data": {
      "text/plain": [
       "count      3619\n",
       "unique      550\n",
       "top       Texas\n",
       "freq        246\n",
       "Name: Province_State, dtype: object"
      ]
     },
     "execution_count": 108,
     "metadata": {},
     "output_type": "execute_result"
    }
   ],
   "source": [
    "df.iloc[:,2].describe()"
   ]
  },
  {
   "cell_type": "code",
   "execution_count": 109,
   "metadata": {},
   "outputs": [
    {
     "data": {
      "text/plain": [
       "count     3788.000000\n",
       "mean       130.462249\n",
       "std       1075.882839\n",
       "min          0.000000\n",
       "25%          0.000000\n",
       "50%          2.000000\n",
       "75%         18.000000\n",
       "max      38888.000000\n",
       "Name: Deaths, dtype: float64"
      ]
     },
     "execution_count": 109,
     "metadata": {},
     "output_type": "execute_result"
    }
   ],
   "source": [
    "df.loc[:,'Deaths'].describe()"
   ]
  },
  {
   "cell_type": "code",
   "execution_count": 115,
   "metadata": {},
   "outputs": [
    {
     "data": {
      "text/plain": [
       "Texas             246\n",
       "Georgia           161\n",
       "Virginia          134\n",
       "Kentucky          120\n",
       "Missouri          116\n",
       "                 ... \n",
       "England             1\n",
       "Jonkoping           1\n",
       "Tamaulipas          1\n",
       "Shizuoka            1\n",
       "Stavropol Krai      1\n",
       "Name: Province_State, Length: 550, dtype: int64"
      ]
     },
     "execution_count": 115,
     "metadata": {},
     "output_type": "execute_result"
    }
   ],
   "source": [
    "df.loc[:,'Province_State'].value_counts()"
   ]
  },
  {
   "cell_type": "code",
   "execution_count": 116,
   "metadata": {},
   "outputs": [],
   "source": [
    "columns = df.columns\n",
    "index = df.index\n",
    "data = df.to_numpy()"
   ]
  },
  {
   "cell_type": "code",
   "execution_count": 117,
   "metadata": {},
   "outputs": [
    {
     "data": {
      "text/plain": [
       "Index(['FIPS', 'Admin2', 'Province_State', 'Country_Region', 'Last_Update',\n",
       "       'Lat', 'Long_', 'Confirmed', 'Deaths', 'Recovered', 'Active',\n",
       "       'Combined_Key', 'Incidence_Rate', 'Case-Fatality_Ratio', 'New_Col1'],\n",
       "      dtype='object')"
      ]
     },
     "execution_count": 117,
     "metadata": {},
     "output_type": "execute_result"
    }
   ],
   "source": [
    "columns"
   ]
  },
  {
   "cell_type": "code",
   "execution_count": 119,
   "metadata": {},
   "outputs": [
    {
     "data": {
      "text/plain": [
       "array([   0,    1,    2, ..., 3785, 3786, 3787])"
      ]
     },
     "execution_count": 119,
     "metadata": {},
     "output_type": "execute_result"
    }
   ],
   "source": [
    "index.to_numpy()"
   ]
  },
  {
   "cell_type": "code",
   "execution_count": 120,
   "metadata": {},
   "outputs": [
    {
     "data": {
      "text/plain": [
       "array([[45001.0, 'Abbeville', 'South Carolina', ..., 407.7139478941575,\n",
       "        0.0, 9],\n",
       "       [22001.0, 'Acadia', 'Louisiana', ..., 1261.9872673059876,\n",
       "        4.597701149425287, 10],\n",
       "       [51001.0, 'Accomack', 'Virginia', ..., 3208.9367495977226,\n",
       "        1.3500482160077143, 10],\n",
       "       ...,\n",
       "       [2066.0, 'Copper River', 'Alaska', ..., nan, nan, 1],\n",
       "       [2063.0, 'Chugach', 'Alaska', ..., nan, nan, 6],\n",
       "       [nan, nan, 'Unknown', ..., 0.0, 0.0, 6]], dtype=object)"
      ]
     },
     "execution_count": 120,
     "metadata": {},
     "output_type": "execute_result"
    }
   ],
   "source": [
    "data"
   ]
  },
  {
   "cell_type": "code",
   "execution_count": null,
   "metadata": {},
   "outputs": [],
   "source": []
  }
 ],
 "metadata": {
  "kernelspec": {
   "display_name": "Python 3",
   "language": "python",
   "name": "python3"
  },
  "language_info": {
   "codemirror_mode": {
    "name": "ipython",
    "version": 3
   },
   "file_extension": ".py",
   "mimetype": "text/x-python",
   "name": "python",
   "nbconvert_exporter": "python",
   "pygments_lexer": "ipython3",
   "version": "3.8.5"
  }
 },
 "nbformat": 4,
 "nbformat_minor": 4
}
