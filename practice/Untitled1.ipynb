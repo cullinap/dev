{
 "cells": [
  {
   "cell_type": "markdown",
   "metadata": {},
   "source": [
    "pyramid patterns\n",
    "\n",
    "\n",
    "task = [\n",
    "   find most frequent letter in list\n",
    "   reverse a list\n",
    "   print triangle\n",
    "   print a pyramid\n",
    "   print a reverse triangle\n",
    "   print pyramid with numbers\n",
    "   print pascals triangle\n",
    "   print an inverted triangle\n",
    "]\n",
    "\n",
    "language = [\n",
    "    javascript\n",
    "    python\n",
    "    C\n",
    "    C++\n",
    "    ruby\n",
    "]\n",
    "\n"
   ]
  },
  {
   "cell_type": "markdown",
   "metadata": {},
   "source": [
    "https://www.programiz.com/c-programming/examples/pyramid-pattern\n",
    "https://www.knowprogram.com/c-programming/pyramid-star-pattern-c/\n",
    "https://pynative.com/print-pattern-python-examples/\n",
    "https://amymhaddad.com/pyramid/\n",
    "https://learning.oreilly.com/library/view/python-workout/9781617295508/OEBPS/Text/01.xhtml"
   ]
  },
  {
   "cell_type": "code",
   "execution_count": 11,
   "metadata": {},
   "outputs": [],
   "source": [
    "import random\n",
    "\n",
    "def guessing_game():\n",
    "    random_value = random.randint(0,100)\n",
    "    user_input = int(input())\n",
    "    while random_value != user_input:\n",
    "        if user_input > random_value:\n",
    "            print(f'too high')\n",
    "            user_input = int(input())\n",
    "        else:\n",
    "            print(f'too low')\n",
    "            user_input = int(input())\n",
    "    return f'Correct {random_value}'"
   ]
  },
  {
   "cell_type": "code",
   "execution_count": 12,
   "metadata": {},
   "outputs": [
    {
     "name": "stdout",
     "output_type": "stream",
     "text": [
      "20\n",
      "too low\n",
      "90\n",
      "too high\n",
      "50\n",
      "too high\n",
      "30\n",
      "too low\n",
      "40\n",
      "too low\n",
      "45\n"
     ]
    },
    {
     "data": {
      "text/plain": [
       "'Correct 45'"
      ]
     },
     "execution_count": 12,
     "metadata": {},
     "output_type": "execute_result"
    }
   ],
   "source": [
    "guessing_game()"
   ]
  },
  {
   "cell_type": "code",
   "execution_count": null,
   "metadata": {},
   "outputs": [],
   "source": []
  }
 ],
 "metadata": {
  "kernelspec": {
   "display_name": "Python 3",
   "language": "python",
   "name": "python3"
  },
  "language_info": {
   "codemirror_mode": {
    "name": "ipython",
    "version": 3
   },
   "file_extension": ".py",
   "mimetype": "text/x-python",
   "name": "python",
   "nbconvert_exporter": "python",
   "pygments_lexer": "ipython3",
   "version": "3.8.5"
  }
 },
 "nbformat": 4,
 "nbformat_minor": 4
}
