{
 "cells": [
  {
   "cell_type": "markdown",
   "metadata": {},
   "source": [
    "Uplift modeling is a method for influencing consumer behavior by finding the subset of customers that would be most influenced by an action. \n",
    "\n",
    "Essentially the technique breaks down into segmenting customers into four groups: persuadbles, those who are likely to buy if they see the campaign but not likely to buy if not (a coupon/discount for example), sure things: those who would buy no matter what, lost causes: those who would not buy in regardless of treatment or no treatment, and sleeping dogs: those who would buy the product normally without treatment, but if given treatment would stop buying. Overall target users who won't buy if they don't recieve a treatment, but will buy if they recieve one. \n",
    "\n",
    "Business decisions focus on reducing campaign cost (ignore lost causes and sure things), generate incremental impact through addtional puchases (persuadables), and do not annoying existing customers (sleeping dogs). \n",
    "\n",
    "Two models: \n",
    "-incentive model p(response|offer) \n",
    "-no incentive model p(response|no offer)"
   ]
  },
  {
   "cell_type": "code",
   "execution_count": null,
   "metadata": {},
   "outputs": [],
   "source": []
  }
 ],
 "metadata": {
  "kernelspec": {
   "display_name": "Python 3",
   "language": "python",
   "name": "python3"
  },
  "language_info": {
   "codemirror_mode": {
    "name": "ipython",
    "version": 3
   },
   "file_extension": ".py",
   "mimetype": "text/x-python",
   "name": "python",
   "nbconvert_exporter": "python",
   "pygments_lexer": "ipython3",
   "version": "3.8.5"
  }
 },
 "nbformat": 4,
 "nbformat_minor": 4
}
