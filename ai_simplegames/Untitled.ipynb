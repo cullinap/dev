{
 "cells": [
  {
   "cell_type": "code",
   "execution_count": 1,
   "metadata": {},
   "outputs": [],
   "source": [
    "import numpy as np"
   ]
  },
  {
   "cell_type": "code",
   "execution_count": 3,
   "metadata": {},
   "outputs": [
    {
     "data": {
      "text/plain": [
       "1"
      ]
     },
     "execution_count": 3,
     "metadata": {},
     "output_type": "execute_result"
    }
   ],
   "source": [
    "np.random.randint(1, 5)"
   ]
  },
  {
   "cell_type": "code",
   "execution_count": 21,
   "metadata": {},
   "outputs": [
    {
     "name": "stdout",
     "output_type": "stream",
     "text": [
      "out 0 1\n",
      "out 1 4\n",
      "out 2 1\n",
      "in 2\n",
      "out 3 1\n",
      "in 3\n",
      "[1, 4, 2, 3, 0]\n"
     ]
    }
   ],
   "source": [
    "dnalength = 5\n",
    "dna = list()\n",
    "distance = 0\n",
    "\n",
    "for i in range(dnalength - 1):\n",
    "    rnd = np.random.randint(1, dnalength)\n",
    "    print(f'out {i} {rnd}')\n",
    "    while rnd in dna:\n",
    "        rnd = np.random.randint(1,dnalength)\n",
    "        print(f'in {rnd}')\n",
    "    dna.append(rnd)\n",
    "dna.append(0)\n",
    "\n",
    "print(dna)"
   ]
  },
  {
   "cell_type": "code",
   "execution_count": null,
   "metadata": {},
   "outputs": [],
   "source": []
  }
 ],
 "metadata": {
  "kernelspec": {
   "display_name": "Python 3",
   "language": "python",
   "name": "python3"
  },
  "language_info": {
   "codemirror_mode": {
    "name": "ipython",
    "version": 3
   },
   "file_extension": ".py",
   "mimetype": "text/x-python",
   "name": "python",
   "nbconvert_exporter": "python",
   "pygments_lexer": "ipython3",
   "version": "3.8.5"
  }
 },
 "nbformat": 4,
 "nbformat_minor": 4
}
