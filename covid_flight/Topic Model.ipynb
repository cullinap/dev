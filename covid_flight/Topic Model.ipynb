{
 "cells": [
  {
   "cell_type": "code",
   "execution_count": 15,
   "metadata": {},
   "outputs": [],
   "source": [
    "import pandas as pd\n",
    "import nmfTopicModel\n",
    "from bs4 import BeautifulSoup\n",
    "import requests"
   ]
  },
  {
   "cell_type": "code",
   "execution_count": 11,
   "metadata": {},
   "outputs": [
    {
     "data": {
      "text/html": [
       "<div>\n",
       "<style scoped>\n",
       "    .dataframe tbody tr th:only-of-type {\n",
       "        vertical-align: middle;\n",
       "    }\n",
       "\n",
       "    .dataframe tbody tr th {\n",
       "        vertical-align: top;\n",
       "    }\n",
       "\n",
       "    .dataframe thead th {\n",
       "        text-align: right;\n",
       "    }\n",
       "</style>\n",
       "<table border=\"1\" class=\"dataframe\">\n",
       "  <thead>\n",
       "    <tr style=\"text-align: right;\">\n",
       "      <th></th>\n",
       "      <th>URL</th>\n",
       "      <th>Words</th>\n",
       "      <th>Platform</th>\n",
       "      <th>Query</th>\n",
       "      <th>Title</th>\n",
       "      <th>Description</th>\n",
       "      <th>Language</th>\n",
       "      <th>Published Date</th>\n",
       "      <th>Unnamed: 8</th>\n",
       "      <th>Unnamed: 9</th>\n",
       "      <th>Unnamed: 10</th>\n",
       "      <th>Unnamed: 11</th>\n",
       "    </tr>\n",
       "  </thead>\n",
       "  <tbody>\n",
       "    <tr>\n",
       "      <th>0</th>\n",
       "      <td>https://medium.com/new-york-diary/the-long-hel...</td>\n",
       "      <td>967</td>\n",
       "      <td>Medium</td>\n",
       "      <td>goodbye new york</td>\n",
       "      <td>The Long Hello - New York Diary - Mediummedium...</td>\n",
       "      <td>Not long ago, I might have written my own 'Goo...</td>\n",
       "      <td>en</td>\n",
       "      <td>2013-12-06</td>\n",
       "      <td>NaN</td>\n",
       "      <td>NaN</td>\n",
       "      <td>NaN</td>\n",
       "      <td>NaN</td>\n",
       "    </tr>\n",
       "    <tr>\n",
       "      <th>1</th>\n",
       "      <td>https://medium.com/@EdwardCharles/it-s-not-you...</td>\n",
       "      <td>3036</td>\n",
       "      <td>Medium</td>\n",
       "      <td>goodbye new york</td>\n",
       "      <td>It's Not You, It's Me. - Ned Dymoke - Mediumme...</td>\n",
       "      <td>They say every writer gets a “Goodbye New York...</td>\n",
       "      <td>en</td>\n",
       "      <td>2015-06-01</td>\n",
       "      <td>NaN</td>\n",
       "      <td>NaN</td>\n",
       "      <td>NaN</td>\n",
       "      <td>NaN</td>\n",
       "    </tr>\n",
       "  </tbody>\n",
       "</table>\n",
       "</div>"
      ],
      "text/plain": [
       "                                                 URL Words Platform  \\\n",
       "0  https://medium.com/new-york-diary/the-long-hel...   967   Medium   \n",
       "1  https://medium.com/@EdwardCharles/it-s-not-you...  3036   Medium   \n",
       "\n",
       "              Query                                              Title  \\\n",
       "0  goodbye new york  The Long Hello - New York Diary - Mediummedium...   \n",
       "1  goodbye new york  It's Not You, It's Me. - Ned Dymoke - Mediumme...   \n",
       "\n",
       "                                         Description Language Published Date  \\\n",
       "0  Not long ago, I might have written my own 'Goo...       en     2013-12-06   \n",
       "1  They say every writer gets a “Goodbye New York...       en     2015-06-01   \n",
       "\n",
       "   Unnamed: 8  Unnamed: 9  Unnamed: 10  Unnamed: 11  \n",
       "0         NaN         NaN          NaN          NaN  \n",
       "1         NaN         NaN          NaN          NaN  "
      ]
     },
     "execution_count": 11,
     "metadata": {},
     "output_type": "execute_result"
    }
   ],
   "source": [
    "df = pd.read_csv('leavingny.csv'); df.head(2)"
   ]
  },
  {
   "cell_type": "code",
   "execution_count": 16,
   "metadata": {},
   "outputs": [],
   "source": [
    "def scrape_story(url):\n",
    "    page = requests.get(url)\n",
    "    soup = BeautifulSoup(page.text, 'html.parser')\n",
    "    \n",
    "    sections = soup.find_all('section')\n",
    "    story_paragraphs = []\n",
    "    section_titles = []\n",
    "    \n",
    "    for section in sections:\n",
    "        paragraphs = section.find_all('p')\n",
    "        for paragraph in paragraphs:\n",
    "            story_paragraphs.append(paragraph.text)\n",
    "\n",
    "        subs = section.find_all('h1')\n",
    "        for sub in subs:\n",
    "            section_titles.append(sub.text)\n",
    "\n",
    "    number_sections = len(section_titles)\n",
    "    number_paragraphs = len(story_paragraphs)\n",
    "    \n",
    "    return story_paragraphs\n"
   ]
  },
  {
   "cell_type": "code",
   "execution_count": 17,
   "metadata": {},
   "outputs": [],
   "source": [
    "data = {}\n",
    "\n",
    "for i in range(df.loc[:,'URL'].size):\n",
    "    try:\n",
    "        story_txt = scrape_story(df.loc[:,'URL'][i])\n",
    "        data[i] = story_txt\n",
    "    except:\n",
    "        break"
   ]
  },
  {
   "cell_type": "code",
   "execution_count": 18,
   "metadata": {},
   "outputs": [],
   "source": [
    "textDf = pd.DataFrame.from_dict(data.items()).drop([0], axis=1)\n",
    "textDf = textDf.rename(columns={1:'text'})"
   ]
  },
  {
   "cell_type": "code",
   "execution_count": 19,
   "metadata": {},
   "outputs": [
    {
     "data": {
      "text/html": [
       "<div>\n",
       "<style scoped>\n",
       "    .dataframe tbody tr th:only-of-type {\n",
       "        vertical-align: middle;\n",
       "    }\n",
       "\n",
       "    .dataframe tbody tr th {\n",
       "        vertical-align: top;\n",
       "    }\n",
       "\n",
       "    .dataframe thead th {\n",
       "        text-align: right;\n",
       "    }\n",
       "</style>\n",
       "<table border=\"1\" class=\"dataframe\">\n",
       "  <thead>\n",
       "    <tr style=\"text-align: right;\">\n",
       "      <th></th>\n",
       "      <th>text</th>\n",
       "    </tr>\n",
       "  </thead>\n",
       "  <tbody>\n",
       "    <tr>\n",
       "      <th>0</th>\n",
       "      <td>In Joan Didion’s brilliant and seminal 1967 es...</td>\n",
       "    </tr>\n",
       "    <tr>\n",
       "      <th>1</th>\n",
       "      <td>Ned Dymoke,Jun 1, 2015·13 min read,They say ev...</td>\n",
       "    </tr>\n",
       "    <tr>\n",
       "      <th>2</th>\n",
       "      <td>Joe Gonzalez,Jun 24, 2015·7 min read,This isn’...</td>\n",
       "    </tr>\n",
       "    <tr>\n",
       "      <th>3</th>\n",
       "      <td>Gabe Durazo,Jul 31, 2015·2 min read,A few days...</td>\n",
       "    </tr>\n",
       "    <tr>\n",
       "      <th>4</th>\n",
       "      <td>Pattharin O.,Sep 9, 2015·1 min read,Goodbye Ne...</td>\n",
       "    </tr>\n",
       "  </tbody>\n",
       "</table>\n",
       "</div>"
      ],
      "text/plain": [
       "                                                text\n",
       "0  In Joan Didion’s brilliant and seminal 1967 es...\n",
       "1  Ned Dymoke,Jun 1, 2015·13 min read,They say ev...\n",
       "2  Joe Gonzalez,Jun 24, 2015·7 min read,This isn’...\n",
       "3  Gabe Durazo,Jul 31, 2015·2 min read,A few days...\n",
       "4  Pattharin O.,Sep 9, 2015·1 min read,Goodbye Ne..."
      ]
     },
     "execution_count": 19,
     "metadata": {},
     "output_type": "execute_result"
    }
   ],
   "source": [
    "textDf.text = textDf['text'].apply(lambda x: ','.join(map(str, x)))\n",
    "textDf.head()"
   ]
  },
  {
   "cell_type": "code",
   "execution_count": 21,
   "metadata": {},
   "outputs": [
    {
     "name": "stdout",
     "output_type": "stream",
     "text": [
      "cleaning text\n",
      "vectorizing text\n",
      "calculating NMF\n"
     ]
    },
    {
     "name": "stderr",
     "output_type": "stream",
     "text": [
      "/opt/miniconda3/lib/python3.8/site-packages/sklearn/decomposition/_nmf.py:1076: ConvergenceWarning: Maximum number of iterations 500 reached. Increase it to improve convergence.\n",
      "  warnings.warn(\"Maximum number of iterations %d reached. Increase it to\"\n",
      "/opt/miniconda3/lib/python3.8/site-packages/sklearn/decomposition/_nmf.py:1076: ConvergenceWarning: Maximum number of iterations 500 reached. Increase it to improve convergence.\n",
      "  warnings.warn(\"Maximum number of iterations %d reached. Increase it to\"\n"
     ]
    },
    {
     "name": "stdout",
     "output_type": "stream",
     "text": [
      "calculating word2vec\n"
     ]
    },
    {
     "data": {
      "image/png": "[encoded data removed]",
      "text/plain": [
       "<Figure size 936x504 with 1 Axes>"
      ]
     },
     "metadata": {},
     "output_type": "display_data"
    }
   ],
   "source": [
    "topicModel = nmfTopicModel.Topic_Model(data=textDf['text']).fit()"
   ]
  },
  {
   "cell_type": "code",
   "execution_count": 37,
   "metadata": {},
   "outputs": [
    {
     "data": {
      "text/plain": [
       "array(['Jonathan Blair,Dec 5, 2017·1 min read,That’s cool. Don’t write a blog post about it.'],\n",
       "      dtype=object)"
      ]
     },
     "execution_count": 37,
     "metadata": {},
     "output_type": "execute_result"
    }
   ],
   "source": [
    "temp_.loc[:,'ground_truth'].iloc[1:2].values"
   ]
  },
  {
   "cell_type": "code",
   "execution_count": 38,
   "metadata": {
    "scrolled": false
   },
   "outputs": [
    {
     "name": "stdout",
     "output_type": "stream",
     "text": [
      "#=#=#=#=#=#=#=#=#=#=#=#=#=#=#=#=#=#=#=#=#=#=#=#=#=#=#=#=#=#=\n",
      "top terms for topic 0\n",
      "['time', 'like', 'back', 'one', 'day', 'get', 'year', 'work', 'friend', 'life']\n",
      "==================================================\n",
      "top ground truth label: Smita Kolhatkar,Nov 13, 2016·15 min read,The TCS New York Marathon,Being my first marathon outside California and being one after a two year hiatus with barely having come out of an injury, I wasn’t sure what to expect. Yes, of course I was excited to go to New York City. Of course, I was excited be\n",
      "==================================================\n",
      "top documents for each topic 0\n",
      "                                         ground_truth\n",
      "1   Smita Kolhatkar,Nov 13, 2016·15 min read,The T...\n",
      "2   James Altucher,Apr 1, 2014·4 min read,When I f...\n",
      "3   Sara Melotti,Jan 19, 2017·7 min read,Recently ...\n",
      "4   Sarah Kay,Sep 11, 2015·8 min read,Here is what...\n",
      "5   Seandor Szeles,Mar 29, 2014·12 min read,During...\n",
      "6   Saya Hillman,Sep 8, 2016·13 min read,Last week...\n",
      "7   Chris Battaglia,Jul 31, 2015·12 min read,These...\n",
      "8   Cindy Mangus BonDurant,Sep 2, 2017·36 min read...\n",
      "9   Nick Doiron,Aug 28, 2015·7 min read,A final st...\n",
      "10  It’s important to remember that NYC doesn’t gi...\n",
      "\n",
      "#=#=#=#=#=#=#=#=#=#=#=#=#=#=#=#=#=#=#=#=#=#=#=#=#=#=#=#=#=#=\n",
      "top terms for topic 1\n",
      "['wolcheck', 'feb', 'vacat', 'dr', 'short', 'go', 'min', 'read', 'mantri', 'hawaiian']\n",
      "==================================================\n",
      "top ground truth label: dr wolcheck,Feb 6, 2015·1 min read,I’m going on a short vacation.\n",
      "==================================================\n",
      "top documents for each topic 1\n",
      "                                         ground_truth\n",
      "1   dr wolcheck,Feb 6, 2015·1 min read,I’m going o...\n",
      "2   dr wolcheck,Feb 6, 2015·1 min read,I’m going o...\n",
      "3   Mantry,Feb 17, 2017·2 min read,In April, I was...\n",
      "4   Dr. Jennifer B. Rhodes,Jan 8, 2020·7 min read,...\n",
      "5   Matt Bettinson,Jun 13, 2018·1 min read,Was too...\n",
      "6   Jonathan Blair,Dec 5, 2017·1 min read,That’s c...\n",
      "7   Johnny Robish,Jul 14, 2019·2 min read,New York...\n",
      "8   Mike Thomsen,Aug 1, 2016·4 min read,“New York ...\n",
      "9   Lee Ngo,Sep 29, 2017·1 min read,I’ll hopefully...\n",
      "10  Jonathan Chu,Sep 15, 2018·1 min read,The F tra...\n",
      "\n",
      "#=#=#=#=#=#=#=#=#=#=#=#=#=#=#=#=#=#=#=#=#=#=#=#=#=#=#=#=#=#=\n",
      "top terms for topic 2\n",
      "['new', 'york', 'citi', 'year', 'time', 'live', 'love', 'move', 'leav', 'like']\n",
      "==================================================\n",
      "top ground truth label: Locke Hughes,May 21, 2018·8 min read,After six-plus years of living in New York, I left a year and a half ago. I still loved the city, but felt like I wasn’t in love with it any more. I know that’s cliche, but it’s true.,I came to New York at 21 with dreams of making a name for myself in the media i\n",
      "==================================================\n",
      "top documents for each topic 2\n",
      "                                         ground_truth\n",
      "1   Lulu P.,Jun 11, 2018·6 min read,Six and a half...\n",
      "2   In Joan Didion’s brilliant and seminal 1967 es...\n",
      "3   Shounak Bagchi,Oct 16, 2019·6 min read,As I de...\n",
      "4   Ned Dymoke,Jun 1, 2015·13 min read,They say ev...\n",
      "5   To whom it may concern,,I have decided to move...\n",
      "6   Sean Raftery,Sep 26, 2019·6 min read,A meditat...\n",
      "7   Locke Hughes,May 21, 2018·8 min read,After six...\n",
      "8   Jimmy Blackmon,Apr 9, 2019·4 min read,New York...\n",
      "9   Matt Baetz,Jun 27, 2019·3 min read,Today we’re...\n",
      "10  Andrew Jiang,Nov 30, 2013·5 min read,Oh New Yo...\n",
      "\n",
      "#=#=#=#=#=#=#=#=#=#=#=#=#=#=#=#=#=#=#=#=#=#=#=#=#=#=#=#=#=#=\n",
      "top terms for topic 3\n",
      "['nov', 'read', 'fabian', 'min', 'thank', 'zheng', 'chenyu', 'share', 'meyer', 'sandro']\n",
      "==================================================\n",
      "top ground truth label: Matt Bettinson,Jun 13, 2018·1 min read,Was too poor and had no friends\n",
      "==================================================\n",
      "top documents for each topic 3\n",
      "                                         ground_truth\n",
      "1   Chenyu Zheng,Nov 11, 2016·1 min read,Thank you...\n",
      "2   Sandro Meyer,Nov 13, 2016·1 min read,An action...\n",
      "3   Karel De Smet,Nov 13, 2016·1 min read,Enjoyabl...\n",
      "4   michaelrad,Nov 16, 2016·1 min read,agreed. fil...\n",
      "5   Jonathan Blair,Dec 5, 2017·1 min read,That’s c...\n",
      "6   Jonathan Chu,Sep 15, 2018·1 min read,The F tra...\n",
      "7   Matt Bettinson,Jun 13, 2018·1 min read,Was too...\n",
      "8   Justin Paterno,Jul 28, 2016·1 min read,My wife...\n",
      "9   Evan Forde Barden,Sep 22, 2017·1 min read,Hone...\n",
      "10  Matt Ufford,Jul 29, 2019·1 min read,Over the c...\n",
      "\n"
     ]
    }
   ],
   "source": [
    "from nmfTopicModel import top_term, get_top_snippets\n",
    "\n",
    "topic_index, k = 4,4\n",
    "W = topicModel.nmf[k][0]\n",
    "H = topicModel.nmf[k][1]\n",
    "df = topicModel.original_text\n",
    "terms = topicModel.tfidf_feature_names\n",
    "\n",
    "sentences = [headline[0:min(len(headline),300)] for headline in df]\n",
    "descriptors = [top_term(terms(), H, topic_index, 10) for topic_index in range(k)]\n",
    "\n",
    "labelled = {}\n",
    "for i in range(k):\n",
    "    topic = i\n",
    "    headlines = 10\n",
    "\n",
    "    d_ = {i+1: sentences\n",
    "             for i,sentences in enumerate(get_top_snippets(sentences, W, topic, headlines))\n",
    "        }\n",
    "    \n",
    "    labelled[i] = pd.DataFrame.from_dict(d_, orient='index').rename(columns={0:'ground_truth',\n",
    "                                                                               1:'NMF categorized'})\n",
    "    \n",
    "    temp_ = pd.DataFrame.from_dict(d_, orient='index').rename(columns={0:'ground_truth',\n",
    "                                                                       1:'NMF categorized'})\n",
    "\n",
    "    print('#''='*30)\n",
    "    print(f'top terms for topic {topic}')\n",
    "    print(descriptors[topic])\n",
    "\n",
    "    print('='*50)\n",
    "    gt_top = temp_['ground_truth'].value_counts().index[0]\n",
    "    print(f'top ground truth label: {gt_top}')\n",
    "\n",
    "    print('='*50)\n",
    "    print(f'top documents for each topic {topic}')\n",
    "    print(temp_)\n",
    "    print('')"
   ]
  },
  {
   "cell_type": "code",
   "execution_count": null,
   "metadata": {},
   "outputs": [],
   "source": []
  }
 ],
 "metadata": {
  "kernelspec": {
   "display_name": "Python 3",
   "language": "python",
   "name": "python3"
  },
  "language_info": {
   "codemirror_mode": {
    "name": "ipython",
    "version": 3
   },
   "file_extension": ".py",
   "mimetype": "text/x-python",
   "name": "python",
   "nbconvert_exporter": "python",
   "pygments_lexer": "ipython3",
   "version": "3.8.5"
  }
 },
 "nbformat": 4,
 "nbformat_minor": 4
}
